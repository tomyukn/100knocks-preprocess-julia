{
 "cells": [
  {
   "cell_type": "markdown",
   "metadata": {},
   "source": [
    "# データサイエンス100本ノック（構造化データ加工編） - Julia"
   ]
  },
  {
   "cell_type": "markdown",
   "metadata": {},
   "source": [
    "## はじめに\n",
    "- 初めに以下のセルを実行してください\n",
    "- ~~必要なライブラリのインポートとデータベース（PostgreSQL）からのデータ読み込みを行います~~\n",
    "- ~~pandas等、~~利用が想定されるライブラリは以下セルでインポートしています\n",
    "- その他利用したいライブラリがあれば適宜インストールしてください~~（\"!pip install ライブラリ名\"でインストールも可能）~~\n",
    "- 処理は複数回に分けても構いません\n",
    "- 名前、住所等はダミーデータであり、実在するものではありません"
   ]
  },
  {
   "cell_type": "code",
   "execution_count": 1,
   "metadata": {},
   "outputs": [],
   "source": [
    "using Dates\n",
    "using DataFrames\n",
    "using DataFramesMeta\n",
    "using StatsBase\n",
    "using ShiftedArrays: lag\n",
    "using MLJBase: partition\n",
    "using MLUtils: undersample, getobs\n",
    "using PyCall\n",
    "import CSV\n",
    "\n",
    "df_customer = CSV.read(\"data/src/customer.csv\", DataFrame, types=Dict(r\"_id$\" => String, r\"_cd$\" => String, :application_date => String))\n",
    "df_category = CSV.read(\"data/src/category.csv\", DataFrame, types=Dict(r\"_cd$\" => String))\n",
    "df_product = CSV.read(\"data/src/product.csv\", DataFrame, types=Dict(r\"_cd$\" => String))\n",
    "df_receipt = CSV.read(\"data/src/receipt.csv\", DataFrame, types=Dict(r\"_id$\" => String, r\"_cd$\" => String))\n",
    "df_store = CSV.read(\"data/src/store.csv\", DataFrame, types=Dict(r\"_cd$\" => String, :tel_no => String))\n",
    "df_geocode = CSV.read(\"data/src/geocode.csv\", DataFrame, types=Dict(r\"_cd$\" => String, :street => String));"
   ]
  },
  {
   "cell_type": "code",
   "execution_count": 2,
   "metadata": {},
   "outputs": [],
   "source": [
    "const relativedelta = pyimport(\"dateutil.relativedelta\").relativedelta;"
   ]
  },
  {
   "cell_type": "markdown",
   "metadata": {},
   "source": [
    "# 演習問題"
   ]
  },
  {
   "cell_type": "markdown",
   "metadata": {},
   "source": [
    "---\n",
    "> P-001: レシート明細データ（df_receipt）から全項目の先頭10件を表示し、どのようなデータを保有しているか目視で確認せよ。"
   ]
  },
  {
   "cell_type": "code",
   "execution_count": 3,
   "metadata": {},
   "outputs": [
    {
     "name": "stdout",
     "output_type": "stream",
     "text": [
      "  0.000001 seconds\n"
     ]
    },
    {
     "data": {
      "text/html": [
       "<div><div style = \"float: left;\"><span>10×9 DataFrame</span></div><div style = \"clear: both;\"></div></div><div class = \"data-frame\" style = \"overflow-x: scroll;\"><table class = \"data-frame\" style = \"margin-bottom: 6px;\"><thead><tr class = \"header\"><th class = \"rowNumber\" style = \"font-weight: bold; text-align: right;\">Row</th><th style = \"text-align: left;\">sales_ymd</th><th style = \"text-align: left;\">sales_epoch</th><th style = \"text-align: left;\">store_cd</th><th style = \"text-align: left;\">receipt_no</th><th style = \"text-align: left;\">receipt_sub_no</th><th style = \"text-align: left;\">customer_id</th><th style = \"text-align: left;\">product_cd</th><th style = \"text-align: left;\">quantity</th><th style = \"text-align: left;\">amount</th></tr><tr class = \"subheader headerLastRow\"><th class = \"rowNumber\" style = \"font-weight: bold; text-align: right;\"></th><th title = \"Int64\" style = \"text-align: left;\">Int64</th><th title = \"Int64\" style = \"text-align: left;\">Int64</th><th title = \"String\" style = \"text-align: left;\">String</th><th title = \"Int64\" style = \"text-align: left;\">Int64</th><th title = \"Int64\" style = \"text-align: left;\">Int64</th><th title = \"String\" style = \"text-align: left;\">String</th><th title = \"String\" style = \"text-align: left;\">String</th><th title = \"Int64\" style = \"text-align: left;\">Int64</th><th title = \"Int64\" style = \"text-align: left;\">Int64</th></tr></thead><tbody><tr><td class = \"rowNumber\" style = \"font-weight: bold; text-align: right;\">1</td><td style = \"text-align: right;\">20181103</td><td style = \"text-align: right;\">1541203200</td><td style = \"text-align: left;\">S14006</td><td style = \"text-align: right;\">112</td><td style = \"text-align: right;\">1</td><td style = \"text-align: left;\">CS006214000001</td><td style = \"text-align: left;\">P070305012</td><td style = \"text-align: right;\">1</td><td style = \"text-align: right;\">158</td></tr><tr><td class = \"rowNumber\" style = \"font-weight: bold; text-align: right;\">2</td><td style = \"text-align: right;\">20181118</td><td style = \"text-align: right;\">1542499200</td><td style = \"text-align: left;\">S13008</td><td style = \"text-align: right;\">1132</td><td style = \"text-align: right;\">2</td><td style = \"text-align: left;\">CS008415000097</td><td style = \"text-align: left;\">P070701017</td><td style = \"text-align: right;\">1</td><td style = \"text-align: right;\">81</td></tr><tr><td class = \"rowNumber\" style = \"font-weight: bold; text-align: right;\">3</td><td style = \"text-align: right;\">20170712</td><td style = \"text-align: right;\">1499817600</td><td style = \"text-align: left;\">S14028</td><td style = \"text-align: right;\">1102</td><td style = \"text-align: right;\">1</td><td style = \"text-align: left;\">CS028414000014</td><td style = \"text-align: left;\">P060101005</td><td style = \"text-align: right;\">1</td><td style = \"text-align: right;\">170</td></tr><tr><td class = \"rowNumber\" style = \"font-weight: bold; text-align: right;\">4</td><td style = \"text-align: right;\">20190205</td><td style = \"text-align: right;\">1549324800</td><td style = \"text-align: left;\">S14042</td><td style = \"text-align: right;\">1132</td><td style = \"text-align: right;\">1</td><td style = \"text-align: left;\">ZZ000000000000</td><td style = \"text-align: left;\">P050301001</td><td style = \"text-align: right;\">1</td><td style = \"text-align: right;\">25</td></tr><tr><td class = \"rowNumber\" style = \"font-weight: bold; text-align: right;\">5</td><td style = \"text-align: right;\">20180821</td><td style = \"text-align: right;\">1534809600</td><td style = \"text-align: left;\">S14025</td><td style = \"text-align: right;\">1102</td><td style = \"text-align: right;\">2</td><td style = \"text-align: left;\">CS025415000050</td><td style = \"text-align: left;\">P060102007</td><td style = \"text-align: right;\">1</td><td style = \"text-align: right;\">90</td></tr><tr><td class = \"rowNumber\" style = \"font-weight: bold; text-align: right;\">6</td><td style = \"text-align: right;\">20190605</td><td style = \"text-align: right;\">1559692800</td><td style = \"text-align: left;\">S13003</td><td style = \"text-align: right;\">1112</td><td style = \"text-align: right;\">1</td><td style = \"text-align: left;\">CS003515000195</td><td style = \"text-align: left;\">P050102002</td><td style = \"text-align: right;\">1</td><td style = \"text-align: right;\">138</td></tr><tr><td class = \"rowNumber\" style = \"font-weight: bold; text-align: right;\">7</td><td style = \"text-align: right;\">20181205</td><td style = \"text-align: right;\">1543968000</td><td style = \"text-align: left;\">S14024</td><td style = \"text-align: right;\">1102</td><td style = \"text-align: right;\">2</td><td style = \"text-align: left;\">CS024514000042</td><td style = \"text-align: left;\">P080101005</td><td style = \"text-align: right;\">1</td><td style = \"text-align: right;\">30</td></tr><tr><td class = \"rowNumber\" style = \"font-weight: bold; text-align: right;\">8</td><td style = \"text-align: right;\">20190922</td><td style = \"text-align: right;\">1569110400</td><td style = \"text-align: left;\">S14040</td><td style = \"text-align: right;\">1102</td><td style = \"text-align: right;\">1</td><td style = \"text-align: left;\">CS040415000178</td><td style = \"text-align: left;\">P070501004</td><td style = \"text-align: right;\">1</td><td style = \"text-align: right;\">128</td></tr><tr><td class = \"rowNumber\" style = \"font-weight: bold; text-align: right;\">9</td><td style = \"text-align: right;\">20170504</td><td style = \"text-align: right;\">1493856000</td><td style = \"text-align: left;\">S13020</td><td style = \"text-align: right;\">1112</td><td style = \"text-align: right;\">2</td><td style = \"text-align: left;\">ZZ000000000000</td><td style = \"text-align: left;\">P071302010</td><td style = \"text-align: right;\">1</td><td style = \"text-align: right;\">770</td></tr><tr><td class = \"rowNumber\" style = \"font-weight: bold; text-align: right;\">10</td><td style = \"text-align: right;\">20191010</td><td style = \"text-align: right;\">1570665600</td><td style = \"text-align: left;\">S14027</td><td style = \"text-align: right;\">1102</td><td style = \"text-align: right;\">1</td><td style = \"text-align: left;\">CS027514000015</td><td style = \"text-align: left;\">P071101003</td><td style = \"text-align: right;\">1</td><td style = \"text-align: right;\">680</td></tr></tbody></table></div>"
      ],
      "text/latex": [
       "\\begin{tabular}{r|cccccccc}\n",
       "\t& sales\\_ymd & sales\\_epoch & store\\_cd & receipt\\_no & receipt\\_sub\\_no & customer\\_id & product\\_cd & \\\\\n",
       "\t\\hline\n",
       "\t& Int64 & Int64 & String & Int64 & Int64 & String & String & \\\\\n",
       "\t\\hline\n",
       "\t1 & 20181103 & 1541203200 & S14006 & 112 & 1 & CS006214000001 & P070305012 & $\\dots$ \\\\\n",
       "\t2 & 20181118 & 1542499200 & S13008 & 1132 & 2 & CS008415000097 & P070701017 & $\\dots$ \\\\\n",
       "\t3 & 20170712 & 1499817600 & S14028 & 1102 & 1 & CS028414000014 & P060101005 & $\\dots$ \\\\\n",
       "\t4 & 20190205 & 1549324800 & S14042 & 1132 & 1 & ZZ000000000000 & P050301001 & $\\dots$ \\\\\n",
       "\t5 & 20180821 & 1534809600 & S14025 & 1102 & 2 & CS025415000050 & P060102007 & $\\dots$ \\\\\n",
       "\t6 & 20190605 & 1559692800 & S13003 & 1112 & 1 & CS003515000195 & P050102002 & $\\dots$ \\\\\n",
       "\t7 & 20181205 & 1543968000 & S14024 & 1102 & 2 & CS024514000042 & P080101005 & $\\dots$ \\\\\n",
       "\t8 & 20190922 & 1569110400 & S14040 & 1102 & 1 & CS040415000178 & P070501004 & $\\dots$ \\\\\n",
       "\t9 & 20170504 & 1493856000 & S13020 & 1112 & 2 & ZZ000000000000 & P071302010 & $\\dots$ \\\\\n",
       "\t10 & 20191010 & 1570665600 & S14027 & 1102 & 1 & CS027514000015 & P071101003 & $\\dots$ \\\\\n",
       "\\end{tabular}\n"
      ],
      "text/plain": [
       "\u001b[1m10×9 DataFrame\u001b[0m\n",
       "\u001b[1m Row \u001b[0m│\u001b[1m sales_ymd \u001b[0m\u001b[1m sales_epoch \u001b[0m\u001b[1m store_cd \u001b[0m\u001b[1m receipt_no \u001b[0m\u001b[1m receipt_sub_no \u001b[0m\u001b[1m customer_\u001b[0m ⋯\n",
       "     │\u001b[90m Int64     \u001b[0m\u001b[90m Int64       \u001b[0m\u001b[90m String   \u001b[0m\u001b[90m Int64      \u001b[0m\u001b[90m Int64          \u001b[0m\u001b[90m String   \u001b[0m ⋯\n",
       "─────┼──────────────────────────────────────────────────────────────────────────\n",
       "   1 │  20181103   1541203200  S14006           112               1  CS0062140 ⋯\n",
       "   2 │  20181118   1542499200  S13008          1132               2  CS0084150\n",
       "   3 │  20170712   1499817600  S14028          1102               1  CS0284140\n",
       "   4 │  20190205   1549324800  S14042          1132               1  ZZ0000000\n",
       "   5 │  20180821   1534809600  S14025          1102               2  CS0254150 ⋯\n",
       "   6 │  20190605   1559692800  S13003          1112               1  CS0035150\n",
       "   7 │  20181205   1543968000  S14024          1102               2  CS0245140\n",
       "   8 │  20190922   1569110400  S14040          1102               1  CS0404150\n",
       "   9 │  20170504   1493856000  S13020          1112               2  ZZ0000000 ⋯\n",
       "  10 │  20191010   1570665600  S14027          1102               1  CS0275140\n",
       "\u001b[36m                                                               4 columns omitted\u001b[0m"
      ]
     },
     "execution_count": 3,
     "metadata": {},
     "output_type": "execute_result"
    }
   ],
   "source": [
    "@time \\\n",
    "first(df_receipt, 10)"
   ]
  },
  {
   "cell_type": "markdown",
   "metadata": {},
   "source": [
    "---\n",
    "> P-002: レシート明細データ（df_receipt）から売上年月日（sales_ymd）、顧客ID（customer_id）、商品コード（product_cd）、売上金額（amount）の順に列を指定し、10件表示せよ。"
   ]
  },
  {
   "cell_type": "code",
   "execution_count": 4,
   "metadata": {},
   "outputs": [
    {
     "name": "stdout",
     "output_type": "stream",
     "text": [
      "  0.000001 seconds\n"
     ]
    },
    {
     "data": {
      "text/html": [
       "<div><div style = \"float: left;\"><span>10×4 DataFrame</span></div><div style = \"clear: both;\"></div></div><div class = \"data-frame\" style = \"overflow-x: scroll;\"><table class = \"data-frame\" style = \"margin-bottom: 6px;\"><thead><tr class = \"header\"><th class = \"rowNumber\" style = \"font-weight: bold; text-align: right;\">Row</th><th style = \"text-align: left;\">sales_ymd</th><th style = \"text-align: left;\">customer_id</th><th style = \"text-align: left;\">product_cd</th><th style = \"text-align: left;\">amount</th></tr><tr class = \"subheader headerLastRow\"><th class = \"rowNumber\" style = \"font-weight: bold; text-align: right;\"></th><th title = \"Int64\" style = \"text-align: left;\">Int64</th><th title = \"String\" style = \"text-align: left;\">String</th><th title = \"String\" style = \"text-align: left;\">String</th><th title = \"Int64\" style = \"text-align: left;\">Int64</th></tr></thead><tbody><tr><td class = \"rowNumber\" style = \"font-weight: bold; text-align: right;\">1</td><td style = \"text-align: right;\">20181103</td><td style = \"text-align: left;\">CS006214000001</td><td style = \"text-align: left;\">P070305012</td><td style = \"text-align: right;\">158</td></tr><tr><td class = \"rowNumber\" style = \"font-weight: bold; text-align: right;\">2</td><td style = \"text-align: right;\">20181118</td><td style = \"text-align: left;\">CS008415000097</td><td style = \"text-align: left;\">P070701017</td><td style = \"text-align: right;\">81</td></tr><tr><td class = \"rowNumber\" style = \"font-weight: bold; text-align: right;\">3</td><td style = \"text-align: right;\">20170712</td><td style = \"text-align: left;\">CS028414000014</td><td style = \"text-align: left;\">P060101005</td><td style = \"text-align: right;\">170</td></tr><tr><td class = \"rowNumber\" style = \"font-weight: bold; text-align: right;\">4</td><td style = \"text-align: right;\">20190205</td><td style = \"text-align: left;\">ZZ000000000000</td><td style = \"text-align: left;\">P050301001</td><td style = \"text-align: right;\">25</td></tr><tr><td class = \"rowNumber\" style = \"font-weight: bold; text-align: right;\">5</td><td style = \"text-align: right;\">20180821</td><td style = \"text-align: left;\">CS025415000050</td><td style = \"text-align: left;\">P060102007</td><td style = \"text-align: right;\">90</td></tr><tr><td class = \"rowNumber\" style = \"font-weight: bold; text-align: right;\">6</td><td style = \"text-align: right;\">20190605</td><td style = \"text-align: left;\">CS003515000195</td><td style = \"text-align: left;\">P050102002</td><td style = \"text-align: right;\">138</td></tr><tr><td class = \"rowNumber\" style = \"font-weight: bold; text-align: right;\">7</td><td style = \"text-align: right;\">20181205</td><td style = \"text-align: left;\">CS024514000042</td><td style = \"text-align: left;\">P080101005</td><td style = \"text-align: right;\">30</td></tr><tr><td class = \"rowNumber\" style = \"font-weight: bold; text-align: right;\">8</td><td style = \"text-align: right;\">20190922</td><td style = \"text-align: left;\">CS040415000178</td><td style = \"text-align: left;\">P070501004</td><td style = \"text-align: right;\">128</td></tr><tr><td class = \"rowNumber\" style = \"font-weight: bold; text-align: right;\">9</td><td style = \"text-align: right;\">20170504</td><td style = \"text-align: left;\">ZZ000000000000</td><td style = \"text-align: left;\">P071302010</td><td style = \"text-align: right;\">770</td></tr><tr><td class = \"rowNumber\" style = \"font-weight: bold; text-align: right;\">10</td><td style = \"text-align: right;\">20191010</td><td style = \"text-align: left;\">CS027514000015</td><td style = \"text-align: left;\">P071101003</td><td style = \"text-align: right;\">680</td></tr></tbody></table></div>"
      ],
      "text/latex": [
       "\\begin{tabular}{r|cccc}\n",
       "\t& sales\\_ymd & customer\\_id & product\\_cd & amount\\\\\n",
       "\t\\hline\n",
       "\t& Int64 & String & String & Int64\\\\\n",
       "\t\\hline\n",
       "\t1 & 20181103 & CS006214000001 & P070305012 & 158 \\\\\n",
       "\t2 & 20181118 & CS008415000097 & P070701017 & 81 \\\\\n",
       "\t3 & 20170712 & CS028414000014 & P060101005 & 170 \\\\\n",
       "\t4 & 20190205 & ZZ000000000000 & P050301001 & 25 \\\\\n",
       "\t5 & 20180821 & CS025415000050 & P060102007 & 90 \\\\\n",
       "\t6 & 20190605 & CS003515000195 & P050102002 & 138 \\\\\n",
       "\t7 & 20181205 & CS024514000042 & P080101005 & 30 \\\\\n",
       "\t8 & 20190922 & CS040415000178 & P070501004 & 128 \\\\\n",
       "\t9 & 20170504 & ZZ000000000000 & P071302010 & 770 \\\\\n",
       "\t10 & 20191010 & CS027514000015 & P071101003 & 680 \\\\\n",
       "\\end{tabular}\n"
      ],
      "text/plain": [
       "\u001b[1m10×4 DataFrame\u001b[0m\n",
       "\u001b[1m Row \u001b[0m│\u001b[1m sales_ymd \u001b[0m\u001b[1m customer_id    \u001b[0m\u001b[1m product_cd \u001b[0m\u001b[1m amount \u001b[0m\n",
       "     │\u001b[90m Int64     \u001b[0m\u001b[90m String         \u001b[0m\u001b[90m String     \u001b[0m\u001b[90m Int64  \u001b[0m\n",
       "─────┼───────────────────────────────────────────────\n",
       "   1 │  20181103  CS006214000001  P070305012     158\n",
       "   2 │  20181118  CS008415000097  P070701017      81\n",
       "   3 │  20170712  CS028414000014  P060101005     170\n",
       "   4 │  20190205  ZZ000000000000  P050301001      25\n",
       "   5 │  20180821  CS025415000050  P060102007      90\n",
       "   6 │  20190605  CS003515000195  P050102002     138\n",
       "   7 │  20181205  CS024514000042  P080101005      30\n",
       "   8 │  20190922  CS040415000178  P070501004     128\n",
       "   9 │  20170504  ZZ000000000000  P071302010     770\n",
       "  10 │  20191010  CS027514000015  P071101003     680"
      ]
     },
     "execution_count": 4,
     "metadata": {},
     "output_type": "execute_result"
    }
   ],
   "source": [
    "@time \\\n",
    "df_receipt[!, [:sales_ymd, :customer_id, :product_cd, :amount]] |>\n",
    "    df -> first(df, 10)"
   ]
  },
  {
   "cell_type": "code",
   "execution_count": 5,
   "metadata": {},
   "outputs": [
    {
     "name": "stdout",
     "output_type": "stream",
     "text": [
      "  0.000006 seconds\n"
     ]
    },
    {
     "data": {
      "text/html": [
       "<div><div style = \"float: left;\"><span>10×4 DataFrame</span></div><div style = \"clear: both;\"></div></div><div class = \"data-frame\" style = \"overflow-x: scroll;\"><table class = \"data-frame\" style = \"margin-bottom: 6px;\"><thead><tr class = \"header\"><th class = \"rowNumber\" style = \"font-weight: bold; text-align: right;\">Row</th><th style = \"text-align: left;\">sales_ymd</th><th style = \"text-align: left;\">customer_id</th><th style = \"text-align: left;\">product_cd</th><th style = \"text-align: left;\">amount</th></tr><tr class = \"subheader headerLastRow\"><th class = \"rowNumber\" style = \"font-weight: bold; text-align: right;\"></th><th title = \"Int64\" style = \"text-align: left;\">Int64</th><th title = \"String\" style = \"text-align: left;\">String</th><th title = \"String\" style = \"text-align: left;\">String</th><th title = \"Int64\" style = \"text-align: left;\">Int64</th></tr></thead><tbody><tr><td class = \"rowNumber\" style = \"font-weight: bold; text-align: right;\">1</td><td style = \"text-align: right;\">20181103</td><td style = \"text-align: left;\">CS006214000001</td><td style = \"text-align: left;\">P070305012</td><td style = \"text-align: right;\">158</td></tr><tr><td class = \"rowNumber\" style = \"font-weight: bold; text-align: right;\">2</td><td style = \"text-align: right;\">20181118</td><td style = \"text-align: left;\">CS008415000097</td><td style = \"text-align: left;\">P070701017</td><td style = \"text-align: right;\">81</td></tr><tr><td class = \"rowNumber\" style = \"font-weight: bold; text-align: right;\">3</td><td style = \"text-align: right;\">20170712</td><td style = \"text-align: left;\">CS028414000014</td><td style = \"text-align: left;\">P060101005</td><td style = \"text-align: right;\">170</td></tr><tr><td class = \"rowNumber\" style = \"font-weight: bold; text-align: right;\">4</td><td style = \"text-align: right;\">20190205</td><td style = \"text-align: left;\">ZZ000000000000</td><td style = \"text-align: left;\">P050301001</td><td style = \"text-align: right;\">25</td></tr><tr><td class = \"rowNumber\" style = \"font-weight: bold; text-align: right;\">5</td><td style = \"text-align: right;\">20180821</td><td style = \"text-align: left;\">CS025415000050</td><td style = \"text-align: left;\">P060102007</td><td style = \"text-align: right;\">90</td></tr><tr><td class = \"rowNumber\" style = \"font-weight: bold; text-align: right;\">6</td><td style = \"text-align: right;\">20190605</td><td style = \"text-align: left;\">CS003515000195</td><td style = \"text-align: left;\">P050102002</td><td style = \"text-align: right;\">138</td></tr><tr><td class = \"rowNumber\" style = \"font-weight: bold; text-align: right;\">7</td><td style = \"text-align: right;\">20181205</td><td style = \"text-align: left;\">CS024514000042</td><td style = \"text-align: left;\">P080101005</td><td style = \"text-align: right;\">30</td></tr><tr><td class = \"rowNumber\" style = \"font-weight: bold; text-align: right;\">8</td><td style = \"text-align: right;\">20190922</td><td style = \"text-align: left;\">CS040415000178</td><td style = \"text-align: left;\">P070501004</td><td style = \"text-align: right;\">128</td></tr><tr><td class = \"rowNumber\" style = \"font-weight: bold; text-align: right;\">9</td><td style = \"text-align: right;\">20170504</td><td style = \"text-align: left;\">ZZ000000000000</td><td style = \"text-align: left;\">P071302010</td><td style = \"text-align: right;\">770</td></tr><tr><td class = \"rowNumber\" style = \"font-weight: bold; text-align: right;\">10</td><td style = \"text-align: right;\">20191010</td><td style = \"text-align: left;\">CS027514000015</td><td style = \"text-align: left;\">P071101003</td><td style = \"text-align: right;\">680</td></tr></tbody></table></div>"
      ],
      "text/latex": [
       "\\begin{tabular}{r|cccc}\n",
       "\t& sales\\_ymd & customer\\_id & product\\_cd & amount\\\\\n",
       "\t\\hline\n",
       "\t& Int64 & String & String & Int64\\\\\n",
       "\t\\hline\n",
       "\t1 & 20181103 & CS006214000001 & P070305012 & 158 \\\\\n",
       "\t2 & 20181118 & CS008415000097 & P070701017 & 81 \\\\\n",
       "\t3 & 20170712 & CS028414000014 & P060101005 & 170 \\\\\n",
       "\t4 & 20190205 & ZZ000000000000 & P050301001 & 25 \\\\\n",
       "\t5 & 20180821 & CS025415000050 & P060102007 & 90 \\\\\n",
       "\t6 & 20190605 & CS003515000195 & P050102002 & 138 \\\\\n",
       "\t7 & 20181205 & CS024514000042 & P080101005 & 30 \\\\\n",
       "\t8 & 20190922 & CS040415000178 & P070501004 & 128 \\\\\n",
       "\t9 & 20170504 & ZZ000000000000 & P071302010 & 770 \\\\\n",
       "\t10 & 20191010 & CS027514000015 & P071101003 & 680 \\\\\n",
       "\\end{tabular}\n"
      ],
      "text/plain": [
       "\u001b[1m10×4 DataFrame\u001b[0m\n",
       "\u001b[1m Row \u001b[0m│\u001b[1m sales_ymd \u001b[0m\u001b[1m customer_id    \u001b[0m\u001b[1m product_cd \u001b[0m\u001b[1m amount \u001b[0m\n",
       "     │\u001b[90m Int64     \u001b[0m\u001b[90m String         \u001b[0m\u001b[90m String     \u001b[0m\u001b[90m Int64  \u001b[0m\n",
       "─────┼───────────────────────────────────────────────\n",
       "   1 │  20181103  CS006214000001  P070305012     158\n",
       "   2 │  20181118  CS008415000097  P070701017      81\n",
       "   3 │  20170712  CS028414000014  P060101005     170\n",
       "   4 │  20190205  ZZ000000000000  P050301001      25\n",
       "   5 │  20180821  CS025415000050  P060102007      90\n",
       "   6 │  20190605  CS003515000195  P050102002     138\n",
       "   7 │  20181205  CS024514000042  P080101005      30\n",
       "   8 │  20190922  CS040415000178  P070501004     128\n",
       "   9 │  20170504  ZZ000000000000  P071302010     770\n",
       "  10 │  20191010  CS027514000015  P071101003     680"
      ]
     },
     "execution_count": 5,
     "metadata": {},
     "output_type": "execute_result"
    }
   ],
   "source": [
    "@time \\\n",
    "@chain df_receipt begin\n",
    "    @select :sales_ymd :customer_id :product_cd :amount\n",
    "    first(10)\n",
    "end"
   ]
  },
  {
   "cell_type": "markdown",
   "metadata": {},
   "source": [
    "---\n",
    "> P-003: レシート明細データ（df_receipt）から売上年月日（sales_ymd）、顧客ID（customer_id）、商品コード（product_cd）、売上金額（amount）の順に列を指定し、10件表示せよ。ただし、sales_ymdをsales_dateに項目名を変更しながら抽出すること。"
   ]
  },
  {
   "cell_type": "code",
   "execution_count": 6,
   "metadata": {},
   "outputs": [
    {
     "name": "stdout",
     "output_type": "stream",
     "text": [
      "  0.000005 seconds\n"
     ]
    },
    {
     "data": {
      "text/html": [
       "<div><div style = \"float: left;\"><span>10×4 DataFrame</span></div><div style = \"clear: both;\"></div></div><div class = \"data-frame\" style = \"overflow-x: scroll;\"><table class = \"data-frame\" style = \"margin-bottom: 6px;\"><thead><tr class = \"header\"><th class = \"rowNumber\" style = \"font-weight: bold; text-align: right;\">Row</th><th style = \"text-align: left;\">sales_date</th><th style = \"text-align: left;\">customer_id</th><th style = \"text-align: left;\">product_cd</th><th style = \"text-align: left;\">amount</th></tr><tr class = \"subheader headerLastRow\"><th class = \"rowNumber\" style = \"font-weight: bold; text-align: right;\"></th><th title = \"Int64\" style = \"text-align: left;\">Int64</th><th title = \"String\" style = \"text-align: left;\">String</th><th title = \"String\" style = \"text-align: left;\">String</th><th title = \"Int64\" style = \"text-align: left;\">Int64</th></tr></thead><tbody><tr><td class = \"rowNumber\" style = \"font-weight: bold; text-align: right;\">1</td><td style = \"text-align: right;\">20181103</td><td style = \"text-align: left;\">CS006214000001</td><td style = \"text-align: left;\">P070305012</td><td style = \"text-align: right;\">158</td></tr><tr><td class = \"rowNumber\" style = \"font-weight: bold; text-align: right;\">2</td><td style = \"text-align: right;\">20181118</td><td style = \"text-align: left;\">CS008415000097</td><td style = \"text-align: left;\">P070701017</td><td style = \"text-align: right;\">81</td></tr><tr><td class = \"rowNumber\" style = \"font-weight: bold; text-align: right;\">3</td><td style = \"text-align: right;\">20170712</td><td style = \"text-align: left;\">CS028414000014</td><td style = \"text-align: left;\">P060101005</td><td style = \"text-align: right;\">170</td></tr><tr><td class = \"rowNumber\" style = \"font-weight: bold; text-align: right;\">4</td><td style = \"text-align: right;\">20190205</td><td style = \"text-align: left;\">ZZ000000000000</td><td style = \"text-align: left;\">P050301001</td><td style = \"text-align: right;\">25</td></tr><tr><td class = \"rowNumber\" style = \"font-weight: bold; text-align: right;\">5</td><td style = \"text-align: right;\">20180821</td><td style = \"text-align: left;\">CS025415000050</td><td style = \"text-align: left;\">P060102007</td><td style = \"text-align: right;\">90</td></tr><tr><td class = \"rowNumber\" style = \"font-weight: bold; text-align: right;\">6</td><td style = \"text-align: right;\">20190605</td><td style = \"text-align: left;\">CS003515000195</td><td style = \"text-align: left;\">P050102002</td><td style = \"text-align: right;\">138</td></tr><tr><td class = \"rowNumber\" style = \"font-weight: bold; text-align: right;\">7</td><td style = \"text-align: right;\">20181205</td><td style = \"text-align: left;\">CS024514000042</td><td style = \"text-align: left;\">P080101005</td><td style = \"text-align: right;\">30</td></tr><tr><td class = \"rowNumber\" style = \"font-weight: bold; text-align: right;\">8</td><td style = \"text-align: right;\">20190922</td><td style = \"text-align: left;\">CS040415000178</td><td style = \"text-align: left;\">P070501004</td><td style = \"text-align: right;\">128</td></tr><tr><td class = \"rowNumber\" style = \"font-weight: bold; text-align: right;\">9</td><td style = \"text-align: right;\">20170504</td><td style = \"text-align: left;\">ZZ000000000000</td><td style = \"text-align: left;\">P071302010</td><td style = \"text-align: right;\">770</td></tr><tr><td class = \"rowNumber\" style = \"font-weight: bold; text-align: right;\">10</td><td style = \"text-align: right;\">20191010</td><td style = \"text-align: left;\">CS027514000015</td><td style = \"text-align: left;\">P071101003</td><td style = \"text-align: right;\">680</td></tr></tbody></table></div>"
      ],
      "text/latex": [
       "\\begin{tabular}{r|cccc}\n",
       "\t& sales\\_date & customer\\_id & product\\_cd & amount\\\\\n",
       "\t\\hline\n",
       "\t& Int64 & String & String & Int64\\\\\n",
       "\t\\hline\n",
       "\t1 & 20181103 & CS006214000001 & P070305012 & 158 \\\\\n",
       "\t2 & 20181118 & CS008415000097 & P070701017 & 81 \\\\\n",
       "\t3 & 20170712 & CS028414000014 & P060101005 & 170 \\\\\n",
       "\t4 & 20190205 & ZZ000000000000 & P050301001 & 25 \\\\\n",
       "\t5 & 20180821 & CS025415000050 & P060102007 & 90 \\\\\n",
       "\t6 & 20190605 & CS003515000195 & P050102002 & 138 \\\\\n",
       "\t7 & 20181205 & CS024514000042 & P080101005 & 30 \\\\\n",
       "\t8 & 20190922 & CS040415000178 & P070501004 & 128 \\\\\n",
       "\t9 & 20170504 & ZZ000000000000 & P071302010 & 770 \\\\\n",
       "\t10 & 20191010 & CS027514000015 & P071101003 & 680 \\\\\n",
       "\\end{tabular}\n"
      ],
      "text/plain": [
       "\u001b[1m10×4 DataFrame\u001b[0m\n",
       "\u001b[1m Row \u001b[0m│\u001b[1m sales_date \u001b[0m\u001b[1m customer_id    \u001b[0m\u001b[1m product_cd \u001b[0m\u001b[1m amount \u001b[0m\n",
       "     │\u001b[90m Int64      \u001b[0m\u001b[90m String         \u001b[0m\u001b[90m String     \u001b[0m\u001b[90m Int64  \u001b[0m\n",
       "─────┼────────────────────────────────────────────────\n",
       "   1 │   20181103  CS006214000001  P070305012     158\n",
       "   2 │   20181118  CS008415000097  P070701017      81\n",
       "   3 │   20170712  CS028414000014  P060101005     170\n",
       "   4 │   20190205  ZZ000000000000  P050301001      25\n",
       "   5 │   20180821  CS025415000050  P060102007      90\n",
       "   6 │   20190605  CS003515000195  P050102002     138\n",
       "   7 │   20181205  CS024514000042  P080101005      30\n",
       "   8 │   20190922  CS040415000178  P070501004     128\n",
       "   9 │   20170504  ZZ000000000000  P071302010     770\n",
       "  10 │   20191010  CS027514000015  P071101003     680"
      ]
     },
     "execution_count": 6,
     "metadata": {},
     "output_type": "execute_result"
    }
   ],
   "source": [
    "@time \\\n",
    "@chain df_receipt begin\n",
    "    @select $(:sales_ymd => :sales_date) :customer_id :product_cd :amount\n",
    "    first(10)\n",
    "end"
   ]
  },
  {
   "cell_type": "markdown",
   "metadata": {},
   "source": [
    "---\n",
    "> P-004: レシート明細データ（df_receipt）から売上日（sales_ymd）、顧客ID（customer_id）、商品コード（product_cd）、売上金額（amount）の順に列を指定し、以下の条件を満たすデータを抽出せよ。\n",
    "> - 顧客ID（customer_id）が\"CS018205000001\""
   ]
  },
  {
   "cell_type": "code",
   "execution_count": 7,
   "metadata": {},
   "outputs": [
    {
     "name": "stdout",
     "output_type": "stream",
     "text": [
      "  0.000001 seconds\n"
     ]
    },
    {
     "data": {
      "text/html": [
       "<div><div style = \"float: left;\"><span>12×4 DataFrame</span></div><div style = \"clear: both;\"></div></div><div class = \"data-frame\" style = \"overflow-x: scroll;\"><table class = \"data-frame\" style = \"margin-bottom: 6px;\"><thead><tr class = \"header\"><th class = \"rowNumber\" style = \"font-weight: bold; text-align: right;\">Row</th><th style = \"text-align: left;\">sales_ymd</th><th style = \"text-align: left;\">customer_id</th><th style = \"text-align: left;\">product_cd</th><th style = \"text-align: left;\">amount</th></tr><tr class = \"subheader headerLastRow\"><th class = \"rowNumber\" style = \"font-weight: bold; text-align: right;\"></th><th title = \"Int64\" style = \"text-align: left;\">Int64</th><th title = \"String\" style = \"text-align: left;\">String</th><th title = \"String\" style = \"text-align: left;\">String</th><th title = \"Int64\" style = \"text-align: left;\">Int64</th></tr></thead><tbody><tr><td class = \"rowNumber\" style = \"font-weight: bold; text-align: right;\">1</td><td style = \"text-align: right;\">20180911</td><td style = \"text-align: left;\">CS018205000001</td><td style = \"text-align: left;\">P071401012</td><td style = \"text-align: right;\">2200</td></tr><tr><td class = \"rowNumber\" style = \"font-weight: bold; text-align: right;\">2</td><td style = \"text-align: right;\">20180414</td><td style = \"text-align: left;\">CS018205000001</td><td style = \"text-align: left;\">P060104007</td><td style = \"text-align: right;\">600</td></tr><tr><td class = \"rowNumber\" style = \"font-weight: bold; text-align: right;\">3</td><td style = \"text-align: right;\">20170614</td><td style = \"text-align: left;\">CS018205000001</td><td style = \"text-align: left;\">P050206001</td><td style = \"text-align: right;\">990</td></tr><tr><td class = \"rowNumber\" style = \"font-weight: bold; text-align: right;\">4</td><td style = \"text-align: right;\">20170614</td><td style = \"text-align: left;\">CS018205000001</td><td style = \"text-align: left;\">P060702015</td><td style = \"text-align: right;\">108</td></tr><tr><td class = \"rowNumber\" style = \"font-weight: bold; text-align: right;\">5</td><td style = \"text-align: right;\">20190216</td><td style = \"text-align: left;\">CS018205000001</td><td style = \"text-align: left;\">P071005024</td><td style = \"text-align: right;\">102</td></tr><tr><td class = \"rowNumber\" style = \"font-weight: bold; text-align: right;\">6</td><td style = \"text-align: right;\">20180414</td><td style = \"text-align: left;\">CS018205000001</td><td style = \"text-align: left;\">P071101002</td><td style = \"text-align: right;\">278</td></tr><tr><td class = \"rowNumber\" style = \"font-weight: bold; text-align: right;\">7</td><td style = \"text-align: right;\">20190226</td><td style = \"text-align: left;\">CS018205000001</td><td style = \"text-align: left;\">P070902035</td><td style = \"text-align: right;\">168</td></tr><tr><td class = \"rowNumber\" style = \"font-weight: bold; text-align: right;\">8</td><td style = \"text-align: right;\">20190924</td><td style = \"text-align: left;\">CS018205000001</td><td style = \"text-align: left;\">P060805001</td><td style = \"text-align: right;\">495</td></tr><tr><td class = \"rowNumber\" style = \"font-weight: bold; text-align: right;\">9</td><td style = \"text-align: right;\">20190226</td><td style = \"text-align: left;\">CS018205000001</td><td style = \"text-align: left;\">P071401020</td><td style = \"text-align: right;\">2200</td></tr><tr><td class = \"rowNumber\" style = \"font-weight: bold; text-align: right;\">10</td><td style = \"text-align: right;\">20180911</td><td style = \"text-align: left;\">CS018205000001</td><td style = \"text-align: left;\">P071401005</td><td style = \"text-align: right;\">1100</td></tr><tr><td class = \"rowNumber\" style = \"font-weight: bold; text-align: right;\">11</td><td style = \"text-align: right;\">20190216</td><td style = \"text-align: left;\">CS018205000001</td><td style = \"text-align: left;\">P040101002</td><td style = \"text-align: right;\">218</td></tr><tr><td class = \"rowNumber\" style = \"font-weight: bold; text-align: right;\">12</td><td style = \"text-align: right;\">20190924</td><td style = \"text-align: left;\">CS018205000001</td><td style = \"text-align: left;\">P091503001</td><td style = \"text-align: right;\">280</td></tr></tbody></table></div>"
      ],
      "text/latex": [
       "\\begin{tabular}{r|cccc}\n",
       "\t& sales\\_ymd & customer\\_id & product\\_cd & amount\\\\\n",
       "\t\\hline\n",
       "\t& Int64 & String & String & Int64\\\\\n",
       "\t\\hline\n",
       "\t1 & 20180911 & CS018205000001 & P071401012 & 2200 \\\\\n",
       "\t2 & 20180414 & CS018205000001 & P060104007 & 600 \\\\\n",
       "\t3 & 20170614 & CS018205000001 & P050206001 & 990 \\\\\n",
       "\t4 & 20170614 & CS018205000001 & P060702015 & 108 \\\\\n",
       "\t5 & 20190216 & CS018205000001 & P071005024 & 102 \\\\\n",
       "\t6 & 20180414 & CS018205000001 & P071101002 & 278 \\\\\n",
       "\t7 & 20190226 & CS018205000001 & P070902035 & 168 \\\\\n",
       "\t8 & 20190924 & CS018205000001 & P060805001 & 495 \\\\\n",
       "\t9 & 20190226 & CS018205000001 & P071401020 & 2200 \\\\\n",
       "\t10 & 20180911 & CS018205000001 & P071401005 & 1100 \\\\\n",
       "\t11 & 20190216 & CS018205000001 & P040101002 & 218 \\\\\n",
       "\t12 & 20190924 & CS018205000001 & P091503001 & 280 \\\\\n",
       "\\end{tabular}\n"
      ],
      "text/plain": [
       "\u001b[1m12×4 DataFrame\u001b[0m\n",
       "\u001b[1m Row \u001b[0m│\u001b[1m sales_ymd \u001b[0m\u001b[1m customer_id    \u001b[0m\u001b[1m product_cd \u001b[0m\u001b[1m amount \u001b[0m\n",
       "     │\u001b[90m Int64     \u001b[0m\u001b[90m String         \u001b[0m\u001b[90m String     \u001b[0m\u001b[90m Int64  \u001b[0m\n",
       "─────┼───────────────────────────────────────────────\n",
       "   1 │  20180911  CS018205000001  P071401012    2200\n",
       "   2 │  20180414  CS018205000001  P060104007     600\n",
       "   3 │  20170614  CS018205000001  P050206001     990\n",
       "   4 │  20170614  CS018205000001  P060702015     108\n",
       "   5 │  20190216  CS018205000001  P071005024     102\n",
       "   6 │  20180414  CS018205000001  P071101002     278\n",
       "   7 │  20190226  CS018205000001  P070902035     168\n",
       "   8 │  20190924  CS018205000001  P060805001     495\n",
       "   9 │  20190226  CS018205000001  P071401020    2200\n",
       "  10 │  20180911  CS018205000001  P071401005    1100\n",
       "  11 │  20190216  CS018205000001  P040101002     218\n",
       "  12 │  20190924  CS018205000001  P091503001     280"
      ]
     },
     "execution_count": 7,
     "metadata": {},
     "output_type": "execute_result"
    }
   ],
   "source": [
    "# DataFramesの関数で処理\n",
    "@time \\\n",
    "@chain df_receipt begin\n",
    "    select(:sales_ymd, :customer_id, :product_cd, :amount)\n",
    "    subset(:customer_id => ByRow(==(\"CS018205000001\")))\n",
    "end"
   ]
  },
  {
   "cell_type": "code",
   "execution_count": 8,
   "metadata": {},
   "outputs": [
    {
     "name": "stdout",
     "output_type": "stream",
     "text": [
      "  0.000002 seconds\n"
     ]
    },
    {
     "data": {
      "text/html": [
       "<div><div style = \"float: left;\"><span>12×4 DataFrame</span></div><div style = \"clear: both;\"></div></div><div class = \"data-frame\" style = \"overflow-x: scroll;\"><table class = \"data-frame\" style = \"margin-bottom: 6px;\"><thead><tr class = \"header\"><th class = \"rowNumber\" style = \"font-weight: bold; text-align: right;\">Row</th><th style = \"text-align: left;\">sales_ymd</th><th style = \"text-align: left;\">customer_id</th><th style = \"text-align: left;\">product_cd</th><th style = \"text-align: left;\">amount</th></tr><tr class = \"subheader headerLastRow\"><th class = \"rowNumber\" style = \"font-weight: bold; text-align: right;\"></th><th title = \"Int64\" style = \"text-align: left;\">Int64</th><th title = \"String\" style = \"text-align: left;\">String</th><th title = \"String\" style = \"text-align: left;\">String</th><th title = \"Int64\" style = \"text-align: left;\">Int64</th></tr></thead><tbody><tr><td class = \"rowNumber\" style = \"font-weight: bold; text-align: right;\">1</td><td style = \"text-align: right;\">20180911</td><td style = \"text-align: left;\">CS018205000001</td><td style = \"text-align: left;\">P071401012</td><td style = \"text-align: right;\">2200</td></tr><tr><td class = \"rowNumber\" style = \"font-weight: bold; text-align: right;\">2</td><td style = \"text-align: right;\">20180414</td><td style = \"text-align: left;\">CS018205000001</td><td style = \"text-align: left;\">P060104007</td><td style = \"text-align: right;\">600</td></tr><tr><td class = \"rowNumber\" style = \"font-weight: bold; text-align: right;\">3</td><td style = \"text-align: right;\">20170614</td><td style = \"text-align: left;\">CS018205000001</td><td style = \"text-align: left;\">P050206001</td><td style = \"text-align: right;\">990</td></tr><tr><td class = \"rowNumber\" style = \"font-weight: bold; text-align: right;\">4</td><td style = \"text-align: right;\">20170614</td><td style = \"text-align: left;\">CS018205000001</td><td style = \"text-align: left;\">P060702015</td><td style = \"text-align: right;\">108</td></tr><tr><td class = \"rowNumber\" style = \"font-weight: bold; text-align: right;\">5</td><td style = \"text-align: right;\">20190216</td><td style = \"text-align: left;\">CS018205000001</td><td style = \"text-align: left;\">P071005024</td><td style = \"text-align: right;\">102</td></tr><tr><td class = \"rowNumber\" style = \"font-weight: bold; text-align: right;\">6</td><td style = \"text-align: right;\">20180414</td><td style = \"text-align: left;\">CS018205000001</td><td style = \"text-align: left;\">P071101002</td><td style = \"text-align: right;\">278</td></tr><tr><td class = \"rowNumber\" style = \"font-weight: bold; text-align: right;\">7</td><td style = \"text-align: right;\">20190226</td><td style = \"text-align: left;\">CS018205000001</td><td style = \"text-align: left;\">P070902035</td><td style = \"text-align: right;\">168</td></tr><tr><td class = \"rowNumber\" style = \"font-weight: bold; text-align: right;\">8</td><td style = \"text-align: right;\">20190924</td><td style = \"text-align: left;\">CS018205000001</td><td style = \"text-align: left;\">P060805001</td><td style = \"text-align: right;\">495</td></tr><tr><td class = \"rowNumber\" style = \"font-weight: bold; text-align: right;\">9</td><td style = \"text-align: right;\">20190226</td><td style = \"text-align: left;\">CS018205000001</td><td style = \"text-align: left;\">P071401020</td><td style = \"text-align: right;\">2200</td></tr><tr><td class = \"rowNumber\" style = \"font-weight: bold; text-align: right;\">10</td><td style = \"text-align: right;\">20180911</td><td style = \"text-align: left;\">CS018205000001</td><td style = \"text-align: left;\">P071401005</td><td style = \"text-align: right;\">1100</td></tr><tr><td class = \"rowNumber\" style = \"font-weight: bold; text-align: right;\">11</td><td style = \"text-align: right;\">20190216</td><td style = \"text-align: left;\">CS018205000001</td><td style = \"text-align: left;\">P040101002</td><td style = \"text-align: right;\">218</td></tr><tr><td class = \"rowNumber\" style = \"font-weight: bold; text-align: right;\">12</td><td style = \"text-align: right;\">20190924</td><td style = \"text-align: left;\">CS018205000001</td><td style = \"text-align: left;\">P091503001</td><td style = \"text-align: right;\">280</td></tr></tbody></table></div>"
      ],
      "text/latex": [
       "\\begin{tabular}{r|cccc}\n",
       "\t& sales\\_ymd & customer\\_id & product\\_cd & amount\\\\\n",
       "\t\\hline\n",
       "\t& Int64 & String & String & Int64\\\\\n",
       "\t\\hline\n",
       "\t1 & 20180911 & CS018205000001 & P071401012 & 2200 \\\\\n",
       "\t2 & 20180414 & CS018205000001 & P060104007 & 600 \\\\\n",
       "\t3 & 20170614 & CS018205000001 & P050206001 & 990 \\\\\n",
       "\t4 & 20170614 & CS018205000001 & P060702015 & 108 \\\\\n",
       "\t5 & 20190216 & CS018205000001 & P071005024 & 102 \\\\\n",
       "\t6 & 20180414 & CS018205000001 & P071101002 & 278 \\\\\n",
       "\t7 & 20190226 & CS018205000001 & P070902035 & 168 \\\\\n",
       "\t8 & 20190924 & CS018205000001 & P060805001 & 495 \\\\\n",
       "\t9 & 20190226 & CS018205000001 & P071401020 & 2200 \\\\\n",
       "\t10 & 20180911 & CS018205000001 & P071401005 & 1100 \\\\\n",
       "\t11 & 20190216 & CS018205000001 & P040101002 & 218 \\\\\n",
       "\t12 & 20190924 & CS018205000001 & P091503001 & 280 \\\\\n",
       "\\end{tabular}\n"
      ],
      "text/plain": [
       "\u001b[1m12×4 DataFrame\u001b[0m\n",
       "\u001b[1m Row \u001b[0m│\u001b[1m sales_ymd \u001b[0m\u001b[1m customer_id    \u001b[0m\u001b[1m product_cd \u001b[0m\u001b[1m amount \u001b[0m\n",
       "     │\u001b[90m Int64     \u001b[0m\u001b[90m String         \u001b[0m\u001b[90m String     \u001b[0m\u001b[90m Int64  \u001b[0m\n",
       "─────┼───────────────────────────────────────────────\n",
       "   1 │  20180911  CS018205000001  P071401012    2200\n",
       "   2 │  20180414  CS018205000001  P060104007     600\n",
       "   3 │  20170614  CS018205000001  P050206001     990\n",
       "   4 │  20170614  CS018205000001  P060702015     108\n",
       "   5 │  20190216  CS018205000001  P071005024     102\n",
       "   6 │  20180414  CS018205000001  P071101002     278\n",
       "   7 │  20190226  CS018205000001  P070902035     168\n",
       "   8 │  20190924  CS018205000001  P060805001     495\n",
       "   9 │  20190226  CS018205000001  P071401020    2200\n",
       "  10 │  20180911  CS018205000001  P071401005    1100\n",
       "  11 │  20190216  CS018205000001  P040101002     218\n",
       "  12 │  20190924  CS018205000001  P091503001     280"
      ]
     },
     "execution_count": 8,
     "metadata": {},
     "output_type": "execute_result"
    }
   ],
   "source": [
    "# DataFramesMetaのマクロを使用\n",
    "@time \\\n",
    "@chain df_receipt begin\n",
    "    @select :sales_ymd :customer_id :product_cd :amount\n",
    "    @rsubset :customer_id == \"CS018205000001\"\n",
    "end"
   ]
  },
  {
   "cell_type": "markdown",
   "metadata": {},
   "source": [
    "---\n",
    "> P-005: レシート明細データ（df_receipt）から売上日（sales_ymd）、顧客ID（customer_id）、商品コード（product_cd）、売上金額（amount）の順に列を指定し、以下の全ての条件を満たすデータを抽出せよ。\n",
    "> - 顧客ID（customer_id）が\"CS018205000001\"\n",
    "> - 売上金額（amount）が1,000以上"
   ]
  },
  {
   "cell_type": "code",
   "execution_count": 9,
   "metadata": {},
   "outputs": [
    {
     "name": "stdout",
     "output_type": "stream",
     "text": [
      "  0.000001 seconds\n"
     ]
    },
    {
     "data": {
      "text/html": [
       "<div><div style = \"float: left;\"><span>3×4 DataFrame</span></div><div style = \"clear: both;\"></div></div><div class = \"data-frame\" style = \"overflow-x: scroll;\"><table class = \"data-frame\" style = \"margin-bottom: 6px;\"><thead><tr class = \"header\"><th class = \"rowNumber\" style = \"font-weight: bold; text-align: right;\">Row</th><th style = \"text-align: left;\">sales_ymd</th><th style = \"text-align: left;\">customer_id</th><th style = \"text-align: left;\">product_cd</th><th style = \"text-align: left;\">amount</th></tr><tr class = \"subheader headerLastRow\"><th class = \"rowNumber\" style = \"font-weight: bold; text-align: right;\"></th><th title = \"Int64\" style = \"text-align: left;\">Int64</th><th title = \"String\" style = \"text-align: left;\">String</th><th title = \"String\" style = \"text-align: left;\">String</th><th title = \"Int64\" style = \"text-align: left;\">Int64</th></tr></thead><tbody><tr><td class = \"rowNumber\" style = \"font-weight: bold; text-align: right;\">1</td><td style = \"text-align: right;\">20180911</td><td style = \"text-align: left;\">CS018205000001</td><td style = \"text-align: left;\">P071401012</td><td style = \"text-align: right;\">2200</td></tr><tr><td class = \"rowNumber\" style = \"font-weight: bold; text-align: right;\">2</td><td style = \"text-align: right;\">20190226</td><td style = \"text-align: left;\">CS018205000001</td><td style = \"text-align: left;\">P071401020</td><td style = \"text-align: right;\">2200</td></tr><tr><td class = \"rowNumber\" style = \"font-weight: bold; text-align: right;\">3</td><td style = \"text-align: right;\">20180911</td><td style = \"text-align: left;\">CS018205000001</td><td style = \"text-align: left;\">P071401005</td><td style = \"text-align: right;\">1100</td></tr></tbody></table></div>"
      ],
      "text/latex": [
       "\\begin{tabular}{r|cccc}\n",
       "\t& sales\\_ymd & customer\\_id & product\\_cd & amount\\\\\n",
       "\t\\hline\n",
       "\t& Int64 & String & String & Int64\\\\\n",
       "\t\\hline\n",
       "\t1 & 20180911 & CS018205000001 & P071401012 & 2200 \\\\\n",
       "\t2 & 20190226 & CS018205000001 & P071401020 & 2200 \\\\\n",
       "\t3 & 20180911 & CS018205000001 & P071401005 & 1100 \\\\\n",
       "\\end{tabular}\n"
      ],
      "text/plain": [
       "\u001b[1m3×4 DataFrame\u001b[0m\n",
       "\u001b[1m Row \u001b[0m│\u001b[1m sales_ymd \u001b[0m\u001b[1m customer_id    \u001b[0m\u001b[1m product_cd \u001b[0m\u001b[1m amount \u001b[0m\n",
       "     │\u001b[90m Int64     \u001b[0m\u001b[90m String         \u001b[0m\u001b[90m String     \u001b[0m\u001b[90m Int64  \u001b[0m\n",
       "─────┼───────────────────────────────────────────────\n",
       "   1 │  20180911  CS018205000001  P071401012    2200\n",
       "   2 │  20190226  CS018205000001  P071401020    2200\n",
       "   3 │  20180911  CS018205000001  P071401005    1100"
      ]
     },
     "execution_count": 9,
     "metadata": {},
     "output_type": "execute_result"
    }
   ],
   "source": [
    "@time \\\n",
    "@chain df_receipt begin\n",
    "    @select :sales_ymd :customer_id :product_cd :amount\n",
    "    @rsubset begin\n",
    "        :customer_id == \"CS018205000001\"\n",
    "        :amount >= 1000\n",
    "    end\n",
    "end"
   ]
  },
  {
   "cell_type": "markdown",
   "metadata": {},
   "source": [
    "---\n",
    "> P-006: レシート明細データ（df_receipt）から売上日（sales_ymd）、顧客ID（customer_id）、商品コード（product_cd）、売上数量（quantity）、売上金額（amount）の順に列を指定し、以下の全ての条件を満たすデータを抽出せよ。\n",
    "> - 顧客ID（customer_id）が\"CS018205000001\"\n",
    "> - 売上金額（amount）が1,000以上または売上数量（quantity）が5以上"
   ]
  },
  {
   "cell_type": "code",
   "execution_count": 10,
   "metadata": {},
   "outputs": [
    {
     "name": "stdout",
     "output_type": "stream",
     "text": [
      "  0.000006 seconds\n"
     ]
    },
    {
     "data": {
      "text/html": [
       "<div><div style = \"float: left;\"><span>5×5 DataFrame</span></div><div style = \"clear: both;\"></div></div><div class = \"data-frame\" style = \"overflow-x: scroll;\"><table class = \"data-frame\" style = \"margin-bottom: 6px;\"><thead><tr class = \"header\"><th class = \"rowNumber\" style = \"font-weight: bold; text-align: right;\">Row</th><th style = \"text-align: left;\">sales_ymd</th><th style = \"text-align: left;\">customer_id</th><th style = \"text-align: left;\">product_cd</th><th style = \"text-align: left;\">quantity</th><th style = \"text-align: left;\">amount</th></tr><tr class = \"subheader headerLastRow\"><th class = \"rowNumber\" style = \"font-weight: bold; text-align: right;\"></th><th title = \"Int64\" style = \"text-align: left;\">Int64</th><th title = \"String\" style = \"text-align: left;\">String</th><th title = \"String\" style = \"text-align: left;\">String</th><th title = \"Int64\" style = \"text-align: left;\">Int64</th><th title = \"Int64\" style = \"text-align: left;\">Int64</th></tr></thead><tbody><tr><td class = \"rowNumber\" style = \"font-weight: bold; text-align: right;\">1</td><td style = \"text-align: right;\">20180911</td><td style = \"text-align: left;\">CS018205000001</td><td style = \"text-align: left;\">P071401012</td><td style = \"text-align: right;\">1</td><td style = \"text-align: right;\">2200</td></tr><tr><td class = \"rowNumber\" style = \"font-weight: bold; text-align: right;\">2</td><td style = \"text-align: right;\">20180414</td><td style = \"text-align: left;\">CS018205000001</td><td style = \"text-align: left;\">P060104007</td><td style = \"text-align: right;\">6</td><td style = \"text-align: right;\">600</td></tr><tr><td class = \"rowNumber\" style = \"font-weight: bold; text-align: right;\">3</td><td style = \"text-align: right;\">20170614</td><td style = \"text-align: left;\">CS018205000001</td><td style = \"text-align: left;\">P050206001</td><td style = \"text-align: right;\">5</td><td style = \"text-align: right;\">990</td></tr><tr><td class = \"rowNumber\" style = \"font-weight: bold; text-align: right;\">4</td><td style = \"text-align: right;\">20190226</td><td style = \"text-align: left;\">CS018205000001</td><td style = \"text-align: left;\">P071401020</td><td style = \"text-align: right;\">1</td><td style = \"text-align: right;\">2200</td></tr><tr><td class = \"rowNumber\" style = \"font-weight: bold; text-align: right;\">5</td><td style = \"text-align: right;\">20180911</td><td style = \"text-align: left;\">CS018205000001</td><td style = \"text-align: left;\">P071401005</td><td style = \"text-align: right;\">1</td><td style = \"text-align: right;\">1100</td></tr></tbody></table></div>"
      ],
      "text/latex": [
       "\\begin{tabular}{r|ccccc}\n",
       "\t& sales\\_ymd & customer\\_id & product\\_cd & quantity & amount\\\\\n",
       "\t\\hline\n",
       "\t& Int64 & String & String & Int64 & Int64\\\\\n",
       "\t\\hline\n",
       "\t1 & 20180911 & CS018205000001 & P071401012 & 1 & 2200 \\\\\n",
       "\t2 & 20180414 & CS018205000001 & P060104007 & 6 & 600 \\\\\n",
       "\t3 & 20170614 & CS018205000001 & P050206001 & 5 & 990 \\\\\n",
       "\t4 & 20190226 & CS018205000001 & P071401020 & 1 & 2200 \\\\\n",
       "\t5 & 20180911 & CS018205000001 & P071401005 & 1 & 1100 \\\\\n",
       "\\end{tabular}\n"
      ],
      "text/plain": [
       "\u001b[1m5×5 DataFrame\u001b[0m\n",
       "\u001b[1m Row \u001b[0m│\u001b[1m sales_ymd \u001b[0m\u001b[1m customer_id    \u001b[0m\u001b[1m product_cd \u001b[0m\u001b[1m quantity \u001b[0m\u001b[1m amount \u001b[0m\n",
       "     │\u001b[90m Int64     \u001b[0m\u001b[90m String         \u001b[0m\u001b[90m String     \u001b[0m\u001b[90m Int64    \u001b[0m\u001b[90m Int64  \u001b[0m\n",
       "─────┼─────────────────────────────────────────────────────────\n",
       "   1 │  20180911  CS018205000001  P071401012         1    2200\n",
       "   2 │  20180414  CS018205000001  P060104007         6     600\n",
       "   3 │  20170614  CS018205000001  P050206001         5     990\n",
       "   4 │  20190226  CS018205000001  P071401020         1    2200\n",
       "   5 │  20180911  CS018205000001  P071401005         1    1100"
      ]
     },
     "execution_count": 10,
     "metadata": {},
     "output_type": "execute_result"
    }
   ],
   "source": [
    "@time \\\n",
    "@chain df_receipt begin\n",
    "    @select :sales_ymd :customer_id :product_cd :quantity :amount\n",
    "    @rsubset begin\n",
    "        :customer_id == \"CS018205000001\"\n",
    "        :amount >= 1000 || :quantity >= 5\n",
    "    end\n",
    "end"
   ]
  },
  {
   "cell_type": "markdown",
   "metadata": {},
   "source": [
    "---\n",
    "> P-007: レシート明細データ（df_receipt）から売上日（sales_ymd）、顧客ID（customer_id）、商品コード（product_cd）、売上金額（amount）の順に列を指定し、以下の全ての条件を満たすデータを抽出せよ。\n",
    "> - 顧客ID（customer_id）が\"CS018205000001\"\n",
    "> - 売上金額（amount）が1,000以上2,000以下"
   ]
  },
  {
   "cell_type": "code",
   "execution_count": 11,
   "metadata": {},
   "outputs": [
    {
     "name": "stdout",
     "output_type": "stream",
     "text": [
      "  0.000001 seconds\n"
     ]
    },
    {
     "data": {
      "text/html": [
       "<div><div style = \"float: left;\"><span>1×4 DataFrame</span></div><div style = \"clear: both;\"></div></div><div class = \"data-frame\" style = \"overflow-x: scroll;\"><table class = \"data-frame\" style = \"margin-bottom: 6px;\"><thead><tr class = \"header\"><th class = \"rowNumber\" style = \"font-weight: bold; text-align: right;\">Row</th><th style = \"text-align: left;\">sales_ymd</th><th style = \"text-align: left;\">customer_id</th><th style = \"text-align: left;\">product_cd</th><th style = \"text-align: left;\">amount</th></tr><tr class = \"subheader headerLastRow\"><th class = \"rowNumber\" style = \"font-weight: bold; text-align: right;\"></th><th title = \"Int64\" style = \"text-align: left;\">Int64</th><th title = \"String\" style = \"text-align: left;\">String</th><th title = \"String\" style = \"text-align: left;\">String</th><th title = \"Int64\" style = \"text-align: left;\">Int64</th></tr></thead><tbody><tr><td class = \"rowNumber\" style = \"font-weight: bold; text-align: right;\">1</td><td style = \"text-align: right;\">20180911</td><td style = \"text-align: left;\">CS018205000001</td><td style = \"text-align: left;\">P071401005</td><td style = \"text-align: right;\">1100</td></tr></tbody></table></div>"
      ],
      "text/latex": [
       "\\begin{tabular}{r|cccc}\n",
       "\t& sales\\_ymd & customer\\_id & product\\_cd & amount\\\\\n",
       "\t\\hline\n",
       "\t& Int64 & String & String & Int64\\\\\n",
       "\t\\hline\n",
       "\t1 & 20180911 & CS018205000001 & P071401005 & 1100 \\\\\n",
       "\\end{tabular}\n"
      ],
      "text/plain": [
       "\u001b[1m1×4 DataFrame\u001b[0m\n",
       "\u001b[1m Row \u001b[0m│\u001b[1m sales_ymd \u001b[0m\u001b[1m customer_id    \u001b[0m\u001b[1m product_cd \u001b[0m\u001b[1m amount \u001b[0m\n",
       "     │\u001b[90m Int64     \u001b[0m\u001b[90m String         \u001b[0m\u001b[90m String     \u001b[0m\u001b[90m Int64  \u001b[0m\n",
       "─────┼───────────────────────────────────────────────\n",
       "   1 │  20180911  CS018205000001  P071401005    1100"
      ]
     },
     "execution_count": 11,
     "metadata": {},
     "output_type": "execute_result"
    }
   ],
   "source": [
    "@time \\\n",
    "@chain df_receipt begin\n",
    "    @select :sales_ymd :customer_id :product_cd :amount\n",
    "    @rsubset begin\n",
    "        :customer_id == \"CS018205000001\"\n",
    "        1000 <= :amount <= 2000\n",
    "    end\n",
    "end"
   ]
  },
  {
   "cell_type": "markdown",
   "metadata": {},
   "source": [
    "---\n",
    "> P-008: レシート明細データ（df_receipt）から売上日（sales_ymd）、顧客ID（customer_id）、商品コード（product_cd）、売上金額（amount）の順に列を指定し、以下の全ての条件を満たすデータを抽出せよ。\n",
    "> - 顧客ID（customer_id）が\"CS018205000001\"\n",
    "> - 商品コード（product_cd）が\"P071401019\"以外"
   ]
  },
  {
   "cell_type": "code",
   "execution_count": 12,
   "metadata": {},
   "outputs": [
    {
     "name": "stdout",
     "output_type": "stream",
     "text": [
      "  0.000001 seconds\n"
     ]
    },
    {
     "data": {
      "text/html": [
       "<div><div style = \"float: left;\"><span>12×4 DataFrame</span></div><div style = \"clear: both;\"></div></div><div class = \"data-frame\" style = \"overflow-x: scroll;\"><table class = \"data-frame\" style = \"margin-bottom: 6px;\"><thead><tr class = \"header\"><th class = \"rowNumber\" style = \"font-weight: bold; text-align: right;\">Row</th><th style = \"text-align: left;\">sales_ymd</th><th style = \"text-align: left;\">customer_id</th><th style = \"text-align: left;\">product_cd</th><th style = \"text-align: left;\">amount</th></tr><tr class = \"subheader headerLastRow\"><th class = \"rowNumber\" style = \"font-weight: bold; text-align: right;\"></th><th title = \"Int64\" style = \"text-align: left;\">Int64</th><th title = \"String\" style = \"text-align: left;\">String</th><th title = \"String\" style = \"text-align: left;\">String</th><th title = \"Int64\" style = \"text-align: left;\">Int64</th></tr></thead><tbody><tr><td class = \"rowNumber\" style = \"font-weight: bold; text-align: right;\">1</td><td style = \"text-align: right;\">20180911</td><td style = \"text-align: left;\">CS018205000001</td><td style = \"text-align: left;\">P071401012</td><td style = \"text-align: right;\">2200</td></tr><tr><td class = \"rowNumber\" style = \"font-weight: bold; text-align: right;\">2</td><td style = \"text-align: right;\">20180414</td><td style = \"text-align: left;\">CS018205000001</td><td style = \"text-align: left;\">P060104007</td><td style = \"text-align: right;\">600</td></tr><tr><td class = \"rowNumber\" style = \"font-weight: bold; text-align: right;\">3</td><td style = \"text-align: right;\">20170614</td><td style = \"text-align: left;\">CS018205000001</td><td style = \"text-align: left;\">P050206001</td><td style = \"text-align: right;\">990</td></tr><tr><td class = \"rowNumber\" style = \"font-weight: bold; text-align: right;\">4</td><td style = \"text-align: right;\">20170614</td><td style = \"text-align: left;\">CS018205000001</td><td style = \"text-align: left;\">P060702015</td><td style = \"text-align: right;\">108</td></tr><tr><td class = \"rowNumber\" style = \"font-weight: bold; text-align: right;\">5</td><td style = \"text-align: right;\">20190216</td><td style = \"text-align: left;\">CS018205000001</td><td style = \"text-align: left;\">P071005024</td><td style = \"text-align: right;\">102</td></tr><tr><td class = \"rowNumber\" style = \"font-weight: bold; text-align: right;\">6</td><td style = \"text-align: right;\">20180414</td><td style = \"text-align: left;\">CS018205000001</td><td style = \"text-align: left;\">P071101002</td><td style = \"text-align: right;\">278</td></tr><tr><td class = \"rowNumber\" style = \"font-weight: bold; text-align: right;\">7</td><td style = \"text-align: right;\">20190226</td><td style = \"text-align: left;\">CS018205000001</td><td style = \"text-align: left;\">P070902035</td><td style = \"text-align: right;\">168</td></tr><tr><td class = \"rowNumber\" style = \"font-weight: bold; text-align: right;\">8</td><td style = \"text-align: right;\">20190924</td><td style = \"text-align: left;\">CS018205000001</td><td style = \"text-align: left;\">P060805001</td><td style = \"text-align: right;\">495</td></tr><tr><td class = \"rowNumber\" style = \"font-weight: bold; text-align: right;\">9</td><td style = \"text-align: right;\">20190226</td><td style = \"text-align: left;\">CS018205000001</td><td style = \"text-align: left;\">P071401020</td><td style = \"text-align: right;\">2200</td></tr><tr><td class = \"rowNumber\" style = \"font-weight: bold; text-align: right;\">10</td><td style = \"text-align: right;\">20180911</td><td style = \"text-align: left;\">CS018205000001</td><td style = \"text-align: left;\">P071401005</td><td style = \"text-align: right;\">1100</td></tr><tr><td class = \"rowNumber\" style = \"font-weight: bold; text-align: right;\">11</td><td style = \"text-align: right;\">20190216</td><td style = \"text-align: left;\">CS018205000001</td><td style = \"text-align: left;\">P040101002</td><td style = \"text-align: right;\">218</td></tr><tr><td class = \"rowNumber\" style = \"font-weight: bold; text-align: right;\">12</td><td style = \"text-align: right;\">20190924</td><td style = \"text-align: left;\">CS018205000001</td><td style = \"text-align: left;\">P091503001</td><td style = \"text-align: right;\">280</td></tr></tbody></table></div>"
      ],
      "text/latex": [
       "\\begin{tabular}{r|cccc}\n",
       "\t& sales\\_ymd & customer\\_id & product\\_cd & amount\\\\\n",
       "\t\\hline\n",
       "\t& Int64 & String & String & Int64\\\\\n",
       "\t\\hline\n",
       "\t1 & 20180911 & CS018205000001 & P071401012 & 2200 \\\\\n",
       "\t2 & 20180414 & CS018205000001 & P060104007 & 600 \\\\\n",
       "\t3 & 20170614 & CS018205000001 & P050206001 & 990 \\\\\n",
       "\t4 & 20170614 & CS018205000001 & P060702015 & 108 \\\\\n",
       "\t5 & 20190216 & CS018205000001 & P071005024 & 102 \\\\\n",
       "\t6 & 20180414 & CS018205000001 & P071101002 & 278 \\\\\n",
       "\t7 & 20190226 & CS018205000001 & P070902035 & 168 \\\\\n",
       "\t8 & 20190924 & CS018205000001 & P060805001 & 495 \\\\\n",
       "\t9 & 20190226 & CS018205000001 & P071401020 & 2200 \\\\\n",
       "\t10 & 20180911 & CS018205000001 & P071401005 & 1100 \\\\\n",
       "\t11 & 20190216 & CS018205000001 & P040101002 & 218 \\\\\n",
       "\t12 & 20190924 & CS018205000001 & P091503001 & 280 \\\\\n",
       "\\end{tabular}\n"
      ],
      "text/plain": [
       "\u001b[1m12×4 DataFrame\u001b[0m\n",
       "\u001b[1m Row \u001b[0m│\u001b[1m sales_ymd \u001b[0m\u001b[1m customer_id    \u001b[0m\u001b[1m product_cd \u001b[0m\u001b[1m amount \u001b[0m\n",
       "     │\u001b[90m Int64     \u001b[0m\u001b[90m String         \u001b[0m\u001b[90m String     \u001b[0m\u001b[90m Int64  \u001b[0m\n",
       "─────┼───────────────────────────────────────────────\n",
       "   1 │  20180911  CS018205000001  P071401012    2200\n",
       "   2 │  20180414  CS018205000001  P060104007     600\n",
       "   3 │  20170614  CS018205000001  P050206001     990\n",
       "   4 │  20170614  CS018205000001  P060702015     108\n",
       "   5 │  20190216  CS018205000001  P071005024     102\n",
       "   6 │  20180414  CS018205000001  P071101002     278\n",
       "   7 │  20190226  CS018205000001  P070902035     168\n",
       "   8 │  20190924  CS018205000001  P060805001     495\n",
       "   9 │  20190226  CS018205000001  P071401020    2200\n",
       "  10 │  20180911  CS018205000001  P071401005    1100\n",
       "  11 │  20190216  CS018205000001  P040101002     218\n",
       "  12 │  20190924  CS018205000001  P091503001     280"
      ]
     },
     "execution_count": 12,
     "metadata": {},
     "output_type": "execute_result"
    }
   ],
   "source": [
    "@time \\\n",
    "@chain df_receipt begin\n",
    "    @select :sales_ymd :customer_id :product_cd :amount\n",
    "    @rsubset begin\n",
    "        :customer_id == \"CS018205000001\"\n",
    "        :product_cd != \"P071401019\"\n",
    "    end\n",
    "end"
   ]
  },
  {
   "cell_type": "markdown",
   "metadata": {},
   "source": [
    "---\n",
    "> P-009: 以下の処理において、出力結果を変えずにORをANDに書き換えよ。\n",
    "> \n",
    "> `df_store.query('not(prefecture_cd == \"13\" | floor_area > 900)')`"
   ]
  },
  {
   "cell_type": "code",
   "execution_count": 13,
   "metadata": {},
   "outputs": [
    {
     "name": "stdout",
     "output_type": "stream",
     "text": [
      "  0.000002 seconds\n"
     ]
    },
    {
     "data": {
      "text/html": [
       "<div><div style = \"float: left;\"><span>3×10 DataFrame</span></div><div style = \"clear: both;\"></div></div><div class = \"data-frame\" style = \"overflow-x: scroll;\"><table class = \"data-frame\" style = \"margin-bottom: 6px;\"><thead><tr class = \"header\"><th class = \"rowNumber\" style = \"font-weight: bold; text-align: right;\">Row</th><th style = \"text-align: left;\">store_cd</th><th style = \"text-align: left;\">store_name</th><th style = \"text-align: left;\">prefecture_cd</th><th style = \"text-align: left;\">prefecture</th><th style = \"text-align: left;\">address</th><th style = \"text-align: left;\">address_kana</th><th style = \"text-align: left;\">tel_no</th><th style = \"text-align: left;\">longitude</th><th style = \"text-align: left;\">latitude</th><th style = \"text-align: left;\">floor_area</th></tr><tr class = \"subheader headerLastRow\"><th class = \"rowNumber\" style = \"font-weight: bold; text-align: right;\"></th><th title = \"String\" style = \"text-align: left;\">String</th><th title = \"InlineStrings.String31\" style = \"text-align: left;\">String31</th><th title = \"String\" style = \"text-align: left;\">String</th><th title = \"InlineStrings.String15\" style = \"text-align: left;\">String15</th><th title = \"String\" style = \"text-align: left;\">String</th><th title = \"String\" style = \"text-align: left;\">String</th><th title = \"String\" style = \"text-align: left;\">String</th><th title = \"Float64\" style = \"text-align: left;\">Float64</th><th title = \"Float64\" style = \"text-align: left;\">Float64</th><th title = \"Float64\" style = \"text-align: left;\">Float64</th></tr></thead><tbody><tr><td class = \"rowNumber\" style = \"font-weight: bold; text-align: right;\">1</td><td style = \"text-align: left;\">S14046</td><td style = \"text-align: left;\">北山田店</td><td style = \"text-align: left;\">14</td><td style = \"text-align: left;\">神奈川県</td><td style = \"text-align: left;\">神奈川県横浜市都筑区北山田一丁目</td><td style = \"text-align: left;\">カナガワケンヨコハマシツヅキクキタヤマタイッチョウメ</td><td style = \"text-align: left;\">045-123-4049</td><td style = \"text-align: right;\">139.592</td><td style = \"text-align: right;\">35.5619</td><td style = \"text-align: right;\">831.0</td></tr><tr><td class = \"rowNumber\" style = \"font-weight: bold; text-align: right;\">2</td><td style = \"text-align: left;\">S14011</td><td style = \"text-align: left;\">日吉本町店</td><td style = \"text-align: left;\">14</td><td style = \"text-align: left;\">神奈川県</td><td style = \"text-align: left;\">神奈川県横浜市港北区日吉本町四丁目</td><td style = \"text-align: left;\">カナガワケンヨコハマシコウホククヒヨシホンチョウヨンチョウメ</td><td style = \"text-align: left;\">045-123-4033</td><td style = \"text-align: right;\">139.632</td><td style = \"text-align: right;\">35.5466</td><td style = \"text-align: right;\">890.0</td></tr><tr><td class = \"rowNumber\" style = \"font-weight: bold; text-align: right;\">3</td><td style = \"text-align: left;\">S12013</td><td style = \"text-align: left;\">習志野店</td><td style = \"text-align: left;\">12</td><td style = \"text-align: left;\">千葉県</td><td style = \"text-align: left;\">千葉県習志野市芝園一丁目</td><td style = \"text-align: left;\">チバケンナラシノシシバゾノイッチョウメ</td><td style = \"text-align: left;\">047-123-4002</td><td style = \"text-align: right;\">140.022</td><td style = \"text-align: right;\">35.6612</td><td style = \"text-align: right;\">808.0</td></tr></tbody></table></div>"
      ],
      "text/latex": [
       "\\begin{tabular}{r|cccccc}\n",
       "\t& store\\_cd & store\\_name & prefecture\\_cd & prefecture & address & \\\\\n",
       "\t\\hline\n",
       "\t& String & String31 & String & String15 & String & \\\\\n",
       "\t\\hline\n",
       "\t1 & S14046 & 北山田店 & 14 & 神奈川県 & 神奈川県横浜市都筑区北山田一丁目 & $\\dots$ \\\\\n",
       "\t2 & S14011 & 日吉本町店 & 14 & 神奈川県 & 神奈川県横浜市港北区日吉本町四丁目 & $\\dots$ \\\\\n",
       "\t3 & S12013 & 習志野店 & 12 & 千葉県 & 千葉県習志野市芝園一丁目 & $\\dots$ \\\\\n",
       "\\end{tabular}\n"
      ],
      "text/plain": [
       "\u001b[1m3×10 DataFrame\u001b[0m\n",
       "\u001b[1m Row \u001b[0m│\u001b[1m store_cd \u001b[0m\u001b[1m store_name \u001b[0m\u001b[1m prefecture_cd \u001b[0m\u001b[1m prefecture \u001b[0m\u001b[1m address               \u001b[0m ⋯\n",
       "     │\u001b[90m String   \u001b[0m\u001b[90m String31   \u001b[0m\u001b[90m String        \u001b[0m\u001b[90m String15   \u001b[0m\u001b[90m String                \u001b[0m ⋯\n",
       "─────┼──────────────────────────────────────────────────────────────────────────\n",
       "   1 │ S14046    北山田店    14             神奈川県    神奈川県横浜市都筑区北 ⋯\n",
       "   2 │ S14011    日吉本町店  14             神奈川県    神奈川県横浜市港北区日\n",
       "   3 │ S12013    習志野店    12             千葉県      千葉県習志野市芝園一丁\n",
       "\u001b[36m                                                               6 columns omitted\u001b[0m"
      ]
     },
     "execution_count": 13,
     "metadata": {},
     "output_type": "execute_result"
    }
   ],
   "source": [
    "@time \\\n",
    "@rsubset df_store !(:prefecture_cd == \"13\" || :floor_area > 900)"
   ]
  },
  {
   "cell_type": "code",
   "execution_count": 14,
   "metadata": {},
   "outputs": [
    {
     "name": "stdout",
     "output_type": "stream",
     "text": [
      "  0.000001 seconds\n"
     ]
    },
    {
     "data": {
      "text/html": [
       "<div><div style = \"float: left;\"><span>3×10 DataFrame</span></div><div style = \"clear: both;\"></div></div><div class = \"data-frame\" style = \"overflow-x: scroll;\"><table class = \"data-frame\" style = \"margin-bottom: 6px;\"><thead><tr class = \"header\"><th class = \"rowNumber\" style = \"font-weight: bold; text-align: right;\">Row</th><th style = \"text-align: left;\">store_cd</th><th style = \"text-align: left;\">store_name</th><th style = \"text-align: left;\">prefecture_cd</th><th style = \"text-align: left;\">prefecture</th><th style = \"text-align: left;\">address</th><th style = \"text-align: left;\">address_kana</th><th style = \"text-align: left;\">tel_no</th><th style = \"text-align: left;\">longitude</th><th style = \"text-align: left;\">latitude</th><th style = \"text-align: left;\">floor_area</th></tr><tr class = \"subheader headerLastRow\"><th class = \"rowNumber\" style = \"font-weight: bold; text-align: right;\"></th><th title = \"String\" style = \"text-align: left;\">String</th><th title = \"InlineStrings.String31\" style = \"text-align: left;\">String31</th><th title = \"String\" style = \"text-align: left;\">String</th><th title = \"InlineStrings.String15\" style = \"text-align: left;\">String15</th><th title = \"String\" style = \"text-align: left;\">String</th><th title = \"String\" style = \"text-align: left;\">String</th><th title = \"String\" style = \"text-align: left;\">String</th><th title = \"Float64\" style = \"text-align: left;\">Float64</th><th title = \"Float64\" style = \"text-align: left;\">Float64</th><th title = \"Float64\" style = \"text-align: left;\">Float64</th></tr></thead><tbody><tr><td class = \"rowNumber\" style = \"font-weight: bold; text-align: right;\">1</td><td style = \"text-align: left;\">S14046</td><td style = \"text-align: left;\">北山田店</td><td style = \"text-align: left;\">14</td><td style = \"text-align: left;\">神奈川県</td><td style = \"text-align: left;\">神奈川県横浜市都筑区北山田一丁目</td><td style = \"text-align: left;\">カナガワケンヨコハマシツヅキクキタヤマタイッチョウメ</td><td style = \"text-align: left;\">045-123-4049</td><td style = \"text-align: right;\">139.592</td><td style = \"text-align: right;\">35.5619</td><td style = \"text-align: right;\">831.0</td></tr><tr><td class = \"rowNumber\" style = \"font-weight: bold; text-align: right;\">2</td><td style = \"text-align: left;\">S14011</td><td style = \"text-align: left;\">日吉本町店</td><td style = \"text-align: left;\">14</td><td style = \"text-align: left;\">神奈川県</td><td style = \"text-align: left;\">神奈川県横浜市港北区日吉本町四丁目</td><td style = \"text-align: left;\">カナガワケンヨコハマシコウホククヒヨシホンチョウヨンチョウメ</td><td style = \"text-align: left;\">045-123-4033</td><td style = \"text-align: right;\">139.632</td><td style = \"text-align: right;\">35.5466</td><td style = \"text-align: right;\">890.0</td></tr><tr><td class = \"rowNumber\" style = \"font-weight: bold; text-align: right;\">3</td><td style = \"text-align: left;\">S12013</td><td style = \"text-align: left;\">習志野店</td><td style = \"text-align: left;\">12</td><td style = \"text-align: left;\">千葉県</td><td style = \"text-align: left;\">千葉県習志野市芝園一丁目</td><td style = \"text-align: left;\">チバケンナラシノシシバゾノイッチョウメ</td><td style = \"text-align: left;\">047-123-4002</td><td style = \"text-align: right;\">140.022</td><td style = \"text-align: right;\">35.6612</td><td style = \"text-align: right;\">808.0</td></tr></tbody></table></div>"
      ],
      "text/latex": [
       "\\begin{tabular}{r|cccccc}\n",
       "\t& store\\_cd & store\\_name & prefecture\\_cd & prefecture & address & \\\\\n",
       "\t\\hline\n",
       "\t& String & String31 & String & String15 & String & \\\\\n",
       "\t\\hline\n",
       "\t1 & S14046 & 北山田店 & 14 & 神奈川県 & 神奈川県横浜市都筑区北山田一丁目 & $\\dots$ \\\\\n",
       "\t2 & S14011 & 日吉本町店 & 14 & 神奈川県 & 神奈川県横浜市港北区日吉本町四丁目 & $\\dots$ \\\\\n",
       "\t3 & S12013 & 習志野店 & 12 & 千葉県 & 千葉県習志野市芝園一丁目 & $\\dots$ \\\\\n",
       "\\end{tabular}\n"
      ],
      "text/plain": [
       "\u001b[1m3×10 DataFrame\u001b[0m\n",
       "\u001b[1m Row \u001b[0m│\u001b[1m store_cd \u001b[0m\u001b[1m store_name \u001b[0m\u001b[1m prefecture_cd \u001b[0m\u001b[1m prefecture \u001b[0m\u001b[1m address               \u001b[0m ⋯\n",
       "     │\u001b[90m String   \u001b[0m\u001b[90m String31   \u001b[0m\u001b[90m String        \u001b[0m\u001b[90m String15   \u001b[0m\u001b[90m String                \u001b[0m ⋯\n",
       "─────┼──────────────────────────────────────────────────────────────────────────\n",
       "   1 │ S14046    北山田店    14             神奈川県    神奈川県横浜市都筑区北 ⋯\n",
       "   2 │ S14011    日吉本町店  14             神奈川県    神奈川県横浜市港北区日\n",
       "   3 │ S12013    習志野店    12             千葉県      千葉県習志野市芝園一丁\n",
       "\u001b[36m                                                               6 columns omitted\u001b[0m"
      ]
     },
     "execution_count": 14,
     "metadata": {},
     "output_type": "execute_result"
    }
   ],
   "source": [
    "@time \\\n",
    "@rsubset df_store :prefecture_cd != \"13\" && :floor_area <= 900"
   ]
  },
  {
   "cell_type": "markdown",
   "metadata": {},
   "source": [
    "---\n",
    "> P-010: 店舗データ（df_store）から、店舗コード（store_cd）が\"S14\"で始まるものだけ全項目抽出し、10件表示せよ。"
   ]
  },
  {
   "cell_type": "code",
   "execution_count": 15,
   "metadata": {},
   "outputs": [
    {
     "name": "stdout",
     "output_type": "stream",
     "text": [
      "  0.000001 seconds\n"
     ]
    },
    {
     "data": {
      "text/html": [
       "<div><div style = \"float: left;\"><span>10×10 DataFrame</span></div><div style = \"clear: both;\"></div></div><div class = \"data-frame\" style = \"overflow-x: scroll;\"><table class = \"data-frame\" style = \"margin-bottom: 6px;\"><thead><tr class = \"header\"><th class = \"rowNumber\" style = \"font-weight: bold; text-align: right;\">Row</th><th style = \"text-align: left;\">store_cd</th><th style = \"text-align: left;\">store_name</th><th style = \"text-align: left;\">prefecture_cd</th><th style = \"text-align: left;\">prefecture</th><th style = \"text-align: left;\">address</th><th style = \"text-align: left;\">address_kana</th><th style = \"text-align: left;\">tel_no</th><th style = \"text-align: left;\">longitude</th><th style = \"text-align: left;\">latitude</th><th style = \"text-align: left;\">floor_area</th></tr><tr class = \"subheader headerLastRow\"><th class = \"rowNumber\" style = \"font-weight: bold; text-align: right;\"></th><th title = \"String\" style = \"text-align: left;\">String</th><th title = \"InlineStrings.String31\" style = \"text-align: left;\">String31</th><th title = \"String\" style = \"text-align: left;\">String</th><th title = \"InlineStrings.String15\" style = \"text-align: left;\">String15</th><th title = \"String\" style = \"text-align: left;\">String</th><th title = \"String\" style = \"text-align: left;\">String</th><th title = \"String\" style = \"text-align: left;\">String</th><th title = \"Float64\" style = \"text-align: left;\">Float64</th><th title = \"Float64\" style = \"text-align: left;\">Float64</th><th title = \"Float64\" style = \"text-align: left;\">Float64</th></tr></thead><tbody><tr><td class = \"rowNumber\" style = \"font-weight: bold; text-align: right;\">1</td><td style = \"text-align: left;\">S14010</td><td style = \"text-align: left;\">菊名店</td><td style = \"text-align: left;\">14</td><td style = \"text-align: left;\">神奈川県</td><td style = \"text-align: left;\">神奈川県横浜市港北区菊名一丁目</td><td style = \"text-align: left;\">カナガワケンヨコハマシコウホククキクナイッチョウメ</td><td style = \"text-align: left;\">045-123-4032</td><td style = \"text-align: right;\">139.633</td><td style = \"text-align: right;\">35.5005</td><td style = \"text-align: right;\">1732.0</td></tr><tr><td class = \"rowNumber\" style = \"font-weight: bold; text-align: right;\">2</td><td style = \"text-align: left;\">S14033</td><td style = \"text-align: left;\">阿久和店</td><td style = \"text-align: left;\">14</td><td style = \"text-align: left;\">神奈川県</td><td style = \"text-align: left;\">神奈川県横浜市瀬谷区阿久和西一丁目</td><td style = \"text-align: left;\">カナガワケンヨコハマシセヤクアクワニシイッチョウメ</td><td style = \"text-align: left;\">045-123-4043</td><td style = \"text-align: right;\">139.496</td><td style = \"text-align: right;\">35.4592</td><td style = \"text-align: right;\">1495.0</td></tr><tr><td class = \"rowNumber\" style = \"font-weight: bold; text-align: right;\">3</td><td style = \"text-align: left;\">S14036</td><td style = \"text-align: left;\">相模原中央店</td><td style = \"text-align: left;\">14</td><td style = \"text-align: left;\">神奈川県</td><td style = \"text-align: left;\">神奈川県相模原市中央二丁目</td><td style = \"text-align: left;\">カナガワケンサガミハラシチュウオウニチョウメ</td><td style = \"text-align: left;\">042-123-4045</td><td style = \"text-align: right;\">139.372</td><td style = \"text-align: right;\">35.5733</td><td style = \"text-align: right;\">1679.0</td></tr><tr><td class = \"rowNumber\" style = \"font-weight: bold; text-align: right;\">4</td><td style = \"text-align: left;\">S14040</td><td style = \"text-align: left;\">長津田店</td><td style = \"text-align: left;\">14</td><td style = \"text-align: left;\">神奈川県</td><td style = \"text-align: left;\">神奈川県横浜市緑区長津田みなみ台五丁目</td><td style = \"text-align: left;\">カナガワケンヨコハマシミドリクナガツタミナミダイゴチョウメ</td><td style = \"text-align: left;\">045-123-4046</td><td style = \"text-align: right;\">139.499</td><td style = \"text-align: right;\">35.524</td><td style = \"text-align: right;\">1548.0</td></tr><tr><td class = \"rowNumber\" style = \"font-weight: bold; text-align: right;\">5</td><td style = \"text-align: left;\">S14050</td><td style = \"text-align: left;\">阿久和西店</td><td style = \"text-align: left;\">14</td><td style = \"text-align: left;\">神奈川県</td><td style = \"text-align: left;\">神奈川県横浜市瀬谷区阿久和西一丁目</td><td style = \"text-align: left;\">カナガワケンヨコハマシセヤクアクワニシイッチョウメ</td><td style = \"text-align: left;\">045-123-4053</td><td style = \"text-align: right;\">139.496</td><td style = \"text-align: right;\">35.4592</td><td style = \"text-align: right;\">1830.0</td></tr><tr><td class = \"rowNumber\" style = \"font-weight: bold; text-align: right;\">6</td><td style = \"text-align: left;\">S14028</td><td style = \"text-align: left;\">二ツ橋店</td><td style = \"text-align: left;\">14</td><td style = \"text-align: left;\">神奈川県</td><td style = \"text-align: left;\">神奈川県横浜市瀬谷区二ツ橋町</td><td style = \"text-align: left;\">カナガワケンヨコハマシセヤクフタツバシチョウ</td><td style = \"text-align: left;\">045-123-4042</td><td style = \"text-align: right;\">139.496</td><td style = \"text-align: right;\">35.463</td><td style = \"text-align: right;\">1574.0</td></tr><tr><td class = \"rowNumber\" style = \"font-weight: bold; text-align: right;\">7</td><td style = \"text-align: left;\">S14012</td><td style = \"text-align: left;\">本牧和田店</td><td style = \"text-align: left;\">14</td><td style = \"text-align: left;\">神奈川県</td><td style = \"text-align: left;\">神奈川県横浜市中区本牧和田</td><td style = \"text-align: left;\">カナガワケンヨコハマシナカクホンモクワダ</td><td style = \"text-align: left;\">045-123-4034</td><td style = \"text-align: right;\">139.658</td><td style = \"text-align: right;\">35.4216</td><td style = \"text-align: right;\">1341.0</td></tr><tr><td class = \"rowNumber\" style = \"font-weight: bold; text-align: right;\">8</td><td style = \"text-align: left;\">S14046</td><td style = \"text-align: left;\">北山田店</td><td style = \"text-align: left;\">14</td><td style = \"text-align: left;\">神奈川県</td><td style = \"text-align: left;\">神奈川県横浜市都筑区北山田一丁目</td><td style = \"text-align: left;\">カナガワケンヨコハマシツヅキクキタヤマタイッチョウメ</td><td style = \"text-align: left;\">045-123-4049</td><td style = \"text-align: right;\">139.592</td><td style = \"text-align: right;\">35.5619</td><td style = \"text-align: right;\">831.0</td></tr><tr><td class = \"rowNumber\" style = \"font-weight: bold; text-align: right;\">9</td><td style = \"text-align: left;\">S14022</td><td style = \"text-align: left;\">逗子店</td><td style = \"text-align: left;\">14</td><td style = \"text-align: left;\">神奈川県</td><td style = \"text-align: left;\">神奈川県逗子市逗子一丁目</td><td style = \"text-align: left;\">カナガワケンズシシズシイッチョウメ</td><td style = \"text-align: left;\">046-123-4036</td><td style = \"text-align: right;\">139.579</td><td style = \"text-align: right;\">35.2964</td><td style = \"text-align: right;\">1838.0</td></tr><tr><td class = \"rowNumber\" style = \"font-weight: bold; text-align: right;\">10</td><td style = \"text-align: left;\">S14011</td><td style = \"text-align: left;\">日吉本町店</td><td style = \"text-align: left;\">14</td><td style = \"text-align: left;\">神奈川県</td><td style = \"text-align: left;\">神奈川県横浜市港北区日吉本町四丁目</td><td style = \"text-align: left;\">カナガワケンヨコハマシコウホククヒヨシホンチョウヨンチョウメ</td><td style = \"text-align: left;\">045-123-4033</td><td style = \"text-align: right;\">139.632</td><td style = \"text-align: right;\">35.5466</td><td style = \"text-align: right;\">890.0</td></tr></tbody></table></div>"
      ],
      "text/latex": [
       "\\begin{tabular}{r|cccccc}\n",
       "\t& store\\_cd & store\\_name & prefecture\\_cd & prefecture & address & \\\\\n",
       "\t\\hline\n",
       "\t& String & String31 & String & String15 & String & \\\\\n",
       "\t\\hline\n",
       "\t1 & S14010 & 菊名店 & 14 & 神奈川県 & 神奈川県横浜市港北区菊名一丁目 & $\\dots$ \\\\\n",
       "\t2 & S14033 & 阿久和店 & 14 & 神奈川県 & 神奈川県横浜市瀬谷区阿久和西一丁目 & $\\dots$ \\\\\n",
       "\t3 & S14036 & 相模原中央店 & 14 & 神奈川県 & 神奈川県相模原市中央二丁目 & $\\dots$ \\\\\n",
       "\t4 & S14040 & 長津田店 & 14 & 神奈川県 & 神奈川県横浜市緑区長津田みなみ台五丁目 & $\\dots$ \\\\\n",
       "\t5 & S14050 & 阿久和西店 & 14 & 神奈川県 & 神奈川県横浜市瀬谷区阿久和西一丁目 & $\\dots$ \\\\\n",
       "\t6 & S14028 & 二ツ橋店 & 14 & 神奈川県 & 神奈川県横浜市瀬谷区二ツ橋町 & $\\dots$ \\\\\n",
       "\t7 & S14012 & 本牧和田店 & 14 & 神奈川県 & 神奈川県横浜市中区本牧和田 & $\\dots$ \\\\\n",
       "\t8 & S14046 & 北山田店 & 14 & 神奈川県 & 神奈川県横浜市都筑区北山田一丁目 & $\\dots$ \\\\\n",
       "\t9 & S14022 & 逗子店 & 14 & 神奈川県 & 神奈川県逗子市逗子一丁目 & $\\dots$ \\\\\n",
       "\t10 & S14011 & 日吉本町店 & 14 & 神奈川県 & 神奈川県横浜市港北区日吉本町四丁目 & $\\dots$ \\\\\n",
       "\\end{tabular}\n"
      ],
      "text/plain": [
       "\u001b[1m10×10 DataFrame\u001b[0m\n",
       "\u001b[1m Row \u001b[0m│\u001b[1m store_cd \u001b[0m\u001b[1m store_name   \u001b[0m\u001b[1m prefecture_cd \u001b[0m\u001b[1m prefecture \u001b[0m\u001b[1m address             \u001b[0m ⋯\n",
       "     │\u001b[90m String   \u001b[0m\u001b[90m String31     \u001b[0m\u001b[90m String        \u001b[0m\u001b[90m String15   \u001b[0m\u001b[90m String              \u001b[0m ⋯\n",
       "─────┼──────────────────────────────────────────────────────────────────────────\n",
       "   1 │ S14010    菊名店        14             神奈川県    神奈川県横浜市港北区 ⋯\n",
       "   2 │ S14033    阿久和店      14             神奈川県    神奈川県横浜市瀬谷区\n",
       "   3 │ S14036    相模原中央店  14             神奈川県    神奈川県相模原市中央\n",
       "   4 │ S14040    長津田店      14             神奈川県    神奈川県横浜市緑区長\n",
       "   5 │ S14050    阿久和西店    14             神奈川県    神奈川県横浜市瀬谷区 ⋯\n",
       "   6 │ S14028    二ツ橋店      14             神奈川県    神奈川県横浜市瀬谷区\n",
       "   7 │ S14012    本牧和田店    14             神奈川県    神奈川県横浜市中区本\n",
       "   8 │ S14046    北山田店      14             神奈川県    神奈川県横浜市都筑区\n",
       "   9 │ S14022    逗子店        14             神奈川県    神奈川県逗子市逗子一 ⋯\n",
       "  10 │ S14011    日吉本町店    14             神奈川県    神奈川県横浜市港北区\n",
       "\u001b[36m                                                               6 columns omitted\u001b[0m"
      ]
     },
     "execution_count": 15,
     "metadata": {},
     "output_type": "execute_result"
    }
   ],
   "source": [
    "@time \\\n",
    "@chain df_store begin\n",
    "    @rsubset startswith(:store_cd, \"S14\")\n",
    "    first(10)\n",
    "end"
   ]
  },
  {
   "cell_type": "markdown",
   "metadata": {},
   "source": [
    "---\n",
    "> P-011: 顧客データ（df_customer）から顧客ID（customer_id）の末尾が1のものだけ全項目抽出し、10件表示せよ。"
   ]
  },
  {
   "cell_type": "code",
   "execution_count": 16,
   "metadata": {},
   "outputs": [
    {
     "name": "stdout",
     "output_type": "stream",
     "text": [
      "  0.000005 seconds\n"
     ]
    },
    {
     "data": {
      "text/html": [
       "<div><div style = \"float: left;\"><span>10×11 DataFrame</span></div><div style = \"clear: both;\"></div></div><div class = \"data-frame\" style = \"overflow-x: scroll;\"><table class = \"data-frame\" style = \"margin-bottom: 6px;\"><thead><tr class = \"header\"><th class = \"rowNumber\" style = \"font-weight: bold; text-align: right;\">Row</th><th style = \"text-align: left;\">customer_id</th><th style = \"text-align: left;\">customer_name</th><th style = \"text-align: left;\">gender_cd</th><th style = \"text-align: left;\">gender</th><th style = \"text-align: left;\">birth_day</th><th style = \"text-align: left;\">age</th><th style = \"text-align: left;\">postal_cd</th><th style = \"text-align: left;\">address</th><th style = \"text-align: left;\">application_store_cd</th><th style = \"text-align: left;\">application_date</th><th style = \"text-align: left;\">status_cd</th></tr><tr class = \"subheader headerLastRow\"><th class = \"rowNumber\" style = \"font-weight: bold; text-align: right;\"></th><th title = \"String\" style = \"text-align: left;\">String</th><th title = \"InlineStrings.String31\" style = \"text-align: left;\">String31</th><th title = \"String\" style = \"text-align: left;\">String</th><th title = \"InlineStrings.String7\" style = \"text-align: left;\">String7</th><th title = \"Date\" style = \"text-align: left;\">Date</th><th title = \"Int64\" style = \"text-align: left;\">Int64</th><th title = \"String\" style = \"text-align: left;\">String</th><th title = \"String\" style = \"text-align: left;\">String</th><th title = \"String\" style = \"text-align: left;\">String</th><th title = \"String\" style = \"text-align: left;\">String</th><th title = \"String\" style = \"text-align: left;\">String</th></tr></thead><tbody><tr><td class = \"rowNumber\" style = \"font-weight: bold; text-align: right;\">1</td><td style = \"text-align: left;\">CS037613000071</td><td style = \"text-align: left;\">六角 雅彦</td><td style = \"text-align: left;\">9</td><td style = \"text-align: left;\">不明</td><td style = \"text-align: left;\">1952-04-01</td><td style = \"text-align: right;\">66</td><td style = \"text-align: left;\">136-0076</td><td style = \"text-align: left;\">東京都江東区南砂**********</td><td style = \"text-align: left;\">S13037</td><td style = \"text-align: left;\">20150414</td><td style = \"text-align: left;\">0-00000000-0</td></tr><tr><td class = \"rowNumber\" style = \"font-weight: bold; text-align: right;\">2</td><td style = \"text-align: left;\">CS028811000001</td><td style = \"text-align: left;\">堀井 かおり</td><td style = \"text-align: left;\">1</td><td style = \"text-align: left;\">女性</td><td style = \"text-align: left;\">1933-03-27</td><td style = \"text-align: right;\">86</td><td style = \"text-align: left;\">245-0016</td><td style = \"text-align: left;\">神奈川県横浜市泉区和泉町**********</td><td style = \"text-align: left;\">S14028</td><td style = \"text-align: left;\">20160115</td><td style = \"text-align: left;\">0-00000000-0</td></tr><tr><td class = \"rowNumber\" style = \"font-weight: bold; text-align: right;\">3</td><td style = \"text-align: left;\">CS040412000191</td><td style = \"text-align: left;\">川井 郁恵</td><td style = \"text-align: left;\">1</td><td style = \"text-align: left;\">女性</td><td style = \"text-align: left;\">1977-01-05</td><td style = \"text-align: right;\">42</td><td style = \"text-align: left;\">226-0021</td><td style = \"text-align: left;\">神奈川県横浜市緑区北八朔町**********</td><td style = \"text-align: left;\">S14040</td><td style = \"text-align: left;\">20151101</td><td style = \"text-align: left;\">1-20091025-4</td></tr><tr><td class = \"rowNumber\" style = \"font-weight: bold; text-align: right;\">4</td><td style = \"text-align: left;\">CS028314000011</td><td style = \"text-align: left;\">小菅 あおい</td><td style = \"text-align: left;\">1</td><td style = \"text-align: left;\">女性</td><td style = \"text-align: left;\">1983-11-26</td><td style = \"text-align: right;\">35</td><td style = \"text-align: left;\">246-0038</td><td style = \"text-align: left;\">神奈川県横浜市瀬谷区宮沢**********</td><td style = \"text-align: left;\">S14028</td><td style = \"text-align: left;\">20151123</td><td style = \"text-align: left;\">1-20080426-5</td></tr><tr><td class = \"rowNumber\" style = \"font-weight: bold; text-align: right;\">5</td><td style = \"text-align: left;\">CS039212000051</td><td style = \"text-align: left;\">藤島 恵梨香</td><td style = \"text-align: left;\">1</td><td style = \"text-align: left;\">女性</td><td style = \"text-align: left;\">1997-02-03</td><td style = \"text-align: right;\">22</td><td style = \"text-align: left;\">166-0001</td><td style = \"text-align: left;\">東京都杉並区阿佐谷北**********</td><td style = \"text-align: left;\">S13039</td><td style = \"text-align: left;\">20171121</td><td style = \"text-align: left;\">1-20100215-4</td></tr><tr><td class = \"rowNumber\" style = \"font-weight: bold; text-align: right;\">6</td><td style = \"text-align: left;\">CS015412000111</td><td style = \"text-align: left;\">松居 奈月</td><td style = \"text-align: left;\">1</td><td style = \"text-align: left;\">女性</td><td style = \"text-align: left;\">1972-10-04</td><td style = \"text-align: right;\">46</td><td style = \"text-align: left;\">136-0071</td><td style = \"text-align: left;\">東京都江東区亀戸**********</td><td style = \"text-align: left;\">S13015</td><td style = \"text-align: left;\">20150629</td><td style = \"text-align: left;\">0-00000000-0</td></tr><tr><td class = \"rowNumber\" style = \"font-weight: bold; text-align: right;\">7</td><td style = \"text-align: left;\">CS004702000041</td><td style = \"text-align: left;\">野島 洋</td><td style = \"text-align: left;\">0</td><td style = \"text-align: left;\">男性</td><td style = \"text-align: left;\">1943-08-24</td><td style = \"text-align: right;\">75</td><td style = \"text-align: left;\">176-0022</td><td style = \"text-align: left;\">東京都練馬区向山**********</td><td style = \"text-align: left;\">S13004</td><td style = \"text-align: left;\">20170218</td><td style = \"text-align: left;\">0-00000000-0</td></tr><tr><td class = \"rowNumber\" style = \"font-weight: bold; text-align: right;\">8</td><td style = \"text-align: left;\">CS041515000001</td><td style = \"text-align: left;\">栗田 千夏</td><td style = \"text-align: left;\">1</td><td style = \"text-align: left;\">女性</td><td style = \"text-align: left;\">1967-01-02</td><td style = \"text-align: right;\">52</td><td style = \"text-align: left;\">206-0001</td><td style = \"text-align: left;\">東京都多摩市和田**********</td><td style = \"text-align: left;\">S13041</td><td style = \"text-align: left;\">20160422</td><td style = \"text-align: left;\">E-20100803-F</td></tr><tr><td class = \"rowNumber\" style = \"font-weight: bold; text-align: right;\">9</td><td style = \"text-align: left;\">CS029313000221</td><td style = \"text-align: left;\">北条 ひかり</td><td style = \"text-align: left;\">1</td><td style = \"text-align: left;\">女性</td><td style = \"text-align: left;\">1987-06-19</td><td style = \"text-align: right;\">31</td><td style = \"text-align: left;\">279-0011</td><td style = \"text-align: left;\">千葉県浦安市美浜**********</td><td style = \"text-align: left;\">S12029</td><td style = \"text-align: left;\">20180810</td><td style = \"text-align: left;\">0-00000000-0</td></tr><tr><td class = \"rowNumber\" style = \"font-weight: bold; text-align: right;\">10</td><td style = \"text-align: left;\">CS034312000071</td><td style = \"text-align: left;\">望月 奈央</td><td style = \"text-align: left;\">1</td><td style = \"text-align: left;\">女性</td><td style = \"text-align: left;\">1980-09-20</td><td style = \"text-align: right;\">38</td><td style = \"text-align: left;\">213-0026</td><td style = \"text-align: left;\">神奈川県川崎市高津区久末**********</td><td style = \"text-align: left;\">S14034</td><td style = \"text-align: left;\">20160106</td><td style = \"text-align: left;\">0-00000000-0</td></tr></tbody></table></div>"
      ],
      "text/latex": [
       "\\begin{tabular}{r|cccccccc}\n",
       "\t& customer\\_id & customer\\_name & gender\\_cd & gender & birth\\_day & age & postal\\_cd & \\\\\n",
       "\t\\hline\n",
       "\t& String & String31 & String & String7 & Date & Int64 & String & \\\\\n",
       "\t\\hline\n",
       "\t1 & CS037613000071 & 六角 雅彦 & 9 & 不明 & 1952-04-01 & 66 & 136-0076 & $\\dots$ \\\\\n",
       "\t2 & CS028811000001 & 堀井 かおり & 1 & 女性 & 1933-03-27 & 86 & 245-0016 & $\\dots$ \\\\\n",
       "\t3 & CS040412000191 & 川井 郁恵 & 1 & 女性 & 1977-01-05 & 42 & 226-0021 & $\\dots$ \\\\\n",
       "\t4 & CS028314000011 & 小菅 あおい & 1 & 女性 & 1983-11-26 & 35 & 246-0038 & $\\dots$ \\\\\n",
       "\t5 & CS039212000051 & 藤島 恵梨香 & 1 & 女性 & 1997-02-03 & 22 & 166-0001 & $\\dots$ \\\\\n",
       "\t6 & CS015412000111 & 松居 奈月 & 1 & 女性 & 1972-10-04 & 46 & 136-0071 & $\\dots$ \\\\\n",
       "\t7 & CS004702000041 & 野島 洋 & 0 & 男性 & 1943-08-24 & 75 & 176-0022 & $\\dots$ \\\\\n",
       "\t8 & CS041515000001 & 栗田 千夏 & 1 & 女性 & 1967-01-02 & 52 & 206-0001 & $\\dots$ \\\\\n",
       "\t9 & CS029313000221 & 北条 ひかり & 1 & 女性 & 1987-06-19 & 31 & 279-0011 & $\\dots$ \\\\\n",
       "\t10 & CS034312000071 & 望月 奈央 & 1 & 女性 & 1980-09-20 & 38 & 213-0026 & $\\dots$ \\\\\n",
       "\\end{tabular}\n"
      ],
      "text/plain": [
       "\u001b[1m10×11 DataFrame\u001b[0m\n",
       "\u001b[1m Row \u001b[0m│\u001b[1m customer_id    \u001b[0m\u001b[1m customer_name \u001b[0m\u001b[1m gender_cd \u001b[0m\u001b[1m gender  \u001b[0m\u001b[1m birth_day  \u001b[0m\u001b[1m age   \u001b[0m\u001b[1m p\u001b[0m ⋯\n",
       "     │\u001b[90m String         \u001b[0m\u001b[90m String31      \u001b[0m\u001b[90m String    \u001b[0m\u001b[90m String7 \u001b[0m\u001b[90m Date       \u001b[0m\u001b[90m Int64 \u001b[0m\u001b[90m S\u001b[0m ⋯\n",
       "─────┼──────────────────────────────────────────────────────────────────────────\n",
       "   1 │ CS037613000071  六角 雅彦      9          不明     1952-04-01     66  1 ⋯\n",
       "   2 │ CS028811000001  堀井 かおり    1          女性     1933-03-27     86  2\n",
       "   3 │ CS040412000191  川井 郁恵      1          女性     1977-01-05     42  2\n",
       "   4 │ CS028314000011  小菅 あおい    1          女性     1983-11-26     35  2\n",
       "   5 │ CS039212000051  藤島 恵梨香    1          女性     1997-02-03     22  1 ⋯\n",
       "   6 │ CS015412000111  松居 奈月      1          女性     1972-10-04     46  1\n",
       "   7 │ CS004702000041  野島 洋        0          男性     1943-08-24     75  1\n",
       "   8 │ CS041515000001  栗田 千夏      1          女性     1967-01-02     52  2\n",
       "   9 │ CS029313000221  北条 ひかり    1          女性     1987-06-19     31  2 ⋯\n",
       "  10 │ CS034312000071  望月 奈央      1          女性     1980-09-20     38  2\n",
       "\u001b[36m                                                               5 columns omitted\u001b[0m"
      ]
     },
     "execution_count": 16,
     "metadata": {},
     "output_type": "execute_result"
    }
   ],
   "source": [
    "@time \\\n",
    "@chain df_customer begin\n",
    "    @rsubset endswith(:customer_id, \"1\")\n",
    "    first(10)\n",
    "end"
   ]
  },
  {
   "cell_type": "markdown",
   "metadata": {},
   "source": [
    "---\n",
    "> P-012: 店舗データ（df_store）から、住所 (address) に\"横浜市\"が含まれるものだけ全項目表示せよ。"
   ]
  },
  {
   "cell_type": "code",
   "execution_count": 17,
   "metadata": {},
   "outputs": [
    {
     "name": "stdout",
     "output_type": "stream",
     "text": [
      "  0.000001 seconds\n"
     ]
    },
    {
     "data": {
      "text/html": [
       "<div><div style = \"float: left;\"><span>11×10 DataFrame</span></div><div style = \"clear: both;\"></div></div><div class = \"data-frame\" style = \"overflow-x: scroll;\"><table class = \"data-frame\" style = \"margin-bottom: 6px;\"><thead><tr class = \"header\"><th class = \"rowNumber\" style = \"font-weight: bold; text-align: right;\">Row</th><th style = \"text-align: left;\">store_cd</th><th style = \"text-align: left;\">store_name</th><th style = \"text-align: left;\">prefecture_cd</th><th style = \"text-align: left;\">prefecture</th><th style = \"text-align: left;\">address</th><th style = \"text-align: left;\">address_kana</th><th style = \"text-align: left;\">tel_no</th><th style = \"text-align: left;\">longitude</th><th style = \"text-align: left;\">latitude</th><th style = \"text-align: left;\">floor_area</th></tr><tr class = \"subheader headerLastRow\"><th class = \"rowNumber\" style = \"font-weight: bold; text-align: right;\"></th><th title = \"String\" style = \"text-align: left;\">String</th><th title = \"InlineStrings.String31\" style = \"text-align: left;\">String31</th><th title = \"String\" style = \"text-align: left;\">String</th><th title = \"InlineStrings.String15\" style = \"text-align: left;\">String15</th><th title = \"String\" style = \"text-align: left;\">String</th><th title = \"String\" style = \"text-align: left;\">String</th><th title = \"String\" style = \"text-align: left;\">String</th><th title = \"Float64\" style = \"text-align: left;\">Float64</th><th title = \"Float64\" style = \"text-align: left;\">Float64</th><th title = \"Float64\" style = \"text-align: left;\">Float64</th></tr></thead><tbody><tr><td class = \"rowNumber\" style = \"font-weight: bold; text-align: right;\">1</td><td style = \"text-align: left;\">S14010</td><td style = \"text-align: left;\">菊名店</td><td style = \"text-align: left;\">14</td><td style = \"text-align: left;\">神奈川県</td><td style = \"text-align: left;\">神奈川県横浜市港北区菊名一丁目</td><td style = \"text-align: left;\">カナガワケンヨコハマシコウホククキクナイッチョウメ</td><td style = \"text-align: left;\">045-123-4032</td><td style = \"text-align: right;\">139.633</td><td style = \"text-align: right;\">35.5005</td><td style = \"text-align: right;\">1732.0</td></tr><tr><td class = \"rowNumber\" style = \"font-weight: bold; text-align: right;\">2</td><td style = \"text-align: left;\">S14033</td><td style = \"text-align: left;\">阿久和店</td><td style = \"text-align: left;\">14</td><td style = \"text-align: left;\">神奈川県</td><td style = \"text-align: left;\">神奈川県横浜市瀬谷区阿久和西一丁目</td><td style = \"text-align: left;\">カナガワケンヨコハマシセヤクアクワニシイッチョウメ</td><td style = \"text-align: left;\">045-123-4043</td><td style = \"text-align: right;\">139.496</td><td style = \"text-align: right;\">35.4592</td><td style = \"text-align: right;\">1495.0</td></tr><tr><td class = \"rowNumber\" style = \"font-weight: bold; text-align: right;\">3</td><td style = \"text-align: left;\">S14040</td><td style = \"text-align: left;\">長津田店</td><td style = \"text-align: left;\">14</td><td style = \"text-align: left;\">神奈川県</td><td style = \"text-align: left;\">神奈川県横浜市緑区長津田みなみ台五丁目</td><td style = \"text-align: left;\">カナガワケンヨコハマシミドリクナガツタミナミダイゴチョウメ</td><td style = \"text-align: left;\">045-123-4046</td><td style = \"text-align: right;\">139.499</td><td style = \"text-align: right;\">35.524</td><td style = \"text-align: right;\">1548.0</td></tr><tr><td class = \"rowNumber\" style = \"font-weight: bold; text-align: right;\">4</td><td style = \"text-align: left;\">S14050</td><td style = \"text-align: left;\">阿久和西店</td><td style = \"text-align: left;\">14</td><td style = \"text-align: left;\">神奈川県</td><td style = \"text-align: left;\">神奈川県横浜市瀬谷区阿久和西一丁目</td><td style = \"text-align: left;\">カナガワケンヨコハマシセヤクアクワニシイッチョウメ</td><td style = \"text-align: left;\">045-123-4053</td><td style = \"text-align: right;\">139.496</td><td style = \"text-align: right;\">35.4592</td><td style = \"text-align: right;\">1830.0</td></tr><tr><td class = \"rowNumber\" style = \"font-weight: bold; text-align: right;\">5</td><td style = \"text-align: left;\">S14028</td><td style = \"text-align: left;\">二ツ橋店</td><td style = \"text-align: left;\">14</td><td style = \"text-align: left;\">神奈川県</td><td style = \"text-align: left;\">神奈川県横浜市瀬谷区二ツ橋町</td><td style = \"text-align: left;\">カナガワケンヨコハマシセヤクフタツバシチョウ</td><td style = \"text-align: left;\">045-123-4042</td><td style = \"text-align: right;\">139.496</td><td style = \"text-align: right;\">35.463</td><td style = \"text-align: right;\">1574.0</td></tr><tr><td class = \"rowNumber\" style = \"font-weight: bold; text-align: right;\">6</td><td style = \"text-align: left;\">S14012</td><td style = \"text-align: left;\">本牧和田店</td><td style = \"text-align: left;\">14</td><td style = \"text-align: left;\">神奈川県</td><td style = \"text-align: left;\">神奈川県横浜市中区本牧和田</td><td style = \"text-align: left;\">カナガワケンヨコハマシナカクホンモクワダ</td><td style = \"text-align: left;\">045-123-4034</td><td style = \"text-align: right;\">139.658</td><td style = \"text-align: right;\">35.4216</td><td style = \"text-align: right;\">1341.0</td></tr><tr><td class = \"rowNumber\" style = \"font-weight: bold; text-align: right;\">7</td><td style = \"text-align: left;\">S14046</td><td style = \"text-align: left;\">北山田店</td><td style = \"text-align: left;\">14</td><td style = \"text-align: left;\">神奈川県</td><td style = \"text-align: left;\">神奈川県横浜市都筑区北山田一丁目</td><td style = \"text-align: left;\">カナガワケンヨコハマシツヅキクキタヤマタイッチョウメ</td><td style = \"text-align: left;\">045-123-4049</td><td style = \"text-align: right;\">139.592</td><td style = \"text-align: right;\">35.5619</td><td style = \"text-align: right;\">831.0</td></tr><tr><td class = \"rowNumber\" style = \"font-weight: bold; text-align: right;\">8</td><td style = \"text-align: left;\">S14011</td><td style = \"text-align: left;\">日吉本町店</td><td style = \"text-align: left;\">14</td><td style = \"text-align: left;\">神奈川県</td><td style = \"text-align: left;\">神奈川県横浜市港北区日吉本町四丁目</td><td style = \"text-align: left;\">カナガワケンヨコハマシコウホククヒヨシホンチョウヨンチョウメ</td><td style = \"text-align: left;\">045-123-4033</td><td style = \"text-align: right;\">139.632</td><td style = \"text-align: right;\">35.5466</td><td style = \"text-align: right;\">890.0</td></tr><tr><td class = \"rowNumber\" style = \"font-weight: bold; text-align: right;\">9</td><td style = \"text-align: left;\">S14048</td><td style = \"text-align: left;\">中川中央店</td><td style = \"text-align: left;\">14</td><td style = \"text-align: left;\">神奈川県</td><td style = \"text-align: left;\">神奈川県横浜市都筑区中川中央二丁目</td><td style = \"text-align: left;\">カナガワケンヨコハマシツヅキクナカガワチュウオウニチョウメ</td><td style = \"text-align: left;\">045-123-4051</td><td style = \"text-align: right;\">139.576</td><td style = \"text-align: right;\">35.5491</td><td style = \"text-align: right;\">1657.0</td></tr><tr><td class = \"rowNumber\" style = \"font-weight: bold; text-align: right;\">10</td><td style = \"text-align: left;\">S14042</td><td style = \"text-align: left;\">新山下店</td><td style = \"text-align: left;\">14</td><td style = \"text-align: left;\">神奈川県</td><td style = \"text-align: left;\">神奈川県横浜市中区新山下二丁目</td><td style = \"text-align: left;\">カナガワケンヨコハマシナカクシンヤマシタニチョウメ</td><td style = \"text-align: left;\">045-123-4047</td><td style = \"text-align: right;\">139.659</td><td style = \"text-align: right;\">35.4389</td><td style = \"text-align: right;\">1044.0</td></tr><tr><td class = \"rowNumber\" style = \"font-weight: bold; text-align: right;\">11</td><td style = \"text-align: left;\">S14006</td><td style = \"text-align: left;\">葛が谷店</td><td style = \"text-align: left;\">14</td><td style = \"text-align: left;\">神奈川県</td><td style = \"text-align: left;\">神奈川県横浜市都筑区葛が谷</td><td style = \"text-align: left;\">カナガワケンヨコハマシツヅキククズガヤ</td><td style = \"text-align: left;\">045-123-4031</td><td style = \"text-align: right;\">139.563</td><td style = \"text-align: right;\">35.5357</td><td style = \"text-align: right;\">1886.0</td></tr></tbody></table></div>"
      ],
      "text/latex": [
       "\\begin{tabular}{r|cccccc}\n",
       "\t& store\\_cd & store\\_name & prefecture\\_cd & prefecture & address & \\\\\n",
       "\t\\hline\n",
       "\t& String & String31 & String & String15 & String & \\\\\n",
       "\t\\hline\n",
       "\t1 & S14010 & 菊名店 & 14 & 神奈川県 & 神奈川県横浜市港北区菊名一丁目 & $\\dots$ \\\\\n",
       "\t2 & S14033 & 阿久和店 & 14 & 神奈川県 & 神奈川県横浜市瀬谷区阿久和西一丁目 & $\\dots$ \\\\\n",
       "\t3 & S14040 & 長津田店 & 14 & 神奈川県 & 神奈川県横浜市緑区長津田みなみ台五丁目 & $\\dots$ \\\\\n",
       "\t4 & S14050 & 阿久和西店 & 14 & 神奈川県 & 神奈川県横浜市瀬谷区阿久和西一丁目 & $\\dots$ \\\\\n",
       "\t5 & S14028 & 二ツ橋店 & 14 & 神奈川県 & 神奈川県横浜市瀬谷区二ツ橋町 & $\\dots$ \\\\\n",
       "\t6 & S14012 & 本牧和田店 & 14 & 神奈川県 & 神奈川県横浜市中区本牧和田 & $\\dots$ \\\\\n",
       "\t7 & S14046 & 北山田店 & 14 & 神奈川県 & 神奈川県横浜市都筑区北山田一丁目 & $\\dots$ \\\\\n",
       "\t8 & S14011 & 日吉本町店 & 14 & 神奈川県 & 神奈川県横浜市港北区日吉本町四丁目 & $\\dots$ \\\\\n",
       "\t9 & S14048 & 中川中央店 & 14 & 神奈川県 & 神奈川県横浜市都筑区中川中央二丁目 & $\\dots$ \\\\\n",
       "\t10 & S14042 & 新山下店 & 14 & 神奈川県 & 神奈川県横浜市中区新山下二丁目 & $\\dots$ \\\\\n",
       "\t11 & S14006 & 葛が谷店 & 14 & 神奈川県 & 神奈川県横浜市都筑区葛が谷 & $\\dots$ \\\\\n",
       "\\end{tabular}\n"
      ],
      "text/plain": [
       "\u001b[1m11×10 DataFrame\u001b[0m\n",
       "\u001b[1m Row \u001b[0m│\u001b[1m store_cd \u001b[0m\u001b[1m store_name \u001b[0m\u001b[1m prefecture_cd \u001b[0m\u001b[1m prefecture \u001b[0m\u001b[1m address               \u001b[0m ⋯\n",
       "     │\u001b[90m String   \u001b[0m\u001b[90m String31   \u001b[0m\u001b[90m String        \u001b[0m\u001b[90m String15   \u001b[0m\u001b[90m String                \u001b[0m ⋯\n",
       "─────┼──────────────────────────────────────────────────────────────────────────\n",
       "   1 │ S14010    菊名店      14             神奈川県    神奈川県横浜市港北区菊 ⋯\n",
       "   2 │ S14033    阿久和店    14             神奈川県    神奈川県横浜市瀬谷区阿\n",
       "   3 │ S14040    長津田店    14             神奈川県    神奈川県横浜市緑区長津\n",
       "   4 │ S14050    阿久和西店  14             神奈川県    神奈川県横浜市瀬谷区阿\n",
       "   5 │ S14028    二ツ橋店    14             神奈川県    神奈川県横浜市瀬谷区二 ⋯\n",
       "   6 │ S14012    本牧和田店  14             神奈川県    神奈川県横浜市中区本牧\n",
       "   7 │ S14046    北山田店    14             神奈川県    神奈川県横浜市都筑区北\n",
       "   8 │ S14011    日吉本町店  14             神奈川県    神奈川県横浜市港北区日\n",
       "   9 │ S14048    中川中央店  14             神奈川県    神奈川県横浜市都筑区中 ⋯\n",
       "  10 │ S14042    新山下店    14             神奈川県    神奈川県横浜市中区新山\n",
       "  11 │ S14006    葛が谷店    14             神奈川県    神奈川県横浜市都筑区葛\n",
       "\u001b[36m                                                               6 columns omitted\u001b[0m"
      ]
     },
     "execution_count": 17,
     "metadata": {},
     "output_type": "execute_result"
    }
   ],
   "source": [
    "@time \\\n",
    "@rsubset df_store contains(:address, \"横浜市\")"
   ]
  },
  {
   "cell_type": "markdown",
   "metadata": {},
   "source": [
    "---\n",
    "> P-013: 顧客データ（df_customer）から、ステータスコード（status_cd）の先頭がアルファベットのA〜Fで始まるデータを全項目抽出し、10件表示せよ。"
   ]
  },
  {
   "cell_type": "code",
   "execution_count": 18,
   "metadata": {},
   "outputs": [
    {
     "name": "stdout",
     "output_type": "stream",
     "text": [
      "  0.000001 seconds\n"
     ]
    },
    {
     "data": {
      "text/html": [
       "<div><div style = \"float: left;\"><span>10×11 DataFrame</span></div><div style = \"clear: both;\"></div></div><div class = \"data-frame\" style = \"overflow-x: scroll;\"><table class = \"data-frame\" style = \"margin-bottom: 6px;\"><thead><tr class = \"header\"><th class = \"rowNumber\" style = \"font-weight: bold; text-align: right;\">Row</th><th style = \"text-align: left;\">customer_id</th><th style = \"text-align: left;\">customer_name</th><th style = \"text-align: left;\">gender_cd</th><th style = \"text-align: left;\">gender</th><th style = \"text-align: left;\">birth_day</th><th style = \"text-align: left;\">age</th><th style = \"text-align: left;\">postal_cd</th><th style = \"text-align: left;\">address</th><th style = \"text-align: left;\">application_store_cd</th><th style = \"text-align: left;\">application_date</th><th style = \"text-align: left;\">status_cd</th></tr><tr class = \"subheader headerLastRow\"><th class = \"rowNumber\" style = \"font-weight: bold; text-align: right;\"></th><th title = \"String\" style = \"text-align: left;\">String</th><th title = \"InlineStrings.String31\" style = \"text-align: left;\">String31</th><th title = \"String\" style = \"text-align: left;\">String</th><th title = \"InlineStrings.String7\" style = \"text-align: left;\">String7</th><th title = \"Date\" style = \"text-align: left;\">Date</th><th title = \"Int64\" style = \"text-align: left;\">Int64</th><th title = \"String\" style = \"text-align: left;\">String</th><th title = \"String\" style = \"text-align: left;\">String</th><th title = \"String\" style = \"text-align: left;\">String</th><th title = \"String\" style = \"text-align: left;\">String</th><th title = \"String\" style = \"text-align: left;\">String</th></tr></thead><tbody><tr><td class = \"rowNumber\" style = \"font-weight: bold; text-align: right;\">1</td><td style = \"text-align: left;\">CS031415000172</td><td style = \"text-align: left;\">宇多田 貴美子</td><td style = \"text-align: left;\">1</td><td style = \"text-align: left;\">女性</td><td style = \"text-align: left;\">1976-10-04</td><td style = \"text-align: right;\">42</td><td style = \"text-align: left;\">151-0053</td><td style = \"text-align: left;\">東京都渋谷区代々木**********</td><td style = \"text-align: left;\">S13031</td><td style = \"text-align: left;\">20150529</td><td style = \"text-align: left;\">D-20100325-C</td></tr><tr><td class = \"rowNumber\" style = \"font-weight: bold; text-align: right;\">2</td><td style = \"text-align: left;\">CS015414000103</td><td style = \"text-align: left;\">奥野 陽子</td><td style = \"text-align: left;\">1</td><td style = \"text-align: left;\">女性</td><td style = \"text-align: left;\">1977-08-09</td><td style = \"text-align: right;\">41</td><td style = \"text-align: left;\">136-0073</td><td style = \"text-align: left;\">東京都江東区北砂**********</td><td style = \"text-align: left;\">S13015</td><td style = \"text-align: left;\">20150722</td><td style = \"text-align: left;\">B-20100609-B</td></tr><tr><td class = \"rowNumber\" style = \"font-weight: bold; text-align: right;\">3</td><td style = \"text-align: left;\">CS011215000048</td><td style = \"text-align: left;\">芦田 沙耶</td><td style = \"text-align: left;\">1</td><td style = \"text-align: left;\">女性</td><td style = \"text-align: left;\">1992-02-01</td><td style = \"text-align: right;\">27</td><td style = \"text-align: left;\">223-0062</td><td style = \"text-align: left;\">神奈川県横浜市港北区日吉本町**********</td><td style = \"text-align: left;\">S14011</td><td style = \"text-align: left;\">20150228</td><td style = \"text-align: left;\">C-20100421-9</td></tr><tr><td class = \"rowNumber\" style = \"font-weight: bold; text-align: right;\">4</td><td style = \"text-align: left;\">CS029415000023</td><td style = \"text-align: left;\">梅田 里穂</td><td style = \"text-align: left;\">1</td><td style = \"text-align: left;\">女性</td><td style = \"text-align: left;\">1976-01-17</td><td style = \"text-align: right;\">43</td><td style = \"text-align: left;\">279-0043</td><td style = \"text-align: left;\">千葉県浦安市富士見**********</td><td style = \"text-align: left;\">S12029</td><td style = \"text-align: left;\">20150610</td><td style = \"text-align: left;\">D-20100918-E</td></tr><tr><td class = \"rowNumber\" style = \"font-weight: bold; text-align: right;\">5</td><td style = \"text-align: left;\">CS035415000029</td><td style = \"text-align: left;\">寺沢 真希</td><td style = \"text-align: left;\">9</td><td style = \"text-align: left;\">不明</td><td style = \"text-align: left;\">1977-09-27</td><td style = \"text-align: right;\">41</td><td style = \"text-align: left;\">158-0096</td><td style = \"text-align: left;\">東京都世田谷区玉川台**********</td><td style = \"text-align: left;\">S13035</td><td style = \"text-align: left;\">20141220</td><td style = \"text-align: left;\">F-20101029-F</td></tr><tr><td class = \"rowNumber\" style = \"font-weight: bold; text-align: right;\">6</td><td style = \"text-align: left;\">CS031415000106</td><td style = \"text-align: left;\">宇野 由美子</td><td style = \"text-align: left;\">1</td><td style = \"text-align: left;\">女性</td><td style = \"text-align: left;\">1970-02-26</td><td style = \"text-align: right;\">49</td><td style = \"text-align: left;\">151-0053</td><td style = \"text-align: left;\">東京都渋谷区代々木**********</td><td style = \"text-align: left;\">S13031</td><td style = \"text-align: left;\">20150201</td><td style = \"text-align: left;\">F-20100511-E</td></tr><tr><td class = \"rowNumber\" style = \"font-weight: bold; text-align: right;\">7</td><td style = \"text-align: left;\">CS029215000025</td><td style = \"text-align: left;\">石倉 美帆</td><td style = \"text-align: left;\">1</td><td style = \"text-align: left;\">女性</td><td style = \"text-align: left;\">1993-09-28</td><td style = \"text-align: right;\">25</td><td style = \"text-align: left;\">279-0022</td><td style = \"text-align: left;\">千葉県浦安市今川**********</td><td style = \"text-align: left;\">S12029</td><td style = \"text-align: left;\">20150708</td><td style = \"text-align: left;\">B-20100820-C</td></tr><tr><td class = \"rowNumber\" style = \"font-weight: bold; text-align: right;\">8</td><td style = \"text-align: left;\">CS033605000005</td><td style = \"text-align: left;\">猪股 雄太</td><td style = \"text-align: left;\">0</td><td style = \"text-align: left;\">男性</td><td style = \"text-align: left;\">1955-12-05</td><td style = \"text-align: right;\">63</td><td style = \"text-align: left;\">246-0031</td><td style = \"text-align: left;\">神奈川県横浜市瀬谷区瀬谷**********</td><td style = \"text-align: left;\">S14033</td><td style = \"text-align: left;\">20150425</td><td style = \"text-align: left;\">F-20100917-E</td></tr><tr><td class = \"rowNumber\" style = \"font-weight: bold; text-align: right;\">9</td><td style = \"text-align: left;\">CS033415000229</td><td style = \"text-align: left;\">板垣 菜々美</td><td style = \"text-align: left;\">1</td><td style = \"text-align: left;\">女性</td><td style = \"text-align: left;\">1977-11-07</td><td style = \"text-align: right;\">41</td><td style = \"text-align: left;\">246-0021</td><td style = \"text-align: left;\">神奈川県横浜市瀬谷区二ツ橋町**********</td><td style = \"text-align: left;\">S14033</td><td style = \"text-align: left;\">20150712</td><td style = \"text-align: left;\">F-20100326-E</td></tr><tr><td class = \"rowNumber\" style = \"font-weight: bold; text-align: right;\">10</td><td style = \"text-align: left;\">CS008415000145</td><td style = \"text-align: left;\">黒谷 麻緒</td><td style = \"text-align: left;\">1</td><td style = \"text-align: left;\">女性</td><td style = \"text-align: left;\">1977-06-27</td><td style = \"text-align: right;\">41</td><td style = \"text-align: left;\">157-0067</td><td style = \"text-align: left;\">東京都世田谷区喜多見**********</td><td style = \"text-align: left;\">S13008</td><td style = \"text-align: left;\">20150829</td><td style = \"text-align: left;\">F-20100622-F</td></tr></tbody></table></div>"
      ],
      "text/latex": [
       "\\begin{tabular}{r|cccccccc}\n",
       "\t& customer\\_id & customer\\_name & gender\\_cd & gender & birth\\_day & age & postal\\_cd & \\\\\n",
       "\t\\hline\n",
       "\t& String & String31 & String & String7 & Date & Int64 & String & \\\\\n",
       "\t\\hline\n",
       "\t1 & CS031415000172 & 宇多田 貴美子 & 1 & 女性 & 1976-10-04 & 42 & 151-0053 & $\\dots$ \\\\\n",
       "\t2 & CS015414000103 & 奥野 陽子 & 1 & 女性 & 1977-08-09 & 41 & 136-0073 & $\\dots$ \\\\\n",
       "\t3 & CS011215000048 & 芦田 沙耶 & 1 & 女性 & 1992-02-01 & 27 & 223-0062 & $\\dots$ \\\\\n",
       "\t4 & CS029415000023 & 梅田 里穂 & 1 & 女性 & 1976-01-17 & 43 & 279-0043 & $\\dots$ \\\\\n",
       "\t5 & CS035415000029 & 寺沢 真希 & 9 & 不明 & 1977-09-27 & 41 & 158-0096 & $\\dots$ \\\\\n",
       "\t6 & CS031415000106 & 宇野 由美子 & 1 & 女性 & 1970-02-26 & 49 & 151-0053 & $\\dots$ \\\\\n",
       "\t7 & CS029215000025 & 石倉 美帆 & 1 & 女性 & 1993-09-28 & 25 & 279-0022 & $\\dots$ \\\\\n",
       "\t8 & CS033605000005 & 猪股 雄太 & 0 & 男性 & 1955-12-05 & 63 & 246-0031 & $\\dots$ \\\\\n",
       "\t9 & CS033415000229 & 板垣 菜々美 & 1 & 女性 & 1977-11-07 & 41 & 246-0021 & $\\dots$ \\\\\n",
       "\t10 & CS008415000145 & 黒谷 麻緒 & 1 & 女性 & 1977-06-27 & 41 & 157-0067 & $\\dots$ \\\\\n",
       "\\end{tabular}\n"
      ],
      "text/plain": [
       "\u001b[1m10×11 DataFrame\u001b[0m\n",
       "\u001b[1m Row \u001b[0m│\u001b[1m customer_id    \u001b[0m\u001b[1m customer_name \u001b[0m\u001b[1m gender_cd \u001b[0m\u001b[1m gender  \u001b[0m\u001b[1m birth_day  \u001b[0m\u001b[1m age   \u001b[0m\u001b[1m p\u001b[0m ⋯\n",
       "     │\u001b[90m String         \u001b[0m\u001b[90m String31      \u001b[0m\u001b[90m String    \u001b[0m\u001b[90m String7 \u001b[0m\u001b[90m Date       \u001b[0m\u001b[90m Int64 \u001b[0m\u001b[90m S\u001b[0m ⋯\n",
       "─────┼──────────────────────────────────────────────────────────────────────────\n",
       "   1 │ CS031415000172  宇多田 貴美子  1          女性     1976-10-04     42  1 ⋯\n",
       "   2 │ CS015414000103  奥野 陽子      1          女性     1977-08-09     41  1\n",
       "   3 │ CS011215000048  芦田 沙耶      1          女性     1992-02-01     27  2\n",
       "   4 │ CS029415000023  梅田 里穂      1          女性     1976-01-17     43  2\n",
       "   5 │ CS035415000029  寺沢 真希      9          不明     1977-09-27     41  1 ⋯\n",
       "   6 │ CS031415000106  宇野 由美子    1          女性     1970-02-26     49  1\n",
       "   7 │ CS029215000025  石倉 美帆      1          女性     1993-09-28     25  2\n",
       "   8 │ CS033605000005  猪股 雄太      0          男性     1955-12-05     63  2\n",
       "   9 │ CS033415000229  板垣 菜々美    1          女性     1977-11-07     41  2 ⋯\n",
       "  10 │ CS008415000145  黒谷 麻緒      1          女性     1977-06-27     41  1\n",
       "\u001b[36m                                                               5 columns omitted\u001b[0m"
      ]
     },
     "execution_count": 18,
     "metadata": {},
     "output_type": "execute_result"
    }
   ],
   "source": [
    "@time \\\n",
    "@chain df_customer begin\n",
    "    @rsubset startswith(:status_cd, r\"[A-F]\")\n",
    "    first(10)\n",
    "end"
   ]
  },
  {
   "cell_type": "markdown",
   "metadata": {},
   "source": [
    "---\n",
    "> P-014: 顧客データ（df_customer）から、ステータスコード（status_cd）の末尾が数字の1〜9で終わるデータを全項目抽出し、10件表示せよ。"
   ]
  },
  {
   "cell_type": "code",
   "execution_count": 19,
   "metadata": {},
   "outputs": [
    {
     "name": "stdout",
     "output_type": "stream",
     "text": [
      "  0.000002 seconds\n"
     ]
    },
    {
     "data": {
      "text/html": [
       "<div><div style = \"float: left;\"><span>10×11 DataFrame</span></div><div style = \"clear: both;\"></div></div><div class = \"data-frame\" style = \"overflow-x: scroll;\"><table class = \"data-frame\" style = \"margin-bottom: 6px;\"><thead><tr class = \"header\"><th class = \"rowNumber\" style = \"font-weight: bold; text-align: right;\">Row</th><th style = \"text-align: left;\">customer_id</th><th style = \"text-align: left;\">customer_name</th><th style = \"text-align: left;\">gender_cd</th><th style = \"text-align: left;\">gender</th><th style = \"text-align: left;\">birth_day</th><th style = \"text-align: left;\">age</th><th style = \"text-align: left;\">postal_cd</th><th style = \"text-align: left;\">address</th><th style = \"text-align: left;\">application_store_cd</th><th style = \"text-align: left;\">application_date</th><th style = \"text-align: left;\">status_cd</th></tr><tr class = \"subheader headerLastRow\"><th class = \"rowNumber\" style = \"font-weight: bold; text-align: right;\"></th><th title = \"String\" style = \"text-align: left;\">String</th><th title = \"InlineStrings.String31\" style = \"text-align: left;\">String31</th><th title = \"String\" style = \"text-align: left;\">String</th><th title = \"InlineStrings.String7\" style = \"text-align: left;\">String7</th><th title = \"Date\" style = \"text-align: left;\">Date</th><th title = \"Int64\" style = \"text-align: left;\">Int64</th><th title = \"String\" style = \"text-align: left;\">String</th><th title = \"String\" style = \"text-align: left;\">String</th><th title = \"String\" style = \"text-align: left;\">String</th><th title = \"String\" style = \"text-align: left;\">String</th><th title = \"String\" style = \"text-align: left;\">String</th></tr></thead><tbody><tr><td class = \"rowNumber\" style = \"font-weight: bold; text-align: right;\">1</td><td style = \"text-align: left;\">CS001215000145</td><td style = \"text-align: left;\">田崎 美紀</td><td style = \"text-align: left;\">1</td><td style = \"text-align: left;\">女性</td><td style = \"text-align: left;\">1995-03-29</td><td style = \"text-align: right;\">24</td><td style = \"text-align: left;\">144-0055</td><td style = \"text-align: left;\">東京都大田区仲六郷**********</td><td style = \"text-align: left;\">S13001</td><td style = \"text-align: left;\">20170605</td><td style = \"text-align: left;\">6-20090929-2</td></tr><tr><td class = \"rowNumber\" style = \"font-weight: bold; text-align: right;\">2</td><td style = \"text-align: left;\">CS033513000180</td><td style = \"text-align: left;\">安斎 遥</td><td style = \"text-align: left;\">1</td><td style = \"text-align: left;\">女性</td><td style = \"text-align: left;\">1962-07-11</td><td style = \"text-align: right;\">56</td><td style = \"text-align: left;\">241-0823</td><td style = \"text-align: left;\">神奈川県横浜市旭区善部町**********</td><td style = \"text-align: left;\">S14033</td><td style = \"text-align: left;\">20150728</td><td style = \"text-align: left;\">6-20080506-5</td></tr><tr><td class = \"rowNumber\" style = \"font-weight: bold; text-align: right;\">3</td><td style = \"text-align: left;\">CS011215000048</td><td style = \"text-align: left;\">芦田 沙耶</td><td style = \"text-align: left;\">1</td><td style = \"text-align: left;\">女性</td><td style = \"text-align: left;\">1992-02-01</td><td style = \"text-align: right;\">27</td><td style = \"text-align: left;\">223-0062</td><td style = \"text-align: left;\">神奈川県横浜市港北区日吉本町**********</td><td style = \"text-align: left;\">S14011</td><td style = \"text-align: left;\">20150228</td><td style = \"text-align: left;\">C-20100421-9</td></tr><tr><td class = \"rowNumber\" style = \"font-weight: bold; text-align: right;\">4</td><td style = \"text-align: left;\">CS040412000191</td><td style = \"text-align: left;\">川井 郁恵</td><td style = \"text-align: left;\">1</td><td style = \"text-align: left;\">女性</td><td style = \"text-align: left;\">1977-01-05</td><td style = \"text-align: right;\">42</td><td style = \"text-align: left;\">226-0021</td><td style = \"text-align: left;\">神奈川県横浜市緑区北八朔町**********</td><td style = \"text-align: left;\">S14040</td><td style = \"text-align: left;\">20151101</td><td style = \"text-align: left;\">1-20091025-4</td></tr><tr><td class = \"rowNumber\" style = \"font-weight: bold; text-align: right;\">5</td><td style = \"text-align: left;\">CS009315000023</td><td style = \"text-align: left;\">皆川 文世</td><td style = \"text-align: left;\">1</td><td style = \"text-align: left;\">女性</td><td style = \"text-align: left;\">1980-04-15</td><td style = \"text-align: right;\">38</td><td style = \"text-align: left;\">154-0012</td><td style = \"text-align: left;\">東京都世田谷区駒沢**********</td><td style = \"text-align: left;\">S13009</td><td style = \"text-align: left;\">20150319</td><td style = \"text-align: left;\">5-20080322-1</td></tr><tr><td class = \"rowNumber\" style = \"font-weight: bold; text-align: right;\">6</td><td style = \"text-align: left;\">CS015315000033</td><td style = \"text-align: left;\">福士 璃奈子</td><td style = \"text-align: left;\">1</td><td style = \"text-align: left;\">女性</td><td style = \"text-align: left;\">1983-03-17</td><td style = \"text-align: right;\">36</td><td style = \"text-align: left;\">135-0043</td><td style = \"text-align: left;\">東京都江東区塩浜**********</td><td style = \"text-align: left;\">S13015</td><td style = \"text-align: left;\">20141024</td><td style = \"text-align: left;\">4-20080219-3</td></tr><tr><td class = \"rowNumber\" style = \"font-weight: bold; text-align: right;\">7</td><td style = \"text-align: left;\">CS023513000066</td><td style = \"text-align: left;\">神戸 そら</td><td style = \"text-align: left;\">1</td><td style = \"text-align: left;\">女性</td><td style = \"text-align: left;\">1961-12-17</td><td style = \"text-align: right;\">57</td><td style = \"text-align: left;\">210-0005</td><td style = \"text-align: left;\">神奈川県川崎市川崎区東田町**********</td><td style = \"text-align: left;\">S14023</td><td style = \"text-align: left;\">20150915</td><td style = \"text-align: left;\">5-20100524-9</td></tr><tr><td class = \"rowNumber\" style = \"font-weight: bold; text-align: right;\">8</td><td style = \"text-align: left;\">CS035513000134</td><td style = \"text-align: left;\">市川 美帆</td><td style = \"text-align: left;\">1</td><td style = \"text-align: left;\">女性</td><td style = \"text-align: left;\">1960-03-27</td><td style = \"text-align: right;\">59</td><td style = \"text-align: left;\">156-0053</td><td style = \"text-align: left;\">東京都世田谷区桜**********</td><td style = \"text-align: left;\">S13035</td><td style = \"text-align: left;\">20150227</td><td style = \"text-align: left;\">8-20100711-9</td></tr><tr><td class = \"rowNumber\" style = \"font-weight: bold; text-align: right;\">9</td><td style = \"text-align: left;\">CS001515000263</td><td style = \"text-align: left;\">高松 夏空</td><td style = \"text-align: left;\">1</td><td style = \"text-align: left;\">女性</td><td style = \"text-align: left;\">1962-11-09</td><td style = \"text-align: right;\">56</td><td style = \"text-align: left;\">144-0051</td><td style = \"text-align: left;\">東京都大田区西蒲田**********</td><td style = \"text-align: left;\">S13001</td><td style = \"text-align: left;\">20160812</td><td style = \"text-align: left;\">1-20100804-1</td></tr><tr><td class = \"rowNumber\" style = \"font-weight: bold; text-align: right;\">10</td><td style = \"text-align: left;\">CS040314000027</td><td style = \"text-align: left;\">鶴田 きみまろ</td><td style = \"text-align: left;\">9</td><td style = \"text-align: left;\">不明</td><td style = \"text-align: left;\">1986-03-26</td><td style = \"text-align: right;\">33</td><td style = \"text-align: left;\">226-0027</td><td style = \"text-align: left;\">神奈川県横浜市緑区長津田**********</td><td style = \"text-align: left;\">S14040</td><td style = \"text-align: left;\">20150122</td><td style = \"text-align: left;\">2-20080426-4</td></tr></tbody></table></div>"
      ],
      "text/latex": [
       "\\begin{tabular}{r|cccccccc}\n",
       "\t& customer\\_id & customer\\_name & gender\\_cd & gender & birth\\_day & age & postal\\_cd & \\\\\n",
       "\t\\hline\n",
       "\t& String & String31 & String & String7 & Date & Int64 & String & \\\\\n",
       "\t\\hline\n",
       "\t1 & CS001215000145 & 田崎 美紀 & 1 & 女性 & 1995-03-29 & 24 & 144-0055 & $\\dots$ \\\\\n",
       "\t2 & CS033513000180 & 安斎 遥 & 1 & 女性 & 1962-07-11 & 56 & 241-0823 & $\\dots$ \\\\\n",
       "\t3 & CS011215000048 & 芦田 沙耶 & 1 & 女性 & 1992-02-01 & 27 & 223-0062 & $\\dots$ \\\\\n",
       "\t4 & CS040412000191 & 川井 郁恵 & 1 & 女性 & 1977-01-05 & 42 & 226-0021 & $\\dots$ \\\\\n",
       "\t5 & CS009315000023 & 皆川 文世 & 1 & 女性 & 1980-04-15 & 38 & 154-0012 & $\\dots$ \\\\\n",
       "\t6 & CS015315000033 & 福士 璃奈子 & 1 & 女性 & 1983-03-17 & 36 & 135-0043 & $\\dots$ \\\\\n",
       "\t7 & CS023513000066 & 神戸 そら & 1 & 女性 & 1961-12-17 & 57 & 210-0005 & $\\dots$ \\\\\n",
       "\t8 & CS035513000134 & 市川 美帆 & 1 & 女性 & 1960-03-27 & 59 & 156-0053 & $\\dots$ \\\\\n",
       "\t9 & CS001515000263 & 高松 夏空 & 1 & 女性 & 1962-11-09 & 56 & 144-0051 & $\\dots$ \\\\\n",
       "\t10 & CS040314000027 & 鶴田 きみまろ & 9 & 不明 & 1986-03-26 & 33 & 226-0027 & $\\dots$ \\\\\n",
       "\\end{tabular}\n"
      ],
      "text/plain": [
       "\u001b[1m10×11 DataFrame\u001b[0m\n",
       "\u001b[1m Row \u001b[0m│\u001b[1m customer_id    \u001b[0m\u001b[1m customer_name \u001b[0m\u001b[1m gender_cd \u001b[0m\u001b[1m gender  \u001b[0m\u001b[1m birth_day  \u001b[0m\u001b[1m age   \u001b[0m\u001b[1m p\u001b[0m ⋯\n",
       "     │\u001b[90m String         \u001b[0m\u001b[90m String31      \u001b[0m\u001b[90m String    \u001b[0m\u001b[90m String7 \u001b[0m\u001b[90m Date       \u001b[0m\u001b[90m Int64 \u001b[0m\u001b[90m S\u001b[0m ⋯\n",
       "─────┼──────────────────────────────────────────────────────────────────────────\n",
       "   1 │ CS001215000145  田崎 美紀      1          女性     1995-03-29     24  1 ⋯\n",
       "   2 │ CS033513000180  安斎 遥        1          女性     1962-07-11     56  2\n",
       "   3 │ CS011215000048  芦田 沙耶      1          女性     1992-02-01     27  2\n",
       "   4 │ CS040412000191  川井 郁恵      1          女性     1977-01-05     42  2\n",
       "   5 │ CS009315000023  皆川 文世      1          女性     1980-04-15     38  1 ⋯\n",
       "   6 │ CS015315000033  福士 璃奈子    1          女性     1983-03-17     36  1\n",
       "   7 │ CS023513000066  神戸 そら      1          女性     1961-12-17     57  2\n",
       "   8 │ CS035513000134  市川 美帆      1          女性     1960-03-27     59  1\n",
       "   9 │ CS001515000263  高松 夏空      1          女性     1962-11-09     56  1 ⋯\n",
       "  10 │ CS040314000027  鶴田 きみまろ  9          不明     1986-03-26     33  2\n",
       "\u001b[36m                                                               5 columns omitted\u001b[0m"
      ]
     },
     "execution_count": 19,
     "metadata": {},
     "output_type": "execute_result"
    }
   ],
   "source": [
    "@time \\\n",
    "@chain df_customer begin\n",
    "    @rsubset endswith(:status_cd, r\"[1-9]\")\n",
    "    first(10)\n",
    "end"
   ]
  },
  {
   "cell_type": "markdown",
   "metadata": {},
   "source": [
    "---\n",
    "> P-015: 顧客データ（df_customer）から、ステータスコード（status_cd）の先頭がアルファベットのA〜Fで始まり、末尾が数字の1〜9で終わるデータを全項目抽出し、10件表示せよ。"
   ]
  },
  {
   "cell_type": "code",
   "execution_count": 20,
   "metadata": {},
   "outputs": [
    {
     "name": "stdout",
     "output_type": "stream",
     "text": [
      "  0.000001 seconds\n"
     ]
    },
    {
     "data": {
      "text/html": [
       "<div><div style = \"float: left;\"><span>10×11 DataFrame</span></div><div style = \"clear: both;\"></div></div><div class = \"data-frame\" style = \"overflow-x: scroll;\"><table class = \"data-frame\" style = \"margin-bottom: 6px;\"><thead><tr class = \"header\"><th class = \"rowNumber\" style = \"font-weight: bold; text-align: right;\">Row</th><th style = \"text-align: left;\">customer_id</th><th style = \"text-align: left;\">customer_name</th><th style = \"text-align: left;\">gender_cd</th><th style = \"text-align: left;\">gender</th><th style = \"text-align: left;\">birth_day</th><th style = \"text-align: left;\">age</th><th style = \"text-align: left;\">postal_cd</th><th style = \"text-align: left;\">address</th><th style = \"text-align: left;\">application_store_cd</th><th style = \"text-align: left;\">application_date</th><th style = \"text-align: left;\">status_cd</th></tr><tr class = \"subheader headerLastRow\"><th class = \"rowNumber\" style = \"font-weight: bold; text-align: right;\"></th><th title = \"String\" style = \"text-align: left;\">String</th><th title = \"InlineStrings.String31\" style = \"text-align: left;\">String31</th><th title = \"String\" style = \"text-align: left;\">String</th><th title = \"InlineStrings.String7\" style = \"text-align: left;\">String7</th><th title = \"Date\" style = \"text-align: left;\">Date</th><th title = \"Int64\" style = \"text-align: left;\">Int64</th><th title = \"String\" style = \"text-align: left;\">String</th><th title = \"String\" style = \"text-align: left;\">String</th><th title = \"String\" style = \"text-align: left;\">String</th><th title = \"String\" style = \"text-align: left;\">String</th><th title = \"String\" style = \"text-align: left;\">String</th></tr></thead><tbody><tr><td class = \"rowNumber\" style = \"font-weight: bold; text-align: right;\">1</td><td style = \"text-align: left;\">CS011215000048</td><td style = \"text-align: left;\">芦田 沙耶</td><td style = \"text-align: left;\">1</td><td style = \"text-align: left;\">女性</td><td style = \"text-align: left;\">1992-02-01</td><td style = \"text-align: right;\">27</td><td style = \"text-align: left;\">223-0062</td><td style = \"text-align: left;\">神奈川県横浜市港北区日吉本町**********</td><td style = \"text-align: left;\">S14011</td><td style = \"text-align: left;\">20150228</td><td style = \"text-align: left;\">C-20100421-9</td></tr><tr><td class = \"rowNumber\" style = \"font-weight: bold; text-align: right;\">2</td><td style = \"text-align: left;\">CS022513000105</td><td style = \"text-align: left;\">島村 貴美子</td><td style = \"text-align: left;\">1</td><td style = \"text-align: left;\">女性</td><td style = \"text-align: left;\">1962-03-12</td><td style = \"text-align: right;\">57</td><td style = \"text-align: left;\">249-0002</td><td style = \"text-align: left;\">神奈川県逗子市山の根**********</td><td style = \"text-align: left;\">S14022</td><td style = \"text-align: left;\">20150320</td><td style = \"text-align: left;\">A-20091115-7</td></tr><tr><td class = \"rowNumber\" style = \"font-weight: bold; text-align: right;\">3</td><td style = \"text-align: left;\">CS001515000096</td><td style = \"text-align: left;\">水野 陽子</td><td style = \"text-align: left;\">9</td><td style = \"text-align: left;\">不明</td><td style = \"text-align: left;\">1960-11-29</td><td style = \"text-align: right;\">58</td><td style = \"text-align: left;\">144-0053</td><td style = \"text-align: left;\">東京都大田区蒲田本町**********</td><td style = \"text-align: left;\">S13001</td><td style = \"text-align: left;\">20150614</td><td style = \"text-align: left;\">A-20100724-7</td></tr><tr><td class = \"rowNumber\" style = \"font-weight: bold; text-align: right;\">4</td><td style = \"text-align: left;\">CS013615000053</td><td style = \"text-align: left;\">西脇 季衣</td><td style = \"text-align: left;\">1</td><td style = \"text-align: left;\">女性</td><td style = \"text-align: left;\">1953-10-18</td><td style = \"text-align: right;\">65</td><td style = \"text-align: left;\">261-0026</td><td style = \"text-align: left;\">千葉県千葉市美浜区幕張西**********</td><td style = \"text-align: left;\">S12013</td><td style = \"text-align: left;\">20150128</td><td style = \"text-align: left;\">B-20100329-6</td></tr><tr><td class = \"rowNumber\" style = \"font-weight: bold; text-align: right;\">5</td><td style = \"text-align: left;\">CS020412000161</td><td style = \"text-align: left;\">小宮 薫</td><td style = \"text-align: left;\">1</td><td style = \"text-align: left;\">女性</td><td style = \"text-align: left;\">1974-05-21</td><td style = \"text-align: right;\">44</td><td style = \"text-align: left;\">174-0042</td><td style = \"text-align: left;\">東京都板橋区東坂下**********</td><td style = \"text-align: left;\">S13020</td><td style = \"text-align: left;\">20150822</td><td style = \"text-align: left;\">B-20081021-3</td></tr><tr><td class = \"rowNumber\" style = \"font-weight: bold; text-align: right;\">6</td><td style = \"text-align: left;\">CS001215000097</td><td style = \"text-align: left;\">竹中 あさみ</td><td style = \"text-align: left;\">1</td><td style = \"text-align: left;\">女性</td><td style = \"text-align: left;\">1990-07-25</td><td style = \"text-align: right;\">28</td><td style = \"text-align: left;\">146-0095</td><td style = \"text-align: left;\">東京都大田区多摩川**********</td><td style = \"text-align: left;\">S13001</td><td style = \"text-align: left;\">20170315</td><td style = \"text-align: left;\">A-20100211-2</td></tr><tr><td class = \"rowNumber\" style = \"font-weight: bold; text-align: right;\">7</td><td style = \"text-align: left;\">CS035212000007</td><td style = \"text-align: left;\">内村 恵梨香</td><td style = \"text-align: left;\">1</td><td style = \"text-align: left;\">女性</td><td style = \"text-align: left;\">1990-12-04</td><td style = \"text-align: right;\">28</td><td style = \"text-align: left;\">152-0023</td><td style = \"text-align: left;\">東京都目黒区八雲**********</td><td style = \"text-align: left;\">S13035</td><td style = \"text-align: left;\">20151013</td><td style = \"text-align: left;\">B-20101018-6</td></tr><tr><td class = \"rowNumber\" style = \"font-weight: bold; text-align: right;\">8</td><td style = \"text-align: left;\">CS002515000386</td><td style = \"text-align: left;\">野田 コウ</td><td style = \"text-align: left;\">1</td><td style = \"text-align: left;\">女性</td><td style = \"text-align: left;\">1963-05-30</td><td style = \"text-align: right;\">55</td><td style = \"text-align: left;\">185-0013</td><td style = \"text-align: left;\">東京都国分寺市西恋ケ窪**********</td><td style = \"text-align: left;\">S13002</td><td style = \"text-align: left;\">20160410</td><td style = \"text-align: left;\">C-20100127-8</td></tr><tr><td class = \"rowNumber\" style = \"font-weight: bold; text-align: right;\">9</td><td style = \"text-align: left;\">CS001615000372</td><td style = \"text-align: left;\">稲垣 寿々花</td><td style = \"text-align: left;\">1</td><td style = \"text-align: left;\">女性</td><td style = \"text-align: left;\">1956-10-29</td><td style = \"text-align: right;\">62</td><td style = \"text-align: left;\">144-0035</td><td style = \"text-align: left;\">東京都大田区南蒲田**********</td><td style = \"text-align: left;\">S13001</td><td style = \"text-align: left;\">20170403</td><td style = \"text-align: left;\">A-20100104-1</td></tr><tr><td class = \"rowNumber\" style = \"font-weight: bold; text-align: right;\">10</td><td style = \"text-align: left;\">CS032512000121</td><td style = \"text-align: left;\">松井 知世</td><td style = \"text-align: left;\">1</td><td style = \"text-align: left;\">女性</td><td style = \"text-align: left;\">1962-09-04</td><td style = \"text-align: right;\">56</td><td style = \"text-align: left;\">210-0011</td><td style = \"text-align: left;\">神奈川県川崎市川崎区富士見**********</td><td style = \"text-align: left;\">S13032</td><td style = \"text-align: left;\">20150727</td><td style = \"text-align: left;\">A-20100103-5</td></tr></tbody></table></div>"
      ],
      "text/latex": [
       "\\begin{tabular}{r|cccccccc}\n",
       "\t& customer\\_id & customer\\_name & gender\\_cd & gender & birth\\_day & age & postal\\_cd & \\\\\n",
       "\t\\hline\n",
       "\t& String & String31 & String & String7 & Date & Int64 & String & \\\\\n",
       "\t\\hline\n",
       "\t1 & CS011215000048 & 芦田 沙耶 & 1 & 女性 & 1992-02-01 & 27 & 223-0062 & $\\dots$ \\\\\n",
       "\t2 & CS022513000105 & 島村 貴美子 & 1 & 女性 & 1962-03-12 & 57 & 249-0002 & $\\dots$ \\\\\n",
       "\t3 & CS001515000096 & 水野 陽子 & 9 & 不明 & 1960-11-29 & 58 & 144-0053 & $\\dots$ \\\\\n",
       "\t4 & CS013615000053 & 西脇 季衣 & 1 & 女性 & 1953-10-18 & 65 & 261-0026 & $\\dots$ \\\\\n",
       "\t5 & CS020412000161 & 小宮 薫 & 1 & 女性 & 1974-05-21 & 44 & 174-0042 & $\\dots$ \\\\\n",
       "\t6 & CS001215000097 & 竹中 あさみ & 1 & 女性 & 1990-07-25 & 28 & 146-0095 & $\\dots$ \\\\\n",
       "\t7 & CS035212000007 & 内村 恵梨香 & 1 & 女性 & 1990-12-04 & 28 & 152-0023 & $\\dots$ \\\\\n",
       "\t8 & CS002515000386 & 野田 コウ & 1 & 女性 & 1963-05-30 & 55 & 185-0013 & $\\dots$ \\\\\n",
       "\t9 & CS001615000372 & 稲垣 寿々花 & 1 & 女性 & 1956-10-29 & 62 & 144-0035 & $\\dots$ \\\\\n",
       "\t10 & CS032512000121 & 松井 知世 & 1 & 女性 & 1962-09-04 & 56 & 210-0011 & $\\dots$ \\\\\n",
       "\\end{tabular}\n"
      ],
      "text/plain": [
       "\u001b[1m10×11 DataFrame\u001b[0m\n",
       "\u001b[1m Row \u001b[0m│\u001b[1m customer_id    \u001b[0m\u001b[1m customer_name \u001b[0m\u001b[1m gender_cd \u001b[0m\u001b[1m gender  \u001b[0m\u001b[1m birth_day  \u001b[0m\u001b[1m age   \u001b[0m\u001b[1m p\u001b[0m ⋯\n",
       "     │\u001b[90m String         \u001b[0m\u001b[90m String31      \u001b[0m\u001b[90m String    \u001b[0m\u001b[90m String7 \u001b[0m\u001b[90m Date       \u001b[0m\u001b[90m Int64 \u001b[0m\u001b[90m S\u001b[0m ⋯\n",
       "─────┼──────────────────────────────────────────────────────────────────────────\n",
       "   1 │ CS011215000048  芦田 沙耶      1          女性     1992-02-01     27  2 ⋯\n",
       "   2 │ CS022513000105  島村 貴美子    1          女性     1962-03-12     57  2\n",
       "   3 │ CS001515000096  水野 陽子      9          不明     1960-11-29     58  1\n",
       "   4 │ CS013615000053  西脇 季衣      1          女性     1953-10-18     65  2\n",
       "   5 │ CS020412000161  小宮 薫        1          女性     1974-05-21     44  1 ⋯\n",
       "   6 │ CS001215000097  竹中 あさみ    1          女性     1990-07-25     28  1\n",
       "   7 │ CS035212000007  内村 恵梨香    1          女性     1990-12-04     28  1\n",
       "   8 │ CS002515000386  野田 コウ      1          女性     1963-05-30     55  1\n",
       "   9 │ CS001615000372  稲垣 寿々花    1          女性     1956-10-29     62  1 ⋯\n",
       "  10 │ CS032512000121  松井 知世      1          女性     1962-09-04     56  2\n",
       "\u001b[36m                                                               5 columns omitted\u001b[0m"
      ]
     },
     "execution_count": 20,
     "metadata": {},
     "output_type": "execute_result"
    }
   ],
   "source": [
    "@time \\\n",
    "@chain df_customer begin\n",
    "    @rsubset occursin(r\"^[A-F].*[1-9]$\", :status_cd)\n",
    "    first(10)\n",
    "end"
   ]
  },
  {
   "cell_type": "markdown",
   "metadata": {},
   "source": [
    "---\n",
    "> P-016: 店舗データ（df_store）から、電話番号（tel_no）が3桁-3桁-4桁のデータを全項目表示せよ。"
   ]
  },
  {
   "cell_type": "code",
   "execution_count": 21,
   "metadata": {},
   "outputs": [
    {
     "name": "stdout",
     "output_type": "stream",
     "text": [
      "  0.000001 seconds\n"
     ]
    },
    {
     "data": {
      "text/html": [
       "<div><div style = \"float: left;\"><span>34×10 DataFrame</span></div><div style = \"float: right;\"><span style = \"font-style: italic;\">9 rows omitted</span></div><div style = \"clear: both;\"></div></div><div class = \"data-frame\" style = \"overflow-x: scroll;\"><table class = \"data-frame\" style = \"margin-bottom: 6px;\"><thead><tr class = \"header\"><th class = \"rowNumber\" style = \"font-weight: bold; text-align: right;\">Row</th><th style = \"text-align: left;\">store_cd</th><th style = \"text-align: left;\">store_name</th><th style = \"text-align: left;\">prefecture_cd</th><th style = \"text-align: left;\">prefecture</th><th style = \"text-align: left;\">address</th><th style = \"text-align: left;\">address_kana</th><th style = \"text-align: left;\">tel_no</th><th style = \"text-align: left;\">longitude</th><th style = \"text-align: left;\">latitude</th><th style = \"text-align: left;\">floor_area</th></tr><tr class = \"subheader headerLastRow\"><th class = \"rowNumber\" style = \"font-weight: bold; text-align: right;\"></th><th title = \"String\" style = \"text-align: left;\">String</th><th title = \"InlineStrings.String31\" style = \"text-align: left;\">String31</th><th title = \"String\" style = \"text-align: left;\">String</th><th title = \"InlineStrings.String15\" style = \"text-align: left;\">String15</th><th title = \"String\" style = \"text-align: left;\">String</th><th title = \"String\" style = \"text-align: left;\">String</th><th title = \"String\" style = \"text-align: left;\">String</th><th title = \"Float64\" style = \"text-align: left;\">Float64</th><th title = \"Float64\" style = \"text-align: left;\">Float64</th><th title = \"Float64\" style = \"text-align: left;\">Float64</th></tr></thead><tbody><tr><td class = \"rowNumber\" style = \"font-weight: bold; text-align: right;\">1</td><td style = \"text-align: left;\">S12014</td><td style = \"text-align: left;\">千草台店</td><td style = \"text-align: left;\">12</td><td style = \"text-align: left;\">千葉県</td><td style = \"text-align: left;\">千葉県千葉市稲毛区千草台一丁目</td><td style = \"text-align: left;\">チバケンチバシイナゲクチグサダイイッチョウメ</td><td style = \"text-align: left;\">043-123-4003</td><td style = \"text-align: right;\">140.118</td><td style = \"text-align: right;\">35.6356</td><td style = \"text-align: right;\">1698.0</td></tr><tr><td class = \"rowNumber\" style = \"font-weight: bold; text-align: right;\">2</td><td style = \"text-align: left;\">S13002</td><td style = \"text-align: left;\">国分寺店</td><td style = \"text-align: left;\">13</td><td style = \"text-align: left;\">東京都</td><td style = \"text-align: left;\">東京都国分寺市本多二丁目</td><td style = \"text-align: left;\">トウキョウトコクブンジシホンダニチョウメ</td><td style = \"text-align: left;\">042-123-4008</td><td style = \"text-align: right;\">139.48</td><td style = \"text-align: right;\">35.7057</td><td style = \"text-align: right;\">1735.0</td></tr><tr><td class = \"rowNumber\" style = \"font-weight: bold; text-align: right;\">3</td><td style = \"text-align: left;\">S14010</td><td style = \"text-align: left;\">菊名店</td><td style = \"text-align: left;\">14</td><td style = \"text-align: left;\">神奈川県</td><td style = \"text-align: left;\">神奈川県横浜市港北区菊名一丁目</td><td style = \"text-align: left;\">カナガワケンヨコハマシコウホククキクナイッチョウメ</td><td style = \"text-align: left;\">045-123-4032</td><td style = \"text-align: right;\">139.633</td><td style = \"text-align: right;\">35.5005</td><td style = \"text-align: right;\">1732.0</td></tr><tr><td class = \"rowNumber\" style = \"font-weight: bold; text-align: right;\">4</td><td style = \"text-align: left;\">S14033</td><td style = \"text-align: left;\">阿久和店</td><td style = \"text-align: left;\">14</td><td style = \"text-align: left;\">神奈川県</td><td style = \"text-align: left;\">神奈川県横浜市瀬谷区阿久和西一丁目</td><td style = \"text-align: left;\">カナガワケンヨコハマシセヤクアクワニシイッチョウメ</td><td style = \"text-align: left;\">045-123-4043</td><td style = \"text-align: right;\">139.496</td><td style = \"text-align: right;\">35.4592</td><td style = \"text-align: right;\">1495.0</td></tr><tr><td class = \"rowNumber\" style = \"font-weight: bold; text-align: right;\">5</td><td style = \"text-align: left;\">S14036</td><td style = \"text-align: left;\">相模原中央店</td><td style = \"text-align: left;\">14</td><td style = \"text-align: left;\">神奈川県</td><td style = \"text-align: left;\">神奈川県相模原市中央二丁目</td><td style = \"text-align: left;\">カナガワケンサガミハラシチュウオウニチョウメ</td><td style = \"text-align: left;\">042-123-4045</td><td style = \"text-align: right;\">139.372</td><td style = \"text-align: right;\">35.5733</td><td style = \"text-align: right;\">1679.0</td></tr><tr><td class = \"rowNumber\" style = \"font-weight: bold; text-align: right;\">6</td><td style = \"text-align: left;\">S14040</td><td style = \"text-align: left;\">長津田店</td><td style = \"text-align: left;\">14</td><td style = \"text-align: left;\">神奈川県</td><td style = \"text-align: left;\">神奈川県横浜市緑区長津田みなみ台五丁目</td><td style = \"text-align: left;\">カナガワケンヨコハマシミドリクナガツタミナミダイゴチョウメ</td><td style = \"text-align: left;\">045-123-4046</td><td style = \"text-align: right;\">139.499</td><td style = \"text-align: right;\">35.524</td><td style = \"text-align: right;\">1548.0</td></tr><tr><td class = \"rowNumber\" style = \"font-weight: bold; text-align: right;\">7</td><td style = \"text-align: left;\">S14050</td><td style = \"text-align: left;\">阿久和西店</td><td style = \"text-align: left;\">14</td><td style = \"text-align: left;\">神奈川県</td><td style = \"text-align: left;\">神奈川県横浜市瀬谷区阿久和西一丁目</td><td style = \"text-align: left;\">カナガワケンヨコハマシセヤクアクワニシイッチョウメ</td><td style = \"text-align: left;\">045-123-4053</td><td style = \"text-align: right;\">139.496</td><td style = \"text-align: right;\">35.4592</td><td style = \"text-align: right;\">1830.0</td></tr><tr><td class = \"rowNumber\" style = \"font-weight: bold; text-align: right;\">8</td><td style = \"text-align: left;\">S13052</td><td style = \"text-align: left;\">森野店</td><td style = \"text-align: left;\">13</td><td style = \"text-align: left;\">東京都</td><td style = \"text-align: left;\">東京都町田市森野三丁目</td><td style = \"text-align: left;\">トウキョウトマチダシモリノサンチョウメ</td><td style = \"text-align: left;\">042-123-4030</td><td style = \"text-align: right;\">139.438</td><td style = \"text-align: right;\">35.5529</td><td style = \"text-align: right;\">1087.0</td></tr><tr><td class = \"rowNumber\" style = \"font-weight: bold; text-align: right;\">9</td><td style = \"text-align: left;\">S14028</td><td style = \"text-align: left;\">二ツ橋店</td><td style = \"text-align: left;\">14</td><td style = \"text-align: left;\">神奈川県</td><td style = \"text-align: left;\">神奈川県横浜市瀬谷区二ツ橋町</td><td style = \"text-align: left;\">カナガワケンヨコハマシセヤクフタツバシチョウ</td><td style = \"text-align: left;\">045-123-4042</td><td style = \"text-align: right;\">139.496</td><td style = \"text-align: right;\">35.463</td><td style = \"text-align: right;\">1574.0</td></tr><tr><td class = \"rowNumber\" style = \"font-weight: bold; text-align: right;\">10</td><td style = \"text-align: left;\">S14012</td><td style = \"text-align: left;\">本牧和田店</td><td style = \"text-align: left;\">14</td><td style = \"text-align: left;\">神奈川県</td><td style = \"text-align: left;\">神奈川県横浜市中区本牧和田</td><td style = \"text-align: left;\">カナガワケンヨコハマシナカクホンモクワダ</td><td style = \"text-align: left;\">045-123-4034</td><td style = \"text-align: right;\">139.658</td><td style = \"text-align: right;\">35.4216</td><td style = \"text-align: right;\">1341.0</td></tr><tr><td class = \"rowNumber\" style = \"font-weight: bold; text-align: right;\">11</td><td style = \"text-align: left;\">S14046</td><td style = \"text-align: left;\">北山田店</td><td style = \"text-align: left;\">14</td><td style = \"text-align: left;\">神奈川県</td><td style = \"text-align: left;\">神奈川県横浜市都筑区北山田一丁目</td><td style = \"text-align: left;\">カナガワケンヨコハマシツヅキクキタヤマタイッチョウメ</td><td style = \"text-align: left;\">045-123-4049</td><td style = \"text-align: right;\">139.592</td><td style = \"text-align: right;\">35.5619</td><td style = \"text-align: right;\">831.0</td></tr><tr><td class = \"rowNumber\" style = \"font-weight: bold; text-align: right;\">12</td><td style = \"text-align: left;\">S14022</td><td style = \"text-align: left;\">逗子店</td><td style = \"text-align: left;\">14</td><td style = \"text-align: left;\">神奈川県</td><td style = \"text-align: left;\">神奈川県逗子市逗子一丁目</td><td style = \"text-align: left;\">カナガワケンズシシズシイッチョウメ</td><td style = \"text-align: left;\">046-123-4036</td><td style = \"text-align: right;\">139.579</td><td style = \"text-align: right;\">35.2964</td><td style = \"text-align: right;\">1838.0</td></tr><tr><td class = \"rowNumber\" style = \"font-weight: bold; text-align: right;\">13</td><td style = \"text-align: left;\">S14011</td><td style = \"text-align: left;\">日吉本町店</td><td style = \"text-align: left;\">14</td><td style = \"text-align: left;\">神奈川県</td><td style = \"text-align: left;\">神奈川県横浜市港北区日吉本町四丁目</td><td style = \"text-align: left;\">カナガワケンヨコハマシコウホククヒヨシホンチョウヨンチョウメ</td><td style = \"text-align: left;\">045-123-4033</td><td style = \"text-align: right;\">139.632</td><td style = \"text-align: right;\">35.5466</td><td style = \"text-align: right;\">890.0</td></tr><tr><td style = \"text-align: right;\">&vellip;</td><td style = \"text-align: right;\">&vellip;</td><td style = \"text-align: right;\">&vellip;</td><td style = \"text-align: right;\">&vellip;</td><td style = \"text-align: right;\">&vellip;</td><td style = \"text-align: right;\">&vellip;</td><td style = \"text-align: right;\">&vellip;</td><td style = \"text-align: right;\">&vellip;</td><td style = \"text-align: right;\">&vellip;</td><td style = \"text-align: right;\">&vellip;</td><td style = \"text-align: right;\">&vellip;</td></tr><tr><td class = \"rowNumber\" style = \"font-weight: bold; text-align: right;\">23</td><td style = \"text-align: left;\">S14027</td><td style = \"text-align: left;\">南藤沢店</td><td style = \"text-align: left;\">14</td><td style = \"text-align: left;\">神奈川県</td><td style = \"text-align: left;\">神奈川県藤沢市南藤沢</td><td style = \"text-align: left;\">カナガワケンフジサワシミナミフジサワ</td><td style = \"text-align: left;\">046-123-4041</td><td style = \"text-align: right;\">139.49</td><td style = \"text-align: right;\">35.3376</td><td style = \"text-align: right;\">1521.0</td></tr><tr><td class = \"rowNumber\" style = \"font-weight: bold; text-align: right;\">24</td><td style = \"text-align: left;\">S14021</td><td style = \"text-align: left;\">伊勢原店</td><td style = \"text-align: left;\">14</td><td style = \"text-align: left;\">神奈川県</td><td style = \"text-align: left;\">神奈川県伊勢原市伊勢原四丁目</td><td style = \"text-align: left;\">カナガワケンイセハラシイセハラヨンチョウメ</td><td style = \"text-align: left;\">046-123-4035</td><td style = \"text-align: right;\">139.313</td><td style = \"text-align: right;\">35.4017</td><td style = \"text-align: right;\">962.0</td></tr><tr><td class = \"rowNumber\" style = \"font-weight: bold; text-align: right;\">25</td><td style = \"text-align: left;\">S14047</td><td style = \"text-align: left;\">相模原店</td><td style = \"text-align: left;\">14</td><td style = \"text-align: left;\">神奈川県</td><td style = \"text-align: left;\">神奈川県相模原市千代田六丁目</td><td style = \"text-align: left;\">カナガワケンサガミハラシチヨダロクチョウメ</td><td style = \"text-align: left;\">042-123-4050</td><td style = \"text-align: right;\">139.375</td><td style = \"text-align: right;\">35.5596</td><td style = \"text-align: right;\">1047.0</td></tr><tr><td class = \"rowNumber\" style = \"font-weight: bold; text-align: right;\">26</td><td style = \"text-align: left;\">S12013</td><td style = \"text-align: left;\">習志野店</td><td style = \"text-align: left;\">12</td><td style = \"text-align: left;\">千葉県</td><td style = \"text-align: left;\">千葉県習志野市芝園一丁目</td><td style = \"text-align: left;\">チバケンナラシノシシバゾノイッチョウメ</td><td style = \"text-align: left;\">047-123-4002</td><td style = \"text-align: right;\">140.022</td><td style = \"text-align: right;\">35.6612</td><td style = \"text-align: right;\">808.0</td></tr><tr><td class = \"rowNumber\" style = \"font-weight: bold; text-align: right;\">27</td><td style = \"text-align: left;\">S14042</td><td style = \"text-align: left;\">新山下店</td><td style = \"text-align: left;\">14</td><td style = \"text-align: left;\">神奈川県</td><td style = \"text-align: left;\">神奈川県横浜市中区新山下二丁目</td><td style = \"text-align: left;\">カナガワケンヨコハマシナカクシンヤマシタニチョウメ</td><td style = \"text-align: left;\">045-123-4047</td><td style = \"text-align: right;\">139.659</td><td style = \"text-align: right;\">35.4389</td><td style = \"text-align: right;\">1044.0</td></tr><tr><td class = \"rowNumber\" style = \"font-weight: bold; text-align: right;\">28</td><td style = \"text-align: left;\">S12030</td><td style = \"text-align: left;\">八幡店</td><td style = \"text-align: left;\">12</td><td style = \"text-align: left;\">千葉県</td><td style = \"text-align: left;\">千葉県市川市八幡三丁目</td><td style = \"text-align: left;\">チバケンイチカワシヤワタサンチョウメ</td><td style = \"text-align: left;\">047-123-4005</td><td style = \"text-align: right;\">139.924</td><td style = \"text-align: right;\">35.7232</td><td style = \"text-align: right;\">1162.0</td></tr><tr><td class = \"rowNumber\" style = \"font-weight: bold; text-align: right;\">29</td><td style = \"text-align: left;\">S14025</td><td style = \"text-align: left;\">大和店</td><td style = \"text-align: left;\">14</td><td style = \"text-align: left;\">神奈川県</td><td style = \"text-align: left;\">神奈川県大和市下和田</td><td style = \"text-align: left;\">カナガワケンヤマトシシモワダ</td><td style = \"text-align: left;\">046-123-4039</td><td style = \"text-align: right;\">139.468</td><td style = \"text-align: right;\">35.4341</td><td style = \"text-align: right;\">1011.0</td></tr><tr><td class = \"rowNumber\" style = \"font-weight: bold; text-align: right;\">30</td><td style = \"text-align: left;\">S14045</td><td style = \"text-align: left;\">厚木店</td><td style = \"text-align: left;\">14</td><td style = \"text-align: left;\">神奈川県</td><td style = \"text-align: left;\">神奈川県厚木市中町二丁目</td><td style = \"text-align: left;\">カナガワケンアツギシナカチョウニチョウメ</td><td style = \"text-align: left;\">046-123-4048</td><td style = \"text-align: right;\">139.365</td><td style = \"text-align: right;\">35.4418</td><td style = \"text-align: right;\">980.0</td></tr><tr><td class = \"rowNumber\" style = \"font-weight: bold; text-align: right;\">31</td><td style = \"text-align: left;\">S12029</td><td style = \"text-align: left;\">東野店</td><td style = \"text-align: left;\">12</td><td style = \"text-align: left;\">千葉県</td><td style = \"text-align: left;\">千葉県浦安市東野一丁目</td><td style = \"text-align: left;\">チバケンウラヤスシヒガシノイッチョウメ</td><td style = \"text-align: left;\">047-123-4004</td><td style = \"text-align: right;\">139.897</td><td style = \"text-align: right;\">35.6509</td><td style = \"text-align: right;\">1101.0</td></tr><tr><td class = \"rowNumber\" style = \"font-weight: bold; text-align: right;\">32</td><td style = \"text-align: left;\">S12053</td><td style = \"text-align: left;\">高洲店</td><td style = \"text-align: left;\">12</td><td style = \"text-align: left;\">千葉県</td><td style = \"text-align: left;\">千葉県浦安市高洲五丁目</td><td style = \"text-align: left;\">チバケンウラヤスシタカスゴチョウメ</td><td style = \"text-align: left;\">047-123-4006</td><td style = \"text-align: right;\">139.918</td><td style = \"text-align: right;\">35.6375</td><td style = \"text-align: right;\">1555.0</td></tr><tr><td class = \"rowNumber\" style = \"font-weight: bold; text-align: right;\">33</td><td style = \"text-align: left;\">S14024</td><td style = \"text-align: left;\">三田店</td><td style = \"text-align: left;\">14</td><td style = \"text-align: left;\">神奈川県</td><td style = \"text-align: left;\">神奈川県川崎市多摩区三田四丁目</td><td style = \"text-align: left;\">カナガワケンカワサキシタマクミタヨンチョウメ</td><td style = \"text-align: left;\">044-123-4038</td><td style = \"text-align: right;\">139.542</td><td style = \"text-align: right;\">35.6077</td><td style = \"text-align: right;\">972.0</td></tr><tr><td class = \"rowNumber\" style = \"font-weight: bold; text-align: right;\">34</td><td style = \"text-align: left;\">S14006</td><td style = \"text-align: left;\">葛が谷店</td><td style = \"text-align: left;\">14</td><td style = \"text-align: left;\">神奈川県</td><td style = \"text-align: left;\">神奈川県横浜市都筑区葛が谷</td><td style = \"text-align: left;\">カナガワケンヨコハマシツヅキククズガヤ</td><td style = \"text-align: left;\">045-123-4031</td><td style = \"text-align: right;\">139.563</td><td style = \"text-align: right;\">35.5357</td><td style = \"text-align: right;\">1886.0</td></tr></tbody></table></div>"
      ],
      "text/latex": [
       "\\begin{tabular}{r|cccccc}\n",
       "\t& store\\_cd & store\\_name & prefecture\\_cd & prefecture & address & \\\\\n",
       "\t\\hline\n",
       "\t& String & String31 & String & String15 & String & \\\\\n",
       "\t\\hline\n",
       "\t1 & S12014 & 千草台店 & 12 & 千葉県 & 千葉県千葉市稲毛区千草台一丁目 & $\\dots$ \\\\\n",
       "\t2 & S13002 & 国分寺店 & 13 & 東京都 & 東京都国分寺市本多二丁目 & $\\dots$ \\\\\n",
       "\t3 & S14010 & 菊名店 & 14 & 神奈川県 & 神奈川県横浜市港北区菊名一丁目 & $\\dots$ \\\\\n",
       "\t4 & S14033 & 阿久和店 & 14 & 神奈川県 & 神奈川県横浜市瀬谷区阿久和西一丁目 & $\\dots$ \\\\\n",
       "\t5 & S14036 & 相模原中央店 & 14 & 神奈川県 & 神奈川県相模原市中央二丁目 & $\\dots$ \\\\\n",
       "\t6 & S14040 & 長津田店 & 14 & 神奈川県 & 神奈川県横浜市緑区長津田みなみ台五丁目 & $\\dots$ \\\\\n",
       "\t7 & S14050 & 阿久和西店 & 14 & 神奈川県 & 神奈川県横浜市瀬谷区阿久和西一丁目 & $\\dots$ \\\\\n",
       "\t8 & S13052 & 森野店 & 13 & 東京都 & 東京都町田市森野三丁目 & $\\dots$ \\\\\n",
       "\t9 & S14028 & 二ツ橋店 & 14 & 神奈川県 & 神奈川県横浜市瀬谷区二ツ橋町 & $\\dots$ \\\\\n",
       "\t10 & S14012 & 本牧和田店 & 14 & 神奈川県 & 神奈川県横浜市中区本牧和田 & $\\dots$ \\\\\n",
       "\t11 & S14046 & 北山田店 & 14 & 神奈川県 & 神奈川県横浜市都筑区北山田一丁目 & $\\dots$ \\\\\n",
       "\t12 & S14022 & 逗子店 & 14 & 神奈川県 & 神奈川県逗子市逗子一丁目 & $\\dots$ \\\\\n",
       "\t13 & S14011 & 日吉本町店 & 14 & 神奈川県 & 神奈川県横浜市港北区日吉本町四丁目 & $\\dots$ \\\\\n",
       "\t14 & S13016 & 小金井店 & 13 & 東京都 & 東京都小金井市本町一丁目 & $\\dots$ \\\\\n",
       "\t15 & S14034 & 川崎野川店 & 14 & 神奈川県 & 神奈川県川崎市宮前区野川 & $\\dots$ \\\\\n",
       "\t16 & S14048 & 中川中央店 & 14 & 神奈川県 & 神奈川県横浜市都筑区中川中央二丁目 & $\\dots$ \\\\\n",
       "\t17 & S12007 & 佐倉店 & 12 & 千葉県 & 千葉県佐倉市上志津 & $\\dots$ \\\\\n",
       "\t18 & S14026 & 辻堂西海岸店 & 14 & 神奈川県 & 神奈川県藤沢市辻堂西海岸二丁目 & $\\dots$ \\\\\n",
       "\t19 & S13041 & 八王子店 & 13 & 東京都 & 東京都八王子市大塚 & $\\dots$ \\\\\n",
       "\t20 & S14049 & 川崎大師店 & 14 & 神奈川県 & 神奈川県川崎市川崎区中瀬三丁目 & $\\dots$ \\\\\n",
       "\t21 & S14023 & 川崎店 & 14 & 神奈川県 & 神奈川県川崎市川崎区本町二丁目 & $\\dots$ \\\\\n",
       "\t22 & S13018 & 清瀬店 & 13 & 東京都 & 東京都清瀬市松山一丁目 & $\\dots$ \\\\\n",
       "\t23 & S14027 & 南藤沢店 & 14 & 神奈川県 & 神奈川県藤沢市南藤沢 & $\\dots$ \\\\\n",
       "\t24 & S14021 & 伊勢原店 & 14 & 神奈川県 & 神奈川県伊勢原市伊勢原四丁目 & $\\dots$ \\\\\n",
       "\t25 & S14047 & 相模原店 & 14 & 神奈川県 & 神奈川県相模原市千代田六丁目 & $\\dots$ \\\\\n",
       "\t26 & S12013 & 習志野店 & 12 & 千葉県 & 千葉県習志野市芝園一丁目 & $\\dots$ \\\\\n",
       "\t27 & S14042 & 新山下店 & 14 & 神奈川県 & 神奈川県横浜市中区新山下二丁目 & $\\dots$ \\\\\n",
       "\t28 & S12030 & 八幡店 & 12 & 千葉県 & 千葉県市川市八幡三丁目 & $\\dots$ \\\\\n",
       "\t29 & S14025 & 大和店 & 14 & 神奈川県 & 神奈川県大和市下和田 & $\\dots$ \\\\\n",
       "\t30 & S14045 & 厚木店 & 14 & 神奈川県 & 神奈川県厚木市中町二丁目 & $\\dots$ \\\\\n",
       "\t$\\dots$ & $\\dots$ & $\\dots$ & $\\dots$ & $\\dots$ & $\\dots$ &  \\\\\n",
       "\\end{tabular}\n"
      ],
      "text/plain": [
       "\u001b[1m34×10 DataFrame\u001b[0m\n",
       "\u001b[1m Row \u001b[0m│\u001b[1m store_cd \u001b[0m\u001b[1m store_name   \u001b[0m\u001b[1m prefecture_cd \u001b[0m\u001b[1m prefecture \u001b[0m\u001b[1m address             \u001b[0m ⋯\n",
       "     │\u001b[90m String   \u001b[0m\u001b[90m String31     \u001b[0m\u001b[90m String        \u001b[0m\u001b[90m String15   \u001b[0m\u001b[90m String              \u001b[0m ⋯\n",
       "─────┼──────────────────────────────────────────────────────────────────────────\n",
       "   1 │ S12014    千草台店      12             千葉県      千葉県千葉市稲毛区千 ⋯\n",
       "   2 │ S13002    国分寺店      13             東京都      東京都国分寺市本多二\n",
       "   3 │ S14010    菊名店        14             神奈川県    神奈川県横浜市港北区\n",
       "   4 │ S14033    阿久和店      14             神奈川県    神奈川県横浜市瀬谷区\n",
       "   5 │ S14036    相模原中央店  14             神奈川県    神奈川県相模原市中央 ⋯\n",
       "   6 │ S14040    長津田店      14             神奈川県    神奈川県横浜市緑区長\n",
       "   7 │ S14050    阿久和西店    14             神奈川県    神奈川県横浜市瀬谷区\n",
       "   8 │ S13052    森野店        13             東京都      東京都町田市森野三丁\n",
       "   9 │ S14028    二ツ橋店      14             神奈川県    神奈川県横浜市瀬谷区 ⋯\n",
       "  10 │ S14012    本牧和田店    14             神奈川県    神奈川県横浜市中区本\n",
       "  11 │ S14046    北山田店      14             神奈川県    神奈川県横浜市都筑区\n",
       "  ⋮  │    ⋮           ⋮              ⋮            ⋮                       ⋮    ⋱\n",
       "  25 │ S14047    相模原店      14             神奈川県    神奈川県相模原市千代\n",
       "  26 │ S12013    習志野店      12             千葉県      千葉県習志野市芝園一 ⋯\n",
       "  27 │ S14042    新山下店      14             神奈川県    神奈川県横浜市中区新\n",
       "  28 │ S12030    八幡店        12             千葉県      千葉県市川市八幡三丁\n",
       "  29 │ S14025    大和店        14             神奈川県    神奈川県大和市下和田\n",
       "  30 │ S14045    厚木店        14             神奈川県    神奈川県厚木市中町二 ⋯\n",
       "  31 │ S12029    東野店        12             千葉県      千葉県浦安市東野一丁\n",
       "  32 │ S12053    高洲店        12             千葉県      千葉県浦安市高洲五丁\n",
       "  33 │ S14024    三田店        14             神奈川県    神奈川県川崎市多摩区\n",
       "  34 │ S14006    葛が谷店      14             神奈川県    神奈川県横浜市都筑区 ⋯\n",
       "\u001b[36m                                                   6 columns and 13 rows omitted\u001b[0m"
      ]
     },
     "execution_count": 21,
     "metadata": {},
     "output_type": "execute_result"
    }
   ],
   "source": [
    "@time \\\n",
    "@rsubset df_store occursin(r\"^[0-9]{3}-[0-9]{3}-[0-9]{4}$\", :tel_no)"
   ]
  },
  {
   "cell_type": "markdown",
   "metadata": {},
   "source": [
    "---\n",
    "> P-017: 顧客データ（df_customer）を生年月日（birth_day）で高齢順にソートし、先頭から全項目を10件表示せよ。"
   ]
  },
  {
   "cell_type": "code",
   "execution_count": 22,
   "metadata": {},
   "outputs": [
    {
     "name": "stdout",
     "output_type": "stream",
     "text": [
      "  0.000001 seconds\n"
     ]
    },
    {
     "data": {
      "text/html": [
       "<div><div style = \"float: left;\"><span>10×11 DataFrame</span></div><div style = \"clear: both;\"></div></div><div class = \"data-frame\" style = \"overflow-x: scroll;\"><table class = \"data-frame\" style = \"margin-bottom: 6px;\"><thead><tr class = \"header\"><th class = \"rowNumber\" style = \"font-weight: bold; text-align: right;\">Row</th><th style = \"text-align: left;\">customer_id</th><th style = \"text-align: left;\">customer_name</th><th style = \"text-align: left;\">gender_cd</th><th style = \"text-align: left;\">gender</th><th style = \"text-align: left;\">birth_day</th><th style = \"text-align: left;\">age</th><th style = \"text-align: left;\">postal_cd</th><th style = \"text-align: left;\">address</th><th style = \"text-align: left;\">application_store_cd</th><th style = \"text-align: left;\">application_date</th><th style = \"text-align: left;\">status_cd</th></tr><tr class = \"subheader headerLastRow\"><th class = \"rowNumber\" style = \"font-weight: bold; text-align: right;\"></th><th title = \"String\" style = \"text-align: left;\">String</th><th title = \"InlineStrings.String31\" style = \"text-align: left;\">String31</th><th title = \"String\" style = \"text-align: left;\">String</th><th title = \"InlineStrings.String7\" style = \"text-align: left;\">String7</th><th title = \"Date\" style = \"text-align: left;\">Date</th><th title = \"Int64\" style = \"text-align: left;\">Int64</th><th title = \"String\" style = \"text-align: left;\">String</th><th title = \"String\" style = \"text-align: left;\">String</th><th title = \"String\" style = \"text-align: left;\">String</th><th title = \"String\" style = \"text-align: left;\">String</th><th title = \"String\" style = \"text-align: left;\">String</th></tr></thead><tbody><tr><td class = \"rowNumber\" style = \"font-weight: bold; text-align: right;\">1</td><td style = \"text-align: left;\">CS003813000014</td><td style = \"text-align: left;\">村山 菜々美</td><td style = \"text-align: left;\">1</td><td style = \"text-align: left;\">女性</td><td style = \"text-align: left;\">1928-11-26</td><td style = \"text-align: right;\">90</td><td style = \"text-align: left;\">182-0007</td><td style = \"text-align: left;\">東京都調布市菊野台**********</td><td style = \"text-align: left;\">S13003</td><td style = \"text-align: left;\">20160214</td><td style = \"text-align: left;\">0-00000000-0</td></tr><tr><td class = \"rowNumber\" style = \"font-weight: bold; text-align: right;\">2</td><td style = \"text-align: left;\">CS026813000004</td><td style = \"text-align: left;\">吉村 朝陽</td><td style = \"text-align: left;\">1</td><td style = \"text-align: left;\">女性</td><td style = \"text-align: left;\">1928-12-14</td><td style = \"text-align: right;\">90</td><td style = \"text-align: left;\">251-0043</td><td style = \"text-align: left;\">神奈川県藤沢市辻堂元町**********</td><td style = \"text-align: left;\">S14026</td><td style = \"text-align: left;\">20150723</td><td style = \"text-align: left;\">0-00000000-0</td></tr><tr><td class = \"rowNumber\" style = \"font-weight: bold; text-align: right;\">3</td><td style = \"text-align: left;\">CS018811000003</td><td style = \"text-align: left;\">熊沢 美里</td><td style = \"text-align: left;\">1</td><td style = \"text-align: left;\">女性</td><td style = \"text-align: left;\">1929-01-07</td><td style = \"text-align: right;\">90</td><td style = \"text-align: left;\">204-0004</td><td style = \"text-align: left;\">東京都清瀬市野塩**********</td><td style = \"text-align: left;\">S13018</td><td style = \"text-align: left;\">20150403</td><td style = \"text-align: left;\">0-00000000-0</td></tr><tr><td class = \"rowNumber\" style = \"font-weight: bold; text-align: right;\">4</td><td style = \"text-align: left;\">CS027803000004</td><td style = \"text-align: left;\">内村 拓郎</td><td style = \"text-align: left;\">0</td><td style = \"text-align: left;\">男性</td><td style = \"text-align: left;\">1929-01-12</td><td style = \"text-align: right;\">90</td><td style = \"text-align: left;\">251-0031</td><td style = \"text-align: left;\">神奈川県藤沢市鵠沼藤が谷**********</td><td style = \"text-align: left;\">S14027</td><td style = \"text-align: left;\">20151227</td><td style = \"text-align: left;\">0-00000000-0</td></tr><tr><td class = \"rowNumber\" style = \"font-weight: bold; text-align: right;\">5</td><td style = \"text-align: left;\">CS013801000003</td><td style = \"text-align: left;\">天野 拓郎</td><td style = \"text-align: left;\">0</td><td style = \"text-align: left;\">男性</td><td style = \"text-align: left;\">1929-01-15</td><td style = \"text-align: right;\">90</td><td style = \"text-align: left;\">274-0824</td><td style = \"text-align: left;\">千葉県船橋市前原東**********</td><td style = \"text-align: left;\">S12013</td><td style = \"text-align: left;\">20160120</td><td style = \"text-align: left;\">0-00000000-0</td></tr><tr><td class = \"rowNumber\" style = \"font-weight: bold; text-align: right;\">6</td><td style = \"text-align: left;\">CS001814000022</td><td style = \"text-align: left;\">鶴田 里穂</td><td style = \"text-align: left;\">1</td><td style = \"text-align: left;\">女性</td><td style = \"text-align: left;\">1929-01-28</td><td style = \"text-align: right;\">90</td><td style = \"text-align: left;\">144-0045</td><td style = \"text-align: left;\">東京都大田区南六郷**********</td><td style = \"text-align: left;\">S13001</td><td style = \"text-align: left;\">20161012</td><td style = \"text-align: left;\">A-20090415-7</td></tr><tr><td class = \"rowNumber\" style = \"font-weight: bold; text-align: right;\">7</td><td style = \"text-align: left;\">CS016815000002</td><td style = \"text-align: left;\">山元 美紀</td><td style = \"text-align: left;\">1</td><td style = \"text-align: left;\">女性</td><td style = \"text-align: left;\">1929-02-22</td><td style = \"text-align: right;\">90</td><td style = \"text-align: left;\">184-0005</td><td style = \"text-align: left;\">東京都小金井市桜町**********</td><td style = \"text-align: left;\">S13016</td><td style = \"text-align: left;\">20150629</td><td style = \"text-align: left;\">C-20090923-C</td></tr><tr><td class = \"rowNumber\" style = \"font-weight: bold; text-align: right;\">8</td><td style = \"text-align: left;\">CS009815000003</td><td style = \"text-align: left;\">中田 里穂</td><td style = \"text-align: left;\">1</td><td style = \"text-align: left;\">女性</td><td style = \"text-align: left;\">1929-04-08</td><td style = \"text-align: right;\">89</td><td style = \"text-align: left;\">154-0014</td><td style = \"text-align: left;\">東京都世田谷区新町**********</td><td style = \"text-align: left;\">S13009</td><td style = \"text-align: left;\">20150421</td><td style = \"text-align: left;\">D-20091021-E</td></tr><tr><td class = \"rowNumber\" style = \"font-weight: bold; text-align: right;\">9</td><td style = \"text-align: left;\">CS012813000013</td><td style = \"text-align: left;\">宇野 南朋</td><td style = \"text-align: left;\">1</td><td style = \"text-align: left;\">女性</td><td style = \"text-align: left;\">1929-04-09</td><td style = \"text-align: right;\">89</td><td style = \"text-align: left;\">231-0806</td><td style = \"text-align: left;\">神奈川県横浜市中区本牧町**********</td><td style = \"text-align: left;\">S14012</td><td style = \"text-align: left;\">20150712</td><td style = \"text-align: left;\">0-00000000-0</td></tr><tr><td class = \"rowNumber\" style = \"font-weight: bold; text-align: right;\">10</td><td style = \"text-align: left;\">CS005813000015</td><td style = \"text-align: left;\">金谷 恵梨香</td><td style = \"text-align: left;\">1</td><td style = \"text-align: left;\">女性</td><td style = \"text-align: left;\">1929-04-09</td><td style = \"text-align: right;\">89</td><td style = \"text-align: left;\">165-0032</td><td style = \"text-align: left;\">東京都中野区鷺宮**********</td><td style = \"text-align: left;\">S13005</td><td style = \"text-align: left;\">20150506</td><td style = \"text-align: left;\">0-00000000-0</td></tr></tbody></table></div>"
      ],
      "text/latex": [
       "\\begin{tabular}{r|cccccccc}\n",
       "\t& customer\\_id & customer\\_name & gender\\_cd & gender & birth\\_day & age & postal\\_cd & \\\\\n",
       "\t\\hline\n",
       "\t& String & String31 & String & String7 & Date & Int64 & String & \\\\\n",
       "\t\\hline\n",
       "\t1 & CS003813000014 & 村山 菜々美 & 1 & 女性 & 1928-11-26 & 90 & 182-0007 & $\\dots$ \\\\\n",
       "\t2 & CS026813000004 & 吉村 朝陽 & 1 & 女性 & 1928-12-14 & 90 & 251-0043 & $\\dots$ \\\\\n",
       "\t3 & CS018811000003 & 熊沢 美里 & 1 & 女性 & 1929-01-07 & 90 & 204-0004 & $\\dots$ \\\\\n",
       "\t4 & CS027803000004 & 内村 拓郎 & 0 & 男性 & 1929-01-12 & 90 & 251-0031 & $\\dots$ \\\\\n",
       "\t5 & CS013801000003 & 天野 拓郎 & 0 & 男性 & 1929-01-15 & 90 & 274-0824 & $\\dots$ \\\\\n",
       "\t6 & CS001814000022 & 鶴田 里穂 & 1 & 女性 & 1929-01-28 & 90 & 144-0045 & $\\dots$ \\\\\n",
       "\t7 & CS016815000002 & 山元 美紀 & 1 & 女性 & 1929-02-22 & 90 & 184-0005 & $\\dots$ \\\\\n",
       "\t8 & CS009815000003 & 中田 里穂 & 1 & 女性 & 1929-04-08 & 89 & 154-0014 & $\\dots$ \\\\\n",
       "\t9 & CS012813000013 & 宇野 南朋 & 1 & 女性 & 1929-04-09 & 89 & 231-0806 & $\\dots$ \\\\\n",
       "\t10 & CS005813000015 & 金谷 恵梨香 & 1 & 女性 & 1929-04-09 & 89 & 165-0032 & $\\dots$ \\\\\n",
       "\\end{tabular}\n"
      ],
      "text/plain": [
       "\u001b[1m10×11 DataFrame\u001b[0m\n",
       "\u001b[1m Row \u001b[0m│\u001b[1m customer_id    \u001b[0m\u001b[1m customer_name \u001b[0m\u001b[1m gender_cd \u001b[0m\u001b[1m gender  \u001b[0m\u001b[1m birth_day  \u001b[0m\u001b[1m age   \u001b[0m\u001b[1m p\u001b[0m ⋯\n",
       "     │\u001b[90m String         \u001b[0m\u001b[90m String31      \u001b[0m\u001b[90m String    \u001b[0m\u001b[90m String7 \u001b[0m\u001b[90m Date       \u001b[0m\u001b[90m Int64 \u001b[0m\u001b[90m S\u001b[0m ⋯\n",
       "─────┼──────────────────────────────────────────────────────────────────────────\n",
       "   1 │ CS003813000014  村山 菜々美    1          女性     1928-11-26     90  1 ⋯\n",
       "   2 │ CS026813000004  吉村 朝陽      1          女性     1928-12-14     90  2\n",
       "   3 │ CS018811000003  熊沢 美里      1          女性     1929-01-07     90  2\n",
       "   4 │ CS027803000004  内村 拓郎      0          男性     1929-01-12     90  2\n",
       "   5 │ CS013801000003  天野 拓郎      0          男性     1929-01-15     90  2 ⋯\n",
       "   6 │ CS001814000022  鶴田 里穂      1          女性     1929-01-28     90  1\n",
       "   7 │ CS016815000002  山元 美紀      1          女性     1929-02-22     90  1\n",
       "   8 │ CS009815000003  中田 里穂      1          女性     1929-04-08     89  1\n",
       "   9 │ CS012813000013  宇野 南朋      1          女性     1929-04-09     89  2 ⋯\n",
       "  10 │ CS005813000015  金谷 恵梨香    1          女性     1929-04-09     89  1\n",
       "\u001b[36m                                                               5 columns omitted\u001b[0m"
      ]
     },
     "execution_count": 22,
     "metadata": {},
     "output_type": "execute_result"
    }
   ],
   "source": [
    "@time \\\n",
    "@chain df_customer begin\n",
    "    @orderby :birth_day\n",
    "    first(10)\n",
    "end"
   ]
  },
  {
   "cell_type": "markdown",
   "metadata": {},
   "source": [
    "---\n",
    "> P-018: 顧客データ（df_customer）を生年月日（birth_day）で若い順にソートし、先頭から全項目を10件表示せよ。"
   ]
  },
  {
   "cell_type": "code",
   "execution_count": 23,
   "metadata": {},
   "outputs": [
    {
     "name": "stdout",
     "output_type": "stream",
     "text": [
      "  0.000001 seconds\n"
     ]
    },
    {
     "data": {
      "text/html": [
       "<div><div style = \"float: left;\"><span>10×11 DataFrame</span></div><div style = \"clear: both;\"></div></div><div class = \"data-frame\" style = \"overflow-x: scroll;\"><table class = \"data-frame\" style = \"margin-bottom: 6px;\"><thead><tr class = \"header\"><th class = \"rowNumber\" style = \"font-weight: bold; text-align: right;\">Row</th><th style = \"text-align: left;\">customer_id</th><th style = \"text-align: left;\">customer_name</th><th style = \"text-align: left;\">gender_cd</th><th style = \"text-align: left;\">gender</th><th style = \"text-align: left;\">birth_day</th><th style = \"text-align: left;\">age</th><th style = \"text-align: left;\">postal_cd</th><th style = \"text-align: left;\">address</th><th style = \"text-align: left;\">application_store_cd</th><th style = \"text-align: left;\">application_date</th><th style = \"text-align: left;\">status_cd</th></tr><tr class = \"subheader headerLastRow\"><th class = \"rowNumber\" style = \"font-weight: bold; text-align: right;\"></th><th title = \"String\" style = \"text-align: left;\">String</th><th title = \"InlineStrings.String31\" style = \"text-align: left;\">String31</th><th title = \"String\" style = \"text-align: left;\">String</th><th title = \"InlineStrings.String7\" style = \"text-align: left;\">String7</th><th title = \"Date\" style = \"text-align: left;\">Date</th><th title = \"Int64\" style = \"text-align: left;\">Int64</th><th title = \"String\" style = \"text-align: left;\">String</th><th title = \"String\" style = \"text-align: left;\">String</th><th title = \"String\" style = \"text-align: left;\">String</th><th title = \"String\" style = \"text-align: left;\">String</th><th title = \"String\" style = \"text-align: left;\">String</th></tr></thead><tbody><tr><td class = \"rowNumber\" style = \"font-weight: bold; text-align: right;\">1</td><td style = \"text-align: left;\">CS035114000004</td><td style = \"text-align: left;\">大村 美里</td><td style = \"text-align: left;\">1</td><td style = \"text-align: left;\">女性</td><td style = \"text-align: left;\">2007-11-25</td><td style = \"text-align: right;\">11</td><td style = \"text-align: left;\">156-0053</td><td style = \"text-align: left;\">東京都世田谷区桜**********</td><td style = \"text-align: left;\">S13035</td><td style = \"text-align: left;\">20150619</td><td style = \"text-align: left;\">6-20091205-6</td></tr><tr><td class = \"rowNumber\" style = \"font-weight: bold; text-align: right;\">2</td><td style = \"text-align: left;\">CS022103000002</td><td style = \"text-align: left;\">福山 はじめ</td><td style = \"text-align: left;\">9</td><td style = \"text-align: left;\">不明</td><td style = \"text-align: left;\">2007-10-02</td><td style = \"text-align: right;\">11</td><td style = \"text-align: left;\">249-0006</td><td style = \"text-align: left;\">神奈川県逗子市逗子**********</td><td style = \"text-align: left;\">S14022</td><td style = \"text-align: left;\">20160909</td><td style = \"text-align: left;\">0-00000000-0</td></tr><tr><td class = \"rowNumber\" style = \"font-weight: bold; text-align: right;\">3</td><td style = \"text-align: left;\">CS002113000009</td><td style = \"text-align: left;\">柴田 真悠子</td><td style = \"text-align: left;\">1</td><td style = \"text-align: left;\">女性</td><td style = \"text-align: left;\">2007-09-17</td><td style = \"text-align: right;\">11</td><td style = \"text-align: left;\">184-0014</td><td style = \"text-align: left;\">東京都小金井市貫井南町**********</td><td style = \"text-align: left;\">S13002</td><td style = \"text-align: left;\">20160304</td><td style = \"text-align: left;\">0-00000000-0</td></tr><tr><td class = \"rowNumber\" style = \"font-weight: bold; text-align: right;\">4</td><td style = \"text-align: left;\">CS004115000014</td><td style = \"text-align: left;\">松井 京子</td><td style = \"text-align: left;\">1</td><td style = \"text-align: left;\">女性</td><td style = \"text-align: left;\">2007-08-09</td><td style = \"text-align: right;\">11</td><td style = \"text-align: left;\">165-0031</td><td style = \"text-align: left;\">東京都中野区上鷺宮**********</td><td style = \"text-align: left;\">S13004</td><td style = \"text-align: left;\">20161120</td><td style = \"text-align: left;\">1-20081231-1</td></tr><tr><td class = \"rowNumber\" style = \"font-weight: bold; text-align: right;\">5</td><td style = \"text-align: left;\">CS002114000010</td><td style = \"text-align: left;\">山内 遥</td><td style = \"text-align: left;\">1</td><td style = \"text-align: left;\">女性</td><td style = \"text-align: left;\">2007-06-03</td><td style = \"text-align: right;\">11</td><td style = \"text-align: left;\">184-0015</td><td style = \"text-align: left;\">東京都小金井市貫井北町**********</td><td style = \"text-align: left;\">S13002</td><td style = \"text-align: left;\">20160920</td><td style = \"text-align: left;\">6-20100510-1</td></tr><tr><td class = \"rowNumber\" style = \"font-weight: bold; text-align: right;\">6</td><td style = \"text-align: left;\">CS025115000002</td><td style = \"text-align: left;\">小柳 夏希</td><td style = \"text-align: left;\">1</td><td style = \"text-align: left;\">女性</td><td style = \"text-align: left;\">2007-04-18</td><td style = \"text-align: right;\">11</td><td style = \"text-align: left;\">245-0018</td><td style = \"text-align: left;\">神奈川県横浜市泉区上飯田町**********</td><td style = \"text-align: left;\">S14025</td><td style = \"text-align: left;\">20160116</td><td style = \"text-align: left;\">D-20100913-D</td></tr><tr><td class = \"rowNumber\" style = \"font-weight: bold; text-align: right;\">7</td><td style = \"text-align: left;\">CS002113000025</td><td style = \"text-align: left;\">広末 まなみ</td><td style = \"text-align: left;\">1</td><td style = \"text-align: left;\">女性</td><td style = \"text-align: left;\">2007-03-30</td><td style = \"text-align: right;\">12</td><td style = \"text-align: left;\">184-0015</td><td style = \"text-align: left;\">東京都小金井市貫井北町**********</td><td style = \"text-align: left;\">S13002</td><td style = \"text-align: left;\">20171030</td><td style = \"text-align: left;\">0-00000000-0</td></tr><tr><td class = \"rowNumber\" style = \"font-weight: bold; text-align: right;\">8</td><td style = \"text-align: left;\">CS033112000003</td><td style = \"text-align: left;\">長野 美紀</td><td style = \"text-align: left;\">1</td><td style = \"text-align: left;\">女性</td><td style = \"text-align: left;\">2007-03-22</td><td style = \"text-align: right;\">12</td><td style = \"text-align: left;\">245-0051</td><td style = \"text-align: left;\">神奈川県横浜市戸塚区名瀬町**********</td><td style = \"text-align: left;\">S14033</td><td style = \"text-align: left;\">20150606</td><td style = \"text-align: left;\">0-00000000-0</td></tr><tr><td class = \"rowNumber\" style = \"font-weight: bold; text-align: right;\">9</td><td style = \"text-align: left;\">CS007115000006</td><td style = \"text-align: left;\">福岡 瞬</td><td style = \"text-align: left;\">1</td><td style = \"text-align: left;\">女性</td><td style = \"text-align: left;\">2007-03-10</td><td style = \"text-align: right;\">12</td><td style = \"text-align: left;\">285-0845</td><td style = \"text-align: left;\">千葉県佐倉市西志津**********</td><td style = \"text-align: left;\">S12007</td><td style = \"text-align: left;\">20151118</td><td style = \"text-align: left;\">F-20101016-F</td></tr><tr><td class = \"rowNumber\" style = \"font-weight: bold; text-align: right;\">10</td><td style = \"text-align: left;\">CS014113000008</td><td style = \"text-align: left;\">矢口 莉緒</td><td style = \"text-align: left;\">1</td><td style = \"text-align: left;\">女性</td><td style = \"text-align: left;\">2007-03-05</td><td style = \"text-align: right;\">12</td><td style = \"text-align: left;\">260-0041</td><td style = \"text-align: left;\">千葉県千葉市中央区東千葉**********</td><td style = \"text-align: left;\">S12014</td><td style = \"text-align: left;\">20150622</td><td style = \"text-align: left;\">3-20091108-6</td></tr></tbody></table></div>"
      ],
      "text/latex": [
       "\\begin{tabular}{r|cccccccc}\n",
       "\t& customer\\_id & customer\\_name & gender\\_cd & gender & birth\\_day & age & postal\\_cd & \\\\\n",
       "\t\\hline\n",
       "\t& String & String31 & String & String7 & Date & Int64 & String & \\\\\n",
       "\t\\hline\n",
       "\t1 & CS035114000004 & 大村 美里 & 1 & 女性 & 2007-11-25 & 11 & 156-0053 & $\\dots$ \\\\\n",
       "\t2 & CS022103000002 & 福山 はじめ & 9 & 不明 & 2007-10-02 & 11 & 249-0006 & $\\dots$ \\\\\n",
       "\t3 & CS002113000009 & 柴田 真悠子 & 1 & 女性 & 2007-09-17 & 11 & 184-0014 & $\\dots$ \\\\\n",
       "\t4 & CS004115000014 & 松井 京子 & 1 & 女性 & 2007-08-09 & 11 & 165-0031 & $\\dots$ \\\\\n",
       "\t5 & CS002114000010 & 山内 遥 & 1 & 女性 & 2007-06-03 & 11 & 184-0015 & $\\dots$ \\\\\n",
       "\t6 & CS025115000002 & 小柳 夏希 & 1 & 女性 & 2007-04-18 & 11 & 245-0018 & $\\dots$ \\\\\n",
       "\t7 & CS002113000025 & 広末 まなみ & 1 & 女性 & 2007-03-30 & 12 & 184-0015 & $\\dots$ \\\\\n",
       "\t8 & CS033112000003 & 長野 美紀 & 1 & 女性 & 2007-03-22 & 12 & 245-0051 & $\\dots$ \\\\\n",
       "\t9 & CS007115000006 & 福岡 瞬 & 1 & 女性 & 2007-03-10 & 12 & 285-0845 & $\\dots$ \\\\\n",
       "\t10 & CS014113000008 & 矢口 莉緒 & 1 & 女性 & 2007-03-05 & 12 & 260-0041 & $\\dots$ \\\\\n",
       "\\end{tabular}\n"
      ],
      "text/plain": [
       "\u001b[1m10×11 DataFrame\u001b[0m\n",
       "\u001b[1m Row \u001b[0m│\u001b[1m customer_id    \u001b[0m\u001b[1m customer_name \u001b[0m\u001b[1m gender_cd \u001b[0m\u001b[1m gender  \u001b[0m\u001b[1m birth_day  \u001b[0m\u001b[1m age   \u001b[0m\u001b[1m p\u001b[0m ⋯\n",
       "     │\u001b[90m String         \u001b[0m\u001b[90m String31      \u001b[0m\u001b[90m String    \u001b[0m\u001b[90m String7 \u001b[0m\u001b[90m Date       \u001b[0m\u001b[90m Int64 \u001b[0m\u001b[90m S\u001b[0m ⋯\n",
       "─────┼──────────────────────────────────────────────────────────────────────────\n",
       "   1 │ CS035114000004  大村 美里      1          女性     2007-11-25     11  1 ⋯\n",
       "   2 │ CS022103000002  福山 はじめ    9          不明     2007-10-02     11  2\n",
       "   3 │ CS002113000009  柴田 真悠子    1          女性     2007-09-17     11  1\n",
       "   4 │ CS004115000014  松井 京子      1          女性     2007-08-09     11  1\n",
       "   5 │ CS002114000010  山内 遥        1          女性     2007-06-03     11  1 ⋯\n",
       "   6 │ CS025115000002  小柳 夏希      1          女性     2007-04-18     11  2\n",
       "   7 │ CS002113000025  広末 まなみ    1          女性     2007-03-30     12  1\n",
       "   8 │ CS033112000003  長野 美紀      1          女性     2007-03-22     12  2\n",
       "   9 │ CS007115000006  福岡 瞬        1          女性     2007-03-10     12  2 ⋯\n",
       "  10 │ CS014113000008  矢口 莉緒      1          女性     2007-03-05     12  2\n",
       "\u001b[36m                                                               5 columns omitted\u001b[0m"
      ]
     },
     "execution_count": 23,
     "metadata": {},
     "output_type": "execute_result"
    }
   ],
   "source": [
    "@time \\\n",
    "@chain df_customer begin\n",
    "    @orderby ordinalrank(:birth_day, rev=true)\n",
    "    first(10)\n",
    "end"
   ]
  },
  {
   "cell_type": "markdown",
   "metadata": {},
   "source": [
    "---\n",
    "> P-019: レシート明細データ（df_receipt）に対し、1件あたりの売上金額（amount）が高い順にランクを付与し、先頭から10件表示せよ。項目は顧客ID（customer_id）、売上金額（amount）、付与したランクを表示させること。なお、売上金額（amount）が等しい場合は同一順位を付与するものとする。"
   ]
  },
  {
   "cell_type": "code",
   "execution_count": 24,
   "metadata": {},
   "outputs": [
    {
     "name": "stdout",
     "output_type": "stream",
     "text": [
      "  0.000001 seconds\n"
     ]
    },
    {
     "data": {
      "text/html": [
       "<div><div style = \"float: left;\"><span>10×3 DataFrame</span></div><div style = \"clear: both;\"></div></div><div class = \"data-frame\" style = \"overflow-x: scroll;\"><table class = \"data-frame\" style = \"margin-bottom: 6px;\"><thead><tr class = \"header\"><th class = \"rowNumber\" style = \"font-weight: bold; text-align: right;\">Row</th><th style = \"text-align: left;\">customer_id</th><th style = \"text-align: left;\">amount</th><th style = \"text-align: left;\">rank</th></tr><tr class = \"subheader headerLastRow\"><th class = \"rowNumber\" style = \"font-weight: bold; text-align: right;\"></th><th title = \"String\" style = \"text-align: left;\">String</th><th title = \"Int64\" style = \"text-align: left;\">Int64</th><th title = \"Int64\" style = \"text-align: left;\">Int64</th></tr></thead><tbody><tr><td class = \"rowNumber\" style = \"font-weight: bold; text-align: right;\">1</td><td style = \"text-align: left;\">CS011415000006</td><td style = \"text-align: right;\">10925</td><td style = \"text-align: right;\">1</td></tr><tr><td class = \"rowNumber\" style = \"font-weight: bold; text-align: right;\">2</td><td style = \"text-align: left;\">ZZ000000000000</td><td style = \"text-align: right;\">6800</td><td style = \"text-align: right;\">2</td></tr><tr><td class = \"rowNumber\" style = \"font-weight: bold; text-align: right;\">3</td><td style = \"text-align: left;\">CS028605000002</td><td style = \"text-align: right;\">5780</td><td style = \"text-align: right;\">3</td></tr><tr><td class = \"rowNumber\" style = \"font-weight: bold; text-align: right;\">4</td><td style = \"text-align: left;\">CS015515000034</td><td style = \"text-align: right;\">5480</td><td style = \"text-align: right;\">4</td></tr><tr><td class = \"rowNumber\" style = \"font-weight: bold; text-align: right;\">5</td><td style = \"text-align: left;\">ZZ000000000000</td><td style = \"text-align: right;\">5480</td><td style = \"text-align: right;\">4</td></tr><tr><td class = \"rowNumber\" style = \"font-weight: bold; text-align: right;\">6</td><td style = \"text-align: left;\">ZZ000000000000</td><td style = \"text-align: right;\">5480</td><td style = \"text-align: right;\">4</td></tr><tr><td class = \"rowNumber\" style = \"font-weight: bold; text-align: right;\">7</td><td style = \"text-align: left;\">ZZ000000000000</td><td style = \"text-align: right;\">5440</td><td style = \"text-align: right;\">7</td></tr><tr><td class = \"rowNumber\" style = \"font-weight: bold; text-align: right;\">8</td><td style = \"text-align: left;\">CS021515000089</td><td style = \"text-align: right;\">5440</td><td style = \"text-align: right;\">7</td></tr><tr><td class = \"rowNumber\" style = \"font-weight: bold; text-align: right;\">9</td><td style = \"text-align: left;\">CS015515000083</td><td style = \"text-align: right;\">5280</td><td style = \"text-align: right;\">9</td></tr><tr><td class = \"rowNumber\" style = \"font-weight: bold; text-align: right;\">10</td><td style = \"text-align: left;\">CS017414000114</td><td style = \"text-align: right;\">5280</td><td style = \"text-align: right;\">9</td></tr></tbody></table></div>"
      ],
      "text/latex": [
       "\\begin{tabular}{r|ccc}\n",
       "\t& customer\\_id & amount & rank\\\\\n",
       "\t\\hline\n",
       "\t& String & Int64 & Int64\\\\\n",
       "\t\\hline\n",
       "\t1 & CS011415000006 & 10925 & 1 \\\\\n",
       "\t2 & ZZ000000000000 & 6800 & 2 \\\\\n",
       "\t3 & CS028605000002 & 5780 & 3 \\\\\n",
       "\t4 & CS015515000034 & 5480 & 4 \\\\\n",
       "\t5 & ZZ000000000000 & 5480 & 4 \\\\\n",
       "\t6 & ZZ000000000000 & 5480 & 4 \\\\\n",
       "\t7 & ZZ000000000000 & 5440 & 7 \\\\\n",
       "\t8 & CS021515000089 & 5440 & 7 \\\\\n",
       "\t9 & CS015515000083 & 5280 & 9 \\\\\n",
       "\t10 & CS017414000114 & 5280 & 9 \\\\\n",
       "\\end{tabular}\n"
      ],
      "text/plain": [
       "\u001b[1m10×3 DataFrame\u001b[0m\n",
       "\u001b[1m Row \u001b[0m│\u001b[1m customer_id    \u001b[0m\u001b[1m amount \u001b[0m\u001b[1m rank  \u001b[0m\n",
       "     │\u001b[90m String         \u001b[0m\u001b[90m Int64  \u001b[0m\u001b[90m Int64 \u001b[0m\n",
       "─────┼───────────────────────────────\n",
       "   1 │ CS011415000006   10925      1\n",
       "   2 │ ZZ000000000000    6800      2\n",
       "   3 │ CS028605000002    5780      3\n",
       "   4 │ CS015515000034    5480      4\n",
       "   5 │ ZZ000000000000    5480      4\n",
       "   6 │ ZZ000000000000    5480      4\n",
       "   7 │ ZZ000000000000    5440      7\n",
       "   8 │ CS021515000089    5440      7\n",
       "   9 │ CS015515000083    5280      9\n",
       "  10 │ CS017414000114    5280      9"
      ]
     },
     "execution_count": 24,
     "metadata": {},
     "output_type": "execute_result"
    }
   ],
   "source": [
    "@time \\\n",
    "@chain df_receipt begin\n",
    "    @transform :rank = competerank(:amount, rev=true)\n",
    "    @select :customer_id :amount :rank\n",
    "    @orderby :rank\n",
    "    first(10)\n",
    "end"
   ]
  },
  {
   "cell_type": "markdown",
   "metadata": {},
   "source": [
    "---\n",
    "> P-020: レシート明細データ（df_receipt）に対し、1件あたりの売上金額（amount）が高い順にランクを付与し、先頭から10件表示せよ。項目は顧客ID（customer_id）、売上金額（amount）、付与したランクを表示させること。なお、売上金額（amount）が等しい場合でも別順位を付与すること。"
   ]
  },
  {
   "cell_type": "code",
   "execution_count": 25,
   "metadata": {},
   "outputs": [
    {
     "name": "stdout",
     "output_type": "stream",
     "text": [
      "  0.000002 seconds\n"
     ]
    },
    {
     "data": {
      "text/html": [
       "<div><div style = \"float: left;\"><span>10×3 DataFrame</span></div><div style = \"clear: both;\"></div></div><div class = \"data-frame\" style = \"overflow-x: scroll;\"><table class = \"data-frame\" style = \"margin-bottom: 6px;\"><thead><tr class = \"header\"><th class = \"rowNumber\" style = \"font-weight: bold; text-align: right;\">Row</th><th style = \"text-align: left;\">customer_id</th><th style = \"text-align: left;\">amount</th><th style = \"text-align: left;\">rank</th></tr><tr class = \"subheader headerLastRow\"><th class = \"rowNumber\" style = \"font-weight: bold; text-align: right;\"></th><th title = \"String\" style = \"text-align: left;\">String</th><th title = \"Int64\" style = \"text-align: left;\">Int64</th><th title = \"Int64\" style = \"text-align: left;\">Int64</th></tr></thead><tbody><tr><td class = \"rowNumber\" style = \"font-weight: bold; text-align: right;\">1</td><td style = \"text-align: left;\">CS011415000006</td><td style = \"text-align: right;\">10925</td><td style = \"text-align: right;\">1</td></tr><tr><td class = \"rowNumber\" style = \"font-weight: bold; text-align: right;\">2</td><td style = \"text-align: left;\">ZZ000000000000</td><td style = \"text-align: right;\">6800</td><td style = \"text-align: right;\">2</td></tr><tr><td class = \"rowNumber\" style = \"font-weight: bold; text-align: right;\">3</td><td style = \"text-align: left;\">CS028605000002</td><td style = \"text-align: right;\">5780</td><td style = \"text-align: right;\">3</td></tr><tr><td class = \"rowNumber\" style = \"font-weight: bold; text-align: right;\">4</td><td style = \"text-align: left;\">CS015515000034</td><td style = \"text-align: right;\">5480</td><td style = \"text-align: right;\">4</td></tr><tr><td class = \"rowNumber\" style = \"font-weight: bold; text-align: right;\">5</td><td style = \"text-align: left;\">ZZ000000000000</td><td style = \"text-align: right;\">5480</td><td style = \"text-align: right;\">5</td></tr><tr><td class = \"rowNumber\" style = \"font-weight: bold; text-align: right;\">6</td><td style = \"text-align: left;\">ZZ000000000000</td><td style = \"text-align: right;\">5480</td><td style = \"text-align: right;\">6</td></tr><tr><td class = \"rowNumber\" style = \"font-weight: bold; text-align: right;\">7</td><td style = \"text-align: left;\">ZZ000000000000</td><td style = \"text-align: right;\">5440</td><td style = \"text-align: right;\">7</td></tr><tr><td class = \"rowNumber\" style = \"font-weight: bold; text-align: right;\">8</td><td style = \"text-align: left;\">CS021515000089</td><td style = \"text-align: right;\">5440</td><td style = \"text-align: right;\">8</td></tr><tr><td class = \"rowNumber\" style = \"font-weight: bold; text-align: right;\">9</td><td style = \"text-align: left;\">CS015515000083</td><td style = \"text-align: right;\">5280</td><td style = \"text-align: right;\">9</td></tr><tr><td class = \"rowNumber\" style = \"font-weight: bold; text-align: right;\">10</td><td style = \"text-align: left;\">CS017414000114</td><td style = \"text-align: right;\">5280</td><td style = \"text-align: right;\">10</td></tr></tbody></table></div>"
      ],
      "text/latex": [
       "\\begin{tabular}{r|ccc}\n",
       "\t& customer\\_id & amount & rank\\\\\n",
       "\t\\hline\n",
       "\t& String & Int64 & Int64\\\\\n",
       "\t\\hline\n",
       "\t1 & CS011415000006 & 10925 & 1 \\\\\n",
       "\t2 & ZZ000000000000 & 6800 & 2 \\\\\n",
       "\t3 & CS028605000002 & 5780 & 3 \\\\\n",
       "\t4 & CS015515000034 & 5480 & 4 \\\\\n",
       "\t5 & ZZ000000000000 & 5480 & 5 \\\\\n",
       "\t6 & ZZ000000000000 & 5480 & 6 \\\\\n",
       "\t7 & ZZ000000000000 & 5440 & 7 \\\\\n",
       "\t8 & CS021515000089 & 5440 & 8 \\\\\n",
       "\t9 & CS015515000083 & 5280 & 9 \\\\\n",
       "\t10 & CS017414000114 & 5280 & 10 \\\\\n",
       "\\end{tabular}\n"
      ],
      "text/plain": [
       "\u001b[1m10×3 DataFrame\u001b[0m\n",
       "\u001b[1m Row \u001b[0m│\u001b[1m customer_id    \u001b[0m\u001b[1m amount \u001b[0m\u001b[1m rank  \u001b[0m\n",
       "     │\u001b[90m String         \u001b[0m\u001b[90m Int64  \u001b[0m\u001b[90m Int64 \u001b[0m\n",
       "─────┼───────────────────────────────\n",
       "   1 │ CS011415000006   10925      1\n",
       "   2 │ ZZ000000000000    6800      2\n",
       "   3 │ CS028605000002    5780      3\n",
       "   4 │ CS015515000034    5480      4\n",
       "   5 │ ZZ000000000000    5480      5\n",
       "   6 │ ZZ000000000000    5480      6\n",
       "   7 │ ZZ000000000000    5440      7\n",
       "   8 │ CS021515000089    5440      8\n",
       "   9 │ CS015515000083    5280      9\n",
       "  10 │ CS017414000114    5280     10"
      ]
     },
     "execution_count": 25,
     "metadata": {},
     "output_type": "execute_result"
    }
   ],
   "source": [
    "@time \\\n",
    "@chain df_receipt begin\n",
    "    @transform :rank = ordinalrank(:amount, rev=true)\n",
    "    @select :customer_id :amount :rank\n",
    "    @orderby :rank\n",
    "    first(10)\n",
    "end"
   ]
  },
  {
   "cell_type": "markdown",
   "metadata": {},
   "source": [
    "---\n",
    "> P-021: レシート明細データ（df_receipt）に対し、件数をカウントせよ。"
   ]
  },
  {
   "cell_type": "code",
   "execution_count": 26,
   "metadata": {},
   "outputs": [
    {
     "name": "stdout",
     "output_type": "stream",
     "text": [
      "  0.000001 seconds\n"
     ]
    },
    {
     "data": {
      "text/plain": [
       "104681"
      ]
     },
     "execution_count": 26,
     "metadata": {},
     "output_type": "execute_result"
    }
   ],
   "source": [
    "@time \\\n",
    "nrow(df_receipt)"
   ]
  },
  {
   "cell_type": "markdown",
   "metadata": {},
   "source": [
    "---\n",
    "> P-022: レシート明細データ（df_receipt）の顧客ID（customer_id）に対し、ユニーク件数をカウントせよ。"
   ]
  },
  {
   "cell_type": "code",
   "execution_count": 27,
   "metadata": {},
   "outputs": [
    {
     "name": "stdout",
     "output_type": "stream",
     "text": [
      "  0.000006 seconds\n"
     ]
    },
    {
     "data": {
      "text/plain": [
       "8307"
      ]
     },
     "execution_count": 27,
     "metadata": {},
     "output_type": "execute_result"
    }
   ],
   "source": [
    "@time \\\n",
    "length(unique(df_receipt.customer_id))"
   ]
  },
  {
   "cell_type": "markdown",
   "metadata": {},
   "source": [
    "---\n",
    "> P-023: レシート明細データ（df_receipt）に対し、店舗コード（store_cd）ごとに売上金額（amount）と売上数量（quantity）を合計せよ。"
   ]
  },
  {
   "cell_type": "code",
   "execution_count": 28,
   "metadata": {},
   "outputs": [
    {
     "name": "stdout",
     "output_type": "stream",
     "text": [
      "  0.000003 seconds\n"
     ]
    },
    {
     "data": {
      "text/html": [
       "<div><div style = \"float: left;\"><span>52×3 DataFrame</span></div><div style = \"float: right;\"><span style = \"font-style: italic;\">27 rows omitted</span></div><div style = \"clear: both;\"></div></div><div class = \"data-frame\" style = \"overflow-x: scroll;\"><table class = \"data-frame\" style = \"margin-bottom: 6px;\"><thead><tr class = \"header\"><th class = \"rowNumber\" style = \"font-weight: bold; text-align: right;\">Row</th><th style = \"text-align: left;\">store_cd</th><th style = \"text-align: left;\">amount_sum</th><th style = \"text-align: left;\">quantity_sum</th></tr><tr class = \"subheader headerLastRow\"><th class = \"rowNumber\" style = \"font-weight: bold; text-align: right;\"></th><th title = \"String\" style = \"text-align: left;\">String</th><th title = \"Int64\" style = \"text-align: left;\">Int64</th><th title = \"Int64\" style = \"text-align: left;\">Int64</th></tr></thead><tbody><tr><td class = \"rowNumber\" style = \"font-weight: bold; text-align: right;\">1</td><td style = \"text-align: left;\">S12007</td><td style = \"text-align: right;\">638761</td><td style = \"text-align: right;\">2099</td></tr><tr><td class = \"rowNumber\" style = \"font-weight: bold; text-align: right;\">2</td><td style = \"text-align: left;\">S12013</td><td style = \"text-align: right;\">787513</td><td style = \"text-align: right;\">2425</td></tr><tr><td class = \"rowNumber\" style = \"font-weight: bold; text-align: right;\">3</td><td style = \"text-align: left;\">S12014</td><td style = \"text-align: right;\">725167</td><td style = \"text-align: right;\">2358</td></tr><tr><td class = \"rowNumber\" style = \"font-weight: bold; text-align: right;\">4</td><td style = \"text-align: left;\">S12029</td><td style = \"text-align: right;\">794741</td><td style = \"text-align: right;\">2555</td></tr><tr><td class = \"rowNumber\" style = \"font-weight: bold; text-align: right;\">5</td><td style = \"text-align: left;\">S12030</td><td style = \"text-align: right;\">684402</td><td style = \"text-align: right;\">2403</td></tr><tr><td class = \"rowNumber\" style = \"font-weight: bold; text-align: right;\">6</td><td style = \"text-align: left;\">S13001</td><td style = \"text-align: right;\">811936</td><td style = \"text-align: right;\">2347</td></tr><tr><td class = \"rowNumber\" style = \"font-weight: bold; text-align: right;\">7</td><td style = \"text-align: left;\">S13002</td><td style = \"text-align: right;\">727821</td><td style = \"text-align: right;\">2340</td></tr><tr><td class = \"rowNumber\" style = \"font-weight: bold; text-align: right;\">8</td><td style = \"text-align: left;\">S13003</td><td style = \"text-align: right;\">764294</td><td style = \"text-align: right;\">2197</td></tr><tr><td class = \"rowNumber\" style = \"font-weight: bold; text-align: right;\">9</td><td style = \"text-align: left;\">S13004</td><td style = \"text-align: right;\">779373</td><td style = \"text-align: right;\">2390</td></tr><tr><td class = \"rowNumber\" style = \"font-weight: bold; text-align: right;\">10</td><td style = \"text-align: left;\">S13005</td><td style = \"text-align: right;\">629876</td><td style = \"text-align: right;\">2004</td></tr><tr><td class = \"rowNumber\" style = \"font-weight: bold; text-align: right;\">11</td><td style = \"text-align: left;\">S13008</td><td style = \"text-align: right;\">809288</td><td style = \"text-align: right;\">2491</td></tr><tr><td class = \"rowNumber\" style = \"font-weight: bold; text-align: right;\">12</td><td style = \"text-align: left;\">S13009</td><td style = \"text-align: right;\">808870</td><td style = \"text-align: right;\">2486</td></tr><tr><td class = \"rowNumber\" style = \"font-weight: bold; text-align: right;\">13</td><td style = \"text-align: left;\">S13015</td><td style = \"text-align: right;\">780873</td><td style = \"text-align: right;\">2248</td></tr><tr><td style = \"text-align: right;\">&vellip;</td><td style = \"text-align: right;\">&vellip;</td><td style = \"text-align: right;\">&vellip;</td><td style = \"text-align: right;\">&vellip;</td></tr><tr><td class = \"rowNumber\" style = \"font-weight: bold; text-align: right;\">41</td><td style = \"text-align: left;\">S14028</td><td style = \"text-align: right;\">786145</td><td style = \"text-align: right;\">2458</td></tr><tr><td class = \"rowNumber\" style = \"font-weight: bold; text-align: right;\">42</td><td style = \"text-align: left;\">S14033</td><td style = \"text-align: right;\">725318</td><td style = \"text-align: right;\">2282</td></tr><tr><td class = \"rowNumber\" style = \"font-weight: bold; text-align: right;\">43</td><td style = \"text-align: left;\">S14034</td><td style = \"text-align: right;\">653681</td><td style = \"text-align: right;\">2024</td></tr><tr><td class = \"rowNumber\" style = \"font-weight: bold; text-align: right;\">44</td><td style = \"text-align: left;\">S14036</td><td style = \"text-align: right;\">203694</td><td style = \"text-align: right;\">635</td></tr><tr><td class = \"rowNumber\" style = \"font-weight: bold; text-align: right;\">45</td><td style = \"text-align: left;\">S14040</td><td style = \"text-align: right;\">701858</td><td style = \"text-align: right;\">2233</td></tr><tr><td class = \"rowNumber\" style = \"font-weight: bold; text-align: right;\">46</td><td style = \"text-align: left;\">S14042</td><td style = \"text-align: right;\">534689</td><td style = \"text-align: right;\">1935</td></tr><tr><td class = \"rowNumber\" style = \"font-weight: bold; text-align: right;\">47</td><td style = \"text-align: left;\">S14045</td><td style = \"text-align: right;\">458484</td><td style = \"text-align: right;\">1398</td></tr><tr><td class = \"rowNumber\" style = \"font-weight: bold; text-align: right;\">48</td><td style = \"text-align: left;\">S14046</td><td style = \"text-align: right;\">412646</td><td style = \"text-align: right;\">1354</td></tr><tr><td class = \"rowNumber\" style = \"font-weight: bold; text-align: right;\">49</td><td style = \"text-align: left;\">S14047</td><td style = \"text-align: right;\">338329</td><td style = \"text-align: right;\">1041</td></tr><tr><td class = \"rowNumber\" style = \"font-weight: bold; text-align: right;\">50</td><td style = \"text-align: left;\">S14048</td><td style = \"text-align: right;\">234276</td><td style = \"text-align: right;\">769</td></tr><tr><td class = \"rowNumber\" style = \"font-weight: bold; text-align: right;\">51</td><td style = \"text-align: left;\">S14049</td><td style = \"text-align: right;\">230808</td><td style = \"text-align: right;\">788</td></tr><tr><td class = \"rowNumber\" style = \"font-weight: bold; text-align: right;\">52</td><td style = \"text-align: left;\">S14050</td><td style = \"text-align: right;\">167090</td><td style = \"text-align: right;\">580</td></tr></tbody></table></div>"
      ],
      "text/latex": [
       "\\begin{tabular}{r|ccc}\n",
       "\t& store\\_cd & amount\\_sum & quantity\\_sum\\\\\n",
       "\t\\hline\n",
       "\t& String & Int64 & Int64\\\\\n",
       "\t\\hline\n",
       "\t1 & S12007 & 638761 & 2099 \\\\\n",
       "\t2 & S12013 & 787513 & 2425 \\\\\n",
       "\t3 & S12014 & 725167 & 2358 \\\\\n",
       "\t4 & S12029 & 794741 & 2555 \\\\\n",
       "\t5 & S12030 & 684402 & 2403 \\\\\n",
       "\t6 & S13001 & 811936 & 2347 \\\\\n",
       "\t7 & S13002 & 727821 & 2340 \\\\\n",
       "\t8 & S13003 & 764294 & 2197 \\\\\n",
       "\t9 & S13004 & 779373 & 2390 \\\\\n",
       "\t10 & S13005 & 629876 & 2004 \\\\\n",
       "\t11 & S13008 & 809288 & 2491 \\\\\n",
       "\t12 & S13009 & 808870 & 2486 \\\\\n",
       "\t13 & S13015 & 780873 & 2248 \\\\\n",
       "\t14 & S13016 & 793773 & 2432 \\\\\n",
       "\t15 & S13017 & 748221 & 2376 \\\\\n",
       "\t16 & S13018 & 790535 & 2562 \\\\\n",
       "\t17 & S13019 & 827833 & 2541 \\\\\n",
       "\t18 & S13020 & 796383 & 2383 \\\\\n",
       "\t19 & S13031 & 705968 & 2336 \\\\\n",
       "\t20 & S13032 & 790501 & 2491 \\\\\n",
       "\t21 & S13035 & 715869 & 2219 \\\\\n",
       "\t22 & S13037 & 693087 & 2344 \\\\\n",
       "\t23 & S13038 & 708884 & 2337 \\\\\n",
       "\t24 & S13039 & 611888 & 1981 \\\\\n",
       "\t25 & S13041 & 728266 & 2233 \\\\\n",
       "\t26 & S13043 & 587895 & 1881 \\\\\n",
       "\t27 & S13044 & 520764 & 1729 \\\\\n",
       "\t28 & S13051 & 107452 & 354 \\\\\n",
       "\t29 & S13052 & 100314 & 250 \\\\\n",
       "\t30 & S14006 & 712839 & 2284 \\\\\n",
       "\t$\\dots$ & $\\dots$ & $\\dots$ & $\\dots$ \\\\\n",
       "\\end{tabular}\n"
      ],
      "text/plain": [
       "\u001b[1m52×3 DataFrame\u001b[0m\n",
       "\u001b[1m Row \u001b[0m│\u001b[1m store_cd \u001b[0m\u001b[1m amount_sum \u001b[0m\u001b[1m quantity_sum \u001b[0m\n",
       "     │\u001b[90m String   \u001b[0m\u001b[90m Int64      \u001b[0m\u001b[90m Int64        \u001b[0m\n",
       "─────┼────────────────────────────────────\n",
       "   1 │ S12007        638761          2099\n",
       "   2 │ S12013        787513          2425\n",
       "   3 │ S12014        725167          2358\n",
       "   4 │ S12029        794741          2555\n",
       "   5 │ S12030        684402          2403\n",
       "   6 │ S13001        811936          2347\n",
       "   7 │ S13002        727821          2340\n",
       "   8 │ S13003        764294          2197\n",
       "   9 │ S13004        779373          2390\n",
       "  10 │ S13005        629876          2004\n",
       "  11 │ S13008        809288          2491\n",
       "  ⋮  │    ⋮          ⋮            ⋮\n",
       "  43 │ S14034        653681          2024\n",
       "  44 │ S14036        203694           635\n",
       "  45 │ S14040        701858          2233\n",
       "  46 │ S14042        534689          1935\n",
       "  47 │ S14045        458484          1398\n",
       "  48 │ S14046        412646          1354\n",
       "  49 │ S14047        338329          1041\n",
       "  50 │ S14048        234276           769\n",
       "  51 │ S14049        230808           788\n",
       "  52 │ S14050        167090           580\n",
       "\u001b[36m                           31 rows omitted\u001b[0m"
      ]
     },
     "execution_count": 28,
     "metadata": {},
     "output_type": "execute_result"
    }
   ],
   "source": [
    "@time \\\n",
    "@chain df_receipt begin\n",
    "    groupby(:store_cd, sort=true)\n",
    "    @combine begin\n",
    "        :amount_sum = sum(:amount)\n",
    "        :quantity_sum = sum(:quantity)\n",
    "    end\n",
    "end"
   ]
  },
  {
   "cell_type": "markdown",
   "metadata": {},
   "source": [
    "---\n",
    "> P-024: レシート明細データ（df_receipt）に対し、顧客ID（customer_id）ごとに最も新しい売上年月日（sales_ymd）を求め、10件表示せよ。"
   ]
  },
  {
   "cell_type": "code",
   "execution_count": 29,
   "metadata": {},
   "outputs": [
    {
     "name": "stdout",
     "output_type": "stream",
     "text": [
      "  0.000001 seconds\n"
     ]
    },
    {
     "data": {
      "text/html": [
       "<div><div style = \"float: left;\"><span>10×2 DataFrame</span></div><div style = \"clear: both;\"></div></div><div class = \"data-frame\" style = \"overflow-x: scroll;\"><table class = \"data-frame\" style = \"margin-bottom: 6px;\"><thead><tr class = \"header\"><th class = \"rowNumber\" style = \"font-weight: bold; text-align: right;\">Row</th><th style = \"text-align: left;\">customer_id</th><th style = \"text-align: left;\">sales_ymd_latest</th></tr><tr class = \"subheader headerLastRow\"><th class = \"rowNumber\" style = \"font-weight: bold; text-align: right;\"></th><th title = \"String\" style = \"text-align: left;\">String</th><th title = \"Int64\" style = \"text-align: left;\">Int64</th></tr></thead><tbody><tr><td class = \"rowNumber\" style = \"font-weight: bold; text-align: right;\">1</td><td style = \"text-align: left;\">CS001113000004</td><td style = \"text-align: right;\">20190308</td></tr><tr><td class = \"rowNumber\" style = \"font-weight: bold; text-align: right;\">2</td><td style = \"text-align: left;\">CS001114000005</td><td style = \"text-align: right;\">20190731</td></tr><tr><td class = \"rowNumber\" style = \"font-weight: bold; text-align: right;\">3</td><td style = \"text-align: left;\">CS001115000010</td><td style = \"text-align: right;\">20190405</td></tr><tr><td class = \"rowNumber\" style = \"font-weight: bold; text-align: right;\">4</td><td style = \"text-align: left;\">CS001205000004</td><td style = \"text-align: right;\">20190625</td></tr><tr><td class = \"rowNumber\" style = \"font-weight: bold; text-align: right;\">5</td><td style = \"text-align: left;\">CS001205000006</td><td style = \"text-align: right;\">20190224</td></tr><tr><td class = \"rowNumber\" style = \"font-weight: bold; text-align: right;\">6</td><td style = \"text-align: left;\">CS001211000025</td><td style = \"text-align: right;\">20190322</td></tr><tr><td class = \"rowNumber\" style = \"font-weight: bold; text-align: right;\">7</td><td style = \"text-align: left;\">CS001212000027</td><td style = \"text-align: right;\">20170127</td></tr><tr><td class = \"rowNumber\" style = \"font-weight: bold; text-align: right;\">8</td><td style = \"text-align: left;\">CS001212000031</td><td style = \"text-align: right;\">20180906</td></tr><tr><td class = \"rowNumber\" style = \"font-weight: bold; text-align: right;\">9</td><td style = \"text-align: left;\">CS001212000046</td><td style = \"text-align: right;\">20170811</td></tr><tr><td class = \"rowNumber\" style = \"font-weight: bold; text-align: right;\">10</td><td style = \"text-align: left;\">CS001212000070</td><td style = \"text-align: right;\">20191018</td></tr></tbody></table></div>"
      ],
      "text/latex": [
       "\\begin{tabular}{r|cc}\n",
       "\t& customer\\_id & sales\\_ymd\\_latest\\\\\n",
       "\t\\hline\n",
       "\t& String & Int64\\\\\n",
       "\t\\hline\n",
       "\t1 & CS001113000004 & 20190308 \\\\\n",
       "\t2 & CS001114000005 & 20190731 \\\\\n",
       "\t3 & CS001115000010 & 20190405 \\\\\n",
       "\t4 & CS001205000004 & 20190625 \\\\\n",
       "\t5 & CS001205000006 & 20190224 \\\\\n",
       "\t6 & CS001211000025 & 20190322 \\\\\n",
       "\t7 & CS001212000027 & 20170127 \\\\\n",
       "\t8 & CS001212000031 & 20180906 \\\\\n",
       "\t9 & CS001212000046 & 20170811 \\\\\n",
       "\t10 & CS001212000070 & 20191018 \\\\\n",
       "\\end{tabular}\n"
      ],
      "text/plain": [
       "\u001b[1m10×2 DataFrame\u001b[0m\n",
       "\u001b[1m Row \u001b[0m│\u001b[1m customer_id    \u001b[0m\u001b[1m sales_ymd_latest \u001b[0m\n",
       "     │\u001b[90m String         \u001b[0m\u001b[90m Int64            \u001b[0m\n",
       "─────┼──────────────────────────────────\n",
       "   1 │ CS001113000004          20190308\n",
       "   2 │ CS001114000005          20190731\n",
       "   3 │ CS001115000010          20190405\n",
       "   4 │ CS001205000004          20190625\n",
       "   5 │ CS001205000006          20190224\n",
       "   6 │ CS001211000025          20190322\n",
       "   7 │ CS001212000027          20170127\n",
       "   8 │ CS001212000031          20180906\n",
       "   9 │ CS001212000046          20170811\n",
       "  10 │ CS001212000070          20191018"
      ]
     },
     "execution_count": 29,
     "metadata": {},
     "output_type": "execute_result"
    }
   ],
   "source": [
    "@time \\\n",
    "@chain df_receipt begin\n",
    "    groupby(:customer_id, sort=true)\n",
    "    @combine :sales_ymd_latest = maximum(:sales_ymd)\n",
    "    first(10)\n",
    "end"
   ]
  },
  {
   "cell_type": "markdown",
   "metadata": {},
   "source": [
    "---\n",
    "> P-025: レシート明細データ（df_receipt）に対し、顧客ID（customer_id）ごとに最も古い売上年月日（sales_ymd）を求め、10件表示せよ。"
   ]
  },
  {
   "cell_type": "code",
   "execution_count": 30,
   "metadata": {},
   "outputs": [
    {
     "name": "stdout",
     "output_type": "stream",
     "text": [
      "  0.000006 seconds\n"
     ]
    },
    {
     "data": {
      "text/html": [
       "<div><div style = \"float: left;\"><span>10×2 DataFrame</span></div><div style = \"clear: both;\"></div></div><div class = \"data-frame\" style = \"overflow-x: scroll;\"><table class = \"data-frame\" style = \"margin-bottom: 6px;\"><thead><tr class = \"header\"><th class = \"rowNumber\" style = \"font-weight: bold; text-align: right;\">Row</th><th style = \"text-align: left;\">customer_id</th><th style = \"text-align: left;\">sales_ymd_first</th></tr><tr class = \"subheader headerLastRow\"><th class = \"rowNumber\" style = \"font-weight: bold; text-align: right;\"></th><th title = \"String\" style = \"text-align: left;\">String</th><th title = \"Int64\" style = \"text-align: left;\">Int64</th></tr></thead><tbody><tr><td class = \"rowNumber\" style = \"font-weight: bold; text-align: right;\">1</td><td style = \"text-align: left;\">CS001113000004</td><td style = \"text-align: right;\">20190308</td></tr><tr><td class = \"rowNumber\" style = \"font-weight: bold; text-align: right;\">2</td><td style = \"text-align: left;\">CS001114000005</td><td style = \"text-align: right;\">20180503</td></tr><tr><td class = \"rowNumber\" style = \"font-weight: bold; text-align: right;\">3</td><td style = \"text-align: left;\">CS001115000010</td><td style = \"text-align: right;\">20171228</td></tr><tr><td class = \"rowNumber\" style = \"font-weight: bold; text-align: right;\">4</td><td style = \"text-align: left;\">CS001205000004</td><td style = \"text-align: right;\">20170914</td></tr><tr><td class = \"rowNumber\" style = \"font-weight: bold; text-align: right;\">5</td><td style = \"text-align: left;\">CS001205000006</td><td style = \"text-align: right;\">20180207</td></tr><tr><td class = \"rowNumber\" style = \"font-weight: bold; text-align: right;\">6</td><td style = \"text-align: left;\">CS001211000025</td><td style = \"text-align: right;\">20190322</td></tr><tr><td class = \"rowNumber\" style = \"font-weight: bold; text-align: right;\">7</td><td style = \"text-align: left;\">CS001212000027</td><td style = \"text-align: right;\">20170127</td></tr><tr><td class = \"rowNumber\" style = \"font-weight: bold; text-align: right;\">8</td><td style = \"text-align: left;\">CS001212000031</td><td style = \"text-align: right;\">20180906</td></tr><tr><td class = \"rowNumber\" style = \"font-weight: bold; text-align: right;\">9</td><td style = \"text-align: left;\">CS001212000046</td><td style = \"text-align: right;\">20170811</td></tr><tr><td class = \"rowNumber\" style = \"font-weight: bold; text-align: right;\">10</td><td style = \"text-align: left;\">CS001212000070</td><td style = \"text-align: right;\">20191018</td></tr></tbody></table></div>"
      ],
      "text/latex": [
       "\\begin{tabular}{r|cc}\n",
       "\t& customer\\_id & sales\\_ymd\\_first\\\\\n",
       "\t\\hline\n",
       "\t& String & Int64\\\\\n",
       "\t\\hline\n",
       "\t1 & CS001113000004 & 20190308 \\\\\n",
       "\t2 & CS001114000005 & 20180503 \\\\\n",
       "\t3 & CS001115000010 & 20171228 \\\\\n",
       "\t4 & CS001205000004 & 20170914 \\\\\n",
       "\t5 & CS001205000006 & 20180207 \\\\\n",
       "\t6 & CS001211000025 & 20190322 \\\\\n",
       "\t7 & CS001212000027 & 20170127 \\\\\n",
       "\t8 & CS001212000031 & 20180906 \\\\\n",
       "\t9 & CS001212000046 & 20170811 \\\\\n",
       "\t10 & CS001212000070 & 20191018 \\\\\n",
       "\\end{tabular}\n"
      ],
      "text/plain": [
       "\u001b[1m10×2 DataFrame\u001b[0m\n",
       "\u001b[1m Row \u001b[0m│\u001b[1m customer_id    \u001b[0m\u001b[1m sales_ymd_first \u001b[0m\n",
       "     │\u001b[90m String         \u001b[0m\u001b[90m Int64           \u001b[0m\n",
       "─────┼─────────────────────────────────\n",
       "   1 │ CS001113000004         20190308\n",
       "   2 │ CS001114000005         20180503\n",
       "   3 │ CS001115000010         20171228\n",
       "   4 │ CS001205000004         20170914\n",
       "   5 │ CS001205000006         20180207\n",
       "   6 │ CS001211000025         20190322\n",
       "   7 │ CS001212000027         20170127\n",
       "   8 │ CS001212000031         20180906\n",
       "   9 │ CS001212000046         20170811\n",
       "  10 │ CS001212000070         20191018"
      ]
     },
     "execution_count": 30,
     "metadata": {},
     "output_type": "execute_result"
    }
   ],
   "source": [
    "@time \\\n",
    "@chain df_receipt begin\n",
    "    groupby(:customer_id, sort=true)\n",
    "    @combine :sales_ymd_first = minimum(:sales_ymd)\n",
    "    first(10)\n",
    "end"
   ]
  },
  {
   "cell_type": "markdown",
   "metadata": {},
   "source": [
    "---\n",
    "> P-026: レシート明細データ（df_receipt）に対し、顧客ID（customer_id）ごとに最も新しい売上年月日（sales_ymd）と古い売上年月日を求め、両者が異なるデータを10件表示せよ。"
   ]
  },
  {
   "cell_type": "code",
   "execution_count": 31,
   "metadata": {},
   "outputs": [
    {
     "name": "stdout",
     "output_type": "stream",
     "text": [
      "  0.000002 seconds\n"
     ]
    },
    {
     "data": {
      "text/html": [
       "<div><div style = \"float: left;\"><span>10×3 DataFrame</span></div><div style = \"clear: both;\"></div></div><div class = \"data-frame\" style = \"overflow-x: scroll;\"><table class = \"data-frame\" style = \"margin-bottom: 6px;\"><thead><tr class = \"header\"><th class = \"rowNumber\" style = \"font-weight: bold; text-align: right;\">Row</th><th style = \"text-align: left;\">customer_id</th><th style = \"text-align: left;\">sales_ymd_latest</th><th style = \"text-align: left;\">sales_ymd_first</th></tr><tr class = \"subheader headerLastRow\"><th class = \"rowNumber\" style = \"font-weight: bold; text-align: right;\"></th><th title = \"String\" style = \"text-align: left;\">String</th><th title = \"Int64\" style = \"text-align: left;\">Int64</th><th title = \"Int64\" style = \"text-align: left;\">Int64</th></tr></thead><tbody><tr><td class = \"rowNumber\" style = \"font-weight: bold; text-align: right;\">1</td><td style = \"text-align: left;\">CS001114000005</td><td style = \"text-align: right;\">20190731</td><td style = \"text-align: right;\">20180503</td></tr><tr><td class = \"rowNumber\" style = \"font-weight: bold; text-align: right;\">2</td><td style = \"text-align: left;\">CS001115000010</td><td style = \"text-align: right;\">20190405</td><td style = \"text-align: right;\">20171228</td></tr><tr><td class = \"rowNumber\" style = \"font-weight: bold; text-align: right;\">3</td><td style = \"text-align: left;\">CS001205000004</td><td style = \"text-align: right;\">20190625</td><td style = \"text-align: right;\">20170914</td></tr><tr><td class = \"rowNumber\" style = \"font-weight: bold; text-align: right;\">4</td><td style = \"text-align: left;\">CS001205000006</td><td style = \"text-align: right;\">20190224</td><td style = \"text-align: right;\">20180207</td></tr><tr><td class = \"rowNumber\" style = \"font-weight: bold; text-align: right;\">5</td><td style = \"text-align: left;\">CS001214000009</td><td style = \"text-align: right;\">20190902</td><td style = \"text-align: right;\">20170306</td></tr><tr><td class = \"rowNumber\" style = \"font-weight: bold; text-align: right;\">6</td><td style = \"text-align: left;\">CS001214000017</td><td style = \"text-align: right;\">20191006</td><td style = \"text-align: right;\">20180828</td></tr><tr><td class = \"rowNumber\" style = \"font-weight: bold; text-align: right;\">7</td><td style = \"text-align: left;\">CS001214000048</td><td style = \"text-align: right;\">20190929</td><td style = \"text-align: right;\">20171109</td></tr><tr><td class = \"rowNumber\" style = \"font-weight: bold; text-align: right;\">8</td><td style = \"text-align: left;\">CS001214000052</td><td style = \"text-align: right;\">20190617</td><td style = \"text-align: right;\">20180208</td></tr><tr><td class = \"rowNumber\" style = \"font-weight: bold; text-align: right;\">9</td><td style = \"text-align: left;\">CS001215000005</td><td style = \"text-align: right;\">20181021</td><td style = \"text-align: right;\">20170206</td></tr><tr><td class = \"rowNumber\" style = \"font-weight: bold; text-align: right;\">10</td><td style = \"text-align: left;\">CS001215000040</td><td style = \"text-align: right;\">20171022</td><td style = \"text-align: right;\">20170214</td></tr></tbody></table></div>"
      ],
      "text/latex": [
       "\\begin{tabular}{r|ccc}\n",
       "\t& customer\\_id & sales\\_ymd\\_latest & sales\\_ymd\\_first\\\\\n",
       "\t\\hline\n",
       "\t& String & Int64 & Int64\\\\\n",
       "\t\\hline\n",
       "\t1 & CS001114000005 & 20190731 & 20180503 \\\\\n",
       "\t2 & CS001115000010 & 20190405 & 20171228 \\\\\n",
       "\t3 & CS001205000004 & 20190625 & 20170914 \\\\\n",
       "\t4 & CS001205000006 & 20190224 & 20180207 \\\\\n",
       "\t5 & CS001214000009 & 20190902 & 20170306 \\\\\n",
       "\t6 & CS001214000017 & 20191006 & 20180828 \\\\\n",
       "\t7 & CS001214000048 & 20190929 & 20171109 \\\\\n",
       "\t8 & CS001214000052 & 20190617 & 20180208 \\\\\n",
       "\t9 & CS001215000005 & 20181021 & 20170206 \\\\\n",
       "\t10 & CS001215000040 & 20171022 & 20170214 \\\\\n",
       "\\end{tabular}\n"
      ],
      "text/plain": [
       "\u001b[1m10×3 DataFrame\u001b[0m\n",
       "\u001b[1m Row \u001b[0m│\u001b[1m customer_id    \u001b[0m\u001b[1m sales_ymd_latest \u001b[0m\u001b[1m sales_ymd_first \u001b[0m\n",
       "     │\u001b[90m String         \u001b[0m\u001b[90m Int64            \u001b[0m\u001b[90m Int64           \u001b[0m\n",
       "─────┼───────────────────────────────────────────────────\n",
       "   1 │ CS001114000005          20190731         20180503\n",
       "   2 │ CS001115000010          20190405         20171228\n",
       "   3 │ CS001205000004          20190625         20170914\n",
       "   4 │ CS001205000006          20190224         20180207\n",
       "   5 │ CS001214000009          20190902         20170306\n",
       "   6 │ CS001214000017          20191006         20180828\n",
       "   7 │ CS001214000048          20190929         20171109\n",
       "   8 │ CS001214000052          20190617         20180208\n",
       "   9 │ CS001215000005          20181021         20170206\n",
       "  10 │ CS001215000040          20171022         20170214"
      ]
     },
     "execution_count": 31,
     "metadata": {},
     "output_type": "execute_result"
    }
   ],
   "source": [
    "@time \\\n",
    "@chain df_receipt begin\n",
    "    groupby(:customer_id, sort=true)\n",
    "    @combine begin\n",
    "        :sales_ymd_latest = maximum(:sales_ymd)\n",
    "        :sales_ymd_first = minimum(:sales_ymd)\n",
    "    end\n",
    "    @rsubset :sales_ymd_latest != :sales_ymd_first\n",
    "    first(10)\n",
    "end"
   ]
  },
  {
   "cell_type": "markdown",
   "metadata": {},
   "source": [
    "---\n",
    "> P-027: レシート明細データ（df_receipt）に対し、店舗コード（store_cd）ごとに売上金額（amount）の平均を計算し、降順でTOP5を表示せよ。"
   ]
  },
  {
   "cell_type": "code",
   "execution_count": 32,
   "metadata": {},
   "outputs": [
    {
     "name": "stdout",
     "output_type": "stream",
     "text": [
      "  0.000001 seconds\n"
     ]
    },
    {
     "data": {
      "text/html": [
       "<div><div style = \"float: left;\"><span>5×2 DataFrame</span></div><div style = \"clear: both;\"></div></div><div class = \"data-frame\" style = \"overflow-x: scroll;\"><table class = \"data-frame\" style = \"margin-bottom: 6px;\"><thead><tr class = \"header\"><th class = \"rowNumber\" style = \"font-weight: bold; text-align: right;\">Row</th><th style = \"text-align: left;\">store_cd</th><th style = \"text-align: left;\">amount_mean</th></tr><tr class = \"subheader headerLastRow\"><th class = \"rowNumber\" style = \"font-weight: bold; text-align: right;\"></th><th title = \"String\" style = \"text-align: left;\">String</th><th title = \"Float64\" style = \"text-align: left;\">Float64</th></tr></thead><tbody><tr><td class = \"rowNumber\" style = \"font-weight: bold; text-align: right;\">1</td><td style = \"text-align: left;\">S13052</td><td style = \"text-align: right;\">402.867</td></tr><tr><td class = \"rowNumber\" style = \"font-weight: bold; text-align: right;\">2</td><td style = \"text-align: left;\">S13015</td><td style = \"text-align: right;\">351.112</td></tr><tr><td class = \"rowNumber\" style = \"font-weight: bold; text-align: right;\">3</td><td style = \"text-align: left;\">S13003</td><td style = \"text-align: right;\">350.916</td></tr><tr><td class = \"rowNumber\" style = \"font-weight: bold; text-align: right;\">4</td><td style = \"text-align: left;\">S14010</td><td style = \"text-align: right;\">348.791</td></tr><tr><td class = \"rowNumber\" style = \"font-weight: bold; text-align: right;\">5</td><td style = \"text-align: left;\">S13001</td><td style = \"text-align: right;\">348.47</td></tr></tbody></table></div>"
      ],
      "text/latex": [
       "\\begin{tabular}{r|cc}\n",
       "\t& store\\_cd & amount\\_mean\\\\\n",
       "\t\\hline\n",
       "\t& String & Float64\\\\\n",
       "\t\\hline\n",
       "\t1 & S13052 & 402.867 \\\\\n",
       "\t2 & S13015 & 351.112 \\\\\n",
       "\t3 & S13003 & 350.916 \\\\\n",
       "\t4 & S14010 & 348.791 \\\\\n",
       "\t5 & S13001 & 348.47 \\\\\n",
       "\\end{tabular}\n"
      ],
      "text/plain": [
       "\u001b[1m5×2 DataFrame\u001b[0m\n",
       "\u001b[1m Row \u001b[0m│\u001b[1m store_cd \u001b[0m\u001b[1m amount_mean \u001b[0m\n",
       "     │\u001b[90m String   \u001b[0m\u001b[90m Float64     \u001b[0m\n",
       "─────┼───────────────────────\n",
       "   1 │ S13052        402.867\n",
       "   2 │ S13015        351.112\n",
       "   3 │ S13003        350.916\n",
       "   4 │ S14010        348.791\n",
       "   5 │ S13001        348.47"
      ]
     },
     "execution_count": 32,
     "metadata": {},
     "output_type": "execute_result"
    }
   ],
   "source": [
    "@time \\\n",
    "@chain df_receipt begin\n",
    "    groupby(:store_cd)\n",
    "    @combine :amount_mean = mean(:amount)\n",
    "    @orderby -:amount_mean\n",
    "    first(5)\n",
    "end"
   ]
  },
  {
   "cell_type": "markdown",
   "metadata": {},
   "source": [
    "---\n",
    "> P-028: レシート明細データ（df_receipt）に対し、店舗コード（store_cd）ごとに売上金額（amount）の中央値を計算し、降順でTOP5を表示せよ。"
   ]
  },
  {
   "cell_type": "code",
   "execution_count": 33,
   "metadata": {},
   "outputs": [
    {
     "name": "stdout",
     "output_type": "stream",
     "text": [
      "  0.000001 seconds\n"
     ]
    },
    {
     "data": {
      "text/html": [
       "<div><div style = \"float: left;\"><span>5×2 DataFrame</span></div><div style = \"clear: both;\"></div></div><div class = \"data-frame\" style = \"overflow-x: scroll;\"><table class = \"data-frame\" style = \"margin-bottom: 6px;\"><thead><tr class = \"header\"><th class = \"rowNumber\" style = \"font-weight: bold; text-align: right;\">Row</th><th style = \"text-align: left;\">store_cd</th><th style = \"text-align: left;\">amount_median</th></tr><tr class = \"subheader headerLastRow\"><th class = \"rowNumber\" style = \"font-weight: bold; text-align: right;\"></th><th title = \"String\" style = \"text-align: left;\">String</th><th title = \"Float64\" style = \"text-align: left;\">Float64</th></tr></thead><tbody><tr><td class = \"rowNumber\" style = \"font-weight: bold; text-align: right;\">1</td><td style = \"text-align: left;\">S13052</td><td style = \"text-align: right;\">190.0</td></tr><tr><td class = \"rowNumber\" style = \"font-weight: bold; text-align: right;\">2</td><td style = \"text-align: left;\">S14010</td><td style = \"text-align: right;\">188.0</td></tr><tr><td class = \"rowNumber\" style = \"font-weight: bold; text-align: right;\">3</td><td style = \"text-align: left;\">S14050</td><td style = \"text-align: right;\">185.0</td></tr><tr><td class = \"rowNumber\" style = \"font-weight: bold; text-align: right;\">4</td><td style = \"text-align: left;\">S13003</td><td style = \"text-align: right;\">180.0</td></tr><tr><td class = \"rowNumber\" style = \"font-weight: bold; text-align: right;\">5</td><td style = \"text-align: left;\">S14040</td><td style = \"text-align: right;\">180.0</td></tr></tbody></table></div>"
      ],
      "text/latex": [
       "\\begin{tabular}{r|cc}\n",
       "\t& store\\_cd & amount\\_median\\\\\n",
       "\t\\hline\n",
       "\t& String & Float64\\\\\n",
       "\t\\hline\n",
       "\t1 & S13052 & 190.0 \\\\\n",
       "\t2 & S14010 & 188.0 \\\\\n",
       "\t3 & S14050 & 185.0 \\\\\n",
       "\t4 & S13003 & 180.0 \\\\\n",
       "\t5 & S14040 & 180.0 \\\\\n",
       "\\end{tabular}\n"
      ],
      "text/plain": [
       "\u001b[1m5×2 DataFrame\u001b[0m\n",
       "\u001b[1m Row \u001b[0m│\u001b[1m store_cd \u001b[0m\u001b[1m amount_median \u001b[0m\n",
       "     │\u001b[90m String   \u001b[0m\u001b[90m Float64       \u001b[0m\n",
       "─────┼─────────────────────────\n",
       "   1 │ S13052            190.0\n",
       "   2 │ S14010            188.0\n",
       "   3 │ S14050            185.0\n",
       "   4 │ S13003            180.0\n",
       "   5 │ S14040            180.0"
      ]
     },
     "execution_count": 33,
     "metadata": {},
     "output_type": "execute_result"
    }
   ],
   "source": [
    "@time \\\n",
    "@chain df_receipt begin\n",
    "    groupby(:store_cd)\n",
    "    @combine :amount_median = median(:amount)\n",
    "    @orderby -:amount_median\n",
    "    first(5)\n",
    "end"
   ]
  },
  {
   "cell_type": "markdown",
   "metadata": {},
   "source": [
    "---\n",
    "> P-029: レシート明細データ（df_receipt）に対し、店舗コード（store_cd）ごとに商品コード（product_cd）の最頻値を求め、10件表示させよ。"
   ]
  },
  {
   "cell_type": "code",
   "execution_count": 34,
   "metadata": {},
   "outputs": [
    {
     "name": "stdout",
     "output_type": "stream",
     "text": [
      "  0.000005 seconds\n"
     ]
    },
    {
     "data": {
      "text/html": [
       "<div><div style = \"float: left;\"><span>10×2 DataFrame</span></div><div style = \"clear: both;\"></div></div><div class = \"data-frame\" style = \"overflow-x: scroll;\"><table class = \"data-frame\" style = \"margin-bottom: 6px;\"><thead><tr class = \"header\"><th class = \"rowNumber\" style = \"font-weight: bold; text-align: right;\">Row</th><th style = \"text-align: left;\">store_cd</th><th style = \"text-align: left;\">product_cd_mode</th></tr><tr class = \"subheader headerLastRow\"><th class = \"rowNumber\" style = \"font-weight: bold; text-align: right;\"></th><th title = \"String\" style = \"text-align: left;\">String</th><th title = \"String\" style = \"text-align: left;\">String</th></tr></thead><tbody><tr><td class = \"rowNumber\" style = \"font-weight: bold; text-align: right;\">1</td><td style = \"text-align: left;\">S12007</td><td style = \"text-align: left;\">P060303001</td></tr><tr><td class = \"rowNumber\" style = \"font-weight: bold; text-align: right;\">2</td><td style = \"text-align: left;\">S12013</td><td style = \"text-align: left;\">P060303001</td></tr><tr><td class = \"rowNumber\" style = \"font-weight: bold; text-align: right;\">3</td><td style = \"text-align: left;\">S12014</td><td style = \"text-align: left;\">P060303001</td></tr><tr><td class = \"rowNumber\" style = \"font-weight: bold; text-align: right;\">4</td><td style = \"text-align: left;\">S12029</td><td style = \"text-align: left;\">P060303001</td></tr><tr><td class = \"rowNumber\" style = \"font-weight: bold; text-align: right;\">5</td><td style = \"text-align: left;\">S12030</td><td style = \"text-align: left;\">P060303001</td></tr><tr><td class = \"rowNumber\" style = \"font-weight: bold; text-align: right;\">6</td><td style = \"text-align: left;\">S13001</td><td style = \"text-align: left;\">P060303001</td></tr><tr><td class = \"rowNumber\" style = \"font-weight: bold; text-align: right;\">7</td><td style = \"text-align: left;\">S13002</td><td style = \"text-align: left;\">P060303001</td></tr><tr><td class = \"rowNumber\" style = \"font-weight: bold; text-align: right;\">8</td><td style = \"text-align: left;\">S13003</td><td style = \"text-align: left;\">P071401001</td></tr><tr><td class = \"rowNumber\" style = \"font-weight: bold; text-align: right;\">9</td><td style = \"text-align: left;\">S13004</td><td style = \"text-align: left;\">P060303001</td></tr><tr><td class = \"rowNumber\" style = \"font-weight: bold; text-align: right;\">10</td><td style = \"text-align: left;\">S13005</td><td style = \"text-align: left;\">P040503001</td></tr></tbody></table></div>"
      ],
      "text/latex": [
       "\\begin{tabular}{r|cc}\n",
       "\t& store\\_cd & product\\_cd\\_mode\\\\\n",
       "\t\\hline\n",
       "\t& String & String\\\\\n",
       "\t\\hline\n",
       "\t1 & S12007 & P060303001 \\\\\n",
       "\t2 & S12013 & P060303001 \\\\\n",
       "\t3 & S12014 & P060303001 \\\\\n",
       "\t4 & S12029 & P060303001 \\\\\n",
       "\t5 & S12030 & P060303001 \\\\\n",
       "\t6 & S13001 & P060303001 \\\\\n",
       "\t7 & S13002 & P060303001 \\\\\n",
       "\t8 & S13003 & P071401001 \\\\\n",
       "\t9 & S13004 & P060303001 \\\\\n",
       "\t10 & S13005 & P040503001 \\\\\n",
       "\\end{tabular}\n"
      ],
      "text/plain": [
       "\u001b[1m10×2 DataFrame\u001b[0m\n",
       "\u001b[1m Row \u001b[0m│\u001b[1m store_cd \u001b[0m\u001b[1m product_cd_mode \u001b[0m\n",
       "     │\u001b[90m String   \u001b[0m\u001b[90m String          \u001b[0m\n",
       "─────┼───────────────────────────\n",
       "   1 │ S12007    P060303001\n",
       "   2 │ S12013    P060303001\n",
       "   3 │ S12014    P060303001\n",
       "   4 │ S12029    P060303001\n",
       "   5 │ S12030    P060303001\n",
       "   6 │ S13001    P060303001\n",
       "   7 │ S13002    P060303001\n",
       "   8 │ S13003    P071401001\n",
       "   9 │ S13004    P060303001\n",
       "  10 │ S13005    P040503001"
      ]
     },
     "execution_count": 34,
     "metadata": {},
     "output_type": "execute_result"
    }
   ],
   "source": [
    "@time \\\n",
    "@chain df_receipt begin\n",
    "    groupby(:store_cd, sort=true)\n",
    "    @combine :product_cd_mode = mode(:product_cd)\n",
    "    first(10)\n",
    "end"
   ]
  },
  {
   "cell_type": "markdown",
   "metadata": {},
   "source": [
    "---\n",
    "> P-030: レシート明細データ（df_receipt）に対し、店舗コード（store_cd）ごとに売上金額（amount）の分散を計算し、降順で5件表示せよ。"
   ]
  },
  {
   "cell_type": "code",
   "execution_count": 35,
   "metadata": {},
   "outputs": [
    {
     "name": "stdout",
     "output_type": "stream",
     "text": [
      "  0.000001 seconds\n"
     ]
    },
    {
     "data": {
      "text/html": [
       "<div><div style = \"float: left;\"><span>5×2 DataFrame</span></div><div style = \"clear: both;\"></div></div><div class = \"data-frame\" style = \"overflow-x: scroll;\"><table class = \"data-frame\" style = \"margin-bottom: 6px;\"><thead><tr class = \"header\"><th class = \"rowNumber\" style = \"font-weight: bold; text-align: right;\">Row</th><th style = \"text-align: left;\">store_cd</th><th style = \"text-align: left;\">amount_var</th></tr><tr class = \"subheader headerLastRow\"><th class = \"rowNumber\" style = \"font-weight: bold; text-align: right;\"></th><th title = \"String\" style = \"text-align: left;\">String</th><th title = \"Float64\" style = \"text-align: left;\">Float64</th></tr></thead><tbody><tr><td class = \"rowNumber\" style = \"font-weight: bold; text-align: right;\">1</td><td style = \"text-align: left;\">S13052</td><td style = \"text-align: right;\">4.40089e5</td></tr><tr><td class = \"rowNumber\" style = \"font-weight: bold; text-align: right;\">2</td><td style = \"text-align: left;\">S14011</td><td style = \"text-align: right;\">3.06315e5</td></tr><tr><td class = \"rowNumber\" style = \"font-weight: bold; text-align: right;\">3</td><td style = \"text-align: left;\">S14034</td><td style = \"text-align: right;\">2.9692e5</td></tr><tr><td class = \"rowNumber\" style = \"font-weight: bold; text-align: right;\">4</td><td style = \"text-align: left;\">S13001</td><td style = \"text-align: right;\">295432.0</td></tr><tr><td class = \"rowNumber\" style = \"font-weight: bold; text-align: right;\">5</td><td style = \"text-align: left;\">S13015</td><td style = \"text-align: right;\">2.95294e5</td></tr></tbody></table></div>"
      ],
      "text/latex": [
       "\\begin{tabular}{r|cc}\n",
       "\t& store\\_cd & amount\\_var\\\\\n",
       "\t\\hline\n",
       "\t& String & Float64\\\\\n",
       "\t\\hline\n",
       "\t1 & S13052 & 4.40089e5 \\\\\n",
       "\t2 & S14011 & 3.06315e5 \\\\\n",
       "\t3 & S14034 & 2.9692e5 \\\\\n",
       "\t4 & S13001 & 295432.0 \\\\\n",
       "\t5 & S13015 & 2.95294e5 \\\\\n",
       "\\end{tabular}\n"
      ],
      "text/plain": [
       "\u001b[1m5×2 DataFrame\u001b[0m\n",
       "\u001b[1m Row \u001b[0m│\u001b[1m store_cd \u001b[0m\u001b[1m amount_var     \u001b[0m\n",
       "     │\u001b[90m String   \u001b[0m\u001b[90m Float64        \u001b[0m\n",
       "─────┼──────────────────────────\n",
       "   1 │ S13052         4.40089e5\n",
       "   2 │ S14011         3.06315e5\n",
       "   3 │ S14034         2.9692e5\n",
       "   4 │ S13001    295432.0\n",
       "   5 │ S13015         2.95294e5"
      ]
     },
     "execution_count": 35,
     "metadata": {},
     "output_type": "execute_result"
    }
   ],
   "source": [
    "@time \\\n",
    "@chain df_receipt begin\n",
    "    groupby(:store_cd)\n",
    "    @combine :amount_var = var(:amount, corrected=false)\n",
    "    @orderby -:amount_var\n",
    "    first(5)\n",
    "end"
   ]
  },
  {
   "cell_type": "markdown",
   "metadata": {},
   "source": [
    "---\n",
    "> P-031: レシート明細データ（df_receipt）に対し、店舗コード（store_cd）ごとに売上金額（amount）の標準偏差を計算し、降順で5件表示せよ。"
   ]
  },
  {
   "cell_type": "code",
   "execution_count": 36,
   "metadata": {},
   "outputs": [
    {
     "name": "stdout",
     "output_type": "stream",
     "text": [
      "  0.000005 seconds\n"
     ]
    },
    {
     "data": {
      "text/html": [
       "<div><div style = \"float: left;\"><span>5×2 DataFrame</span></div><div style = \"clear: both;\"></div></div><div class = \"data-frame\" style = \"overflow-x: scroll;\"><table class = \"data-frame\" style = \"margin-bottom: 6px;\"><thead><tr class = \"header\"><th class = \"rowNumber\" style = \"font-weight: bold; text-align: right;\">Row</th><th style = \"text-align: left;\">store_cd</th><th style = \"text-align: left;\">amount_sd</th></tr><tr class = \"subheader headerLastRow\"><th class = \"rowNumber\" style = \"font-weight: bold; text-align: right;\"></th><th title = \"String\" style = \"text-align: left;\">String</th><th title = \"Float64\" style = \"text-align: left;\">Float64</th></tr></thead><tbody><tr><td class = \"rowNumber\" style = \"font-weight: bold; text-align: right;\">1</td><td style = \"text-align: left;\">S13052</td><td style = \"text-align: right;\">663.392</td></tr><tr><td class = \"rowNumber\" style = \"font-weight: bold; text-align: right;\">2</td><td style = \"text-align: left;\">S14011</td><td style = \"text-align: right;\">553.457</td></tr><tr><td class = \"rowNumber\" style = \"font-weight: bold; text-align: right;\">3</td><td style = \"text-align: left;\">S14034</td><td style = \"text-align: right;\">544.904</td></tr><tr><td class = \"rowNumber\" style = \"font-weight: bold; text-align: right;\">4</td><td style = \"text-align: left;\">S13001</td><td style = \"text-align: right;\">543.537</td></tr><tr><td class = \"rowNumber\" style = \"font-weight: bold; text-align: right;\">5</td><td style = \"text-align: left;\">S13015</td><td style = \"text-align: right;\">543.41</td></tr></tbody></table></div>"
      ],
      "text/latex": [
       "\\begin{tabular}{r|cc}\n",
       "\t& store\\_cd & amount\\_sd\\\\\n",
       "\t\\hline\n",
       "\t& String & Float64\\\\\n",
       "\t\\hline\n",
       "\t1 & S13052 & 663.392 \\\\\n",
       "\t2 & S14011 & 553.457 \\\\\n",
       "\t3 & S14034 & 544.904 \\\\\n",
       "\t4 & S13001 & 543.537 \\\\\n",
       "\t5 & S13015 & 543.41 \\\\\n",
       "\\end{tabular}\n"
      ],
      "text/plain": [
       "\u001b[1m5×2 DataFrame\u001b[0m\n",
       "\u001b[1m Row \u001b[0m│\u001b[1m store_cd \u001b[0m\u001b[1m amount_sd \u001b[0m\n",
       "     │\u001b[90m String   \u001b[0m\u001b[90m Float64   \u001b[0m\n",
       "─────┼─────────────────────\n",
       "   1 │ S13052      663.392\n",
       "   2 │ S14011      553.457\n",
       "   3 │ S14034      544.904\n",
       "   4 │ S13001      543.537\n",
       "   5 │ S13015      543.41"
      ]
     },
     "execution_count": 36,
     "metadata": {},
     "output_type": "execute_result"
    }
   ],
   "source": [
    "@time \\\n",
    "@chain df_receipt begin\n",
    "    groupby(:store_cd)\n",
    "    @combine :amount_sd = std(:amount, corrected=false)\n",
    "    @orderby -:amount_sd\n",
    "    first(5)\n",
    "end"
   ]
  },
  {
   "cell_type": "markdown",
   "metadata": {},
   "source": [
    "---\n",
    "> P-032: レシート明細データ（df_receipt）の売上金額（amount）について、25％刻みでパーセンタイル値を求めよ。"
   ]
  },
  {
   "cell_type": "code",
   "execution_count": 37,
   "metadata": {},
   "outputs": [
    {
     "name": "stdout",
     "output_type": "stream",
     "text": [
      "  0.000001 seconds\n"
     ]
    },
    {
     "data": {
      "text/plain": [
       "4-element Vector{Float64}:\n",
       "   102.0\n",
       "   170.0\n",
       "   288.0\n",
       " 10925.0"
      ]
     },
     "execution_count": 37,
     "metadata": {},
     "output_type": "execute_result"
    }
   ],
   "source": [
    "@time \\\n",
    "percentile(df_receipt.amount, [25, 50, 75, 100])"
   ]
  },
  {
   "cell_type": "markdown",
   "metadata": {},
   "source": [
    "---\n",
    "> P-033: レシート明細データ（df_receipt）に対し、店舗コード（store_cd）ごとに売上金額（amount）の平均を計算し、330以上のものを抽出せよ。"
   ]
  },
  {
   "cell_type": "code",
   "execution_count": 38,
   "metadata": {},
   "outputs": [
    {
     "name": "stdout",
     "output_type": "stream",
     "text": [
      "  0.000001 seconds\n"
     ]
    },
    {
     "data": {
      "text/html": [
       "<div><div style = \"float: left;\"><span>13×2 DataFrame</span></div><div style = \"clear: both;\"></div></div><div class = \"data-frame\" style = \"overflow-x: scroll;\"><table class = \"data-frame\" style = \"margin-bottom: 6px;\"><thead><tr class = \"header\"><th class = \"rowNumber\" style = \"font-weight: bold; text-align: right;\">Row</th><th style = \"text-align: left;\">store_cd</th><th style = \"text-align: left;\">amount_mean</th></tr><tr class = \"subheader headerLastRow\"><th class = \"rowNumber\" style = \"font-weight: bold; text-align: right;\"></th><th title = \"String\" style = \"text-align: left;\">String</th><th title = \"Float64\" style = \"text-align: left;\">Float64</th></tr></thead><tbody><tr><td class = \"rowNumber\" style = \"font-weight: bold; text-align: right;\">1</td><td style = \"text-align: left;\">S12013</td><td style = \"text-align: right;\">330.194</td></tr><tr><td class = \"rowNumber\" style = \"font-weight: bold; text-align: right;\">2</td><td style = \"text-align: left;\">S13001</td><td style = \"text-align: right;\">348.47</td></tr><tr><td class = \"rowNumber\" style = \"font-weight: bold; text-align: right;\">3</td><td style = \"text-align: left;\">S13003</td><td style = \"text-align: right;\">350.916</td></tr><tr><td class = \"rowNumber\" style = \"font-weight: bold; text-align: right;\">4</td><td style = \"text-align: left;\">S13004</td><td style = \"text-align: right;\">330.944</td></tr><tr><td class = \"rowNumber\" style = \"font-weight: bold; text-align: right;\">5</td><td style = \"text-align: left;\">S13015</td><td style = \"text-align: right;\">351.112</td></tr><tr><td class = \"rowNumber\" style = \"font-weight: bold; text-align: right;\">6</td><td style = \"text-align: left;\">S13019</td><td style = \"text-align: right;\">330.209</td></tr><tr><td class = \"rowNumber\" style = \"font-weight: bold; text-align: right;\">7</td><td style = \"text-align: left;\">S13020</td><td style = \"text-align: right;\">337.88</td></tr><tr><td class = \"rowNumber\" style = \"font-weight: bold; text-align: right;\">8</td><td style = \"text-align: left;\">S13052</td><td style = \"text-align: right;\">402.867</td></tr><tr><td class = \"rowNumber\" style = \"font-weight: bold; text-align: right;\">9</td><td style = \"text-align: left;\">S14010</td><td style = \"text-align: right;\">348.791</td></tr><tr><td class = \"rowNumber\" style = \"font-weight: bold; text-align: right;\">10</td><td style = \"text-align: left;\">S14011</td><td style = \"text-align: right;\">335.718</td></tr><tr><td class = \"rowNumber\" style = \"font-weight: bold; text-align: right;\">11</td><td style = \"text-align: left;\">S14026</td><td style = \"text-align: right;\">332.341</td></tr><tr><td class = \"rowNumber\" style = \"font-weight: bold; text-align: right;\">12</td><td style = \"text-align: left;\">S14045</td><td style = \"text-align: right;\">330.082</td></tr><tr><td class = \"rowNumber\" style = \"font-weight: bold; text-align: right;\">13</td><td style = \"text-align: left;\">S14047</td><td style = \"text-align: right;\">330.077</td></tr></tbody></table></div>"
      ],
      "text/latex": [
       "\\begin{tabular}{r|cc}\n",
       "\t& store\\_cd & amount\\_mean\\\\\n",
       "\t\\hline\n",
       "\t& String & Float64\\\\\n",
       "\t\\hline\n",
       "\t1 & S12013 & 330.194 \\\\\n",
       "\t2 & S13001 & 348.47 \\\\\n",
       "\t3 & S13003 & 350.916 \\\\\n",
       "\t4 & S13004 & 330.944 \\\\\n",
       "\t5 & S13015 & 351.112 \\\\\n",
       "\t6 & S13019 & 330.209 \\\\\n",
       "\t7 & S13020 & 337.88 \\\\\n",
       "\t8 & S13052 & 402.867 \\\\\n",
       "\t9 & S14010 & 348.791 \\\\\n",
       "\t10 & S14011 & 335.718 \\\\\n",
       "\t11 & S14026 & 332.341 \\\\\n",
       "\t12 & S14045 & 330.082 \\\\\n",
       "\t13 & S14047 & 330.077 \\\\\n",
       "\\end{tabular}\n"
      ],
      "text/plain": [
       "\u001b[1m13×2 DataFrame\u001b[0m\n",
       "\u001b[1m Row \u001b[0m│\u001b[1m store_cd \u001b[0m\u001b[1m amount_mean \u001b[0m\n",
       "     │\u001b[90m String   \u001b[0m\u001b[90m Float64     \u001b[0m\n",
       "─────┼───────────────────────\n",
       "   1 │ S12013        330.194\n",
       "   2 │ S13001        348.47\n",
       "   3 │ S13003        350.916\n",
       "   4 │ S13004        330.944\n",
       "   5 │ S13015        351.112\n",
       "   6 │ S13019        330.209\n",
       "   7 │ S13020        337.88\n",
       "   8 │ S13052        402.867\n",
       "   9 │ S14010        348.791\n",
       "  10 │ S14011        335.718\n",
       "  11 │ S14026        332.341\n",
       "  12 │ S14045        330.082\n",
       "  13 │ S14047        330.077"
      ]
     },
     "execution_count": 38,
     "metadata": {},
     "output_type": "execute_result"
    }
   ],
   "source": [
    "@time \\\n",
    "@chain df_receipt begin\n",
    "    groupby(:store_cd, sort=true)\n",
    "    @combine :amount_mean = mean(:amount)\n",
    "    @rsubset :amount_mean >= 330\n",
    "end"
   ]
  },
  {
   "cell_type": "markdown",
   "metadata": {},
   "source": [
    "---\n",
    "> P-034: レシート明細データ（df_receipt）に対し、顧客ID（customer_id）ごとに売上金額（amount）を合計して全顧客の平均を求めよ。ただし、顧客IDが\"Z\"から始まるものは非会員を表すため、除外して計算すること。"
   ]
  },
  {
   "cell_type": "code",
   "execution_count": 39,
   "metadata": {},
   "outputs": [
    {
     "name": "stdout",
     "output_type": "stream",
     "text": [
      "  0.000001 seconds\n"
     ]
    },
    {
     "data": {
      "text/html": [
       "<div><div style = \"float: left;\"><span>1×1 DataFrame</span></div><div style = \"clear: both;\"></div></div><div class = \"data-frame\" style = \"overflow-x: scroll;\"><table class = \"data-frame\" style = \"margin-bottom: 6px;\"><thead><tr class = \"header\"><th class = \"rowNumber\" style = \"font-weight: bold; text-align: right;\">Row</th><th style = \"text-align: left;\">amount_sum_mean</th></tr><tr class = \"subheader headerLastRow\"><th class = \"rowNumber\" style = \"font-weight: bold; text-align: right;\"></th><th title = \"Float64\" style = \"text-align: left;\">Float64</th></tr></thead><tbody><tr><td class = \"rowNumber\" style = \"font-weight: bold; text-align: right;\">1</td><td style = \"text-align: right;\">2547.74</td></tr></tbody></table></div>"
      ],
      "text/latex": [
       "\\begin{tabular}{r|c}\n",
       "\t& amount\\_sum\\_mean\\\\\n",
       "\t\\hline\n",
       "\t& Float64\\\\\n",
       "\t\\hline\n",
       "\t1 & 2547.74 \\\\\n",
       "\\end{tabular}\n"
      ],
      "text/plain": [
       "\u001b[1m1×1 DataFrame\u001b[0m\n",
       "\u001b[1m Row \u001b[0m│\u001b[1m amount_sum_mean \u001b[0m\n",
       "     │\u001b[90m Float64         \u001b[0m\n",
       "─────┼─────────────────\n",
       "   1 │         2547.74"
      ]
     },
     "execution_count": 39,
     "metadata": {},
     "output_type": "execute_result"
    }
   ],
   "source": [
    "@time \\\n",
    "@chain df_receipt begin\n",
    "    @rsubset !startswith(:customer_id, \"Z\")\n",
    "    groupby(:customer_id, sort=true)\n",
    "    @combine :amount_sum = sum(:amount)\n",
    "    @combine :amount_sum_mean = mean(:amount_sum)\n",
    "end"
   ]
  },
  {
   "cell_type": "markdown",
   "metadata": {},
   "source": [
    "---\n",
    "> P-035: レシート明細データ（df_receipt）に対し、顧客ID（customer_id）ごとに売上金額（amount）を合計して全顧客の平均を求め、平均以上に買い物をしている顧客を抽出し、10件表示せよ。ただし、顧客IDが\"Z\"から始まるものは非会員を表すため、除外して計算すること。"
   ]
  },
  {
   "cell_type": "code",
   "execution_count": 40,
   "metadata": {},
   "outputs": [
    {
     "name": "stdout",
     "output_type": "stream",
     "text": [
      "  0.000001 seconds\n"
     ]
    },
    {
     "data": {
      "text/html": [
       "<div><div style = \"float: left;\"><span>10×3 DataFrame</span></div><div style = \"clear: both;\"></div></div><div class = \"data-frame\" style = \"overflow-x: scroll;\"><table class = \"data-frame\" style = \"margin-bottom: 6px;\"><thead><tr class = \"header\"><th class = \"rowNumber\" style = \"font-weight: bold; text-align: right;\">Row</th><th style = \"text-align: left;\">customer_id</th><th style = \"text-align: left;\">amount_sum</th><th style = \"text-align: left;\">amount_sum_mean</th></tr><tr class = \"subheader headerLastRow\"><th class = \"rowNumber\" style = \"font-weight: bold; text-align: right;\"></th><th title = \"String\" style = \"text-align: left;\">String</th><th title = \"Int64\" style = \"text-align: left;\">Int64</th><th title = \"Float64\" style = \"text-align: left;\">Float64</th></tr></thead><tbody><tr><td class = \"rowNumber\" style = \"font-weight: bold; text-align: right;\">1</td><td style = \"text-align: left;\">CS001115000010</td><td style = \"text-align: right;\">3044</td><td style = \"text-align: right;\">2547.74</td></tr><tr><td class = \"rowNumber\" style = \"font-weight: bold; text-align: right;\">2</td><td style = \"text-align: left;\">CS001205000006</td><td style = \"text-align: right;\">3337</td><td style = \"text-align: right;\">2547.74</td></tr><tr><td class = \"rowNumber\" style = \"font-weight: bold; text-align: right;\">3</td><td style = \"text-align: left;\">CS001214000009</td><td style = \"text-align: right;\">4685</td><td style = \"text-align: right;\">2547.74</td></tr><tr><td class = \"rowNumber\" style = \"font-weight: bold; text-align: right;\">4</td><td style = \"text-align: left;\">CS001214000017</td><td style = \"text-align: right;\">4132</td><td style = \"text-align: right;\">2547.74</td></tr><tr><td class = \"rowNumber\" style = \"font-weight: bold; text-align: right;\">5</td><td style = \"text-align: left;\">CS001214000052</td><td style = \"text-align: right;\">5639</td><td style = \"text-align: right;\">2547.74</td></tr><tr><td class = \"rowNumber\" style = \"font-weight: bold; text-align: right;\">6</td><td style = \"text-align: left;\">CS001215000040</td><td style = \"text-align: right;\">3496</td><td style = \"text-align: right;\">2547.74</td></tr><tr><td class = \"rowNumber\" style = \"font-weight: bold; text-align: right;\">7</td><td style = \"text-align: left;\">CS001304000006</td><td style = \"text-align: right;\">3726</td><td style = \"text-align: right;\">2547.74</td></tr><tr><td class = \"rowNumber\" style = \"font-weight: bold; text-align: right;\">8</td><td style = \"text-align: left;\">CS001305000005</td><td style = \"text-align: right;\">3485</td><td style = \"text-align: right;\">2547.74</td></tr><tr><td class = \"rowNumber\" style = \"font-weight: bold; text-align: right;\">9</td><td style = \"text-align: left;\">CS001305000011</td><td style = \"text-align: right;\">4370</td><td style = \"text-align: right;\">2547.74</td></tr><tr><td class = \"rowNumber\" style = \"font-weight: bold; text-align: right;\">10</td><td style = \"text-align: left;\">CS001315000180</td><td style = \"text-align: right;\">3300</td><td style = \"text-align: right;\">2547.74</td></tr></tbody></table></div>"
      ],
      "text/latex": [
       "\\begin{tabular}{r|ccc}\n",
       "\t& customer\\_id & amount\\_sum & amount\\_sum\\_mean\\\\\n",
       "\t\\hline\n",
       "\t& String & Int64 & Float64\\\\\n",
       "\t\\hline\n",
       "\t1 & CS001115000010 & 3044 & 2547.74 \\\\\n",
       "\t2 & CS001205000006 & 3337 & 2547.74 \\\\\n",
       "\t3 & CS001214000009 & 4685 & 2547.74 \\\\\n",
       "\t4 & CS001214000017 & 4132 & 2547.74 \\\\\n",
       "\t5 & CS001214000052 & 5639 & 2547.74 \\\\\n",
       "\t6 & CS001215000040 & 3496 & 2547.74 \\\\\n",
       "\t7 & CS001304000006 & 3726 & 2547.74 \\\\\n",
       "\t8 & CS001305000005 & 3485 & 2547.74 \\\\\n",
       "\t9 & CS001305000011 & 4370 & 2547.74 \\\\\n",
       "\t10 & CS001315000180 & 3300 & 2547.74 \\\\\n",
       "\\end{tabular}\n"
      ],
      "text/plain": [
       "\u001b[1m10×3 DataFrame\u001b[0m\n",
       "\u001b[1m Row \u001b[0m│\u001b[1m customer_id    \u001b[0m\u001b[1m amount_sum \u001b[0m\u001b[1m amount_sum_mean \u001b[0m\n",
       "     │\u001b[90m String         \u001b[0m\u001b[90m Int64      \u001b[0m\u001b[90m Float64         \u001b[0m\n",
       "─────┼─────────────────────────────────────────────\n",
       "   1 │ CS001115000010        3044          2547.74\n",
       "   2 │ CS001205000006        3337          2547.74\n",
       "   3 │ CS001214000009        4685          2547.74\n",
       "   4 │ CS001214000017        4132          2547.74\n",
       "   5 │ CS001214000052        5639          2547.74\n",
       "   6 │ CS001215000040        3496          2547.74\n",
       "   7 │ CS001304000006        3726          2547.74\n",
       "   8 │ CS001305000005        3485          2547.74\n",
       "   9 │ CS001305000011        4370          2547.74\n",
       "  10 │ CS001315000180        3300          2547.74"
      ]
     },
     "execution_count": 40,
     "metadata": {},
     "output_type": "execute_result"
    }
   ],
   "source": [
    "@time \\\n",
    "@chain df_receipt begin\n",
    "    @rsubset !startswith(:customer_id, \"Z\")\n",
    "    groupby(:customer_id, sort=true)\n",
    "    @combine :amount_sum = sum(:amount)\n",
    "    @transform :amount_sum_mean = mean(:amount_sum)\n",
    "    @rsubset :amount_sum >= :amount_sum_mean\n",
    "    first(10)\n",
    "end"
   ]
  },
  {
   "cell_type": "markdown",
   "metadata": {},
   "source": [
    "---\n",
    "> P-036: レシート明細データ（df_receipt）と店舗データ（df_store）を内部結合し、レシート明細データの全項目と店舗データの店舗名（store_name）を10件表示せよ。"
   ]
  },
  {
   "cell_type": "code",
   "execution_count": 41,
   "metadata": {},
   "outputs": [
    {
     "name": "stdout",
     "output_type": "stream",
     "text": [
      "  0.000002 seconds\n"
     ]
    },
    {
     "data": {
      "text/html": [
       "<div><div style = \"float: left;\"><span>10×10 DataFrame</span></div><div style = \"clear: both;\"></div></div><div class = \"data-frame\" style = \"overflow-x: scroll;\"><table class = \"data-frame\" style = \"margin-bottom: 6px;\"><thead><tr class = \"header\"><th class = \"rowNumber\" style = \"font-weight: bold; text-align: right;\">Row</th><th style = \"text-align: left;\">sales_ymd</th><th style = \"text-align: left;\">sales_epoch</th><th style = \"text-align: left;\">store_cd</th><th style = \"text-align: left;\">receipt_no</th><th style = \"text-align: left;\">receipt_sub_no</th><th style = \"text-align: left;\">customer_id</th><th style = \"text-align: left;\">product_cd</th><th style = \"text-align: left;\">quantity</th><th style = \"text-align: left;\">amount</th><th style = \"text-align: left;\">store_name</th></tr><tr class = \"subheader headerLastRow\"><th class = \"rowNumber\" style = \"font-weight: bold; text-align: right;\"></th><th title = \"Int64\" style = \"text-align: left;\">Int64</th><th title = \"Int64\" style = \"text-align: left;\">Int64</th><th title = \"String\" style = \"text-align: left;\">String</th><th title = \"Int64\" style = \"text-align: left;\">Int64</th><th title = \"Int64\" style = \"text-align: left;\">Int64</th><th title = \"String\" style = \"text-align: left;\">String</th><th title = \"String\" style = \"text-align: left;\">String</th><th title = \"Int64\" style = \"text-align: left;\">Int64</th><th title = \"Int64\" style = \"text-align: left;\">Int64</th><th title = \"InlineStrings.String31\" style = \"text-align: left;\">String31</th></tr></thead><tbody><tr><td class = \"rowNumber\" style = \"font-weight: bold; text-align: right;\">1</td><td style = \"text-align: right;\">20181103</td><td style = \"text-align: right;\">1541203200</td><td style = \"text-align: left;\">S14006</td><td style = \"text-align: right;\">112</td><td style = \"text-align: right;\">1</td><td style = \"text-align: left;\">CS006214000001</td><td style = \"text-align: left;\">P070305012</td><td style = \"text-align: right;\">1</td><td style = \"text-align: right;\">158</td><td style = \"text-align: left;\">葛が谷店</td></tr><tr><td class = \"rowNumber\" style = \"font-weight: bold; text-align: right;\">2</td><td style = \"text-align: right;\">20181118</td><td style = \"text-align: right;\">1542499200</td><td style = \"text-align: left;\">S13008</td><td style = \"text-align: right;\">1132</td><td style = \"text-align: right;\">2</td><td style = \"text-align: left;\">CS008415000097</td><td style = \"text-align: left;\">P070701017</td><td style = \"text-align: right;\">1</td><td style = \"text-align: right;\">81</td><td style = \"text-align: left;\">成城店</td></tr><tr><td class = \"rowNumber\" style = \"font-weight: bold; text-align: right;\">3</td><td style = \"text-align: right;\">20170712</td><td style = \"text-align: right;\">1499817600</td><td style = \"text-align: left;\">S14028</td><td style = \"text-align: right;\">1102</td><td style = \"text-align: right;\">1</td><td style = \"text-align: left;\">CS028414000014</td><td style = \"text-align: left;\">P060101005</td><td style = \"text-align: right;\">1</td><td style = \"text-align: right;\">170</td><td style = \"text-align: left;\">二ツ橋店</td></tr><tr><td class = \"rowNumber\" style = \"font-weight: bold; text-align: right;\">4</td><td style = \"text-align: right;\">20190205</td><td style = \"text-align: right;\">1549324800</td><td style = \"text-align: left;\">S14042</td><td style = \"text-align: right;\">1132</td><td style = \"text-align: right;\">1</td><td style = \"text-align: left;\">ZZ000000000000</td><td style = \"text-align: left;\">P050301001</td><td style = \"text-align: right;\">1</td><td style = \"text-align: right;\">25</td><td style = \"text-align: left;\">新山下店</td></tr><tr><td class = \"rowNumber\" style = \"font-weight: bold; text-align: right;\">5</td><td style = \"text-align: right;\">20180821</td><td style = \"text-align: right;\">1534809600</td><td style = \"text-align: left;\">S14025</td><td style = \"text-align: right;\">1102</td><td style = \"text-align: right;\">2</td><td style = \"text-align: left;\">CS025415000050</td><td style = \"text-align: left;\">P060102007</td><td style = \"text-align: right;\">1</td><td style = \"text-align: right;\">90</td><td style = \"text-align: left;\">大和店</td></tr><tr><td class = \"rowNumber\" style = \"font-weight: bold; text-align: right;\">6</td><td style = \"text-align: right;\">20190605</td><td style = \"text-align: right;\">1559692800</td><td style = \"text-align: left;\">S13003</td><td style = \"text-align: right;\">1112</td><td style = \"text-align: right;\">1</td><td style = \"text-align: left;\">CS003515000195</td><td style = \"text-align: left;\">P050102002</td><td style = \"text-align: right;\">1</td><td style = \"text-align: right;\">138</td><td style = \"text-align: left;\">狛江店</td></tr><tr><td class = \"rowNumber\" style = \"font-weight: bold; text-align: right;\">7</td><td style = \"text-align: right;\">20181205</td><td style = \"text-align: right;\">1543968000</td><td style = \"text-align: left;\">S14024</td><td style = \"text-align: right;\">1102</td><td style = \"text-align: right;\">2</td><td style = \"text-align: left;\">CS024514000042</td><td style = \"text-align: left;\">P080101005</td><td style = \"text-align: right;\">1</td><td style = \"text-align: right;\">30</td><td style = \"text-align: left;\">三田店</td></tr><tr><td class = \"rowNumber\" style = \"font-weight: bold; text-align: right;\">8</td><td style = \"text-align: right;\">20190922</td><td style = \"text-align: right;\">1569110400</td><td style = \"text-align: left;\">S14040</td><td style = \"text-align: right;\">1102</td><td style = \"text-align: right;\">1</td><td style = \"text-align: left;\">CS040415000178</td><td style = \"text-align: left;\">P070501004</td><td style = \"text-align: right;\">1</td><td style = \"text-align: right;\">128</td><td style = \"text-align: left;\">長津田店</td></tr><tr><td class = \"rowNumber\" style = \"font-weight: bold; text-align: right;\">9</td><td style = \"text-align: right;\">20170504</td><td style = \"text-align: right;\">1493856000</td><td style = \"text-align: left;\">S13020</td><td style = \"text-align: right;\">1112</td><td style = \"text-align: right;\">2</td><td style = \"text-align: left;\">ZZ000000000000</td><td style = \"text-align: left;\">P071302010</td><td style = \"text-align: right;\">1</td><td style = \"text-align: right;\">770</td><td style = \"text-align: left;\">十条仲原店</td></tr><tr><td class = \"rowNumber\" style = \"font-weight: bold; text-align: right;\">10</td><td style = \"text-align: right;\">20191010</td><td style = \"text-align: right;\">1570665600</td><td style = \"text-align: left;\">S14027</td><td style = \"text-align: right;\">1102</td><td style = \"text-align: right;\">1</td><td style = \"text-align: left;\">CS027514000015</td><td style = \"text-align: left;\">P071101003</td><td style = \"text-align: right;\">1</td><td style = \"text-align: right;\">680</td><td style = \"text-align: left;\">南藤沢店</td></tr></tbody></table></div>"
      ],
      "text/latex": [
       "\\begin{tabular}{r|cccccccc}\n",
       "\t& sales\\_ymd & sales\\_epoch & store\\_cd & receipt\\_no & receipt\\_sub\\_no & customer\\_id & product\\_cd & \\\\\n",
       "\t\\hline\n",
       "\t& Int64 & Int64 & String & Int64 & Int64 & String & String & \\\\\n",
       "\t\\hline\n",
       "\t1 & 20181103 & 1541203200 & S14006 & 112 & 1 & CS006214000001 & P070305012 & $\\dots$ \\\\\n",
       "\t2 & 20181118 & 1542499200 & S13008 & 1132 & 2 & CS008415000097 & P070701017 & $\\dots$ \\\\\n",
       "\t3 & 20170712 & 1499817600 & S14028 & 1102 & 1 & CS028414000014 & P060101005 & $\\dots$ \\\\\n",
       "\t4 & 20190205 & 1549324800 & S14042 & 1132 & 1 & ZZ000000000000 & P050301001 & $\\dots$ \\\\\n",
       "\t5 & 20180821 & 1534809600 & S14025 & 1102 & 2 & CS025415000050 & P060102007 & $\\dots$ \\\\\n",
       "\t6 & 20190605 & 1559692800 & S13003 & 1112 & 1 & CS003515000195 & P050102002 & $\\dots$ \\\\\n",
       "\t7 & 20181205 & 1543968000 & S14024 & 1102 & 2 & CS024514000042 & P080101005 & $\\dots$ \\\\\n",
       "\t8 & 20190922 & 1569110400 & S14040 & 1102 & 1 & CS040415000178 & P070501004 & $\\dots$ \\\\\n",
       "\t9 & 20170504 & 1493856000 & S13020 & 1112 & 2 & ZZ000000000000 & P071302010 & $\\dots$ \\\\\n",
       "\t10 & 20191010 & 1570665600 & S14027 & 1102 & 1 & CS027514000015 & P071101003 & $\\dots$ \\\\\n",
       "\\end{tabular}\n"
      ],
      "text/plain": [
       "\u001b[1m10×10 DataFrame\u001b[0m\n",
       "\u001b[1m Row \u001b[0m│\u001b[1m sales_ymd \u001b[0m\u001b[1m sales_epoch \u001b[0m\u001b[1m store_cd \u001b[0m\u001b[1m receipt_no \u001b[0m\u001b[1m receipt_sub_no \u001b[0m\u001b[1m customer_\u001b[0m ⋯\n",
       "     │\u001b[90m Int64     \u001b[0m\u001b[90m Int64       \u001b[0m\u001b[90m String   \u001b[0m\u001b[90m Int64      \u001b[0m\u001b[90m Int64          \u001b[0m\u001b[90m String   \u001b[0m ⋯\n",
       "─────┼──────────────────────────────────────────────────────────────────────────\n",
       "   1 │  20181103   1541203200  S14006           112               1  CS0062140 ⋯\n",
       "   2 │  20181118   1542499200  S13008          1132               2  CS0084150\n",
       "   3 │  20170712   1499817600  S14028          1102               1  CS0284140\n",
       "   4 │  20190205   1549324800  S14042          1132               1  ZZ0000000\n",
       "   5 │  20180821   1534809600  S14025          1102               2  CS0254150 ⋯\n",
       "   6 │  20190605   1559692800  S13003          1112               1  CS0035150\n",
       "   7 │  20181205   1543968000  S14024          1102               2  CS0245140\n",
       "   8 │  20190922   1569110400  S14040          1102               1  CS0404150\n",
       "   9 │  20170504   1493856000  S13020          1112               2  ZZ0000000 ⋯\n",
       "  10 │  20191010   1570665600  S14027          1102               1  CS0275140\n",
       "\u001b[36m                                                               5 columns omitted\u001b[0m"
      ]
     },
     "execution_count": 41,
     "metadata": {},
     "output_type": "execute_result"
    }
   ],
   "source": [
    "@time \\\n",
    "@chain df_receipt begin\n",
    "    innerjoin(df_store[!, [:store_cd, :store_name]], on=:store_cd)\n",
    "    first(10)\n",
    "end"
   ]
  },
  {
   "cell_type": "markdown",
   "metadata": {},
   "source": [
    "---\n",
    "> P-037: 商品データ（df_product）とカテゴリデータ（df_category）を内部結合し、商品データの全項目とカテゴリデータのカテゴリ小区分名（category_small_name）を10件表示せよ。"
   ]
  },
  {
   "cell_type": "code",
   "execution_count": 42,
   "metadata": {},
   "outputs": [
    {
     "name": "stdout",
     "output_type": "stream",
     "text": [
      "  0.000001 seconds\n"
     ]
    },
    {
     "data": {
      "text/html": [
       "<div><div style = \"float: left;\"><span>10×7 DataFrame</span></div><div style = \"clear: both;\"></div></div><div class = \"data-frame\" style = \"overflow-x: scroll;\"><table class = \"data-frame\" style = \"margin-bottom: 6px;\"><thead><tr class = \"header\"><th class = \"rowNumber\" style = \"font-weight: bold; text-align: right;\">Row</th><th style = \"text-align: left;\">product_cd</th><th style = \"text-align: left;\">category_major_cd</th><th style = \"text-align: left;\">category_medium_cd</th><th style = \"text-align: left;\">category_small_cd</th><th style = \"text-align: left;\">unit_price</th><th style = \"text-align: left;\">unit_cost</th><th style = \"text-align: left;\">category_small_name</th></tr><tr class = \"subheader headerLastRow\"><th class = \"rowNumber\" style = \"font-weight: bold; text-align: right;\"></th><th title = \"String\" style = \"text-align: left;\">String</th><th title = \"String\" style = \"text-align: left;\">String</th><th title = \"String\" style = \"text-align: left;\">String</th><th title = \"String\" style = \"text-align: left;\">String</th><th title = \"Union{Missing, Int64}\" style = \"text-align: left;\">Int64?</th><th title = \"Union{Missing, Int64}\" style = \"text-align: left;\">Int64?</th><th title = \"String\" style = \"text-align: left;\">String</th></tr></thead><tbody><tr><td class = \"rowNumber\" style = \"font-weight: bold; text-align: right;\">1</td><td style = \"text-align: left;\">P040101001</td><td style = \"text-align: left;\">04</td><td style = \"text-align: left;\">0401</td><td style = \"text-align: left;\">040101</td><td style = \"text-align: right;\">198</td><td style = \"text-align: right;\">149</td><td style = \"text-align: left;\">弁当類</td></tr><tr><td class = \"rowNumber\" style = \"font-weight: bold; text-align: right;\">2</td><td style = \"text-align: left;\">P040101002</td><td style = \"text-align: left;\">04</td><td style = \"text-align: left;\">0401</td><td style = \"text-align: left;\">040101</td><td style = \"text-align: right;\">218</td><td style = \"text-align: right;\">164</td><td style = \"text-align: left;\">弁当類</td></tr><tr><td class = \"rowNumber\" style = \"font-weight: bold; text-align: right;\">3</td><td style = \"text-align: left;\">P040101003</td><td style = \"text-align: left;\">04</td><td style = \"text-align: left;\">0401</td><td style = \"text-align: left;\">040101</td><td style = \"text-align: right;\">230</td><td style = \"text-align: right;\">173</td><td style = \"text-align: left;\">弁当類</td></tr><tr><td class = \"rowNumber\" style = \"font-weight: bold; text-align: right;\">4</td><td style = \"text-align: left;\">P040101004</td><td style = \"text-align: left;\">04</td><td style = \"text-align: left;\">0401</td><td style = \"text-align: left;\">040101</td><td style = \"text-align: right;\">248</td><td style = \"text-align: right;\">186</td><td style = \"text-align: left;\">弁当類</td></tr><tr><td class = \"rowNumber\" style = \"font-weight: bold; text-align: right;\">5</td><td style = \"text-align: left;\">P040101005</td><td style = \"text-align: left;\">04</td><td style = \"text-align: left;\">0401</td><td style = \"text-align: left;\">040101</td><td style = \"text-align: right;\">268</td><td style = \"text-align: right;\">201</td><td style = \"text-align: left;\">弁当類</td></tr><tr><td class = \"rowNumber\" style = \"font-weight: bold; text-align: right;\">6</td><td style = \"text-align: left;\">P040101006</td><td style = \"text-align: left;\">04</td><td style = \"text-align: left;\">0401</td><td style = \"text-align: left;\">040101</td><td style = \"text-align: right;\">298</td><td style = \"text-align: right;\">224</td><td style = \"text-align: left;\">弁当類</td></tr><tr><td class = \"rowNumber\" style = \"font-weight: bold; text-align: right;\">7</td><td style = \"text-align: left;\">P040101007</td><td style = \"text-align: left;\">04</td><td style = \"text-align: left;\">0401</td><td style = \"text-align: left;\">040101</td><td style = \"text-align: right;\">338</td><td style = \"text-align: right;\">254</td><td style = \"text-align: left;\">弁当類</td></tr><tr><td class = \"rowNumber\" style = \"font-weight: bold; text-align: right;\">8</td><td style = \"text-align: left;\">P040101008</td><td style = \"text-align: left;\">04</td><td style = \"text-align: left;\">0401</td><td style = \"text-align: left;\">040101</td><td style = \"text-align: right;\">420</td><td style = \"text-align: right;\">315</td><td style = \"text-align: left;\">弁当類</td></tr><tr><td class = \"rowNumber\" style = \"font-weight: bold; text-align: right;\">9</td><td style = \"text-align: left;\">P040101009</td><td style = \"text-align: left;\">04</td><td style = \"text-align: left;\">0401</td><td style = \"text-align: left;\">040101</td><td style = \"text-align: right;\">498</td><td style = \"text-align: right;\">374</td><td style = \"text-align: left;\">弁当類</td></tr><tr><td class = \"rowNumber\" style = \"font-weight: bold; text-align: right;\">10</td><td style = \"text-align: left;\">P040101010</td><td style = \"text-align: left;\">04</td><td style = \"text-align: left;\">0401</td><td style = \"text-align: left;\">040101</td><td style = \"text-align: right;\">580</td><td style = \"text-align: right;\">435</td><td style = \"text-align: left;\">弁当類</td></tr></tbody></table></div>"
      ],
      "text/latex": [
       "\\begin{tabular}{r|cccccc}\n",
       "\t& product\\_cd & category\\_major\\_cd & category\\_medium\\_cd & category\\_small\\_cd & unit\\_price & \\\\\n",
       "\t\\hline\n",
       "\t& String & String & String & String & Int64? & \\\\\n",
       "\t\\hline\n",
       "\t1 & P040101001 & 04 & 0401 & 040101 & 198 & $\\dots$ \\\\\n",
       "\t2 & P040101002 & 04 & 0401 & 040101 & 218 & $\\dots$ \\\\\n",
       "\t3 & P040101003 & 04 & 0401 & 040101 & 230 & $\\dots$ \\\\\n",
       "\t4 & P040101004 & 04 & 0401 & 040101 & 248 & $\\dots$ \\\\\n",
       "\t5 & P040101005 & 04 & 0401 & 040101 & 268 & $\\dots$ \\\\\n",
       "\t6 & P040101006 & 04 & 0401 & 040101 & 298 & $\\dots$ \\\\\n",
       "\t7 & P040101007 & 04 & 0401 & 040101 & 338 & $\\dots$ \\\\\n",
       "\t8 & P040101008 & 04 & 0401 & 040101 & 420 & $\\dots$ \\\\\n",
       "\t9 & P040101009 & 04 & 0401 & 040101 & 498 & $\\dots$ \\\\\n",
       "\t10 & P040101010 & 04 & 0401 & 040101 & 580 & $\\dots$ \\\\\n",
       "\\end{tabular}\n"
      ],
      "text/plain": [
       "\u001b[1m10×7 DataFrame\u001b[0m\n",
       "\u001b[1m Row \u001b[0m│\u001b[1m product_cd \u001b[0m\u001b[1m category_major_cd \u001b[0m\u001b[1m category_medium_cd \u001b[0m\u001b[1m category_small_cd \u001b[0m\u001b[1m u\u001b[0m ⋯\n",
       "     │\u001b[90m String     \u001b[0m\u001b[90m String            \u001b[0m\u001b[90m String             \u001b[0m\u001b[90m String            \u001b[0m\u001b[90m I\u001b[0m ⋯\n",
       "─────┼──────────────────────────────────────────────────────────────────────────\n",
       "   1 │ P040101001  04                 0401                040101               ⋯\n",
       "   2 │ P040101002  04                 0401                040101\n",
       "   3 │ P040101003  04                 0401                040101\n",
       "   4 │ P040101004  04                 0401                040101\n",
       "   5 │ P040101005  04                 0401                040101               ⋯\n",
       "   6 │ P040101006  04                 0401                040101\n",
       "   7 │ P040101007  04                 0401                040101\n",
       "   8 │ P040101008  04                 0401                040101\n",
       "   9 │ P040101009  04                 0401                040101               ⋯\n",
       "  10 │ P040101010  04                 0401                040101\n",
       "\u001b[36m                                                               3 columns omitted\u001b[0m"
      ]
     },
     "execution_count": 42,
     "metadata": {},
     "output_type": "execute_result"
    }
   ],
   "source": [
    "@time \\\n",
    "@chain df_product begin\n",
    "    innerjoin(\n",
    "        df_category[!, [:category_small_cd, :category_small_name]],\n",
    "        on=:category_small_cd\n",
    "    )\n",
    "    first(10)\n",
    "end"
   ]
  },
  {
   "cell_type": "markdown",
   "metadata": {},
   "source": [
    "---\n",
    "> P-038: 顧客データ（df_customer）とレシート明細データ（df_receipt）から、顧客ごとの売上金額合計を求め、10件表示せよ。ただし、売上実績がない顧客については売上金額を0として表示させること。また、顧客は性別コード（gender_cd）が女性（1）であるものを対象とし、非会員（顧客IDが\"Z\"から始まるもの）は除外すること。"
   ]
  },
  {
   "cell_type": "code",
   "execution_count": 43,
   "metadata": {},
   "outputs": [
    {
     "name": "stdout",
     "output_type": "stream",
     "text": [
      "  0.000001 seconds\n"
     ]
    },
    {
     "data": {
      "text/html": [
       "<div><div style = \"float: left;\"><span>10×2 DataFrame</span></div><div style = \"clear: both;\"></div></div><div class = \"data-frame\" style = \"overflow-x: scroll;\"><table class = \"data-frame\" style = \"margin-bottom: 6px;\"><thead><tr class = \"header\"><th class = \"rowNumber\" style = \"font-weight: bold; text-align: right;\">Row</th><th style = \"text-align: left;\">customer_id</th><th style = \"text-align: left;\">amount</th></tr><tr class = \"subheader headerLastRow\"><th class = \"rowNumber\" style = \"font-weight: bold; text-align: right;\"></th><th title = \"String\" style = \"text-align: left;\">String</th><th title = \"Int64\" style = \"text-align: left;\">Int64</th></tr></thead><tbody><tr><td class = \"rowNumber\" style = \"font-weight: bold; text-align: right;\">1</td><td style = \"text-align: left;\">CS001112000009</td><td style = \"text-align: right;\">0</td></tr><tr><td class = \"rowNumber\" style = \"font-weight: bold; text-align: right;\">2</td><td style = \"text-align: left;\">CS001112000019</td><td style = \"text-align: right;\">0</td></tr><tr><td class = \"rowNumber\" style = \"font-weight: bold; text-align: right;\">3</td><td style = \"text-align: left;\">CS001112000021</td><td style = \"text-align: right;\">0</td></tr><tr><td class = \"rowNumber\" style = \"font-weight: bold; text-align: right;\">4</td><td style = \"text-align: left;\">CS001112000023</td><td style = \"text-align: right;\">0</td></tr><tr><td class = \"rowNumber\" style = \"font-weight: bold; text-align: right;\">5</td><td style = \"text-align: left;\">CS001112000024</td><td style = \"text-align: right;\">0</td></tr><tr><td class = \"rowNumber\" style = \"font-weight: bold; text-align: right;\">6</td><td style = \"text-align: left;\">CS001112000029</td><td style = \"text-align: right;\">0</td></tr><tr><td class = \"rowNumber\" style = \"font-weight: bold; text-align: right;\">7</td><td style = \"text-align: left;\">CS001112000030</td><td style = \"text-align: right;\">0</td></tr><tr><td class = \"rowNumber\" style = \"font-weight: bold; text-align: right;\">8</td><td style = \"text-align: left;\">CS001113000004</td><td style = \"text-align: right;\">1298</td></tr><tr><td class = \"rowNumber\" style = \"font-weight: bold; text-align: right;\">9</td><td style = \"text-align: left;\">CS001113000010</td><td style = \"text-align: right;\">0</td></tr><tr><td class = \"rowNumber\" style = \"font-weight: bold; text-align: right;\">10</td><td style = \"text-align: left;\">CS001114000005</td><td style = \"text-align: right;\">626</td></tr></tbody></table></div>"
      ],
      "text/latex": [
       "\\begin{tabular}{r|cc}\n",
       "\t& customer\\_id & amount\\\\\n",
       "\t\\hline\n",
       "\t& String & Int64\\\\\n",
       "\t\\hline\n",
       "\t1 & CS001112000009 & 0 \\\\\n",
       "\t2 & CS001112000019 & 0 \\\\\n",
       "\t3 & CS001112000021 & 0 \\\\\n",
       "\t4 & CS001112000023 & 0 \\\\\n",
       "\t5 & CS001112000024 & 0 \\\\\n",
       "\t6 & CS001112000029 & 0 \\\\\n",
       "\t7 & CS001112000030 & 0 \\\\\n",
       "\t8 & CS001113000004 & 1298 \\\\\n",
       "\t9 & CS001113000010 & 0 \\\\\n",
       "\t10 & CS001114000005 & 626 \\\\\n",
       "\\end{tabular}\n"
      ],
      "text/plain": [
       "\u001b[1m10×2 DataFrame\u001b[0m\n",
       "\u001b[1m Row \u001b[0m│\u001b[1m customer_id    \u001b[0m\u001b[1m amount \u001b[0m\n",
       "     │\u001b[90m String         \u001b[0m\u001b[90m Int64  \u001b[0m\n",
       "─────┼────────────────────────\n",
       "   1 │ CS001112000009       0\n",
       "   2 │ CS001112000019       0\n",
       "   3 │ CS001112000021       0\n",
       "   4 │ CS001112000023       0\n",
       "   5 │ CS001112000024       0\n",
       "   6 │ CS001112000029       0\n",
       "   7 │ CS001112000030       0\n",
       "   8 │ CS001113000004    1298\n",
       "   9 │ CS001113000010       0\n",
       "  10 │ CS001114000005     626"
      ]
     },
     "execution_count": 43,
     "metadata": {},
     "output_type": "execute_result"
    }
   ],
   "source": [
    "@time \\\n",
    "@chain df_customer begin\n",
    "    @rsubset :gender_cd == \"1\" && !startswith(:customer_id, \"Z\")\n",
    "    leftjoin(df_receipt[!, [:customer_id, :amount]], on=:customer_id)\n",
    "    groupby(:customer_id, sort=true)\n",
    "    @combine :amount = coalesce.(sum(:amount), 0)\n",
    "    first(10)\n",
    "end"
   ]
  },
  {
   "cell_type": "markdown",
   "metadata": {},
   "source": [
    "---\n",
    "> P-039: レシート明細データ（df_receipt）から、売上日数の多い顧客の上位20件を抽出したデータと、売上金額合計の多い顧客の上位20件を抽出したデータをそれぞれ作成し、さらにその2つを完全外部結合せよ。ただし、非会員（顧客IDが\"Z\"から始まるもの）は除外すること。"
   ]
  },
  {
   "cell_type": "code",
   "execution_count": 44,
   "metadata": {},
   "outputs": [
    {
     "name": "stdout",
     "output_type": "stream",
     "text": [
      "  0.765621 seconds (980.27 k allocations: 62.566 MiB, 97.29% compilation time)\n"
     ]
    },
    {
     "data": {
      "text/html": [
       "<div><div style = \"float: left;\"><span>34×3 DataFrame</span></div><div style = \"float: right;\"><span style = \"font-style: italic;\">9 rows omitted</span></div><div style = \"clear: both;\"></div></div><div class = \"data-frame\" style = \"overflow-x: scroll;\"><table class = \"data-frame\" style = \"margin-bottom: 6px;\"><thead><tr class = \"header\"><th class = \"rowNumber\" style = \"font-weight: bold; text-align: right;\">Row</th><th style = \"text-align: left;\">customer_id</th><th style = \"text-align: left;\">sales_ymd_count</th><th style = \"text-align: left;\">amount_sum</th></tr><tr class = \"subheader headerLastRow\"><th class = \"rowNumber\" style = \"font-weight: bold; text-align: right;\"></th><th title = \"String\" style = \"text-align: left;\">String</th><th title = \"Union{Missing, Int64}\" style = \"text-align: left;\">Int64?</th><th title = \"Union{Missing, Int64}\" style = \"text-align: left;\">Int64?</th></tr></thead><tbody><tr><td class = \"rowNumber\" style = \"font-weight: bold; text-align: right;\">1</td><td style = \"text-align: left;\">CS040214000008</td><td style = \"text-align: right;\">23</td><td style = \"font-style: italic; text-align: right;\">missing</td></tr><tr><td class = \"rowNumber\" style = \"font-weight: bold; text-align: right;\">2</td><td style = \"text-align: left;\">CS015415000185</td><td style = \"text-align: right;\">22</td><td style = \"text-align: right;\">20153</td></tr><tr><td class = \"rowNumber\" style = \"font-weight: bold; text-align: right;\">3</td><td style = \"text-align: left;\">CS010214000010</td><td style = \"text-align: right;\">22</td><td style = \"text-align: right;\">18585</td></tr><tr><td class = \"rowNumber\" style = \"font-weight: bold; text-align: right;\">4</td><td style = \"text-align: left;\">CS028415000007</td><td style = \"text-align: right;\">21</td><td style = \"text-align: right;\">19127</td></tr><tr><td class = \"rowNumber\" style = \"font-weight: bold; text-align: right;\">5</td><td style = \"text-align: left;\">CS010214000002</td><td style = \"text-align: right;\">21</td><td style = \"font-style: italic; text-align: right;\">missing</td></tr><tr><td class = \"rowNumber\" style = \"font-weight: bold; text-align: right;\">6</td><td style = \"text-align: left;\">CS017415000097</td><td style = \"text-align: right;\">20</td><td style = \"text-align: right;\">23086</td></tr><tr><td class = \"rowNumber\" style = \"font-weight: bold; text-align: right;\">7</td><td style = \"text-align: left;\">CS016415000141</td><td style = \"text-align: right;\">20</td><td style = \"text-align: right;\">18372</td></tr><tr><td class = \"rowNumber\" style = \"font-weight: bold; text-align: right;\">8</td><td style = \"text-align: left;\">CS031414000051</td><td style = \"text-align: right;\">19</td><td style = \"text-align: right;\">19202</td></tr><tr><td class = \"rowNumber\" style = \"font-weight: bold; text-align: right;\">9</td><td style = \"text-align: left;\">CS039414000052</td><td style = \"text-align: right;\">19</td><td style = \"font-style: italic; text-align: right;\">missing</td></tr><tr><td class = \"rowNumber\" style = \"font-weight: bold; text-align: right;\">10</td><td style = \"text-align: left;\">CS021514000045</td><td style = \"text-align: right;\">19</td><td style = \"font-style: italic; text-align: right;\">missing</td></tr><tr><td class = \"rowNumber\" style = \"font-weight: bold; text-align: right;\">11</td><td style = \"text-align: left;\">CS022515000226</td><td style = \"text-align: right;\">19</td><td style = \"font-style: italic; text-align: right;\">missing</td></tr><tr><td class = \"rowNumber\" style = \"font-weight: bold; text-align: right;\">12</td><td style = \"text-align: left;\">CS014214000023</td><td style = \"text-align: right;\">19</td><td style = \"font-style: italic; text-align: right;\">missing</td></tr><tr><td class = \"rowNumber\" style = \"font-weight: bold; text-align: right;\">13</td><td style = \"text-align: left;\">CS021515000172</td><td style = \"text-align: right;\">19</td><td style = \"font-style: italic; text-align: right;\">missing</td></tr><tr><td style = \"text-align: right;\">&vellip;</td><td style = \"text-align: right;\">&vellip;</td><td style = \"text-align: right;\">&vellip;</td><td style = \"text-align: right;\">&vellip;</td></tr><tr><td class = \"rowNumber\" style = \"font-weight: bold; text-align: right;\">23</td><td style = \"text-align: left;\">CS011414000106</td><td style = \"text-align: right;\">missing</td><td style = \"font-style: italic; text-align: right;\">18338</td></tr><tr><td class = \"rowNumber\" style = \"font-weight: bold; text-align: right;\">24</td><td style = \"text-align: left;\">CS038415000104</td><td style = \"text-align: right;\">missing</td><td style = \"font-style: italic; text-align: right;\">17847</td></tr><tr><td class = \"rowNumber\" style = \"font-weight: bold; text-align: right;\">25</td><td style = \"text-align: left;\">CS035414000024</td><td style = \"text-align: right;\">missing</td><td style = \"font-style: italic; text-align: right;\">17615</td></tr><tr><td class = \"rowNumber\" style = \"font-weight: bold; text-align: right;\">26</td><td style = \"text-align: left;\">CS021515000089</td><td style = \"text-align: right;\">missing</td><td style = \"font-style: italic; text-align: right;\">17580</td></tr><tr><td class = \"rowNumber\" style = \"font-weight: bold; text-align: right;\">27</td><td style = \"text-align: left;\">CS032414000072</td><td style = \"text-align: right;\">missing</td><td style = \"font-style: italic; text-align: right;\">16563</td></tr><tr><td class = \"rowNumber\" style = \"font-weight: bold; text-align: right;\">28</td><td style = \"text-align: left;\">CS016415000101</td><td style = \"text-align: right;\">missing</td><td style = \"font-style: italic; text-align: right;\">16348</td></tr><tr><td class = \"rowNumber\" style = \"font-weight: bold; text-align: right;\">29</td><td style = \"text-align: left;\">CS011415000006</td><td style = \"text-align: right;\">missing</td><td style = \"font-style: italic; text-align: right;\">16094</td></tr><tr><td class = \"rowNumber\" style = \"font-weight: bold; text-align: right;\">30</td><td style = \"text-align: left;\">CS034415000047</td><td style = \"font-style: italic; text-align: right;\">missing</td><td style = \"text-align: right;\">16083</td></tr><tr><td class = \"rowNumber\" style = \"font-weight: bold; text-align: right;\">31</td><td style = \"text-align: left;\">CS007514000094</td><td style = \"font-style: italic; text-align: right;\">missing</td><td style = \"text-align: right;\">15735</td></tr><tr><td class = \"rowNumber\" style = \"font-weight: bold; text-align: right;\">32</td><td style = \"text-align: left;\">CS009414000059</td><td style = \"font-style: italic; text-align: right;\">missing</td><td style = \"text-align: right;\">15492</td></tr><tr><td class = \"rowNumber\" style = \"font-weight: bold; text-align: right;\">33</td><td style = \"text-align: left;\">CS030415000034</td><td style = \"font-style: italic; text-align: right;\">missing</td><td style = \"text-align: right;\">15468</td></tr><tr><td class = \"rowNumber\" style = \"font-weight: bold; text-align: right;\">34</td><td style = \"text-align: left;\">CS015515000034</td><td style = \"font-style: italic; text-align: right;\">missing</td><td style = \"text-align: right;\">15300</td></tr></tbody></table></div>"
      ],
      "text/latex": [
       "\\begin{tabular}{r|ccc}\n",
       "\t& customer\\_id & sales\\_ymd\\_count & amount\\_sum\\\\\n",
       "\t\\hline\n",
       "\t& String & Int64? & Int64?\\\\\n",
       "\t\\hline\n",
       "\t1 & CS040214000008 & 23 & \\emph{missing} \\\\\n",
       "\t2 & CS015415000185 & 22 & 20153 \\\\\n",
       "\t3 & CS010214000010 & 22 & 18585 \\\\\n",
       "\t4 & CS028415000007 & 21 & 19127 \\\\\n",
       "\t5 & CS010214000002 & 21 & \\emph{missing} \\\\\n",
       "\t6 & CS017415000097 & 20 & 23086 \\\\\n",
       "\t7 & CS016415000141 & 20 & 18372 \\\\\n",
       "\t8 & CS031414000051 & 19 & 19202 \\\\\n",
       "\t9 & CS039414000052 & 19 & \\emph{missing} \\\\\n",
       "\t10 & CS021514000045 & 19 & \\emph{missing} \\\\\n",
       "\t11 & CS022515000226 & 19 & \\emph{missing} \\\\\n",
       "\t12 & CS014214000023 & 19 & \\emph{missing} \\\\\n",
       "\t13 & CS021515000172 & 19 & \\emph{missing} \\\\\n",
       "\t14 & CS014415000077 & 18 & \\emph{missing} \\\\\n",
       "\t15 & CS030214000008 & 18 & \\emph{missing} \\\\\n",
       "\t16 & CS021515000056 & 18 & \\emph{missing} \\\\\n",
       "\t17 & CS031414000073 & 18 & \\emph{missing} \\\\\n",
       "\t18 & CS032415000209 & 18 & \\emph{missing} \\\\\n",
       "\t19 & CS007515000107 & 18 & \\emph{missing} \\\\\n",
       "\t20 & CS021515000211 & 18 & \\emph{missing} \\\\\n",
       "\t21 & CS001605000009 & \\emph{missing} & 18925 \\\\\n",
       "\t22 & CS006515000023 & \\emph{missing} & 18372 \\\\\n",
       "\t23 & CS011414000106 & \\emph{missing} & 18338 \\\\\n",
       "\t24 & CS038415000104 & \\emph{missing} & 17847 \\\\\n",
       "\t25 & CS035414000024 & \\emph{missing} & 17615 \\\\\n",
       "\t26 & CS021515000089 & \\emph{missing} & 17580 \\\\\n",
       "\t27 & CS032414000072 & \\emph{missing} & 16563 \\\\\n",
       "\t28 & CS016415000101 & \\emph{missing} & 16348 \\\\\n",
       "\t29 & CS011415000006 & \\emph{missing} & 16094 \\\\\n",
       "\t30 & CS034415000047 & \\emph{missing} & 16083 \\\\\n",
       "\t$\\dots$ & $\\dots$ & $\\dots$ & $\\dots$ \\\\\n",
       "\\end{tabular}\n"
      ],
      "text/plain": [
       "\u001b[1m34×3 DataFrame\u001b[0m\n",
       "\u001b[1m Row \u001b[0m│\u001b[1m customer_id    \u001b[0m\u001b[1m sales_ymd_count \u001b[0m\u001b[1m amount_sum \u001b[0m\n",
       "     │\u001b[90m String         \u001b[0m\u001b[90m Int64?          \u001b[0m\u001b[90m Int64?     \u001b[0m\n",
       "─────┼─────────────────────────────────────────────\n",
       "   1 │ CS040214000008               23 \u001b[90m    missing \u001b[0m\n",
       "   2 │ CS015415000185               22       20153\n",
       "   3 │ CS010214000010               22       18585\n",
       "   4 │ CS028415000007               21       19127\n",
       "   5 │ CS010214000002               21 \u001b[90m    missing \u001b[0m\n",
       "   6 │ CS017415000097               20       23086\n",
       "   7 │ CS016415000141               20       18372\n",
       "   8 │ CS031414000051               19       19202\n",
       "   9 │ CS039414000052               19 \u001b[90m    missing \u001b[0m\n",
       "  10 │ CS021514000045               19 \u001b[90m    missing \u001b[0m\n",
       "  11 │ CS022515000226               19 \u001b[90m    missing \u001b[0m\n",
       "  ⋮  │       ⋮                ⋮             ⋮\n",
       "  25 │ CS035414000024 \u001b[90m         missing \u001b[0m      17615\n",
       "  26 │ CS021515000089 \u001b[90m         missing \u001b[0m      17580\n",
       "  27 │ CS032414000072 \u001b[90m         missing \u001b[0m      16563\n",
       "  28 │ CS016415000101 \u001b[90m         missing \u001b[0m      16348\n",
       "  29 │ CS011415000006 \u001b[90m         missing \u001b[0m      16094\n",
       "  30 │ CS034415000047 \u001b[90m         missing \u001b[0m      16083\n",
       "  31 │ CS007514000094 \u001b[90m         missing \u001b[0m      15735\n",
       "  32 │ CS009414000059 \u001b[90m         missing \u001b[0m      15492\n",
       "  33 │ CS030415000034 \u001b[90m         missing \u001b[0m      15468\n",
       "  34 │ CS015515000034 \u001b[90m         missing \u001b[0m      15300\n",
       "\u001b[36m                                    13 rows omitted\u001b[0m"
      ]
     },
     "execution_count": 44,
     "metadata": {},
     "output_type": "execute_result"
    }
   ],
   "source": [
    "function p039()\n",
    "    gdf = @chain df_receipt begin\n",
    "        @rsubset !startswith(:customer_id, \"Z\")\n",
    "        groupby(:customer_id)\n",
    "    end\n",
    "\n",
    "    df1 = @chain gdf begin\n",
    "        @combine :sales_ymd_count = length(unique(:sales_ymd))\n",
    "        @orderby -:sales_ymd_count\n",
    "        first(20)\n",
    "    end\n",
    "\n",
    "    df2 = @chain gdf begin\n",
    "        @combine :amount_sum = sum(:amount)\n",
    "        @orderby -:amount_sum\n",
    "        first(20)\n",
    "    end\n",
    "\n",
    "    @chain df1 begin\n",
    "        outerjoin(df2, on=:customer_id)\n",
    "        @orderby(-:sales_ymd_count)\n",
    "    end\n",
    "end\n",
    "\n",
    "@time p039()"
   ]
  },
  {
   "cell_type": "markdown",
   "metadata": {},
   "source": [
    "---\n",
    "> P-040: 全ての店舗と全ての商品を組み合わせたデータを作成したい。店舗データ（df_store）と商品データ（df_product）を直積し、件数を計算せよ。"
   ]
  },
  {
   "cell_type": "code",
   "execution_count": 45,
   "metadata": {},
   "outputs": [
    {
     "name": "stdout",
     "output_type": "stream",
     "text": [
      "  0.000001 seconds\n"
     ]
    },
    {
     "data": {
      "text/plain": [
       "531590"
      ]
     },
     "execution_count": 45,
     "metadata": {},
     "output_type": "execute_result"
    }
   ],
   "source": [
    "@time \\\n",
    "crossjoin(df_store, df_product) |> nrow"
   ]
  },
  {
   "cell_type": "markdown",
   "metadata": {},
   "source": [
    "---\n",
    "> P-041: レシート明細データ（df_receipt）の売上金額（amount）を日付（sales_ymd）ごとに集計し、前回売上があった日からの売上金額増減を計算せよ。そして結果を10件表示せよ。"
   ]
  },
  {
   "cell_type": "code",
   "execution_count": 46,
   "metadata": {},
   "outputs": [
    {
     "name": "stdout",
     "output_type": "stream",
     "text": [
      "  0.000001 seconds\n"
     ]
    },
    {
     "data": {
      "text/html": [
       "<div><div style = \"float: left;\"><span>10×5 DataFrame</span></div><div style = \"clear: both;\"></div></div><div class = \"data-frame\" style = \"overflow-x: scroll;\"><table class = \"data-frame\" style = \"margin-bottom: 6px;\"><thead><tr class = \"header\"><th class = \"rowNumber\" style = \"font-weight: bold; text-align: right;\">Row</th><th style = \"text-align: left;\">sales_ymd</th><th style = \"text-align: left;\">amount_sum</th><th style = \"text-align: left;\">sales_ymd_lag</th><th style = \"text-align: left;\">amount_sum_lag</th><th style = \"text-align: left;\">amount_diff</th></tr><tr class = \"subheader headerLastRow\"><th class = \"rowNumber\" style = \"font-weight: bold; text-align: right;\"></th><th title = \"Int64\" style = \"text-align: left;\">Int64</th><th title = \"Int64\" style = \"text-align: left;\">Int64</th><th title = \"Union{Missing, Int64}\" style = \"text-align: left;\">Int64?</th><th title = \"Union{Missing, Int64}\" style = \"text-align: left;\">Int64?</th><th title = \"Union{Missing, Int64}\" style = \"text-align: left;\">Int64?</th></tr></thead><tbody><tr><td class = \"rowNumber\" style = \"font-weight: bold; text-align: right;\">1</td><td style = \"text-align: right;\">20170101</td><td style = \"text-align: right;\">33723</td><td style = \"font-style: italic; text-align: right;\">missing</td><td style = \"font-style: italic; text-align: right;\">missing</td><td style = \"font-style: italic; text-align: right;\">missing</td></tr><tr><td class = \"rowNumber\" style = \"font-weight: bold; text-align: right;\">2</td><td style = \"text-align: right;\">20170102</td><td style = \"text-align: right;\">24165</td><td style = \"text-align: right;\">20170101</td><td style = \"text-align: right;\">33723</td><td style = \"text-align: right;\">-9558</td></tr><tr><td class = \"rowNumber\" style = \"font-weight: bold; text-align: right;\">3</td><td style = \"text-align: right;\">20170103</td><td style = \"text-align: right;\">27503</td><td style = \"text-align: right;\">20170102</td><td style = \"text-align: right;\">24165</td><td style = \"text-align: right;\">3338</td></tr><tr><td class = \"rowNumber\" style = \"font-weight: bold; text-align: right;\">4</td><td style = \"text-align: right;\">20170104</td><td style = \"text-align: right;\">36165</td><td style = \"text-align: right;\">20170103</td><td style = \"text-align: right;\">27503</td><td style = \"text-align: right;\">8662</td></tr><tr><td class = \"rowNumber\" style = \"font-weight: bold; text-align: right;\">5</td><td style = \"text-align: right;\">20170105</td><td style = \"text-align: right;\">37830</td><td style = \"text-align: right;\">20170104</td><td style = \"text-align: right;\">36165</td><td style = \"text-align: right;\">1665</td></tr><tr><td class = \"rowNumber\" style = \"font-weight: bold; text-align: right;\">6</td><td style = \"text-align: right;\">20170106</td><td style = \"text-align: right;\">32387</td><td style = \"text-align: right;\">20170105</td><td style = \"text-align: right;\">37830</td><td style = \"text-align: right;\">-5443</td></tr><tr><td class = \"rowNumber\" style = \"font-weight: bold; text-align: right;\">7</td><td style = \"text-align: right;\">20170107</td><td style = \"text-align: right;\">23415</td><td style = \"text-align: right;\">20170106</td><td style = \"text-align: right;\">32387</td><td style = \"text-align: right;\">-8972</td></tr><tr><td class = \"rowNumber\" style = \"font-weight: bold; text-align: right;\">8</td><td style = \"text-align: right;\">20170108</td><td style = \"text-align: right;\">24737</td><td style = \"text-align: right;\">20170107</td><td style = \"text-align: right;\">23415</td><td style = \"text-align: right;\">1322</td></tr><tr><td class = \"rowNumber\" style = \"font-weight: bold; text-align: right;\">9</td><td style = \"text-align: right;\">20170109</td><td style = \"text-align: right;\">26718</td><td style = \"text-align: right;\">20170108</td><td style = \"text-align: right;\">24737</td><td style = \"text-align: right;\">1981</td></tr><tr><td class = \"rowNumber\" style = \"font-weight: bold; text-align: right;\">10</td><td style = \"text-align: right;\">20170110</td><td style = \"text-align: right;\">20143</td><td style = \"text-align: right;\">20170109</td><td style = \"text-align: right;\">26718</td><td style = \"text-align: right;\">-6575</td></tr></tbody></table></div>"
      ],
      "text/latex": [
       "\\begin{tabular}{r|ccccc}\n",
       "\t& sales\\_ymd & amount\\_sum & sales\\_ymd\\_lag & amount\\_sum\\_lag & amount\\_diff\\\\\n",
       "\t\\hline\n",
       "\t& Int64 & Int64 & Int64? & Int64? & Int64?\\\\\n",
       "\t\\hline\n",
       "\t1 & 20170101 & 33723 & \\emph{missing} & \\emph{missing} & \\emph{missing} \\\\\n",
       "\t2 & 20170102 & 24165 & 20170101 & 33723 & -9558 \\\\\n",
       "\t3 & 20170103 & 27503 & 20170102 & 24165 & 3338 \\\\\n",
       "\t4 & 20170104 & 36165 & 20170103 & 27503 & 8662 \\\\\n",
       "\t5 & 20170105 & 37830 & 20170104 & 36165 & 1665 \\\\\n",
       "\t6 & 20170106 & 32387 & 20170105 & 37830 & -5443 \\\\\n",
       "\t7 & 20170107 & 23415 & 20170106 & 32387 & -8972 \\\\\n",
       "\t8 & 20170108 & 24737 & 20170107 & 23415 & 1322 \\\\\n",
       "\t9 & 20170109 & 26718 & 20170108 & 24737 & 1981 \\\\\n",
       "\t10 & 20170110 & 20143 & 20170109 & 26718 & -6575 \\\\\n",
       "\\end{tabular}\n"
      ],
      "text/plain": [
       "\u001b[1m10×5 DataFrame\u001b[0m\n",
       "\u001b[1m Row \u001b[0m│\u001b[1m sales_ymd \u001b[0m\u001b[1m amount_sum \u001b[0m\u001b[1m sales_ymd_lag \u001b[0m\u001b[1m amount_sum_lag \u001b[0m\u001b[1m amount_diff \u001b[0m\n",
       "     │\u001b[90m Int64     \u001b[0m\u001b[90m Int64      \u001b[0m\u001b[90m Int64?        \u001b[0m\u001b[90m Int64?         \u001b[0m\u001b[90m Int64?      \u001b[0m\n",
       "─────┼───────────────────────────────────────────────────────────────────\n",
       "   1 │  20170101       33723 \u001b[90m       missing \u001b[0m\u001b[90m        missing \u001b[0m\u001b[90m     missing \u001b[0m\n",
       "   2 │  20170102       24165       20170101           33723        -9558\n",
       "   3 │  20170103       27503       20170102           24165         3338\n",
       "   4 │  20170104       36165       20170103           27503         8662\n",
       "   5 │  20170105       37830       20170104           36165         1665\n",
       "   6 │  20170106       32387       20170105           37830        -5443\n",
       "   7 │  20170107       23415       20170106           32387        -8972\n",
       "   8 │  20170108       24737       20170107           23415         1322\n",
       "   9 │  20170109       26718       20170108           24737         1981\n",
       "  10 │  20170110       20143       20170109           26718        -6575"
      ]
     },
     "execution_count": 46,
     "metadata": {},
     "output_type": "execute_result"
    }
   ],
   "source": [
    "@time \\\n",
    "@chain df_receipt begin\n",
    "    groupby(:sales_ymd, sort=true)\n",
    "    @combine :amount_sum = sum(:amount)\n",
    "    @transform @astable begin\n",
    "        :sales_ymd_lag = lag(:sales_ymd)\n",
    "        :amount_sum_lag = lag(:amount_sum)\n",
    "        :amount_diff = :amount_sum - :amount_sum_lag\n",
    "    end\n",
    "    first(10)\n",
    "end"
   ]
  },
  {
   "cell_type": "markdown",
   "metadata": {},
   "source": [
    "---\n",
    "> P-042: レシート明細データ（df_receipt）の売上金額（amount）を日付（sales_ymd）ごとに集計し、各日付のデータに対し、前回、前々回、3回前に売上があった日のデータを結合せよ。そして結果を10件表示せよ。"
   ]
  },
  {
   "cell_type": "code",
   "execution_count": 47,
   "metadata": {},
   "outputs": [
    {
     "name": "stdout",
     "output_type": "stream",
     "text": [
      "  0.000001 seconds\n"
     ]
    },
    {
     "data": {
      "text/html": [
       "<div><div style = \"float: left;\"><span>10×8 DataFrame</span></div><div style = \"clear: both;\"></div></div><div class = \"data-frame\" style = \"overflow-x: scroll;\"><table class = \"data-frame\" style = \"margin-bottom: 6px;\"><thead><tr class = \"header\"><th class = \"rowNumber\" style = \"font-weight: bold; text-align: right;\">Row</th><th style = \"text-align: left;\">sales_ymd</th><th style = \"text-align: left;\">amount_sum</th><th style = \"text-align: left;\">sales_ymd_lag1</th><th style = \"text-align: left;\">amount_sum_lag1</th><th style = \"text-align: left;\">sales_ymd_lag2</th><th style = \"text-align: left;\">amount_sum_lag2</th><th style = \"text-align: left;\">sales_ymd_lag3</th><th style = \"text-align: left;\">amount_sum_lag3</th></tr><tr class = \"subheader headerLastRow\"><th class = \"rowNumber\" style = \"font-weight: bold; text-align: right;\"></th><th title = \"Int64\" style = \"text-align: left;\">Int64</th><th title = \"Int64\" style = \"text-align: left;\">Int64</th><th title = \"Union{Missing, Int64}\" style = \"text-align: left;\">Int64?</th><th title = \"Union{Missing, Int64}\" style = \"text-align: left;\">Int64?</th><th title = \"Union{Missing, Int64}\" style = \"text-align: left;\">Int64?</th><th title = \"Union{Missing, Int64}\" style = \"text-align: left;\">Int64?</th><th title = \"Union{Missing, Int64}\" style = \"text-align: left;\">Int64?</th><th title = \"Union{Missing, Int64}\" style = \"text-align: left;\">Int64?</th></tr></thead><tbody><tr><td class = \"rowNumber\" style = \"font-weight: bold; text-align: right;\">1</td><td style = \"text-align: right;\">20170101</td><td style = \"text-align: right;\">33723</td><td style = \"font-style: italic; text-align: right;\">missing</td><td style = \"font-style: italic; text-align: right;\">missing</td><td style = \"font-style: italic; text-align: right;\">missing</td><td style = \"font-style: italic; text-align: right;\">missing</td><td style = \"font-style: italic; text-align: right;\">missing</td><td style = \"font-style: italic; text-align: right;\">missing</td></tr><tr><td class = \"rowNumber\" style = \"font-weight: bold; text-align: right;\">2</td><td style = \"text-align: right;\">20170102</td><td style = \"text-align: right;\">24165</td><td style = \"text-align: right;\">20170101</td><td style = \"text-align: right;\">33723</td><td style = \"font-style: italic; text-align: right;\">missing</td><td style = \"font-style: italic; text-align: right;\">missing</td><td style = \"font-style: italic; text-align: right;\">missing</td><td style = \"font-style: italic; text-align: right;\">missing</td></tr><tr><td class = \"rowNumber\" style = \"font-weight: bold; text-align: right;\">3</td><td style = \"text-align: right;\">20170103</td><td style = \"text-align: right;\">27503</td><td style = \"text-align: right;\">20170102</td><td style = \"text-align: right;\">24165</td><td style = \"text-align: right;\">20170101</td><td style = \"text-align: right;\">33723</td><td style = \"font-style: italic; text-align: right;\">missing</td><td style = \"font-style: italic; text-align: right;\">missing</td></tr><tr><td class = \"rowNumber\" style = \"font-weight: bold; text-align: right;\">4</td><td style = \"text-align: right;\">20170104</td><td style = \"text-align: right;\">36165</td><td style = \"text-align: right;\">20170103</td><td style = \"text-align: right;\">27503</td><td style = \"text-align: right;\">20170102</td><td style = \"text-align: right;\">24165</td><td style = \"text-align: right;\">20170101</td><td style = \"text-align: right;\">33723</td></tr><tr><td class = \"rowNumber\" style = \"font-weight: bold; text-align: right;\">5</td><td style = \"text-align: right;\">20170105</td><td style = \"text-align: right;\">37830</td><td style = \"text-align: right;\">20170104</td><td style = \"text-align: right;\">36165</td><td style = \"text-align: right;\">20170103</td><td style = \"text-align: right;\">27503</td><td style = \"text-align: right;\">20170102</td><td style = \"text-align: right;\">24165</td></tr><tr><td class = \"rowNumber\" style = \"font-weight: bold; text-align: right;\">6</td><td style = \"text-align: right;\">20170106</td><td style = \"text-align: right;\">32387</td><td style = \"text-align: right;\">20170105</td><td style = \"text-align: right;\">37830</td><td style = \"text-align: right;\">20170104</td><td style = \"text-align: right;\">36165</td><td style = \"text-align: right;\">20170103</td><td style = \"text-align: right;\">27503</td></tr><tr><td class = \"rowNumber\" style = \"font-weight: bold; text-align: right;\">7</td><td style = \"text-align: right;\">20170107</td><td style = \"text-align: right;\">23415</td><td style = \"text-align: right;\">20170106</td><td style = \"text-align: right;\">32387</td><td style = \"text-align: right;\">20170105</td><td style = \"text-align: right;\">37830</td><td style = \"text-align: right;\">20170104</td><td style = \"text-align: right;\">36165</td></tr><tr><td class = \"rowNumber\" style = \"font-weight: bold; text-align: right;\">8</td><td style = \"text-align: right;\">20170108</td><td style = \"text-align: right;\">24737</td><td style = \"text-align: right;\">20170107</td><td style = \"text-align: right;\">23415</td><td style = \"text-align: right;\">20170106</td><td style = \"text-align: right;\">32387</td><td style = \"text-align: right;\">20170105</td><td style = \"text-align: right;\">37830</td></tr><tr><td class = \"rowNumber\" style = \"font-weight: bold; text-align: right;\">9</td><td style = \"text-align: right;\">20170109</td><td style = \"text-align: right;\">26718</td><td style = \"text-align: right;\">20170108</td><td style = \"text-align: right;\">24737</td><td style = \"text-align: right;\">20170107</td><td style = \"text-align: right;\">23415</td><td style = \"text-align: right;\">20170106</td><td style = \"text-align: right;\">32387</td></tr><tr><td class = \"rowNumber\" style = \"font-weight: bold; text-align: right;\">10</td><td style = \"text-align: right;\">20170110</td><td style = \"text-align: right;\">20143</td><td style = \"text-align: right;\">20170109</td><td style = \"text-align: right;\">26718</td><td style = \"text-align: right;\">20170108</td><td style = \"text-align: right;\">24737</td><td style = \"text-align: right;\">20170107</td><td style = \"text-align: right;\">23415</td></tr></tbody></table></div>"
      ],
      "text/latex": [
       "\\begin{tabular}{r|ccccccc}\n",
       "\t& sales\\_ymd & amount\\_sum & sales\\_ymd\\_lag1 & amount\\_sum\\_lag1 & sales\\_ymd\\_lag2 & amount\\_sum\\_lag2 & \\\\\n",
       "\t\\hline\n",
       "\t& Int64 & Int64 & Int64? & Int64? & Int64? & Int64? & \\\\\n",
       "\t\\hline\n",
       "\t1 & 20170101 & 33723 & \\emph{missing} & \\emph{missing} & \\emph{missing} & \\emph{missing} & $\\dots$ \\\\\n",
       "\t2 & 20170102 & 24165 & 20170101 & 33723 & \\emph{missing} & \\emph{missing} & $\\dots$ \\\\\n",
       "\t3 & 20170103 & 27503 & 20170102 & 24165 & 20170101 & 33723 & $\\dots$ \\\\\n",
       "\t4 & 20170104 & 36165 & 20170103 & 27503 & 20170102 & 24165 & $\\dots$ \\\\\n",
       "\t5 & 20170105 & 37830 & 20170104 & 36165 & 20170103 & 27503 & $\\dots$ \\\\\n",
       "\t6 & 20170106 & 32387 & 20170105 & 37830 & 20170104 & 36165 & $\\dots$ \\\\\n",
       "\t7 & 20170107 & 23415 & 20170106 & 32387 & 20170105 & 37830 & $\\dots$ \\\\\n",
       "\t8 & 20170108 & 24737 & 20170107 & 23415 & 20170106 & 32387 & $\\dots$ \\\\\n",
       "\t9 & 20170109 & 26718 & 20170108 & 24737 & 20170107 & 23415 & $\\dots$ \\\\\n",
       "\t10 & 20170110 & 20143 & 20170109 & 26718 & 20170108 & 24737 & $\\dots$ \\\\\n",
       "\\end{tabular}\n"
      ],
      "text/plain": [
       "\u001b[1m10×8 DataFrame\u001b[0m\n",
       "\u001b[1m Row \u001b[0m│\u001b[1m sales_ymd \u001b[0m\u001b[1m amount_sum \u001b[0m\u001b[1m sales_ymd_lag1 \u001b[0m\u001b[1m amount_sum_lag1 \u001b[0m\u001b[1m sales_ymd_lag2 \u001b[0m\u001b[1m\u001b[0m ⋯\n",
       "     │\u001b[90m Int64     \u001b[0m\u001b[90m Int64      \u001b[0m\u001b[90m Int64?         \u001b[0m\u001b[90m Int64?          \u001b[0m\u001b[90m Int64?         \u001b[0m\u001b[90m\u001b[0m ⋯\n",
       "─────┼──────────────────────────────────────────────────────────────────────────\n",
       "   1 │  20170101       33723 \u001b[90m        missing \u001b[0m\u001b[90m         missing \u001b[0m\u001b[90m        missing \u001b[0m\u001b[90m\u001b[0m ⋯\n",
       "   2 │  20170102       24165        20170101            33723 \u001b[90m        missing \u001b[0m\u001b[90m\u001b[0m\n",
       "   3 │  20170103       27503        20170102            24165        20170101\n",
       "   4 │  20170104       36165        20170103            27503        20170102\n",
       "   5 │  20170105       37830        20170104            36165        20170103  ⋯\n",
       "   6 │  20170106       32387        20170105            37830        20170104\n",
       "   7 │  20170107       23415        20170106            32387        20170105\n",
       "   8 │  20170108       24737        20170107            23415        20170106\n",
       "   9 │  20170109       26718        20170108            24737        20170107  ⋯\n",
       "  10 │  20170110       20143        20170109            26718        20170108\n",
       "\u001b[36m                                                               3 columns omitted\u001b[0m"
      ]
     },
     "execution_count": 47,
     "metadata": {},
     "output_type": "execute_result"
    }
   ],
   "source": [
    "@time \\\n",
    "@chain df_receipt begin\n",
    "    groupby(:sales_ymd, sort=true)\n",
    "    @combine :amount_sum = sum(:amount)\n",
    "    @transform begin\n",
    "        :sales_ymd_lag1 = lag(:sales_ymd, 1)\n",
    "        :amount_sum_lag1 = lag(:amount_sum, 1)\n",
    "        :sales_ymd_lag2 = lag(:sales_ymd, 2)\n",
    "        :amount_sum_lag2 = lag(:amount_sum, 2)\n",
    "        :sales_ymd_lag3 = lag(:sales_ymd, 3)\n",
    "        :amount_sum_lag3 = lag(:amount_sum, 3)\n",
    "    end\n",
    "    first(10)\n",
    "end"
   ]
  },
  {
   "cell_type": "markdown",
   "metadata": {},
   "source": [
    "---\n",
    "> P-043： レシート明細データ（df_receipt）と顧客データ（df_customer）を結合し、性別コード（gender_cd）と年代（ageから計算）ごとに売上金額（amount）を合計した売上サマリデータを作成せよ。性別コードは0が男性、1が女性、9が不明を表すものとする。\n",
    ">\n",
    "> ただし、項目構成は年代、女性の売上金額、男性の売上金額、性別不明の売上金額の4項目とすること（縦に年代、横に性別のクロス集計）。また、年代は10歳ごとの階級とすること。"
   ]
  },
  {
   "cell_type": "code",
   "execution_count": 48,
   "metadata": {},
   "outputs": [
    {
     "name": "stdout",
     "output_type": "stream",
     "text": [
      "  0.000001 seconds\n"
     ]
    },
    {
     "data": {
      "text/html": [
       "<div><div style = \"float: left;\"><span>9×4 DataFrame</span></div><div style = \"clear: both;\"></div></div><div class = \"data-frame\" style = \"overflow-x: scroll;\"><table class = \"data-frame\" style = \"margin-bottom: 6px;\"><thead><tr class = \"header\"><th class = \"rowNumber\" style = \"font-weight: bold; text-align: right;\">Row</th><th style = \"text-align: left;\">age_cat</th><th style = \"text-align: left;\">Male</th><th style = \"text-align: left;\">Female</th><th style = \"text-align: left;\">Unknown</th></tr><tr class = \"subheader headerLastRow\"><th class = \"rowNumber\" style = \"font-weight: bold; text-align: right;\"></th><th title = \"Int64\" style = \"text-align: left;\">Int64</th><th title = \"Union{Missing, Int64}\" style = \"text-align: left;\">Int64?</th><th title = \"Union{Missing, Int64}\" style = \"text-align: left;\">Int64?</th><th title = \"Union{Missing, Int64}\" style = \"text-align: left;\">Int64?</th></tr></thead><tbody><tr><td class = \"rowNumber\" style = \"font-weight: bold; text-align: right;\">1</td><td style = \"text-align: right;\">10</td><td style = \"text-align: right;\">1591</td><td style = \"text-align: right;\">149836</td><td style = \"text-align: right;\">4317</td></tr><tr><td class = \"rowNumber\" style = \"font-weight: bold; text-align: right;\">2</td><td style = \"text-align: right;\">20</td><td style = \"text-align: right;\">72940</td><td style = \"text-align: right;\">1363724</td><td style = \"text-align: right;\">44328</td></tr><tr><td class = \"rowNumber\" style = \"font-weight: bold; text-align: right;\">3</td><td style = \"text-align: right;\">30</td><td style = \"text-align: right;\">177322</td><td style = \"text-align: right;\">693047</td><td style = \"text-align: right;\">50441</td></tr><tr><td class = \"rowNumber\" style = \"font-weight: bold; text-align: right;\">4</td><td style = \"text-align: right;\">40</td><td style = \"text-align: right;\">19355</td><td style = \"text-align: right;\">9320791</td><td style = \"text-align: right;\">483512</td></tr><tr><td class = \"rowNumber\" style = \"font-weight: bold; text-align: right;\">5</td><td style = \"text-align: right;\">50</td><td style = \"text-align: right;\">54320</td><td style = \"text-align: right;\">6685192</td><td style = \"text-align: right;\">342923</td></tr><tr><td class = \"rowNumber\" style = \"font-weight: bold; text-align: right;\">6</td><td style = \"text-align: right;\">60</td><td style = \"text-align: right;\">272469</td><td style = \"text-align: right;\">987741</td><td style = \"text-align: right;\">71418</td></tr><tr><td class = \"rowNumber\" style = \"font-weight: bold; text-align: right;\">7</td><td style = \"text-align: right;\">70</td><td style = \"text-align: right;\">13435</td><td style = \"text-align: right;\">29764</td><td style = \"text-align: right;\">2427</td></tr><tr><td class = \"rowNumber\" style = \"font-weight: bold; text-align: right;\">8</td><td style = \"text-align: right;\">80</td><td style = \"text-align: right;\">46360</td><td style = \"text-align: right;\">262923</td><td style = \"text-align: right;\">5111</td></tr><tr><td class = \"rowNumber\" style = \"font-weight: bold; text-align: right;\">9</td><td style = \"text-align: right;\">90</td><td style = \"font-style: italic; text-align: right;\">missing</td><td style = \"text-align: right;\">6260</td><td style = \"font-style: italic; text-align: right;\">missing</td></tr></tbody></table></div>"
      ],
      "text/latex": [
       "\\begin{tabular}{r|cccc}\n",
       "\t& age\\_cat & Male & Female & Unknown\\\\\n",
       "\t\\hline\n",
       "\t& Int64 & Int64? & Int64? & Int64?\\\\\n",
       "\t\\hline\n",
       "\t1 & 10 & 1591 & 149836 & 4317 \\\\\n",
       "\t2 & 20 & 72940 & 1363724 & 44328 \\\\\n",
       "\t3 & 30 & 177322 & 693047 & 50441 \\\\\n",
       "\t4 & 40 & 19355 & 9320791 & 483512 \\\\\n",
       "\t5 & 50 & 54320 & 6685192 & 342923 \\\\\n",
       "\t6 & 60 & 272469 & 987741 & 71418 \\\\\n",
       "\t7 & 70 & 13435 & 29764 & 2427 \\\\\n",
       "\t8 & 80 & 46360 & 262923 & 5111 \\\\\n",
       "\t9 & 90 & \\emph{missing} & 6260 & \\emph{missing} \\\\\n",
       "\\end{tabular}\n"
      ],
      "text/plain": [
       "\u001b[1m9×4 DataFrame\u001b[0m\n",
       "\u001b[1m Row \u001b[0m│\u001b[1m age_cat \u001b[0m\u001b[1m Male    \u001b[0m\u001b[1m Female  \u001b[0m\u001b[1m Unknown \u001b[0m\n",
       "     │\u001b[90m Int64   \u001b[0m\u001b[90m Int64?  \u001b[0m\u001b[90m Int64?  \u001b[0m\u001b[90m Int64?  \u001b[0m\n",
       "─────┼────────────────────────────────────\n",
       "   1 │      10     1591   149836     4317\n",
       "   2 │      20    72940  1363724    44328\n",
       "   3 │      30   177322   693047    50441\n",
       "   4 │      40    19355  9320791   483512\n",
       "   5 │      50    54320  6685192   342923\n",
       "   6 │      60   272469   987741    71418\n",
       "   7 │      70    13435    29764     2427\n",
       "   8 │      80    46360   262923     5111\n",
       "   9 │      90 \u001b[90m missing \u001b[0m    6260 \u001b[90m missing \u001b[0m"
      ]
     },
     "execution_count": 48,
     "metadata": {},
     "output_type": "execute_result"
    }
   ],
   "source": [
    "@time \\\n",
    "@chain df_receipt begin\n",
    "    innerjoin(df_customer[!, [:customer_id, :gender_cd, :age]], on=:customer_id)\n",
    "    @rtransform begin\n",
    "        :gender = :gender_cd == \"0\" ? \"Male\" :\n",
    "                  :gender_cd == \"1\" ? \"Female\" :\n",
    "                  :gender_cd == \"9\" ? \"Unknown\" : error(\"Invalid gender code: $(:gender_cd)\")\n",
    "        :age_cat = floor(Int, :age / 10) * 10\n",
    "    end\n",
    "    groupby([:age_cat, :gender_cd, :gender], sort=true)\n",
    "    @combine :amount_sum = sum(:amount)\n",
    "    unstack(:age_cat, :gender, :amount_sum)\n",
    "end"
   ]
  },
  {
   "cell_type": "code",
   "execution_count": 49,
   "metadata": {},
   "outputs": [
    {
     "name": "stdout",
     "output_type": "stream",
     "text": [
      "  0.133255 seconds (132.55 k allocations: 23.592 MiB, 84.60% compilation time)\n"
     ]
    },
    {
     "data": {
      "text/html": [
       "<div><div style = \"float: left;\"><span>9×4 DataFrame</span></div><div style = \"clear: both;\"></div></div><div class = \"data-frame\" style = \"overflow-x: scroll;\"><table class = \"data-frame\" style = \"margin-bottom: 6px;\"><thead><tr class = \"header\"><th class = \"rowNumber\" style = \"font-weight: bold; text-align: right;\">Row</th><th style = \"text-align: left;\">age_cat</th><th style = \"text-align: left;\">male</th><th style = \"text-align: left;\">female</th><th style = \"text-align: left;\">unknown</th></tr><tr class = \"subheader headerLastRow\"><th class = \"rowNumber\" style = \"font-weight: bold; text-align: right;\"></th><th title = \"Int64\" style = \"text-align: left;\">Int64</th><th title = \"Union{Missing, Int64}\" style = \"text-align: left;\">Int64?</th><th title = \"Union{Missing, Int64}\" style = \"text-align: left;\">Int64?</th><th title = \"Union{Missing, Int64}\" style = \"text-align: left;\">Int64?</th></tr></thead><tbody><tr><td class = \"rowNumber\" style = \"font-weight: bold; text-align: right;\">1</td><td style = \"text-align: right;\">10</td><td style = \"text-align: right;\">1591</td><td style = \"text-align: right;\">149836</td><td style = \"text-align: right;\">4317</td></tr><tr><td class = \"rowNumber\" style = \"font-weight: bold; text-align: right;\">2</td><td style = \"text-align: right;\">20</td><td style = \"text-align: right;\">72940</td><td style = \"text-align: right;\">1363724</td><td style = \"text-align: right;\">44328</td></tr><tr><td class = \"rowNumber\" style = \"font-weight: bold; text-align: right;\">3</td><td style = \"text-align: right;\">30</td><td style = \"text-align: right;\">177322</td><td style = \"text-align: right;\">693047</td><td style = \"text-align: right;\">50441</td></tr><tr><td class = \"rowNumber\" style = \"font-weight: bold; text-align: right;\">4</td><td style = \"text-align: right;\">40</td><td style = \"text-align: right;\">19355</td><td style = \"text-align: right;\">9320791</td><td style = \"text-align: right;\">483512</td></tr><tr><td class = \"rowNumber\" style = \"font-weight: bold; text-align: right;\">5</td><td style = \"text-align: right;\">50</td><td style = \"text-align: right;\">54320</td><td style = \"text-align: right;\">6685192</td><td style = \"text-align: right;\">342923</td></tr><tr><td class = \"rowNumber\" style = \"font-weight: bold; text-align: right;\">6</td><td style = \"text-align: right;\">60</td><td style = \"text-align: right;\">272469</td><td style = \"text-align: right;\">987741</td><td style = \"text-align: right;\">71418</td></tr><tr><td class = \"rowNumber\" style = \"font-weight: bold; text-align: right;\">7</td><td style = \"text-align: right;\">70</td><td style = \"text-align: right;\">13435</td><td style = \"text-align: right;\">29764</td><td style = \"text-align: right;\">2427</td></tr><tr><td class = \"rowNumber\" style = \"font-weight: bold; text-align: right;\">8</td><td style = \"text-align: right;\">80</td><td style = \"text-align: right;\">46360</td><td style = \"text-align: right;\">262923</td><td style = \"text-align: right;\">5111</td></tr><tr><td class = \"rowNumber\" style = \"font-weight: bold; text-align: right;\">9</td><td style = \"text-align: right;\">90</td><td style = \"font-style: italic; text-align: right;\">missing</td><td style = \"text-align: right;\">6260</td><td style = \"font-style: italic; text-align: right;\">missing</td></tr></tbody></table></div>"
      ],
      "text/latex": [
       "\\begin{tabular}{r|cccc}\n",
       "\t& age\\_cat & male & female & unknown\\\\\n",
       "\t\\hline\n",
       "\t& Int64 & Int64? & Int64? & Int64?\\\\\n",
       "\t\\hline\n",
       "\t1 & 10 & 1591 & 149836 & 4317 \\\\\n",
       "\t2 & 20 & 72940 & 1363724 & 44328 \\\\\n",
       "\t3 & 30 & 177322 & 693047 & 50441 \\\\\n",
       "\t4 & 40 & 19355 & 9320791 & 483512 \\\\\n",
       "\t5 & 50 & 54320 & 6685192 & 342923 \\\\\n",
       "\t6 & 60 & 272469 & 987741 & 71418 \\\\\n",
       "\t7 & 70 & 13435 & 29764 & 2427 \\\\\n",
       "\t8 & 80 & 46360 & 262923 & 5111 \\\\\n",
       "\t9 & 90 & \\emph{missing} & 6260 & \\emph{missing} \\\\\n",
       "\\end{tabular}\n"
      ],
      "text/plain": [
       "\u001b[1m9×4 DataFrame\u001b[0m\n",
       "\u001b[1m Row \u001b[0m│\u001b[1m age_cat \u001b[0m\u001b[1m male    \u001b[0m\u001b[1m female  \u001b[0m\u001b[1m unknown \u001b[0m\n",
       "     │\u001b[90m Int64   \u001b[0m\u001b[90m Int64?  \u001b[0m\u001b[90m Int64?  \u001b[0m\u001b[90m Int64?  \u001b[0m\n",
       "─────┼────────────────────────────────────\n",
       "   1 │      10     1591   149836     4317\n",
       "   2 │      20    72940  1363724    44328\n",
       "   3 │      30   177322   693047    50441\n",
       "   4 │      40    19355  9320791   483512\n",
       "   5 │      50    54320  6685192   342923\n",
       "   6 │      60   272469   987741    71418\n",
       "   7 │      70    13435    29764     2427\n",
       "   8 │      80    46360   262923     5111\n",
       "   9 │      90 \u001b[90m missing \u001b[0m    6260 \u001b[90m missing \u001b[0m"
      ]
     },
     "execution_count": 49,
     "metadata": {},
     "output_type": "execute_result"
    }
   ],
   "source": [
    "function format_gender(code)\n",
    "    code == \"0\" && return \"male\"\n",
    "    code == \"1\" && return \"female\"\n",
    "    code == \"9\" && return \"unknown\"\n",
    "    error(\"Invalid gender code: $(code)\")\n",
    "end\n",
    "\n",
    "function p043()\n",
    "    @chain df_receipt begin\n",
    "        innerjoin(df_customer[!, [:customer_id, :gender_cd, :age]], on=:customer_id)\n",
    "        @rtransform begin\n",
    "            :gender = format_gender(:gender_cd)\n",
    "            :age_cat = floor(Int, :age / 10) * 10\n",
    "        end\n",
    "        groupby([:age_cat, :gender_cd, :gender], sort=true)\n",
    "        @combine :amount_sum = sum(:amount)\n",
    "        unstack(:age_cat, :gender, :amount_sum)\n",
    "    end\n",
    "end\n",
    "\n",
    "@time p043()"
   ]
  },
  {
   "cell_type": "markdown",
   "metadata": {},
   "source": [
    "---\n",
    "> P-044： 043で作成した売上サマリデータ（df_sales_summary）は性別の売上を横持ちさせたものであった。このデータから性別を縦持ちさせ、年代、性別コード、売上金額の3項目に変換せよ。ただし、性別コードは男性を\"00\"、女性を\"01\"、不明を\"99\"とする。"
   ]
  },
  {
   "cell_type": "code",
   "execution_count": 50,
   "metadata": {},
   "outputs": [
    {
     "name": "stdout",
     "output_type": "stream",
     "text": [
      "  0.000006 seconds\n"
     ]
    },
    {
     "data": {
      "text/html": [
       "<div><div style = \"float: left;\"><span>25×3 DataFrame</span></div><div style = \"clear: both;\"></div></div><div class = \"data-frame\" style = \"overflow-x: scroll;\"><table class = \"data-frame\" style = \"margin-bottom: 6px;\"><thead><tr class = \"header\"><th class = \"rowNumber\" style = \"font-weight: bold; text-align: right;\">Row</th><th style = \"text-align: left;\">age_cat</th><th style = \"text-align: left;\">gender_cd</th><th style = \"text-align: left;\">amount</th></tr><tr class = \"subheader headerLastRow\"><th class = \"rowNumber\" style = \"font-weight: bold; text-align: right;\"></th><th title = \"Int64\" style = \"text-align: left;\">Int64</th><th title = \"String\" style = \"text-align: left;\">String</th><th title = \"Int64\" style = \"text-align: left;\">Int64</th></tr></thead><tbody><tr><td class = \"rowNumber\" style = \"font-weight: bold; text-align: right;\">1</td><td style = \"text-align: right;\">10</td><td style = \"text-align: left;\">00</td><td style = \"text-align: right;\">1591</td></tr><tr><td class = \"rowNumber\" style = \"font-weight: bold; text-align: right;\">2</td><td style = \"text-align: right;\">10</td><td style = \"text-align: left;\">01</td><td style = \"text-align: right;\">149836</td></tr><tr><td class = \"rowNumber\" style = \"font-weight: bold; text-align: right;\">3</td><td style = \"text-align: right;\">10</td><td style = \"text-align: left;\">09</td><td style = \"text-align: right;\">4317</td></tr><tr><td class = \"rowNumber\" style = \"font-weight: bold; text-align: right;\">4</td><td style = \"text-align: right;\">20</td><td style = \"text-align: left;\">00</td><td style = \"text-align: right;\">72940</td></tr><tr><td class = \"rowNumber\" style = \"font-weight: bold; text-align: right;\">5</td><td style = \"text-align: right;\">20</td><td style = \"text-align: left;\">01</td><td style = \"text-align: right;\">1363724</td></tr><tr><td class = \"rowNumber\" style = \"font-weight: bold; text-align: right;\">6</td><td style = \"text-align: right;\">20</td><td style = \"text-align: left;\">09</td><td style = \"text-align: right;\">44328</td></tr><tr><td class = \"rowNumber\" style = \"font-weight: bold; text-align: right;\">7</td><td style = \"text-align: right;\">30</td><td style = \"text-align: left;\">00</td><td style = \"text-align: right;\">177322</td></tr><tr><td class = \"rowNumber\" style = \"font-weight: bold; text-align: right;\">8</td><td style = \"text-align: right;\">30</td><td style = \"text-align: left;\">01</td><td style = \"text-align: right;\">693047</td></tr><tr><td class = \"rowNumber\" style = \"font-weight: bold; text-align: right;\">9</td><td style = \"text-align: right;\">30</td><td style = \"text-align: left;\">09</td><td style = \"text-align: right;\">50441</td></tr><tr><td class = \"rowNumber\" style = \"font-weight: bold; text-align: right;\">10</td><td style = \"text-align: right;\">40</td><td style = \"text-align: left;\">00</td><td style = \"text-align: right;\">19355</td></tr><tr><td class = \"rowNumber\" style = \"font-weight: bold; text-align: right;\">11</td><td style = \"text-align: right;\">40</td><td style = \"text-align: left;\">01</td><td style = \"text-align: right;\">9320791</td></tr><tr><td class = \"rowNumber\" style = \"font-weight: bold; text-align: right;\">12</td><td style = \"text-align: right;\">40</td><td style = \"text-align: left;\">09</td><td style = \"text-align: right;\">483512</td></tr><tr><td class = \"rowNumber\" style = \"font-weight: bold; text-align: right;\">13</td><td style = \"text-align: right;\">50</td><td style = \"text-align: left;\">00</td><td style = \"text-align: right;\">54320</td></tr><tr><td class = \"rowNumber\" style = \"font-weight: bold; text-align: right;\">14</td><td style = \"text-align: right;\">50</td><td style = \"text-align: left;\">01</td><td style = \"text-align: right;\">6685192</td></tr><tr><td class = \"rowNumber\" style = \"font-weight: bold; text-align: right;\">15</td><td style = \"text-align: right;\">50</td><td style = \"text-align: left;\">09</td><td style = \"text-align: right;\">342923</td></tr><tr><td class = \"rowNumber\" style = \"font-weight: bold; text-align: right;\">16</td><td style = \"text-align: right;\">60</td><td style = \"text-align: left;\">00</td><td style = \"text-align: right;\">272469</td></tr><tr><td class = \"rowNumber\" style = \"font-weight: bold; text-align: right;\">17</td><td style = \"text-align: right;\">60</td><td style = \"text-align: left;\">01</td><td style = \"text-align: right;\">987741</td></tr><tr><td class = \"rowNumber\" style = \"font-weight: bold; text-align: right;\">18</td><td style = \"text-align: right;\">60</td><td style = \"text-align: left;\">09</td><td style = \"text-align: right;\">71418</td></tr><tr><td class = \"rowNumber\" style = \"font-weight: bold; text-align: right;\">19</td><td style = \"text-align: right;\">70</td><td style = \"text-align: left;\">00</td><td style = \"text-align: right;\">13435</td></tr><tr><td class = \"rowNumber\" style = \"font-weight: bold; text-align: right;\">20</td><td style = \"text-align: right;\">70</td><td style = \"text-align: left;\">01</td><td style = \"text-align: right;\">29764</td></tr><tr><td class = \"rowNumber\" style = \"font-weight: bold; text-align: right;\">21</td><td style = \"text-align: right;\">70</td><td style = \"text-align: left;\">09</td><td style = \"text-align: right;\">2427</td></tr><tr><td class = \"rowNumber\" style = \"font-weight: bold; text-align: right;\">22</td><td style = \"text-align: right;\">80</td><td style = \"text-align: left;\">00</td><td style = \"text-align: right;\">46360</td></tr><tr><td class = \"rowNumber\" style = \"font-weight: bold; text-align: right;\">23</td><td style = \"text-align: right;\">80</td><td style = \"text-align: left;\">01</td><td style = \"text-align: right;\">262923</td></tr><tr><td class = \"rowNumber\" style = \"font-weight: bold; text-align: right;\">24</td><td style = \"text-align: right;\">80</td><td style = \"text-align: left;\">09</td><td style = \"text-align: right;\">5111</td></tr><tr><td class = \"rowNumber\" style = \"font-weight: bold; text-align: right;\">25</td><td style = \"text-align: right;\">90</td><td style = \"text-align: left;\">01</td><td style = \"text-align: right;\">6260</td></tr></tbody></table></div>"
      ],
      "text/latex": [
       "\\begin{tabular}{r|ccc}\n",
       "\t& age\\_cat & gender\\_cd & amount\\\\\n",
       "\t\\hline\n",
       "\t& Int64 & String & Int64\\\\\n",
       "\t\\hline\n",
       "\t1 & 10 & 00 & 1591 \\\\\n",
       "\t2 & 10 & 01 & 149836 \\\\\n",
       "\t3 & 10 & 09 & 4317 \\\\\n",
       "\t4 & 20 & 00 & 72940 \\\\\n",
       "\t5 & 20 & 01 & 1363724 \\\\\n",
       "\t6 & 20 & 09 & 44328 \\\\\n",
       "\t7 & 30 & 00 & 177322 \\\\\n",
       "\t8 & 30 & 01 & 693047 \\\\\n",
       "\t9 & 30 & 09 & 50441 \\\\\n",
       "\t10 & 40 & 00 & 19355 \\\\\n",
       "\t11 & 40 & 01 & 9320791 \\\\\n",
       "\t12 & 40 & 09 & 483512 \\\\\n",
       "\t13 & 50 & 00 & 54320 \\\\\n",
       "\t14 & 50 & 01 & 6685192 \\\\\n",
       "\t15 & 50 & 09 & 342923 \\\\\n",
       "\t16 & 60 & 00 & 272469 \\\\\n",
       "\t17 & 60 & 01 & 987741 \\\\\n",
       "\t18 & 60 & 09 & 71418 \\\\\n",
       "\t19 & 70 & 00 & 13435 \\\\\n",
       "\t20 & 70 & 01 & 29764 \\\\\n",
       "\t21 & 70 & 09 & 2427 \\\\\n",
       "\t22 & 80 & 00 & 46360 \\\\\n",
       "\t23 & 80 & 01 & 262923 \\\\\n",
       "\t24 & 80 & 09 & 5111 \\\\\n",
       "\t25 & 90 & 01 & 6260 \\\\\n",
       "\\end{tabular}\n"
      ],
      "text/plain": [
       "\u001b[1m25×3 DataFrame\u001b[0m\n",
       "\u001b[1m Row \u001b[0m│\u001b[1m age_cat \u001b[0m\u001b[1m gender_cd \u001b[0m\u001b[1m amount  \u001b[0m\n",
       "     │\u001b[90m Int64   \u001b[0m\u001b[90m String    \u001b[0m\u001b[90m Int64   \u001b[0m\n",
       "─────┼─────────────────────────────\n",
       "   1 │      10  00            1591\n",
       "   2 │      10  01          149836\n",
       "   3 │      10  09            4317\n",
       "   4 │      20  00           72940\n",
       "   5 │      20  01         1363724\n",
       "   6 │      20  09           44328\n",
       "   7 │      30  00          177322\n",
       "   8 │      30  01          693047\n",
       "   9 │      30  09           50441\n",
       "  10 │      40  00           19355\n",
       "  11 │      40  01         9320791\n",
       "  ⋮  │    ⋮         ⋮         ⋮\n",
       "  16 │      60  00          272469\n",
       "  17 │      60  01          987741\n",
       "  18 │      60  09           71418\n",
       "  19 │      70  00           13435\n",
       "  20 │      70  01           29764\n",
       "  21 │      70  09            2427\n",
       "  22 │      80  00           46360\n",
       "  23 │      80  01          262923\n",
       "  24 │      80  09            5111\n",
       "  25 │      90  01            6260\n",
       "\u001b[36m                     4 rows omitted\u001b[0m"
      ]
     },
     "execution_count": 50,
     "metadata": {},
     "output_type": "execute_result"
    }
   ],
   "source": [
    "@time \\\n",
    "@chain p043() begin\n",
    "    stack([:male, :female, :unknown], variable_name=:gender, value_name=:amount)\n",
    "    dropmissing(:amount)\n",
    "    @rtransform :gender_cd = :gender == \"male\"    ? \"00\" :\n",
    "                             :gender == \"female\"  ? \"01\" :\n",
    "                             :gender == \"unknown\" ? \"09\" : error(\"Invalid gender: $(:gender)\")\n",
    "    @select :age_cat :gender_cd :amount\n",
    "    @orderby :age_cat :gender_cd\n",
    "end"
   ]
  },
  {
   "cell_type": "markdown",
   "metadata": {},
   "source": [
    "---\n",
    "> P-045: 顧客データ（df_customer）の生年月日（birth_day）は日付型でデータを保有している。これをYYYYMMDD形式の文字列に変換し、顧客ID（customer_id）とともに10件表示せよ。"
   ]
  },
  {
   "cell_type": "code",
   "execution_count": 51,
   "metadata": {},
   "outputs": [
    {
     "name": "stdout",
     "output_type": "stream",
     "text": [
      "  0.000001 seconds\n"
     ]
    },
    {
     "data": {
      "text/html": [
       "<div><div style = \"float: left;\"><span>10×2 DataFrame</span></div><div style = \"clear: both;\"></div></div><div class = \"data-frame\" style = \"overflow-x: scroll;\"><table class = \"data-frame\" style = \"margin-bottom: 6px;\"><thead><tr class = \"header\"><th class = \"rowNumber\" style = \"font-weight: bold; text-align: right;\">Row</th><th style = \"text-align: left;\">customer_id</th><th style = \"text-align: left;\">birth_day</th></tr><tr class = \"subheader headerLastRow\"><th class = \"rowNumber\" style = \"font-weight: bold; text-align: right;\"></th><th title = \"String\" style = \"text-align: left;\">String</th><th title = \"String\" style = \"text-align: left;\">String</th></tr></thead><tbody><tr><td class = \"rowNumber\" style = \"font-weight: bold; text-align: right;\">1</td><td style = \"text-align: left;\">CS021313000114</td><td style = \"text-align: left;\">19810429</td></tr><tr><td class = \"rowNumber\" style = \"font-weight: bold; text-align: right;\">2</td><td style = \"text-align: left;\">CS037613000071</td><td style = \"text-align: left;\">19520401</td></tr><tr><td class = \"rowNumber\" style = \"font-weight: bold; text-align: right;\">3</td><td style = \"text-align: left;\">CS031415000172</td><td style = \"text-align: left;\">19761004</td></tr><tr><td class = \"rowNumber\" style = \"font-weight: bold; text-align: right;\">4</td><td style = \"text-align: left;\">CS028811000001</td><td style = \"text-align: left;\">19330327</td></tr><tr><td class = \"rowNumber\" style = \"font-weight: bold; text-align: right;\">5</td><td style = \"text-align: left;\">CS001215000145</td><td style = \"text-align: left;\">19950329</td></tr><tr><td class = \"rowNumber\" style = \"font-weight: bold; text-align: right;\">6</td><td style = \"text-align: left;\">CS020401000016</td><td style = \"text-align: left;\">19740915</td></tr><tr><td class = \"rowNumber\" style = \"font-weight: bold; text-align: right;\">7</td><td style = \"text-align: left;\">CS015414000103</td><td style = \"text-align: left;\">19770809</td></tr><tr><td class = \"rowNumber\" style = \"font-weight: bold; text-align: right;\">8</td><td style = \"text-align: left;\">CS029403000008</td><td style = \"text-align: left;\">19730817</td></tr><tr><td class = \"rowNumber\" style = \"font-weight: bold; text-align: right;\">9</td><td style = \"text-align: left;\">CS015804000004</td><td style = \"text-align: left;\">19310502</td></tr><tr><td class = \"rowNumber\" style = \"font-weight: bold; text-align: right;\">10</td><td style = \"text-align: left;\">CS033513000180</td><td style = \"text-align: left;\">19620711</td></tr></tbody></table></div>"
      ],
      "text/latex": [
       "\\begin{tabular}{r|cc}\n",
       "\t& customer\\_id & birth\\_day\\\\\n",
       "\t\\hline\n",
       "\t& String & String\\\\\n",
       "\t\\hline\n",
       "\t1 & CS021313000114 & 19810429 \\\\\n",
       "\t2 & CS037613000071 & 19520401 \\\\\n",
       "\t3 & CS031415000172 & 19761004 \\\\\n",
       "\t4 & CS028811000001 & 19330327 \\\\\n",
       "\t5 & CS001215000145 & 19950329 \\\\\n",
       "\t6 & CS020401000016 & 19740915 \\\\\n",
       "\t7 & CS015414000103 & 19770809 \\\\\n",
       "\t8 & CS029403000008 & 19730817 \\\\\n",
       "\t9 & CS015804000004 & 19310502 \\\\\n",
       "\t10 & CS033513000180 & 19620711 \\\\\n",
       "\\end{tabular}\n"
      ],
      "text/plain": [
       "\u001b[1m10×2 DataFrame\u001b[0m\n",
       "\u001b[1m Row \u001b[0m│\u001b[1m customer_id    \u001b[0m\u001b[1m birth_day \u001b[0m\n",
       "     │\u001b[90m String         \u001b[0m\u001b[90m String    \u001b[0m\n",
       "─────┼───────────────────────────\n",
       "   1 │ CS021313000114  19810429\n",
       "   2 │ CS037613000071  19520401\n",
       "   3 │ CS031415000172  19761004\n",
       "   4 │ CS028811000001  19330327\n",
       "   5 │ CS001215000145  19950329\n",
       "   6 │ CS020401000016  19740915\n",
       "   7 │ CS015414000103  19770809\n",
       "   8 │ CS029403000008  19730817\n",
       "   9 │ CS015804000004  19310502\n",
       "  10 │ CS033513000180  19620711"
      ]
     },
     "execution_count": 51,
     "metadata": {},
     "output_type": "execute_result"
    }
   ],
   "source": [
    "@time \\\n",
    "@chain df_customer begin\n",
    "    @select :customer_id :birth_day\n",
    "    @rtransform :birth_day = Dates.format(:birth_day, \"yyyymmdd\")\n",
    "    first(10)\n",
    "end"
   ]
  },
  {
   "cell_type": "markdown",
   "metadata": {},
   "source": [
    "---\n",
    "> P-046: 顧客データ（df_customer）の申し込み日（application_date）はYYYYMMDD形式の文字列型でデータを保有している。これを日付型に変換し、顧客ID（customer_id）とともに10件表示せよ。"
   ]
  },
  {
   "cell_type": "code",
   "execution_count": 52,
   "metadata": {},
   "outputs": [
    {
     "name": "stdout",
     "output_type": "stream",
     "text": [
      "  0.000005 seconds\n"
     ]
    },
    {
     "data": {
      "text/html": [
       "<div><div style = \"float: left;\"><span>10×2 DataFrame</span></div><div style = \"clear: both;\"></div></div><div class = \"data-frame\" style = \"overflow-x: scroll;\"><table class = \"data-frame\" style = \"margin-bottom: 6px;\"><thead><tr class = \"header\"><th class = \"rowNumber\" style = \"font-weight: bold; text-align: right;\">Row</th><th style = \"text-align: left;\">customer_id</th><th style = \"text-align: left;\">application_date</th></tr><tr class = \"subheader headerLastRow\"><th class = \"rowNumber\" style = \"font-weight: bold; text-align: right;\"></th><th title = \"String\" style = \"text-align: left;\">String</th><th title = \"Date\" style = \"text-align: left;\">Date</th></tr></thead><tbody><tr><td class = \"rowNumber\" style = \"font-weight: bold; text-align: right;\">1</td><td style = \"text-align: left;\">CS021313000114</td><td style = \"text-align: left;\">2015-09-05</td></tr><tr><td class = \"rowNumber\" style = \"font-weight: bold; text-align: right;\">2</td><td style = \"text-align: left;\">CS037613000071</td><td style = \"text-align: left;\">2015-04-14</td></tr><tr><td class = \"rowNumber\" style = \"font-weight: bold; text-align: right;\">3</td><td style = \"text-align: left;\">CS031415000172</td><td style = \"text-align: left;\">2015-05-29</td></tr><tr><td class = \"rowNumber\" style = \"font-weight: bold; text-align: right;\">4</td><td style = \"text-align: left;\">CS028811000001</td><td style = \"text-align: left;\">2016-01-15</td></tr><tr><td class = \"rowNumber\" style = \"font-weight: bold; text-align: right;\">5</td><td style = \"text-align: left;\">CS001215000145</td><td style = \"text-align: left;\">2017-06-05</td></tr><tr><td class = \"rowNumber\" style = \"font-weight: bold; text-align: right;\">6</td><td style = \"text-align: left;\">CS020401000016</td><td style = \"text-align: left;\">2015-02-25</td></tr><tr><td class = \"rowNumber\" style = \"font-weight: bold; text-align: right;\">7</td><td style = \"text-align: left;\">CS015414000103</td><td style = \"text-align: left;\">2015-07-22</td></tr><tr><td class = \"rowNumber\" style = \"font-weight: bold; text-align: right;\">8</td><td style = \"text-align: left;\">CS029403000008</td><td style = \"text-align: left;\">2015-05-15</td></tr><tr><td class = \"rowNumber\" style = \"font-weight: bold; text-align: right;\">9</td><td style = \"text-align: left;\">CS015804000004</td><td style = \"text-align: left;\">2015-06-07</td></tr><tr><td class = \"rowNumber\" style = \"font-weight: bold; text-align: right;\">10</td><td style = \"text-align: left;\">CS033513000180</td><td style = \"text-align: left;\">2015-07-28</td></tr></tbody></table></div>"
      ],
      "text/latex": [
       "\\begin{tabular}{r|cc}\n",
       "\t& customer\\_id & application\\_date\\\\\n",
       "\t\\hline\n",
       "\t& String & Date\\\\\n",
       "\t\\hline\n",
       "\t1 & CS021313000114 & 2015-09-05 \\\\\n",
       "\t2 & CS037613000071 & 2015-04-14 \\\\\n",
       "\t3 & CS031415000172 & 2015-05-29 \\\\\n",
       "\t4 & CS028811000001 & 2016-01-15 \\\\\n",
       "\t5 & CS001215000145 & 2017-06-05 \\\\\n",
       "\t6 & CS020401000016 & 2015-02-25 \\\\\n",
       "\t7 & CS015414000103 & 2015-07-22 \\\\\n",
       "\t8 & CS029403000008 & 2015-05-15 \\\\\n",
       "\t9 & CS015804000004 & 2015-06-07 \\\\\n",
       "\t10 & CS033513000180 & 2015-07-28 \\\\\n",
       "\\end{tabular}\n"
      ],
      "text/plain": [
       "\u001b[1m10×2 DataFrame\u001b[0m\n",
       "\u001b[1m Row \u001b[0m│\u001b[1m customer_id    \u001b[0m\u001b[1m application_date \u001b[0m\n",
       "     │\u001b[90m String         \u001b[0m\u001b[90m Date             \u001b[0m\n",
       "─────┼──────────────────────────────────\n",
       "   1 │ CS021313000114  2015-09-05\n",
       "   2 │ CS037613000071  2015-04-14\n",
       "   3 │ CS031415000172  2015-05-29\n",
       "   4 │ CS028811000001  2016-01-15\n",
       "   5 │ CS001215000145  2017-06-05\n",
       "   6 │ CS020401000016  2015-02-25\n",
       "   7 │ CS015414000103  2015-07-22\n",
       "   8 │ CS029403000008  2015-05-15\n",
       "   9 │ CS015804000004  2015-06-07\n",
       "  10 │ CS033513000180  2015-07-28"
      ]
     },
     "execution_count": 52,
     "metadata": {},
     "output_type": "execute_result"
    }
   ],
   "source": [
    "@time \\\n",
    "@chain df_customer begin\n",
    "    @select :customer_id :application_date\n",
    "    @rtransform :application_date = Date(:application_date, \"yyyymmdd\")\n",
    "    first(10)\n",
    "end"
   ]
  },
  {
   "cell_type": "markdown",
   "metadata": {},
   "source": [
    "---\n",
    "> P-047: レシート明細データ（df_receipt）の売上日（sales_ymd）はYYYYMMDD形式の数値型でデータを保有している。これを日付型に変換し、レシート番号（receipt_no）、レシートサブ番号（receipt_sub_no）とともに10件表示せよ。"
   ]
  },
  {
   "cell_type": "code",
   "execution_count": 53,
   "metadata": {},
   "outputs": [
    {
     "name": "stdout",
     "output_type": "stream",
     "text": [
      "  0.000002 seconds\n"
     ]
    },
    {
     "data": {
      "text/html": [
       "<div><div style = \"float: left;\"><span>10×3 DataFrame</span></div><div style = \"clear: both;\"></div></div><div class = \"data-frame\" style = \"overflow-x: scroll;\"><table class = \"data-frame\" style = \"margin-bottom: 6px;\"><thead><tr class = \"header\"><th class = \"rowNumber\" style = \"font-weight: bold; text-align: right;\">Row</th><th style = \"text-align: left;\">receipt_no</th><th style = \"text-align: left;\">receipt_sub_no</th><th style = \"text-align: left;\">sales_ymd</th></tr><tr class = \"subheader headerLastRow\"><th class = \"rowNumber\" style = \"font-weight: bold; text-align: right;\"></th><th title = \"Int64\" style = \"text-align: left;\">Int64</th><th title = \"Int64\" style = \"text-align: left;\">Int64</th><th title = \"Date\" style = \"text-align: left;\">Date</th></tr></thead><tbody><tr><td class = \"rowNumber\" style = \"font-weight: bold; text-align: right;\">1</td><td style = \"text-align: right;\">112</td><td style = \"text-align: right;\">1</td><td style = \"text-align: left;\">2018-11-03</td></tr><tr><td class = \"rowNumber\" style = \"font-weight: bold; text-align: right;\">2</td><td style = \"text-align: right;\">1132</td><td style = \"text-align: right;\">2</td><td style = \"text-align: left;\">2018-11-18</td></tr><tr><td class = \"rowNumber\" style = \"font-weight: bold; text-align: right;\">3</td><td style = \"text-align: right;\">1102</td><td style = \"text-align: right;\">1</td><td style = \"text-align: left;\">2017-07-12</td></tr><tr><td class = \"rowNumber\" style = \"font-weight: bold; text-align: right;\">4</td><td style = \"text-align: right;\">1132</td><td style = \"text-align: right;\">1</td><td style = \"text-align: left;\">2019-02-05</td></tr><tr><td class = \"rowNumber\" style = \"font-weight: bold; text-align: right;\">5</td><td style = \"text-align: right;\">1102</td><td style = \"text-align: right;\">2</td><td style = \"text-align: left;\">2018-08-21</td></tr><tr><td class = \"rowNumber\" style = \"font-weight: bold; text-align: right;\">6</td><td style = \"text-align: right;\">1112</td><td style = \"text-align: right;\">1</td><td style = \"text-align: left;\">2019-06-05</td></tr><tr><td class = \"rowNumber\" style = \"font-weight: bold; text-align: right;\">7</td><td style = \"text-align: right;\">1102</td><td style = \"text-align: right;\">2</td><td style = \"text-align: left;\">2018-12-05</td></tr><tr><td class = \"rowNumber\" style = \"font-weight: bold; text-align: right;\">8</td><td style = \"text-align: right;\">1102</td><td style = \"text-align: right;\">1</td><td style = \"text-align: left;\">2019-09-22</td></tr><tr><td class = \"rowNumber\" style = \"font-weight: bold; text-align: right;\">9</td><td style = \"text-align: right;\">1112</td><td style = \"text-align: right;\">2</td><td style = \"text-align: left;\">2017-05-04</td></tr><tr><td class = \"rowNumber\" style = \"font-weight: bold; text-align: right;\">10</td><td style = \"text-align: right;\">1102</td><td style = \"text-align: right;\">1</td><td style = \"text-align: left;\">2019-10-10</td></tr></tbody></table></div>"
      ],
      "text/latex": [
       "\\begin{tabular}{r|ccc}\n",
       "\t& receipt\\_no & receipt\\_sub\\_no & sales\\_ymd\\\\\n",
       "\t\\hline\n",
       "\t& Int64 & Int64 & Date\\\\\n",
       "\t\\hline\n",
       "\t1 & 112 & 1 & 2018-11-03 \\\\\n",
       "\t2 & 1132 & 2 & 2018-11-18 \\\\\n",
       "\t3 & 1102 & 1 & 2017-07-12 \\\\\n",
       "\t4 & 1132 & 1 & 2019-02-05 \\\\\n",
       "\t5 & 1102 & 2 & 2018-08-21 \\\\\n",
       "\t6 & 1112 & 1 & 2019-06-05 \\\\\n",
       "\t7 & 1102 & 2 & 2018-12-05 \\\\\n",
       "\t8 & 1102 & 1 & 2019-09-22 \\\\\n",
       "\t9 & 1112 & 2 & 2017-05-04 \\\\\n",
       "\t10 & 1102 & 1 & 2019-10-10 \\\\\n",
       "\\end{tabular}\n"
      ],
      "text/plain": [
       "\u001b[1m10×3 DataFrame\u001b[0m\n",
       "\u001b[1m Row \u001b[0m│\u001b[1m receipt_no \u001b[0m\u001b[1m receipt_sub_no \u001b[0m\u001b[1m sales_ymd  \u001b[0m\n",
       "     │\u001b[90m Int64      \u001b[0m\u001b[90m Int64          \u001b[0m\u001b[90m Date       \u001b[0m\n",
       "─────┼────────────────────────────────────────\n",
       "   1 │        112               1  2018-11-03\n",
       "   2 │       1132               2  2018-11-18\n",
       "   3 │       1102               1  2017-07-12\n",
       "   4 │       1132               1  2019-02-05\n",
       "   5 │       1102               2  2018-08-21\n",
       "   6 │       1112               1  2019-06-05\n",
       "   7 │       1102               2  2018-12-05\n",
       "   8 │       1102               1  2019-09-22\n",
       "   9 │       1112               2  2017-05-04\n",
       "  10 │       1102               1  2019-10-10"
      ]
     },
     "execution_count": 53,
     "metadata": {},
     "output_type": "execute_result"
    }
   ],
   "source": [
    "@time \\\n",
    "@chain df_receipt begin\n",
    "    @select  :receipt_no :receipt_sub_no :sales_ymd\n",
    "    @rtransform :sales_ymd = Date(string(:sales_ymd), \"yyyymmdd\")\n",
    "    first(10)\n",
    "end"
   ]
  },
  {
   "cell_type": "markdown",
   "metadata": {},
   "source": [
    "---\n",
    "> P-048: レシート明細データ（df_receipt）の売上エポック秒（sales_epoch）は数値型のUNIX秒でデータを保有している。これを日付型に変換し、レシート番号(receipt_no)、レシートサブ番号（receipt_sub_no）とともに10件表示せよ。"
   ]
  },
  {
   "cell_type": "code",
   "execution_count": 54,
   "metadata": {},
   "outputs": [
    {
     "name": "stdout",
     "output_type": "stream",
     "text": [
      "  0.000001 seconds\n"
     ]
    },
    {
     "data": {
      "text/html": [
       "<div><div style = \"float: left;\"><span>10×3 DataFrame</span></div><div style = \"clear: both;\"></div></div><div class = \"data-frame\" style = \"overflow-x: scroll;\"><table class = \"data-frame\" style = \"margin-bottom: 6px;\"><thead><tr class = \"header\"><th class = \"rowNumber\" style = \"font-weight: bold; text-align: right;\">Row</th><th style = \"text-align: left;\">receipt_no</th><th style = \"text-align: left;\">receipt_sub_no</th><th style = \"text-align: left;\">sales_ymd</th></tr><tr class = \"subheader headerLastRow\"><th class = \"rowNumber\" style = \"font-weight: bold; text-align: right;\"></th><th title = \"Int64\" style = \"text-align: left;\">Int64</th><th title = \"Int64\" style = \"text-align: left;\">Int64</th><th title = \"Date\" style = \"text-align: left;\">Date</th></tr></thead><tbody><tr><td class = \"rowNumber\" style = \"font-weight: bold; text-align: right;\">1</td><td style = \"text-align: right;\">112</td><td style = \"text-align: right;\">1</td><td style = \"text-align: left;\">2018-11-03</td></tr><tr><td class = \"rowNumber\" style = \"font-weight: bold; text-align: right;\">2</td><td style = \"text-align: right;\">1132</td><td style = \"text-align: right;\">2</td><td style = \"text-align: left;\">2018-11-18</td></tr><tr><td class = \"rowNumber\" style = \"font-weight: bold; text-align: right;\">3</td><td style = \"text-align: right;\">1102</td><td style = \"text-align: right;\">1</td><td style = \"text-align: left;\">2017-07-12</td></tr><tr><td class = \"rowNumber\" style = \"font-weight: bold; text-align: right;\">4</td><td style = \"text-align: right;\">1132</td><td style = \"text-align: right;\">1</td><td style = \"text-align: left;\">2019-02-05</td></tr><tr><td class = \"rowNumber\" style = \"font-weight: bold; text-align: right;\">5</td><td style = \"text-align: right;\">1102</td><td style = \"text-align: right;\">2</td><td style = \"text-align: left;\">2018-08-21</td></tr><tr><td class = \"rowNumber\" style = \"font-weight: bold; text-align: right;\">6</td><td style = \"text-align: right;\">1112</td><td style = \"text-align: right;\">1</td><td style = \"text-align: left;\">2019-06-05</td></tr><tr><td class = \"rowNumber\" style = \"font-weight: bold; text-align: right;\">7</td><td style = \"text-align: right;\">1102</td><td style = \"text-align: right;\">2</td><td style = \"text-align: left;\">2018-12-05</td></tr><tr><td class = \"rowNumber\" style = \"font-weight: bold; text-align: right;\">8</td><td style = \"text-align: right;\">1102</td><td style = \"text-align: right;\">1</td><td style = \"text-align: left;\">2019-09-22</td></tr><tr><td class = \"rowNumber\" style = \"font-weight: bold; text-align: right;\">9</td><td style = \"text-align: right;\">1112</td><td style = \"text-align: right;\">2</td><td style = \"text-align: left;\">2017-05-04</td></tr><tr><td class = \"rowNumber\" style = \"font-weight: bold; text-align: right;\">10</td><td style = \"text-align: right;\">1102</td><td style = \"text-align: right;\">1</td><td style = \"text-align: left;\">2019-10-10</td></tr></tbody></table></div>"
      ],
      "text/latex": [
       "\\begin{tabular}{r|ccc}\n",
       "\t& receipt\\_no & receipt\\_sub\\_no & sales\\_ymd\\\\\n",
       "\t\\hline\n",
       "\t& Int64 & Int64 & Date\\\\\n",
       "\t\\hline\n",
       "\t1 & 112 & 1 & 2018-11-03 \\\\\n",
       "\t2 & 1132 & 2 & 2018-11-18 \\\\\n",
       "\t3 & 1102 & 1 & 2017-07-12 \\\\\n",
       "\t4 & 1132 & 1 & 2019-02-05 \\\\\n",
       "\t5 & 1102 & 2 & 2018-08-21 \\\\\n",
       "\t6 & 1112 & 1 & 2019-06-05 \\\\\n",
       "\t7 & 1102 & 2 & 2018-12-05 \\\\\n",
       "\t8 & 1102 & 1 & 2019-09-22 \\\\\n",
       "\t9 & 1112 & 2 & 2017-05-04 \\\\\n",
       "\t10 & 1102 & 1 & 2019-10-10 \\\\\n",
       "\\end{tabular}\n"
      ],
      "text/plain": [
       "\u001b[1m10×3 DataFrame\u001b[0m\n",
       "\u001b[1m Row \u001b[0m│\u001b[1m receipt_no \u001b[0m\u001b[1m receipt_sub_no \u001b[0m\u001b[1m sales_ymd  \u001b[0m\n",
       "     │\u001b[90m Int64      \u001b[0m\u001b[90m Int64          \u001b[0m\u001b[90m Date       \u001b[0m\n",
       "─────┼────────────────────────────────────────\n",
       "   1 │        112               1  2018-11-03\n",
       "   2 │       1132               2  2018-11-18\n",
       "   3 │       1102               1  2017-07-12\n",
       "   4 │       1132               1  2019-02-05\n",
       "   5 │       1102               2  2018-08-21\n",
       "   6 │       1112               1  2019-06-05\n",
       "   7 │       1102               2  2018-12-05\n",
       "   8 │       1102               1  2019-09-22\n",
       "   9 │       1112               2  2017-05-04\n",
       "  10 │       1102               1  2019-10-10"
      ]
     },
     "execution_count": 54,
     "metadata": {},
     "output_type": "execute_result"
    }
   ],
   "source": [
    "unix2date(x) = Date(unix2datetime(x))\n",
    "\n",
    "@time \\\n",
    "@chain df_receipt begin\n",
    "    @select :receipt_no :receipt_sub_no :sales_epoch\n",
    "    @rtransform :sales_ymd = unix2date(:sales_epoch)\n",
    "    @select $(Not(:sales_epoch))\n",
    "    first(10)\n",
    "end"
   ]
  },
  {
   "cell_type": "markdown",
   "metadata": {},
   "source": [
    "---\n",
    "> P-049: レシート明細データ（df_receipt）の売上エポック秒（sales_epoch）を日付型に変換し、「年」だけ取り出してレシート番号(receipt_no)、レシートサブ番号（receipt_sub_no）とともに10件表示せよ。"
   ]
  },
  {
   "cell_type": "code",
   "execution_count": 55,
   "metadata": {},
   "outputs": [
    {
     "name": "stdout",
     "output_type": "stream",
     "text": [
      "  0.000001 seconds\n"
     ]
    },
    {
     "data": {
      "text/html": [
       "<div><div style = \"float: left;\"><span>10×3 DataFrame</span></div><div style = \"clear: both;\"></div></div><div class = \"data-frame\" style = \"overflow-x: scroll;\"><table class = \"data-frame\" style = \"margin-bottom: 6px;\"><thead><tr class = \"header\"><th class = \"rowNumber\" style = \"font-weight: bold; text-align: right;\">Row</th><th style = \"text-align: left;\">receipt_no</th><th style = \"text-align: left;\">receipt_sub_no</th><th style = \"text-align: left;\">sales_y</th></tr><tr class = \"subheader headerLastRow\"><th class = \"rowNumber\" style = \"font-weight: bold; text-align: right;\"></th><th title = \"Int64\" style = \"text-align: left;\">Int64</th><th title = \"Int64\" style = \"text-align: left;\">Int64</th><th title = \"Int64\" style = \"text-align: left;\">Int64</th></tr></thead><tbody><tr><td class = \"rowNumber\" style = \"font-weight: bold; text-align: right;\">1</td><td style = \"text-align: right;\">112</td><td style = \"text-align: right;\">1</td><td style = \"text-align: right;\">2018</td></tr><tr><td class = \"rowNumber\" style = \"font-weight: bold; text-align: right;\">2</td><td style = \"text-align: right;\">1132</td><td style = \"text-align: right;\">2</td><td style = \"text-align: right;\">2018</td></tr><tr><td class = \"rowNumber\" style = \"font-weight: bold; text-align: right;\">3</td><td style = \"text-align: right;\">1102</td><td style = \"text-align: right;\">1</td><td style = \"text-align: right;\">2017</td></tr><tr><td class = \"rowNumber\" style = \"font-weight: bold; text-align: right;\">4</td><td style = \"text-align: right;\">1132</td><td style = \"text-align: right;\">1</td><td style = \"text-align: right;\">2019</td></tr><tr><td class = \"rowNumber\" style = \"font-weight: bold; text-align: right;\">5</td><td style = \"text-align: right;\">1102</td><td style = \"text-align: right;\">2</td><td style = \"text-align: right;\">2018</td></tr><tr><td class = \"rowNumber\" style = \"font-weight: bold; text-align: right;\">6</td><td style = \"text-align: right;\">1112</td><td style = \"text-align: right;\">1</td><td style = \"text-align: right;\">2019</td></tr><tr><td class = \"rowNumber\" style = \"font-weight: bold; text-align: right;\">7</td><td style = \"text-align: right;\">1102</td><td style = \"text-align: right;\">2</td><td style = \"text-align: right;\">2018</td></tr><tr><td class = \"rowNumber\" style = \"font-weight: bold; text-align: right;\">8</td><td style = \"text-align: right;\">1102</td><td style = \"text-align: right;\">1</td><td style = \"text-align: right;\">2019</td></tr><tr><td class = \"rowNumber\" style = \"font-weight: bold; text-align: right;\">9</td><td style = \"text-align: right;\">1112</td><td style = \"text-align: right;\">2</td><td style = \"text-align: right;\">2017</td></tr><tr><td class = \"rowNumber\" style = \"font-weight: bold; text-align: right;\">10</td><td style = \"text-align: right;\">1102</td><td style = \"text-align: right;\">1</td><td style = \"text-align: right;\">2019</td></tr></tbody></table></div>"
      ],
      "text/latex": [
       "\\begin{tabular}{r|ccc}\n",
       "\t& receipt\\_no & receipt\\_sub\\_no & sales\\_y\\\\\n",
       "\t\\hline\n",
       "\t& Int64 & Int64 & Int64\\\\\n",
       "\t\\hline\n",
       "\t1 & 112 & 1 & 2018 \\\\\n",
       "\t2 & 1132 & 2 & 2018 \\\\\n",
       "\t3 & 1102 & 1 & 2017 \\\\\n",
       "\t4 & 1132 & 1 & 2019 \\\\\n",
       "\t5 & 1102 & 2 & 2018 \\\\\n",
       "\t6 & 1112 & 1 & 2019 \\\\\n",
       "\t7 & 1102 & 2 & 2018 \\\\\n",
       "\t8 & 1102 & 1 & 2019 \\\\\n",
       "\t9 & 1112 & 2 & 2017 \\\\\n",
       "\t10 & 1102 & 1 & 2019 \\\\\n",
       "\\end{tabular}\n"
      ],
      "text/plain": [
       "\u001b[1m10×3 DataFrame\u001b[0m\n",
       "\u001b[1m Row \u001b[0m│\u001b[1m receipt_no \u001b[0m\u001b[1m receipt_sub_no \u001b[0m\u001b[1m sales_y \u001b[0m\n",
       "     │\u001b[90m Int64      \u001b[0m\u001b[90m Int64          \u001b[0m\u001b[90m Int64   \u001b[0m\n",
       "─────┼─────────────────────────────────────\n",
       "   1 │        112               1     2018\n",
       "   2 │       1132               2     2018\n",
       "   3 │       1102               1     2017\n",
       "   4 │       1132               1     2019\n",
       "   5 │       1102               2     2018\n",
       "   6 │       1112               1     2019\n",
       "   7 │       1102               2     2018\n",
       "   8 │       1102               1     2019\n",
       "   9 │       1112               2     2017\n",
       "  10 │       1102               1     2019"
      ]
     },
     "execution_count": 55,
     "metadata": {},
     "output_type": "execute_result"
    }
   ],
   "source": [
    "@time \\\n",
    "@chain df_receipt begin\n",
    "    @select :receipt_no :receipt_sub_no :sales_epoch\n",
    "    @rtransform :sales_y = year(unix2date(:sales_epoch))\n",
    "    @select $(Not(:sales_epoch))\n",
    "    first(10)\n",
    "end"
   ]
  },
  {
   "cell_type": "markdown",
   "metadata": {},
   "source": [
    "---\n",
    "> P-050: レシート明細データ（df_receipt）の売上エポック秒（sales_epoch）を日付型に変換し、「月」だけ取り出してレシート番号(receipt_no)、レシートサブ番号（receipt_sub_no）とともに10件表示せよ。なお、「月」は0埋め2桁で取り出すこと。"
   ]
  },
  {
   "cell_type": "code",
   "execution_count": 56,
   "metadata": {},
   "outputs": [
    {
     "name": "stdout",
     "output_type": "stream",
     "text": [
      "  0.000002 seconds\n"
     ]
    },
    {
     "data": {
      "text/html": [
       "<div><div style = \"float: left;\"><span>10×3 DataFrame</span></div><div style = \"clear: both;\"></div></div><div class = \"data-frame\" style = \"overflow-x: scroll;\"><table class = \"data-frame\" style = \"margin-bottom: 6px;\"><thead><tr class = \"header\"><th class = \"rowNumber\" style = \"font-weight: bold; text-align: right;\">Row</th><th style = \"text-align: left;\">receipt_no</th><th style = \"text-align: left;\">receipt_sub_no</th><th style = \"text-align: left;\">sales_m</th></tr><tr class = \"subheader headerLastRow\"><th class = \"rowNumber\" style = \"font-weight: bold; text-align: right;\"></th><th title = \"Int64\" style = \"text-align: left;\">Int64</th><th title = \"Int64\" style = \"text-align: left;\">Int64</th><th title = \"String\" style = \"text-align: left;\">String</th></tr></thead><tbody><tr><td class = \"rowNumber\" style = \"font-weight: bold; text-align: right;\">1</td><td style = \"text-align: right;\">112</td><td style = \"text-align: right;\">1</td><td style = \"text-align: left;\">11</td></tr><tr><td class = \"rowNumber\" style = \"font-weight: bold; text-align: right;\">2</td><td style = \"text-align: right;\">1132</td><td style = \"text-align: right;\">2</td><td style = \"text-align: left;\">11</td></tr><tr><td class = \"rowNumber\" style = \"font-weight: bold; text-align: right;\">3</td><td style = \"text-align: right;\">1102</td><td style = \"text-align: right;\">1</td><td style = \"text-align: left;\">07</td></tr><tr><td class = \"rowNumber\" style = \"font-weight: bold; text-align: right;\">4</td><td style = \"text-align: right;\">1132</td><td style = \"text-align: right;\">1</td><td style = \"text-align: left;\">02</td></tr><tr><td class = \"rowNumber\" style = \"font-weight: bold; text-align: right;\">5</td><td style = \"text-align: right;\">1102</td><td style = \"text-align: right;\">2</td><td style = \"text-align: left;\">08</td></tr><tr><td class = \"rowNumber\" style = \"font-weight: bold; text-align: right;\">6</td><td style = \"text-align: right;\">1112</td><td style = \"text-align: right;\">1</td><td style = \"text-align: left;\">06</td></tr><tr><td class = \"rowNumber\" style = \"font-weight: bold; text-align: right;\">7</td><td style = \"text-align: right;\">1102</td><td style = \"text-align: right;\">2</td><td style = \"text-align: left;\">12</td></tr><tr><td class = \"rowNumber\" style = \"font-weight: bold; text-align: right;\">8</td><td style = \"text-align: right;\">1102</td><td style = \"text-align: right;\">1</td><td style = \"text-align: left;\">09</td></tr><tr><td class = \"rowNumber\" style = \"font-weight: bold; text-align: right;\">9</td><td style = \"text-align: right;\">1112</td><td style = \"text-align: right;\">2</td><td style = \"text-align: left;\">05</td></tr><tr><td class = \"rowNumber\" style = \"font-weight: bold; text-align: right;\">10</td><td style = \"text-align: right;\">1102</td><td style = \"text-align: right;\">1</td><td style = \"text-align: left;\">10</td></tr></tbody></table></div>"
      ],
      "text/latex": [
       "\\begin{tabular}{r|ccc}\n",
       "\t& receipt\\_no & receipt\\_sub\\_no & sales\\_m\\\\\n",
       "\t\\hline\n",
       "\t& Int64 & Int64 & String\\\\\n",
       "\t\\hline\n",
       "\t1 & 112 & 1 & 11 \\\\\n",
       "\t2 & 1132 & 2 & 11 \\\\\n",
       "\t3 & 1102 & 1 & 07 \\\\\n",
       "\t4 & 1132 & 1 & 02 \\\\\n",
       "\t5 & 1102 & 2 & 08 \\\\\n",
       "\t6 & 1112 & 1 & 06 \\\\\n",
       "\t7 & 1102 & 2 & 12 \\\\\n",
       "\t8 & 1102 & 1 & 09 \\\\\n",
       "\t9 & 1112 & 2 & 05 \\\\\n",
       "\t10 & 1102 & 1 & 10 \\\\\n",
       "\\end{tabular}\n"
      ],
      "text/plain": [
       "\u001b[1m10×3 DataFrame\u001b[0m\n",
       "\u001b[1m Row \u001b[0m│\u001b[1m receipt_no \u001b[0m\u001b[1m receipt_sub_no \u001b[0m\u001b[1m sales_m \u001b[0m\n",
       "     │\u001b[90m Int64      \u001b[0m\u001b[90m Int64          \u001b[0m\u001b[90m String  \u001b[0m\n",
       "─────┼─────────────────────────────────────\n",
       "   1 │        112               1  11\n",
       "   2 │       1132               2  11\n",
       "   3 │       1102               1  07\n",
       "   4 │       1132               1  02\n",
       "   5 │       1102               2  08\n",
       "   6 │       1112               1  06\n",
       "   7 │       1102               2  12\n",
       "   8 │       1102               1  09\n",
       "   9 │       1112               2  05\n",
       "  10 │       1102               1  10"
      ]
     },
     "execution_count": 56,
     "metadata": {},
     "output_type": "execute_result"
    }
   ],
   "source": [
    "@time \\\n",
    "@chain df_receipt begin\n",
    "    @select :receipt_no :receipt_sub_no :sales_epoch\n",
    "    @rtransform :sales_m = Dates.format(unix2date(:sales_epoch), \"mm\")\n",
    "    @select $(Not(:sales_epoch))\n",
    "    first(10)\n",
    "end"
   ]
  },
  {
   "cell_type": "markdown",
   "metadata": {},
   "source": [
    "---\n",
    "> P-051: レシート明細データ（df_receipt）の売上エポック秒を日付型に変換し、「日」だけ取り出してレシート番号(receipt_no)、レシートサブ番号（receipt_sub_no）とともに10件表示せよ。なお、「日」は0埋め2桁で取り出すこと。"
   ]
  },
  {
   "cell_type": "code",
   "execution_count": 57,
   "metadata": {},
   "outputs": [
    {
     "name": "stdout",
     "output_type": "stream",
     "text": [
      "  0.000002 seconds\n"
     ]
    },
    {
     "data": {
      "text/html": [
       "<div><div style = \"float: left;\"><span>10×3 DataFrame</span></div><div style = \"clear: both;\"></div></div><div class = \"data-frame\" style = \"overflow-x: scroll;\"><table class = \"data-frame\" style = \"margin-bottom: 6px;\"><thead><tr class = \"header\"><th class = \"rowNumber\" style = \"font-weight: bold; text-align: right;\">Row</th><th style = \"text-align: left;\">receipt_no</th><th style = \"text-align: left;\">receipt_sub_no</th><th style = \"text-align: left;\">sales_d</th></tr><tr class = \"subheader headerLastRow\"><th class = \"rowNumber\" style = \"font-weight: bold; text-align: right;\"></th><th title = \"Int64\" style = \"text-align: left;\">Int64</th><th title = \"Int64\" style = \"text-align: left;\">Int64</th><th title = \"String\" style = \"text-align: left;\">String</th></tr></thead><tbody><tr><td class = \"rowNumber\" style = \"font-weight: bold; text-align: right;\">1</td><td style = \"text-align: right;\">112</td><td style = \"text-align: right;\">1</td><td style = \"text-align: left;\">03</td></tr><tr><td class = \"rowNumber\" style = \"font-weight: bold; text-align: right;\">2</td><td style = \"text-align: right;\">1132</td><td style = \"text-align: right;\">2</td><td style = \"text-align: left;\">18</td></tr><tr><td class = \"rowNumber\" style = \"font-weight: bold; text-align: right;\">3</td><td style = \"text-align: right;\">1102</td><td style = \"text-align: right;\">1</td><td style = \"text-align: left;\">12</td></tr><tr><td class = \"rowNumber\" style = \"font-weight: bold; text-align: right;\">4</td><td style = \"text-align: right;\">1132</td><td style = \"text-align: right;\">1</td><td style = \"text-align: left;\">05</td></tr><tr><td class = \"rowNumber\" style = \"font-weight: bold; text-align: right;\">5</td><td style = \"text-align: right;\">1102</td><td style = \"text-align: right;\">2</td><td style = \"text-align: left;\">21</td></tr><tr><td class = \"rowNumber\" style = \"font-weight: bold; text-align: right;\">6</td><td style = \"text-align: right;\">1112</td><td style = \"text-align: right;\">1</td><td style = \"text-align: left;\">05</td></tr><tr><td class = \"rowNumber\" style = \"font-weight: bold; text-align: right;\">7</td><td style = \"text-align: right;\">1102</td><td style = \"text-align: right;\">2</td><td style = \"text-align: left;\">05</td></tr><tr><td class = \"rowNumber\" style = \"font-weight: bold; text-align: right;\">8</td><td style = \"text-align: right;\">1102</td><td style = \"text-align: right;\">1</td><td style = \"text-align: left;\">22</td></tr><tr><td class = \"rowNumber\" style = \"font-weight: bold; text-align: right;\">9</td><td style = \"text-align: right;\">1112</td><td style = \"text-align: right;\">2</td><td style = \"text-align: left;\">04</td></tr><tr><td class = \"rowNumber\" style = \"font-weight: bold; text-align: right;\">10</td><td style = \"text-align: right;\">1102</td><td style = \"text-align: right;\">1</td><td style = \"text-align: left;\">10</td></tr></tbody></table></div>"
      ],
      "text/latex": [
       "\\begin{tabular}{r|ccc}\n",
       "\t& receipt\\_no & receipt\\_sub\\_no & sales\\_d\\\\\n",
       "\t\\hline\n",
       "\t& Int64 & Int64 & String\\\\\n",
       "\t\\hline\n",
       "\t1 & 112 & 1 & 03 \\\\\n",
       "\t2 & 1132 & 2 & 18 \\\\\n",
       "\t3 & 1102 & 1 & 12 \\\\\n",
       "\t4 & 1132 & 1 & 05 \\\\\n",
       "\t5 & 1102 & 2 & 21 \\\\\n",
       "\t6 & 1112 & 1 & 05 \\\\\n",
       "\t7 & 1102 & 2 & 05 \\\\\n",
       "\t8 & 1102 & 1 & 22 \\\\\n",
       "\t9 & 1112 & 2 & 04 \\\\\n",
       "\t10 & 1102 & 1 & 10 \\\\\n",
       "\\end{tabular}\n"
      ],
      "text/plain": [
       "\u001b[1m10×3 DataFrame\u001b[0m\n",
       "\u001b[1m Row \u001b[0m│\u001b[1m receipt_no \u001b[0m\u001b[1m receipt_sub_no \u001b[0m\u001b[1m sales_d \u001b[0m\n",
       "     │\u001b[90m Int64      \u001b[0m\u001b[90m Int64          \u001b[0m\u001b[90m String  \u001b[0m\n",
       "─────┼─────────────────────────────────────\n",
       "   1 │        112               1  03\n",
       "   2 │       1132               2  18\n",
       "   3 │       1102               1  12\n",
       "   4 │       1132               1  05\n",
       "   5 │       1102               2  21\n",
       "   6 │       1112               1  05\n",
       "   7 │       1102               2  05\n",
       "   8 │       1102               1  22\n",
       "   9 │       1112               2  04\n",
       "  10 │       1102               1  10"
      ]
     },
     "execution_count": 57,
     "metadata": {},
     "output_type": "execute_result"
    }
   ],
   "source": [
    "@time \\\n",
    "@chain df_receipt begin\n",
    "    @select :receipt_no :receipt_sub_no :sales_epoch\n",
    "    @rtransform :sales_d = Dates.format(unix2date(:sales_epoch), \"dd\")\n",
    "    @select $(Not(:sales_epoch))\n",
    "    first(10)\n",
    "end"
   ]
  },
  {
   "cell_type": "markdown",
   "metadata": {},
   "source": [
    "---\n",
    "> P-052: レシート明細データ（df_receipt）の売上金額（amount）を顧客ID（customer_id）ごとに合計の上、売上金額合計に対して2,000円以下を0、2,000円より大きい金額を1に二値化し、顧客ID、売上金額合計とともに10件表示せよ。ただし、顧客IDが\"Z\"から始まるのものは非会員を表すため、除外して計算すること。"
   ]
  },
  {
   "cell_type": "code",
   "execution_count": 58,
   "metadata": {},
   "outputs": [
    {
     "name": "stdout",
     "output_type": "stream",
     "text": [
      "  0.000002 seconds\n"
     ]
    },
    {
     "data": {
      "text/html": [
       "<div><div style = \"float: left;\"><span>10×3 DataFrame</span></div><div style = \"clear: both;\"></div></div><div class = \"data-frame\" style = \"overflow-x: scroll;\"><table class = \"data-frame\" style = \"margin-bottom: 6px;\"><thead><tr class = \"header\"><th class = \"rowNumber\" style = \"font-weight: bold; text-align: right;\">Row</th><th style = \"text-align: left;\">customer_id</th><th style = \"text-align: left;\">amount_sum</th><th style = \"text-align: left;\">amount_cat</th></tr><tr class = \"subheader headerLastRow\"><th class = \"rowNumber\" style = \"font-weight: bold; text-align: right;\"></th><th title = \"String\" style = \"text-align: left;\">String</th><th title = \"Int64\" style = \"text-align: left;\">Int64</th><th title = \"Int64\" style = \"text-align: left;\">Int64</th></tr></thead><tbody><tr><td class = \"rowNumber\" style = \"font-weight: bold; text-align: right;\">1</td><td style = \"text-align: left;\">CS001113000004</td><td style = \"text-align: right;\">1298</td><td style = \"text-align: right;\">0</td></tr><tr><td class = \"rowNumber\" style = \"font-weight: bold; text-align: right;\">2</td><td style = \"text-align: left;\">CS001114000005</td><td style = \"text-align: right;\">626</td><td style = \"text-align: right;\">0</td></tr><tr><td class = \"rowNumber\" style = \"font-weight: bold; text-align: right;\">3</td><td style = \"text-align: left;\">CS001115000010</td><td style = \"text-align: right;\">3044</td><td style = \"text-align: right;\">1</td></tr><tr><td class = \"rowNumber\" style = \"font-weight: bold; text-align: right;\">4</td><td style = \"text-align: left;\">CS001205000004</td><td style = \"text-align: right;\">1988</td><td style = \"text-align: right;\">0</td></tr><tr><td class = \"rowNumber\" style = \"font-weight: bold; text-align: right;\">5</td><td style = \"text-align: left;\">CS001205000006</td><td style = \"text-align: right;\">3337</td><td style = \"text-align: right;\">1</td></tr><tr><td class = \"rowNumber\" style = \"font-weight: bold; text-align: right;\">6</td><td style = \"text-align: left;\">CS001211000025</td><td style = \"text-align: right;\">456</td><td style = \"text-align: right;\">0</td></tr><tr><td class = \"rowNumber\" style = \"font-weight: bold; text-align: right;\">7</td><td style = \"text-align: left;\">CS001212000027</td><td style = \"text-align: right;\">448</td><td style = \"text-align: right;\">0</td></tr><tr><td class = \"rowNumber\" style = \"font-weight: bold; text-align: right;\">8</td><td style = \"text-align: left;\">CS001212000031</td><td style = \"text-align: right;\">296</td><td style = \"text-align: right;\">0</td></tr><tr><td class = \"rowNumber\" style = \"font-weight: bold; text-align: right;\">9</td><td style = \"text-align: left;\">CS001212000046</td><td style = \"text-align: right;\">228</td><td style = \"text-align: right;\">0</td></tr><tr><td class = \"rowNumber\" style = \"font-weight: bold; text-align: right;\">10</td><td style = \"text-align: left;\">CS001212000070</td><td style = \"text-align: right;\">456</td><td style = \"text-align: right;\">0</td></tr></tbody></table></div>"
      ],
      "text/latex": [
       "\\begin{tabular}{r|ccc}\n",
       "\t& customer\\_id & amount\\_sum & amount\\_cat\\\\\n",
       "\t\\hline\n",
       "\t& String & Int64 & Int64\\\\\n",
       "\t\\hline\n",
       "\t1 & CS001113000004 & 1298 & 0 \\\\\n",
       "\t2 & CS001114000005 & 626 & 0 \\\\\n",
       "\t3 & CS001115000010 & 3044 & 1 \\\\\n",
       "\t4 & CS001205000004 & 1988 & 0 \\\\\n",
       "\t5 & CS001205000006 & 3337 & 1 \\\\\n",
       "\t6 & CS001211000025 & 456 & 0 \\\\\n",
       "\t7 & CS001212000027 & 448 & 0 \\\\\n",
       "\t8 & CS001212000031 & 296 & 0 \\\\\n",
       "\t9 & CS001212000046 & 228 & 0 \\\\\n",
       "\t10 & CS001212000070 & 456 & 0 \\\\\n",
       "\\end{tabular}\n"
      ],
      "text/plain": [
       "\u001b[1m10×3 DataFrame\u001b[0m\n",
       "\u001b[1m Row \u001b[0m│\u001b[1m customer_id    \u001b[0m\u001b[1m amount_sum \u001b[0m\u001b[1m amount_cat \u001b[0m\n",
       "     │\u001b[90m String         \u001b[0m\u001b[90m Int64      \u001b[0m\u001b[90m Int64      \u001b[0m\n",
       "─────┼────────────────────────────────────────\n",
       "   1 │ CS001113000004        1298           0\n",
       "   2 │ CS001114000005         626           0\n",
       "   3 │ CS001115000010        3044           1\n",
       "   4 │ CS001205000004        1988           0\n",
       "   5 │ CS001205000006        3337           1\n",
       "   6 │ CS001211000025         456           0\n",
       "   7 │ CS001212000027         448           0\n",
       "   8 │ CS001212000031         296           0\n",
       "   9 │ CS001212000046         228           0\n",
       "  10 │ CS001212000070         456           0"
      ]
     },
     "execution_count": 58,
     "metadata": {},
     "output_type": "execute_result"
    }
   ],
   "source": [
    "@time \\\n",
    "@chain df_receipt begin\n",
    "    @rsubset !startswith(:customer_id, \"Z\")\n",
    "    groupby(:customer_id, sort=true)\n",
    "    @combine :amount_sum = sum(:amount)\n",
    "    @rtransform :amount_cat = ifelse(:amount_sum <= 2000, 0, 1)\n",
    "    first(10)\n",
    "end"
   ]
  },
  {
   "cell_type": "markdown",
   "metadata": {},
   "source": [
    "---\n",
    "> P-053: 顧客データ（df_customer）の郵便番号（postal_cd）に対し、東京（先頭3桁が100〜209のもの）を1、それ以外のものを0に二値化せよ。さらにレシート明細データ（df_receipt）と結合し、全期間において売上実績のある顧客数を、作成した二値ごとにカウントせよ。"
   ]
  },
  {
   "cell_type": "code",
   "execution_count": 59,
   "metadata": {},
   "outputs": [
    {
     "name": "stdout",
     "output_type": "stream",
     "text": [
      "  0.000001 seconds\n"
     ]
    },
    {
     "data": {
      "text/html": [
       "<div><div style = \"float: left;\"><span>2×2 DataFrame</span></div><div style = \"clear: both;\"></div></div><div class = \"data-frame\" style = \"overflow-x: scroll;\"><table class = \"data-frame\" style = \"margin-bottom: 6px;\"><thead><tr class = \"header\"><th class = \"rowNumber\" style = \"font-weight: bold; text-align: right;\">Row</th><th style = \"text-align: left;\">is_tokyo</th><th style = \"text-align: left;\">n_customer</th></tr><tr class = \"subheader headerLastRow\"><th class = \"rowNumber\" style = \"font-weight: bold; text-align: right;\"></th><th title = \"Int64\" style = \"text-align: left;\">Int64</th><th title = \"Int64\" style = \"text-align: left;\">Int64</th></tr></thead><tbody><tr><td class = \"rowNumber\" style = \"font-weight: bold; text-align: right;\">1</td><td style = \"text-align: right;\">0</td><td style = \"text-align: right;\">3906</td></tr><tr><td class = \"rowNumber\" style = \"font-weight: bold; text-align: right;\">2</td><td style = \"text-align: right;\">1</td><td style = \"text-align: right;\">4400</td></tr></tbody></table></div>"
      ],
      "text/latex": [
       "\\begin{tabular}{r|cc}\n",
       "\t& is\\_tokyo & n\\_customer\\\\\n",
       "\t\\hline\n",
       "\t& Int64 & Int64\\\\\n",
       "\t\\hline\n",
       "\t1 & 0 & 3906 \\\\\n",
       "\t2 & 1 & 4400 \\\\\n",
       "\\end{tabular}\n"
      ],
      "text/plain": [
       "\u001b[1m2×2 DataFrame\u001b[0m\n",
       "\u001b[1m Row \u001b[0m│\u001b[1m is_tokyo \u001b[0m\u001b[1m n_customer \u001b[0m\n",
       "     │\u001b[90m Int64    \u001b[0m\u001b[90m Int64      \u001b[0m\n",
       "─────┼──────────────────────\n",
       "   1 │        0        3906\n",
       "   2 │        1        4400"
      ]
     },
     "execution_count": 59,
     "metadata": {},
     "output_type": "execute_result"
    }
   ],
   "source": [
    "@time \\\n",
    "@chain df_customer begin\n",
    "    @select :customer_id :postal_cd\n",
    "    @rtransform :is_tokyo = ifelse(100 <= parse(Int, :postal_cd[1:3]) <= 209, 1, 0)\n",
    "    innerjoin(unique(df_receipt[!, [:customer_id]]), on=:customer_id)\n",
    "    groupby(:is_tokyo)\n",
    "    @combine :n_customer = length(:customer_id)\n",
    "end"
   ]
  },
  {
   "cell_type": "markdown",
   "metadata": {},
   "source": [
    "---\n",
    "> P-054: 顧客データ（df_customer）の住所（address）は、埼玉県、千葉県、東京都、神奈川県のいずれかとなっている。都道府県毎にコード値を作成し、顧客ID、住所とともに10件表示せよ。値は埼玉県を11、千葉県を12、東京都を13、神奈川県を14とすること。"
   ]
  },
  {
   "cell_type": "code",
   "execution_count": 60,
   "metadata": {},
   "outputs": [
    {
     "name": "stdout",
     "output_type": "stream",
     "text": [
      "  0.000005 seconds\n"
     ]
    },
    {
     "data": {
      "text/html": [
       "<div><div style = \"float: left;\"><span>10×3 DataFrame</span></div><div style = \"clear: both;\"></div></div><div class = \"data-frame\" style = \"overflow-x: scroll;\"><table class = \"data-frame\" style = \"margin-bottom: 6px;\"><thead><tr class = \"header\"><th class = \"rowNumber\" style = \"font-weight: bold; text-align: right;\">Row</th><th style = \"text-align: left;\">customer_id</th><th style = \"text-align: left;\">address</th><th style = \"text-align: left;\">address_cd</th></tr><tr class = \"subheader headerLastRow\"><th class = \"rowNumber\" style = \"font-weight: bold; text-align: right;\"></th><th title = \"String\" style = \"text-align: left;\">String</th><th title = \"String\" style = \"text-align: left;\">String</th><th title = \"Int64\" style = \"text-align: left;\">Int64</th></tr></thead><tbody><tr><td class = \"rowNumber\" style = \"font-weight: bold; text-align: right;\">1</td><td style = \"text-align: left;\">CS021313000114</td><td style = \"text-align: left;\">神奈川県伊勢原市粟窪**********</td><td style = \"text-align: right;\">14</td></tr><tr><td class = \"rowNumber\" style = \"font-weight: bold; text-align: right;\">2</td><td style = \"text-align: left;\">CS037613000071</td><td style = \"text-align: left;\">東京都江東区南砂**********</td><td style = \"text-align: right;\">13</td></tr><tr><td class = \"rowNumber\" style = \"font-weight: bold; text-align: right;\">3</td><td style = \"text-align: left;\">CS031415000172</td><td style = \"text-align: left;\">東京都渋谷区代々木**********</td><td style = \"text-align: right;\">13</td></tr><tr><td class = \"rowNumber\" style = \"font-weight: bold; text-align: right;\">4</td><td style = \"text-align: left;\">CS028811000001</td><td style = \"text-align: left;\">神奈川県横浜市泉区和泉町**********</td><td style = \"text-align: right;\">14</td></tr><tr><td class = \"rowNumber\" style = \"font-weight: bold; text-align: right;\">5</td><td style = \"text-align: left;\">CS001215000145</td><td style = \"text-align: left;\">東京都大田区仲六郷**********</td><td style = \"text-align: right;\">13</td></tr><tr><td class = \"rowNumber\" style = \"font-weight: bold; text-align: right;\">6</td><td style = \"text-align: left;\">CS020401000016</td><td style = \"text-align: left;\">東京都板橋区若木**********</td><td style = \"text-align: right;\">13</td></tr><tr><td class = \"rowNumber\" style = \"font-weight: bold; text-align: right;\">7</td><td style = \"text-align: left;\">CS015414000103</td><td style = \"text-align: left;\">東京都江東区北砂**********</td><td style = \"text-align: right;\">13</td></tr><tr><td class = \"rowNumber\" style = \"font-weight: bold; text-align: right;\">8</td><td style = \"text-align: left;\">CS029403000008</td><td style = \"text-align: left;\">千葉県浦安市海楽**********</td><td style = \"text-align: right;\">12</td></tr><tr><td class = \"rowNumber\" style = \"font-weight: bold; text-align: right;\">9</td><td style = \"text-align: left;\">CS015804000004</td><td style = \"text-align: left;\">東京都江東区北砂**********</td><td style = \"text-align: right;\">13</td></tr><tr><td class = \"rowNumber\" style = \"font-weight: bold; text-align: right;\">10</td><td style = \"text-align: left;\">CS033513000180</td><td style = \"text-align: left;\">神奈川県横浜市旭区善部町**********</td><td style = \"text-align: right;\">14</td></tr></tbody></table></div>"
      ],
      "text/latex": [
       "\\begin{tabular}{r|ccc}\n",
       "\t& customer\\_id & address & address\\_cd\\\\\n",
       "\t\\hline\n",
       "\t& String & String & Int64\\\\\n",
       "\t\\hline\n",
       "\t1 & CS021313000114 & 神奈川県伊勢原市粟窪********** & 14 \\\\\n",
       "\t2 & CS037613000071 & 東京都江東区南砂********** & 13 \\\\\n",
       "\t3 & CS031415000172 & 東京都渋谷区代々木********** & 13 \\\\\n",
       "\t4 & CS028811000001 & 神奈川県横浜市泉区和泉町********** & 14 \\\\\n",
       "\t5 & CS001215000145 & 東京都大田区仲六郷********** & 13 \\\\\n",
       "\t6 & CS020401000016 & 東京都板橋区若木********** & 13 \\\\\n",
       "\t7 & CS015414000103 & 東京都江東区北砂********** & 13 \\\\\n",
       "\t8 & CS029403000008 & 千葉県浦安市海楽********** & 12 \\\\\n",
       "\t9 & CS015804000004 & 東京都江東区北砂********** & 13 \\\\\n",
       "\t10 & CS033513000180 & 神奈川県横浜市旭区善部町********** & 14 \\\\\n",
       "\\end{tabular}\n"
      ],
      "text/plain": [
       "\u001b[1m10×3 DataFrame\u001b[0m\n",
       "\u001b[1m Row \u001b[0m│\u001b[1m customer_id    \u001b[0m\u001b[1m address                           \u001b[0m\u001b[1m address_cd \u001b[0m\n",
       "     │\u001b[90m String         \u001b[0m\u001b[90m String                            \u001b[0m\u001b[90m Int64      \u001b[0m\n",
       "─────┼───────────────────────────────────────────────────────────────\n",
       "   1 │ CS021313000114  神奈川県伊勢原市粟窪**********             14\n",
       "   2 │ CS037613000071  東京都江東区南砂**********                 13\n",
       "   3 │ CS031415000172  東京都渋谷区代々木**********               13\n",
       "   4 │ CS028811000001  神奈川県横浜市泉区和泉町********…          14\n",
       "   5 │ CS001215000145  東京都大田区仲六郷**********               13\n",
       "   6 │ CS020401000016  東京都板橋区若木**********                 13\n",
       "   7 │ CS015414000103  東京都江東区北砂**********                 13\n",
       "   8 │ CS029403000008  千葉県浦安市海楽**********                 12\n",
       "   9 │ CS015804000004  東京都江東区北砂**********                 13\n",
       "  10 │ CS033513000180  神奈川県横浜市旭区善部町********…          14"
      ]
     },
     "execution_count": 60,
     "metadata": {},
     "output_type": "execute_result"
    }
   ],
   "source": [
    "@time \\\n",
    "@chain df_customer begin\n",
    "    @select :customer_id :address\n",
    "    @rtransform :address_cd = occursin(\"埼玉県\", :address) ? 11 :\n",
    "                              occursin(\"千葉県\", :address) ? 12 :\n",
    "                              occursin(\"東京都\", :address) ? 13 :\n",
    "                              occursin(\"神奈川県\", :address) ? 14 :\n",
    "                              error(\"Invarid address: $(:address)\")\n",
    "    first(10)\n",
    "end"
   ]
  },
  {
   "cell_type": "markdown",
   "metadata": {},
   "source": [
    "---\n",
    "> P-055: レシート明細（df_receipt）データの売上金額（amount）を顧客ID（customer_id）ごとに合計し、その合計金額の四分位点を求めよ。その上で、顧客ごとの売上金額合計に対して以下の基準でカテゴリ値を作成し、顧客ID、売上金額合計とともに10件表示せよ。カテゴリ値は順に1〜4とする。\n",
    ">\n",
    "> - 最小値以上第1四分位未満 ・・・ 1を付与\n",
    "> - 第1四分位以上第2四分位未満 ・・・ 2を付与\n",
    "> - 第2四分位以上第3四分位未満 ・・・ 3を付与\n",
    "> - 第3四分位以上 ・・・ 4を付与"
   ]
  },
  {
   "cell_type": "code",
   "execution_count": 61,
   "metadata": {},
   "outputs": [
    {
     "name": "stdout",
     "output_type": "stream",
     "text": [
      "  0.000001 seconds\n"
     ]
    },
    {
     "data": {
      "text/html": [
       "<div><div style = \"float: left;\"><span>10×6 DataFrame</span></div><div style = \"clear: both;\"></div></div><div class = \"data-frame\" style = \"overflow-x: scroll;\"><table class = \"data-frame\" style = \"margin-bottom: 6px;\"><thead><tr class = \"header\"><th class = \"rowNumber\" style = \"font-weight: bold; text-align: right;\">Row</th><th style = \"text-align: left;\">customer_id</th><th style = \"text-align: left;\">amount_sum</th><th style = \"text-align: left;\">q1</th><th style = \"text-align: left;\">q2</th><th style = \"text-align: left;\">q3</th><th style = \"text-align: left;\">amount_cat</th></tr><tr class = \"subheader headerLastRow\"><th class = \"rowNumber\" style = \"font-weight: bold; text-align: right;\"></th><th title = \"String\" style = \"text-align: left;\">String</th><th title = \"Int64\" style = \"text-align: left;\">Int64</th><th title = \"Float64\" style = \"text-align: left;\">Float64</th><th title = \"Float64\" style = \"text-align: left;\">Float64</th><th title = \"Float64\" style = \"text-align: left;\">Float64</th><th title = \"Int64\" style = \"text-align: left;\">Int64</th></tr></thead><tbody><tr><td class = \"rowNumber\" style = \"font-weight: bold; text-align: right;\">1</td><td style = \"text-align: left;\">CS001113000004</td><td style = \"text-align: right;\">1298</td><td style = \"text-align: right;\">548.5</td><td style = \"text-align: right;\">1478.0</td><td style = \"text-align: right;\">3651.0</td><td style = \"text-align: right;\">2</td></tr><tr><td class = \"rowNumber\" style = \"font-weight: bold; text-align: right;\">2</td><td style = \"text-align: left;\">CS001114000005</td><td style = \"text-align: right;\">626</td><td style = \"text-align: right;\">548.5</td><td style = \"text-align: right;\">1478.0</td><td style = \"text-align: right;\">3651.0</td><td style = \"text-align: right;\">2</td></tr><tr><td class = \"rowNumber\" style = \"font-weight: bold; text-align: right;\">3</td><td style = \"text-align: left;\">CS001115000010</td><td style = \"text-align: right;\">3044</td><td style = \"text-align: right;\">548.5</td><td style = \"text-align: right;\">1478.0</td><td style = \"text-align: right;\">3651.0</td><td style = \"text-align: right;\">3</td></tr><tr><td class = \"rowNumber\" style = \"font-weight: bold; text-align: right;\">4</td><td style = \"text-align: left;\">CS001205000004</td><td style = \"text-align: right;\">1988</td><td style = \"text-align: right;\">548.5</td><td style = \"text-align: right;\">1478.0</td><td style = \"text-align: right;\">3651.0</td><td style = \"text-align: right;\">3</td></tr><tr><td class = \"rowNumber\" style = \"font-weight: bold; text-align: right;\">5</td><td style = \"text-align: left;\">CS001205000006</td><td style = \"text-align: right;\">3337</td><td style = \"text-align: right;\">548.5</td><td style = \"text-align: right;\">1478.0</td><td style = \"text-align: right;\">3651.0</td><td style = \"text-align: right;\">3</td></tr><tr><td class = \"rowNumber\" style = \"font-weight: bold; text-align: right;\">6</td><td style = \"text-align: left;\">CS001211000025</td><td style = \"text-align: right;\">456</td><td style = \"text-align: right;\">548.5</td><td style = \"text-align: right;\">1478.0</td><td style = \"text-align: right;\">3651.0</td><td style = \"text-align: right;\">1</td></tr><tr><td class = \"rowNumber\" style = \"font-weight: bold; text-align: right;\">7</td><td style = \"text-align: left;\">CS001212000027</td><td style = \"text-align: right;\">448</td><td style = \"text-align: right;\">548.5</td><td style = \"text-align: right;\">1478.0</td><td style = \"text-align: right;\">3651.0</td><td style = \"text-align: right;\">1</td></tr><tr><td class = \"rowNumber\" style = \"font-weight: bold; text-align: right;\">8</td><td style = \"text-align: left;\">CS001212000031</td><td style = \"text-align: right;\">296</td><td style = \"text-align: right;\">548.5</td><td style = \"text-align: right;\">1478.0</td><td style = \"text-align: right;\">3651.0</td><td style = \"text-align: right;\">1</td></tr><tr><td class = \"rowNumber\" style = \"font-weight: bold; text-align: right;\">9</td><td style = \"text-align: left;\">CS001212000046</td><td style = \"text-align: right;\">228</td><td style = \"text-align: right;\">548.5</td><td style = \"text-align: right;\">1478.0</td><td style = \"text-align: right;\">3651.0</td><td style = \"text-align: right;\">1</td></tr><tr><td class = \"rowNumber\" style = \"font-weight: bold; text-align: right;\">10</td><td style = \"text-align: left;\">CS001212000070</td><td style = \"text-align: right;\">456</td><td style = \"text-align: right;\">548.5</td><td style = \"text-align: right;\">1478.0</td><td style = \"text-align: right;\">3651.0</td><td style = \"text-align: right;\">1</td></tr></tbody></table></div>"
      ],
      "text/latex": [
       "\\begin{tabular}{r|cccccc}\n",
       "\t& customer\\_id & amount\\_sum & q1 & q2 & q3 & amount\\_cat\\\\\n",
       "\t\\hline\n",
       "\t& String & Int64 & Float64 & Float64 & Float64 & Int64\\\\\n",
       "\t\\hline\n",
       "\t1 & CS001113000004 & 1298 & 548.5 & 1478.0 & 3651.0 & 2 \\\\\n",
       "\t2 & CS001114000005 & 626 & 548.5 & 1478.0 & 3651.0 & 2 \\\\\n",
       "\t3 & CS001115000010 & 3044 & 548.5 & 1478.0 & 3651.0 & 3 \\\\\n",
       "\t4 & CS001205000004 & 1988 & 548.5 & 1478.0 & 3651.0 & 3 \\\\\n",
       "\t5 & CS001205000006 & 3337 & 548.5 & 1478.0 & 3651.0 & 3 \\\\\n",
       "\t6 & CS001211000025 & 456 & 548.5 & 1478.0 & 3651.0 & 1 \\\\\n",
       "\t7 & CS001212000027 & 448 & 548.5 & 1478.0 & 3651.0 & 1 \\\\\n",
       "\t8 & CS001212000031 & 296 & 548.5 & 1478.0 & 3651.0 & 1 \\\\\n",
       "\t9 & CS001212000046 & 228 & 548.5 & 1478.0 & 3651.0 & 1 \\\\\n",
       "\t10 & CS001212000070 & 456 & 548.5 & 1478.0 & 3651.0 & 1 \\\\\n",
       "\\end{tabular}\n"
      ],
      "text/plain": [
       "\u001b[1m10×6 DataFrame\u001b[0m\n",
       "\u001b[1m Row \u001b[0m│\u001b[1m customer_id    \u001b[0m\u001b[1m amount_sum \u001b[0m\u001b[1m q1      \u001b[0m\u001b[1m q2      \u001b[0m\u001b[1m q3      \u001b[0m\u001b[1m amount_cat \u001b[0m\n",
       "     │\u001b[90m String         \u001b[0m\u001b[90m Int64      \u001b[0m\u001b[90m Float64 \u001b[0m\u001b[90m Float64 \u001b[0m\u001b[90m Float64 \u001b[0m\u001b[90m Int64      \u001b[0m\n",
       "─────┼───────────────────────────────────────────────────────────────────\n",
       "   1 │ CS001113000004        1298    548.5   1478.0   3651.0           2\n",
       "   2 │ CS001114000005         626    548.5   1478.0   3651.0           2\n",
       "   3 │ CS001115000010        3044    548.5   1478.0   3651.0           3\n",
       "   4 │ CS001205000004        1988    548.5   1478.0   3651.0           3\n",
       "   5 │ CS001205000006        3337    548.5   1478.0   3651.0           3\n",
       "   6 │ CS001211000025         456    548.5   1478.0   3651.0           1\n",
       "   7 │ CS001212000027         448    548.5   1478.0   3651.0           1\n",
       "   8 │ CS001212000031         296    548.5   1478.0   3651.0           1\n",
       "   9 │ CS001212000046         228    548.5   1478.0   3651.0           1\n",
       "  10 │ CS001212000070         456    548.5   1478.0   3651.0           1"
      ]
     },
     "execution_count": 61,
     "metadata": {},
     "output_type": "execute_result"
    }
   ],
   "source": [
    "@time \\\n",
    "@chain df_receipt begin\n",
    "    groupby(:customer_id, sort=true)\n",
    "    @combine :amount_sum = sum(:amount)\n",
    "    @transform begin\n",
    "        :q1 = quantile(:amount_sum, 0.25)\n",
    "        :q2 = quantile(:amount_sum, 0.5)\n",
    "        :q3 = quantile(:amount_sum, 0.75)\n",
    "    end\n",
    "    @rtransform :amount_cat = :amount_sum < :q1 ? 1 :\n",
    "                              :amount_sum < :q2 ? 2 :\n",
    "                              :amount_sum < :q3 ? 3 : 4\n",
    "    @orderby :customer_id\n",
    "    first(10)\n",
    "end"
   ]
  },
  {
   "cell_type": "markdown",
   "metadata": {},
   "source": [
    "---\n",
    "> P-056: 顧客データ（df_customer）の年齢（age）をもとに10歳刻みで年代を算出し、顧客ID（customer_id）、生年月日（birth_day）とともに10件表示せよ。ただし、60歳以上は全て60歳代とすること。年代を表すカテゴリ名は任意とする。"
   ]
  },
  {
   "cell_type": "code",
   "execution_count": 62,
   "metadata": {},
   "outputs": [
    {
     "name": "stdout",
     "output_type": "stream",
     "text": [
      "  0.000001 seconds\n"
     ]
    },
    {
     "data": {
      "text/html": [
       "<div><div style = \"float: left;\"><span>10×3 DataFrame</span></div><div style = \"clear: both;\"></div></div><div class = \"data-frame\" style = \"overflow-x: scroll;\"><table class = \"data-frame\" style = \"margin-bottom: 6px;\"><thead><tr class = \"header\"><th class = \"rowNumber\" style = \"font-weight: bold; text-align: right;\">Row</th><th style = \"text-align: left;\">customer_id</th><th style = \"text-align: left;\">birth_day</th><th style = \"text-align: left;\">age_cat</th></tr><tr class = \"subheader headerLastRow\"><th class = \"rowNumber\" style = \"font-weight: bold; text-align: right;\"></th><th title = \"String\" style = \"text-align: left;\">String</th><th title = \"Date\" style = \"text-align: left;\">Date</th><th title = \"Int64\" style = \"text-align: left;\">Int64</th></tr></thead><tbody><tr><td class = \"rowNumber\" style = \"font-weight: bold; text-align: right;\">1</td><td style = \"text-align: left;\">CS021313000114</td><td style = \"text-align: left;\">1981-04-29</td><td style = \"text-align: right;\">30</td></tr><tr><td class = \"rowNumber\" style = \"font-weight: bold; text-align: right;\">2</td><td style = \"text-align: left;\">CS037613000071</td><td style = \"text-align: left;\">1952-04-01</td><td style = \"text-align: right;\">60</td></tr><tr><td class = \"rowNumber\" style = \"font-weight: bold; text-align: right;\">3</td><td style = \"text-align: left;\">CS031415000172</td><td style = \"text-align: left;\">1976-10-04</td><td style = \"text-align: right;\">40</td></tr><tr><td class = \"rowNumber\" style = \"font-weight: bold; text-align: right;\">4</td><td style = \"text-align: left;\">CS028811000001</td><td style = \"text-align: left;\">1933-03-27</td><td style = \"text-align: right;\">60</td></tr><tr><td class = \"rowNumber\" style = \"font-weight: bold; text-align: right;\">5</td><td style = \"text-align: left;\">CS001215000145</td><td style = \"text-align: left;\">1995-03-29</td><td style = \"text-align: right;\">20</td></tr><tr><td class = \"rowNumber\" style = \"font-weight: bold; text-align: right;\">6</td><td style = \"text-align: left;\">CS020401000016</td><td style = \"text-align: left;\">1974-09-15</td><td style = \"text-align: right;\">40</td></tr><tr><td class = \"rowNumber\" style = \"font-weight: bold; text-align: right;\">7</td><td style = \"text-align: left;\">CS015414000103</td><td style = \"text-align: left;\">1977-08-09</td><td style = \"text-align: right;\">40</td></tr><tr><td class = \"rowNumber\" style = \"font-weight: bold; text-align: right;\">8</td><td style = \"text-align: left;\">CS029403000008</td><td style = \"text-align: left;\">1973-08-17</td><td style = \"text-align: right;\">40</td></tr><tr><td class = \"rowNumber\" style = \"font-weight: bold; text-align: right;\">9</td><td style = \"text-align: left;\">CS015804000004</td><td style = \"text-align: left;\">1931-05-02</td><td style = \"text-align: right;\">60</td></tr><tr><td class = \"rowNumber\" style = \"font-weight: bold; text-align: right;\">10</td><td style = \"text-align: left;\">CS033513000180</td><td style = \"text-align: left;\">1962-07-11</td><td style = \"text-align: right;\">50</td></tr></tbody></table></div>"
      ],
      "text/latex": [
       "\\begin{tabular}{r|ccc}\n",
       "\t& customer\\_id & birth\\_day & age\\_cat\\\\\n",
       "\t\\hline\n",
       "\t& String & Date & Int64\\\\\n",
       "\t\\hline\n",
       "\t1 & CS021313000114 & 1981-04-29 & 30 \\\\\n",
       "\t2 & CS037613000071 & 1952-04-01 & 60 \\\\\n",
       "\t3 & CS031415000172 & 1976-10-04 & 40 \\\\\n",
       "\t4 & CS028811000001 & 1933-03-27 & 60 \\\\\n",
       "\t5 & CS001215000145 & 1995-03-29 & 20 \\\\\n",
       "\t6 & CS020401000016 & 1974-09-15 & 40 \\\\\n",
       "\t7 & CS015414000103 & 1977-08-09 & 40 \\\\\n",
       "\t8 & CS029403000008 & 1973-08-17 & 40 \\\\\n",
       "\t9 & CS015804000004 & 1931-05-02 & 60 \\\\\n",
       "\t10 & CS033513000180 & 1962-07-11 & 50 \\\\\n",
       "\\end{tabular}\n"
      ],
      "text/plain": [
       "\u001b[1m10×3 DataFrame\u001b[0m\n",
       "\u001b[1m Row \u001b[0m│\u001b[1m customer_id    \u001b[0m\u001b[1m birth_day  \u001b[0m\u001b[1m age_cat \u001b[0m\n",
       "     │\u001b[90m String         \u001b[0m\u001b[90m Date       \u001b[0m\u001b[90m Int64   \u001b[0m\n",
       "─────┼─────────────────────────────────────\n",
       "   1 │ CS021313000114  1981-04-29       30\n",
       "   2 │ CS037613000071  1952-04-01       60\n",
       "   3 │ CS031415000172  1976-10-04       40\n",
       "   4 │ CS028811000001  1933-03-27       60\n",
       "   5 │ CS001215000145  1995-03-29       20\n",
       "   6 │ CS020401000016  1974-09-15       40\n",
       "   7 │ CS015414000103  1977-08-09       40\n",
       "   8 │ CS029403000008  1973-08-17       40\n",
       "   9 │ CS015804000004  1931-05-02       60\n",
       "  10 │ CS033513000180  1962-07-11       50"
      ]
     },
     "execution_count": 62,
     "metadata": {},
     "output_type": "execute_result"
    }
   ],
   "source": [
    "@time \\\n",
    " @chain df_customer begin\n",
    "    @rtransform :age_cat = ifelse(:age >= 60, 60, floor(Int, :age / 10) * 10)\n",
    "    @select :customer_id :birth_day :age_cat\n",
    "    first(10)\n",
    "end"
   ]
  },
  {
   "cell_type": "markdown",
   "metadata": {},
   "source": [
    "---\n",
    "> P-057: 056の抽出結果と性別コード（gender_cd）により、新たに性別×年代の組み合わせを表すカテゴリデータを作成し、10件表示せよ。組み合わせを表すカテゴリの値は任意とする。"
   ]
  },
  {
   "cell_type": "code",
   "execution_count": 63,
   "metadata": {},
   "outputs": [
    {
     "name": "stdout",
     "output_type": "stream",
     "text": [
      "  0.000001 seconds\n"
     ]
    },
    {
     "data": {
      "text/html": [
       "<div><div style = \"float: left;\"><span>10×5 DataFrame</span></div><div style = \"clear: both;\"></div></div><div class = \"data-frame\" style = \"overflow-x: scroll;\"><table class = \"data-frame\" style = \"margin-bottom: 6px;\"><thead><tr class = \"header\"><th class = \"rowNumber\" style = \"font-weight: bold; text-align: right;\">Row</th><th style = \"text-align: left;\">customer_id</th><th style = \"text-align: left;\">birth_day</th><th style = \"text-align: left;\">age_cat</th><th style = \"text-align: left;\">gender_cd</th><th style = \"text-align: left;\">gender_age_cat</th></tr><tr class = \"subheader headerLastRow\"><th class = \"rowNumber\" style = \"font-weight: bold; text-align: right;\"></th><th title = \"String\" style = \"text-align: left;\">String</th><th title = \"Date\" style = \"text-align: left;\">Date</th><th title = \"Int64\" style = \"text-align: left;\">Int64</th><th title = \"String\" style = \"text-align: left;\">String</th><th title = \"String\" style = \"text-align: left;\">String</th></tr></thead><tbody><tr><td class = \"rowNumber\" style = \"font-weight: bold; text-align: right;\">1</td><td style = \"text-align: left;\">CS021313000114</td><td style = \"text-align: left;\">1981-04-29</td><td style = \"text-align: right;\">30</td><td style = \"text-align: left;\">1</td><td style = \"text-align: left;\">Female: 30s</td></tr><tr><td class = \"rowNumber\" style = \"font-weight: bold; text-align: right;\">2</td><td style = \"text-align: left;\">CS037613000071</td><td style = \"text-align: left;\">1952-04-01</td><td style = \"text-align: right;\">60</td><td style = \"text-align: left;\">9</td><td style = \"text-align: left;\">Unknown: &gt;=60s</td></tr><tr><td class = \"rowNumber\" style = \"font-weight: bold; text-align: right;\">3</td><td style = \"text-align: left;\">CS031415000172</td><td style = \"text-align: left;\">1976-10-04</td><td style = \"text-align: right;\">40</td><td style = \"text-align: left;\">1</td><td style = \"text-align: left;\">Female: 40s</td></tr><tr><td class = \"rowNumber\" style = \"font-weight: bold; text-align: right;\">4</td><td style = \"text-align: left;\">CS028811000001</td><td style = \"text-align: left;\">1933-03-27</td><td style = \"text-align: right;\">60</td><td style = \"text-align: left;\">1</td><td style = \"text-align: left;\">Female: &gt;=60s</td></tr><tr><td class = \"rowNumber\" style = \"font-weight: bold; text-align: right;\">5</td><td style = \"text-align: left;\">CS001215000145</td><td style = \"text-align: left;\">1995-03-29</td><td style = \"text-align: right;\">20</td><td style = \"text-align: left;\">1</td><td style = \"text-align: left;\">Female: 20s</td></tr><tr><td class = \"rowNumber\" style = \"font-weight: bold; text-align: right;\">6</td><td style = \"text-align: left;\">CS020401000016</td><td style = \"text-align: left;\">1974-09-15</td><td style = \"text-align: right;\">40</td><td style = \"text-align: left;\">0</td><td style = \"text-align: left;\">Male: 40s</td></tr><tr><td class = \"rowNumber\" style = \"font-weight: bold; text-align: right;\">7</td><td style = \"text-align: left;\">CS015414000103</td><td style = \"text-align: left;\">1977-08-09</td><td style = \"text-align: right;\">40</td><td style = \"text-align: left;\">1</td><td style = \"text-align: left;\">Female: 40s</td></tr><tr><td class = \"rowNumber\" style = \"font-weight: bold; text-align: right;\">8</td><td style = \"text-align: left;\">CS029403000008</td><td style = \"text-align: left;\">1973-08-17</td><td style = \"text-align: right;\">40</td><td style = \"text-align: left;\">0</td><td style = \"text-align: left;\">Male: 40s</td></tr><tr><td class = \"rowNumber\" style = \"font-weight: bold; text-align: right;\">9</td><td style = \"text-align: left;\">CS015804000004</td><td style = \"text-align: left;\">1931-05-02</td><td style = \"text-align: right;\">60</td><td style = \"text-align: left;\">0</td><td style = \"text-align: left;\">Male: &gt;=60s</td></tr><tr><td class = \"rowNumber\" style = \"font-weight: bold; text-align: right;\">10</td><td style = \"text-align: left;\">CS033513000180</td><td style = \"text-align: left;\">1962-07-11</td><td style = \"text-align: right;\">50</td><td style = \"text-align: left;\">1</td><td style = \"text-align: left;\">Female: 50s</td></tr></tbody></table></div>"
      ],
      "text/latex": [
       "\\begin{tabular}{r|ccccc}\n",
       "\t& customer\\_id & birth\\_day & age\\_cat & gender\\_cd & gender\\_age\\_cat\\\\\n",
       "\t\\hline\n",
       "\t& String & Date & Int64 & String & String\\\\\n",
       "\t\\hline\n",
       "\t1 & CS021313000114 & 1981-04-29 & 30 & 1 & Female: 30s \\\\\n",
       "\t2 & CS037613000071 & 1952-04-01 & 60 & 9 & Unknown: >=60s \\\\\n",
       "\t3 & CS031415000172 & 1976-10-04 & 40 & 1 & Female: 40s \\\\\n",
       "\t4 & CS028811000001 & 1933-03-27 & 60 & 1 & Female: >=60s \\\\\n",
       "\t5 & CS001215000145 & 1995-03-29 & 20 & 1 & Female: 20s \\\\\n",
       "\t6 & CS020401000016 & 1974-09-15 & 40 & 0 & Male: 40s \\\\\n",
       "\t7 & CS015414000103 & 1977-08-09 & 40 & 1 & Female: 40s \\\\\n",
       "\t8 & CS029403000008 & 1973-08-17 & 40 & 0 & Male: 40s \\\\\n",
       "\t9 & CS015804000004 & 1931-05-02 & 60 & 0 & Male: >=60s \\\\\n",
       "\t10 & CS033513000180 & 1962-07-11 & 50 & 1 & Female: 50s \\\\\n",
       "\\end{tabular}\n"
      ],
      "text/plain": [
       "\u001b[1m10×5 DataFrame\u001b[0m\n",
       "\u001b[1m Row \u001b[0m│\u001b[1m customer_id    \u001b[0m\u001b[1m birth_day  \u001b[0m\u001b[1m age_cat \u001b[0m\u001b[1m gender_cd \u001b[0m\u001b[1m gender_age_cat \u001b[0m\n",
       "     │\u001b[90m String         \u001b[0m\u001b[90m Date       \u001b[0m\u001b[90m Int64   \u001b[0m\u001b[90m String    \u001b[0m\u001b[90m String         \u001b[0m\n",
       "─────┼────────────────────────────────────────────────────────────────\n",
       "   1 │ CS021313000114  1981-04-29       30  1          Female: 30s\n",
       "   2 │ CS037613000071  1952-04-01       60  9          Unknown: >=60s\n",
       "   3 │ CS031415000172  1976-10-04       40  1          Female: 40s\n",
       "   4 │ CS028811000001  1933-03-27       60  1          Female: >=60s\n",
       "   5 │ CS001215000145  1995-03-29       20  1          Female: 20s\n",
       "   6 │ CS020401000016  1974-09-15       40  0          Male: 40s\n",
       "   7 │ CS015414000103  1977-08-09       40  1          Female: 40s\n",
       "   8 │ CS029403000008  1973-08-17       40  0          Male: 40s\n",
       "   9 │ CS015804000004  1931-05-02       60  0          Male: >=60s\n",
       "  10 │ CS033513000180  1962-07-11       50  1          Female: 50s"
      ]
     },
     "execution_count": 63,
     "metadata": {},
     "output_type": "execute_result"
    }
   ],
   "source": [
    "function format_gender_agecat(gender, agecat)\n",
    "    g = format_gender(gender) |> titlecase\n",
    "    a = ifelse(agecat == 60, \">=\", \"\") * string(agecat)\n",
    "    \"$(g): $(a)s\"\n",
    "end\n",
    "\n",
    "@time \\\n",
    " @chain df_customer begin\n",
    "    @rtransform @astable begin\n",
    "        :age_cat = ifelse(:age >= 60, 60, floor(Int, :age / 10) * 10)\n",
    "        :gender_age_cat = format_gender_agecat(:gender_cd, :age_cat)\n",
    "    end\n",
    "    @select :customer_id :birth_day :age_cat :gender_cd :gender_age_cat\n",
    "    first(10)\n",
    "end"
   ]
  },
  {
   "cell_type": "markdown",
   "metadata": {},
   "source": [
    "---\n",
    "> P-058: 顧客データ（df_customer）の性別コード（gender_cd）をダミー変数化し、顧客ID（customer_id）とともに10件表示せよ。"
   ]
  },
  {
   "cell_type": "code",
   "execution_count": 64,
   "metadata": {},
   "outputs": [
    {
     "name": "stdout",
     "output_type": "stream",
     "text": [
      "  0.000001 seconds\n"
     ]
    },
    {
     "data": {
      "text/html": [
       "<div><div style = \"float: left;\"><span>10×5 DataFrame</span></div><div style = \"clear: both;\"></div></div><div class = \"data-frame\" style = \"overflow-x: scroll;\"><table class = \"data-frame\" style = \"margin-bottom: 6px;\"><thead><tr class = \"header\"><th class = \"rowNumber\" style = \"font-weight: bold; text-align: right;\">Row</th><th style = \"text-align: left;\">customer_id</th><th style = \"text-align: left;\">gender_cd</th><th style = \"text-align: left;\">gender_cd_0</th><th style = \"text-align: left;\">gender_cd_1</th><th style = \"text-align: left;\">gender_cd_9</th></tr><tr class = \"subheader headerLastRow\"><th class = \"rowNumber\" style = \"font-weight: bold; text-align: right;\"></th><th title = \"String\" style = \"text-align: left;\">String</th><th title = \"String\" style = \"text-align: left;\">String</th><th title = \"Int64\" style = \"text-align: left;\">Int64</th><th title = \"Int64\" style = \"text-align: left;\">Int64</th><th title = \"Int64\" style = \"text-align: left;\">Int64</th></tr></thead><tbody><tr><td class = \"rowNumber\" style = \"font-weight: bold; text-align: right;\">1</td><td style = \"text-align: left;\">CS021313000114</td><td style = \"text-align: left;\">1</td><td style = \"text-align: right;\">0</td><td style = \"text-align: right;\">1</td><td style = \"text-align: right;\">0</td></tr><tr><td class = \"rowNumber\" style = \"font-weight: bold; text-align: right;\">2</td><td style = \"text-align: left;\">CS037613000071</td><td style = \"text-align: left;\">9</td><td style = \"text-align: right;\">0</td><td style = \"text-align: right;\">0</td><td style = \"text-align: right;\">1</td></tr><tr><td class = \"rowNumber\" style = \"font-weight: bold; text-align: right;\">3</td><td style = \"text-align: left;\">CS031415000172</td><td style = \"text-align: left;\">1</td><td style = \"text-align: right;\">0</td><td style = \"text-align: right;\">1</td><td style = \"text-align: right;\">0</td></tr><tr><td class = \"rowNumber\" style = \"font-weight: bold; text-align: right;\">4</td><td style = \"text-align: left;\">CS028811000001</td><td style = \"text-align: left;\">1</td><td style = \"text-align: right;\">0</td><td style = \"text-align: right;\">1</td><td style = \"text-align: right;\">0</td></tr><tr><td class = \"rowNumber\" style = \"font-weight: bold; text-align: right;\">5</td><td style = \"text-align: left;\">CS001215000145</td><td style = \"text-align: left;\">1</td><td style = \"text-align: right;\">0</td><td style = \"text-align: right;\">1</td><td style = \"text-align: right;\">0</td></tr><tr><td class = \"rowNumber\" style = \"font-weight: bold; text-align: right;\">6</td><td style = \"text-align: left;\">CS020401000016</td><td style = \"text-align: left;\">0</td><td style = \"text-align: right;\">1</td><td style = \"text-align: right;\">0</td><td style = \"text-align: right;\">0</td></tr><tr><td class = \"rowNumber\" style = \"font-weight: bold; text-align: right;\">7</td><td style = \"text-align: left;\">CS015414000103</td><td style = \"text-align: left;\">1</td><td style = \"text-align: right;\">0</td><td style = \"text-align: right;\">1</td><td style = \"text-align: right;\">0</td></tr><tr><td class = \"rowNumber\" style = \"font-weight: bold; text-align: right;\">8</td><td style = \"text-align: left;\">CS029403000008</td><td style = \"text-align: left;\">0</td><td style = \"text-align: right;\">1</td><td style = \"text-align: right;\">0</td><td style = \"text-align: right;\">0</td></tr><tr><td class = \"rowNumber\" style = \"font-weight: bold; text-align: right;\">9</td><td style = \"text-align: left;\">CS015804000004</td><td style = \"text-align: left;\">0</td><td style = \"text-align: right;\">1</td><td style = \"text-align: right;\">0</td><td style = \"text-align: right;\">0</td></tr><tr><td class = \"rowNumber\" style = \"font-weight: bold; text-align: right;\">10</td><td style = \"text-align: left;\">CS033513000180</td><td style = \"text-align: left;\">1</td><td style = \"text-align: right;\">0</td><td style = \"text-align: right;\">1</td><td style = \"text-align: right;\">0</td></tr></tbody></table></div>"
      ],
      "text/latex": [
       "\\begin{tabular}{r|ccccc}\n",
       "\t& customer\\_id & gender\\_cd & gender\\_cd\\_0 & gender\\_cd\\_1 & gender\\_cd\\_9\\\\\n",
       "\t\\hline\n",
       "\t& String & String & Int64 & Int64 & Int64\\\\\n",
       "\t\\hline\n",
       "\t1 & CS021313000114 & 1 & 0 & 1 & 0 \\\\\n",
       "\t2 & CS037613000071 & 9 & 0 & 0 & 1 \\\\\n",
       "\t3 & CS031415000172 & 1 & 0 & 1 & 0 \\\\\n",
       "\t4 & CS028811000001 & 1 & 0 & 1 & 0 \\\\\n",
       "\t5 & CS001215000145 & 1 & 0 & 1 & 0 \\\\\n",
       "\t6 & CS020401000016 & 0 & 1 & 0 & 0 \\\\\n",
       "\t7 & CS015414000103 & 1 & 0 & 1 & 0 \\\\\n",
       "\t8 & CS029403000008 & 0 & 1 & 0 & 0 \\\\\n",
       "\t9 & CS015804000004 & 0 & 1 & 0 & 0 \\\\\n",
       "\t10 & CS033513000180 & 1 & 0 & 1 & 0 \\\\\n",
       "\\end{tabular}\n"
      ],
      "text/plain": [
       "\u001b[1m10×5 DataFrame\u001b[0m\n",
       "\u001b[1m Row \u001b[0m│\u001b[1m customer_id    \u001b[0m\u001b[1m gender_cd \u001b[0m\u001b[1m gender_cd_0 \u001b[0m\u001b[1m gender_cd_1 \u001b[0m\u001b[1m gender_cd_9 \u001b[0m\n",
       "     │\u001b[90m String         \u001b[0m\u001b[90m String    \u001b[0m\u001b[90m Int64       \u001b[0m\u001b[90m Int64       \u001b[0m\u001b[90m Int64       \u001b[0m\n",
       "─────┼──────────────────────────────────────────────────────────────────\n",
       "   1 │ CS021313000114  1                    0            1            0\n",
       "   2 │ CS037613000071  9                    0            0            1\n",
       "   3 │ CS031415000172  1                    0            1            0\n",
       "   4 │ CS028811000001  1                    0            1            0\n",
       "   5 │ CS001215000145  1                    0            1            0\n",
       "   6 │ CS020401000016  0                    1            0            0\n",
       "   7 │ CS015414000103  1                    0            1            0\n",
       "   8 │ CS029403000008  0                    1            0            0\n",
       "   9 │ CS015804000004  0                    1            0            0\n",
       "  10 │ CS033513000180  1                    0            1            0"
      ]
     },
     "execution_count": 64,
     "metadata": {},
     "output_type": "execute_result"
    }
   ],
   "source": [
    "# !!!\n",
    "@time \\\n",
    "@chain df_customer begin\n",
    "    @select :customer_id :gender_cd\n",
    "    @rtransform begin\n",
    "        :gender_cd_0 = ifelse(:gender_cd == \"0\", 1, 0)\n",
    "        :gender_cd_1 = ifelse(:gender_cd == \"1\", 1, 0)\n",
    "        :gender_cd_9 = ifelse(:gender_cd == \"9\", 1, 0)\n",
    "    end\n",
    "    first(10)\n",
    "end"
   ]
  },
  {
   "cell_type": "markdown",
   "metadata": {},
   "source": [
    "---\n",
    "> P-059: レシート明細データ（df_receipt）の売上金額（amount）を顧客ID（customer_id）ごとに合計し、売上金額合計を平均0、標準偏差1に標準化して顧客ID、売上金額合計とともに10件表示せよ。標準化に使用する標準偏差は、分散の平方根、もしくは不偏分散の平方根のどちらでも良いものとする。ただし、顧客IDが\"Z\"から始まるのものは非会員を表すため、除外して計算すること。"
   ]
  },
  {
   "cell_type": "code",
   "execution_count": 65,
   "metadata": {},
   "outputs": [
    {
     "name": "stdout",
     "output_type": "stream",
     "text": [
      "  0.000005 seconds\n"
     ]
    },
    {
     "data": {
      "text/html": [
       "<div><div style = \"float: left;\"><span>10×3 DataFrame</span></div><div style = \"clear: both;\"></div></div><div class = \"data-frame\" style = \"overflow-x: scroll;\"><table class = \"data-frame\" style = \"margin-bottom: 6px;\"><thead><tr class = \"header\"><th class = \"rowNumber\" style = \"font-weight: bold; text-align: right;\">Row</th><th style = \"text-align: left;\">customer_id</th><th style = \"text-align: left;\">amount_sum</th><th style = \"text-align: left;\">amount_sum_std</th></tr><tr class = \"subheader headerLastRow\"><th class = \"rowNumber\" style = \"font-weight: bold; text-align: right;\"></th><th title = \"String\" style = \"text-align: left;\">String</th><th title = \"Int64\" style = \"text-align: left;\">Int64</th><th title = \"Float64\" style = \"text-align: left;\">Float64</th></tr></thead><tbody><tr><td class = \"rowNumber\" style = \"font-weight: bold; text-align: right;\">1</td><td style = \"text-align: left;\">CS001113000004</td><td style = \"text-align: right;\">1298</td><td style = \"text-align: right;\">-0.45935</td></tr><tr><td class = \"rowNumber\" style = \"font-weight: bold; text-align: right;\">2</td><td style = \"text-align: left;\">CS001114000005</td><td style = \"text-align: right;\">626</td><td style = \"text-align: right;\">-0.706348</td></tr><tr><td class = \"rowNumber\" style = \"font-weight: bold; text-align: right;\">3</td><td style = \"text-align: left;\">CS001115000010</td><td style = \"text-align: right;\">3044</td><td style = \"text-align: right;\">0.182403</td></tr><tr><td class = \"rowNumber\" style = \"font-weight: bold; text-align: right;\">4</td><td style = \"text-align: left;\">CS001205000004</td><td style = \"text-align: right;\">1988</td><td style = \"text-align: right;\">-0.205737</td></tr><tr><td class = \"rowNumber\" style = \"font-weight: bold; text-align: right;\">5</td><td style = \"text-align: left;\">CS001205000006</td><td style = \"text-align: right;\">3337</td><td style = \"text-align: right;\">0.290096</td></tr><tr><td class = \"rowNumber\" style = \"font-weight: bold; text-align: right;\">6</td><td style = \"text-align: left;\">CS001211000025</td><td style = \"text-align: right;\">456</td><td style = \"text-align: right;\">-0.768832</td></tr><tr><td class = \"rowNumber\" style = \"font-weight: bold; text-align: right;\">7</td><td style = \"text-align: left;\">CS001212000027</td><td style = \"text-align: right;\">448</td><td style = \"text-align: right;\">-0.771773</td></tr><tr><td class = \"rowNumber\" style = \"font-weight: bold; text-align: right;\">8</td><td style = \"text-align: left;\">CS001212000031</td><td style = \"text-align: right;\">296</td><td style = \"text-align: right;\">-0.827641</td></tr><tr><td class = \"rowNumber\" style = \"font-weight: bold; text-align: right;\">9</td><td style = \"text-align: left;\">CS001212000046</td><td style = \"text-align: right;\">228</td><td style = \"text-align: right;\">-0.852635</td></tr><tr><td class = \"rowNumber\" style = \"font-weight: bold; text-align: right;\">10</td><td style = \"text-align: left;\">CS001212000070</td><td style = \"text-align: right;\">456</td><td style = \"text-align: right;\">-0.768832</td></tr></tbody></table></div>"
      ],
      "text/latex": [
       "\\begin{tabular}{r|ccc}\n",
       "\t& customer\\_id & amount\\_sum & amount\\_sum\\_std\\\\\n",
       "\t\\hline\n",
       "\t& String & Int64 & Float64\\\\\n",
       "\t\\hline\n",
       "\t1 & CS001113000004 & 1298 & -0.45935 \\\\\n",
       "\t2 & CS001114000005 & 626 & -0.706348 \\\\\n",
       "\t3 & CS001115000010 & 3044 & 0.182403 \\\\\n",
       "\t4 & CS001205000004 & 1988 & -0.205737 \\\\\n",
       "\t5 & CS001205000006 & 3337 & 0.290096 \\\\\n",
       "\t6 & CS001211000025 & 456 & -0.768832 \\\\\n",
       "\t7 & CS001212000027 & 448 & -0.771773 \\\\\n",
       "\t8 & CS001212000031 & 296 & -0.827641 \\\\\n",
       "\t9 & CS001212000046 & 228 & -0.852635 \\\\\n",
       "\t10 & CS001212000070 & 456 & -0.768832 \\\\\n",
       "\\end{tabular}\n"
      ],
      "text/plain": [
       "\u001b[1m10×3 DataFrame\u001b[0m\n",
       "\u001b[1m Row \u001b[0m│\u001b[1m customer_id    \u001b[0m\u001b[1m amount_sum \u001b[0m\u001b[1m amount_sum_std \u001b[0m\n",
       "     │\u001b[90m String         \u001b[0m\u001b[90m Int64      \u001b[0m\u001b[90m Float64        \u001b[0m\n",
       "─────┼────────────────────────────────────────────\n",
       "   1 │ CS001113000004        1298       -0.45935\n",
       "   2 │ CS001114000005         626       -0.706348\n",
       "   3 │ CS001115000010        3044        0.182403\n",
       "   4 │ CS001205000004        1988       -0.205737\n",
       "   5 │ CS001205000006        3337        0.290096\n",
       "   6 │ CS001211000025         456       -0.768832\n",
       "   7 │ CS001212000027         448       -0.771773\n",
       "   8 │ CS001212000031         296       -0.827641\n",
       "   9 │ CS001212000046         228       -0.852635\n",
       "  10 │ CS001212000070         456       -0.768832"
      ]
     },
     "execution_count": 65,
     "metadata": {},
     "output_type": "execute_result"
    }
   ],
   "source": [
    "@time \\\n",
    "@chain df_receipt begin\n",
    "    @rsubset !startswith(:customer_id, \"Z\")\n",
    "    groupby(:customer_id, sort=true)\n",
    "    @combine :amount_sum = sum(:amount)\n",
    "    @transform :amount_sum_std = zscore(:amount_sum, mean(:amount_sum), std(:amount_sum))\n",
    "    first(10)\n",
    "end"
   ]
  },
  {
   "cell_type": "markdown",
   "metadata": {},
   "source": [
    "---\n",
    "> P-060: レシート明細データ（df_receipt）の売上金額（amount）を顧客ID（customer_id）ごとに合計し、売上金額合計を最小値0、最大値1に正規化して顧客ID、売上金額合計とともに10件表示せよ。ただし、顧客IDが\"Z\"から始まるのものは非会員を表すため、除外して計算すること。"
   ]
  },
  {
   "cell_type": "code",
   "execution_count": 66,
   "metadata": {},
   "outputs": [
    {
     "name": "stdout",
     "output_type": "stream",
     "text": [
      "  0.000006 seconds\n"
     ]
    },
    {
     "data": {
      "text/html": [
       "<div><div style = \"float: left;\"><span>10×3 DataFrame</span></div><div style = \"clear: both;\"></div></div><div class = \"data-frame\" style = \"overflow-x: scroll;\"><table class = \"data-frame\" style = \"margin-bottom: 6px;\"><thead><tr class = \"header\"><th class = \"rowNumber\" style = \"font-weight: bold; text-align: right;\">Row</th><th style = \"text-align: left;\">customer_id</th><th style = \"text-align: left;\">amount_sum</th><th style = \"text-align: left;\">amount_sum_converted</th></tr><tr class = \"subheader headerLastRow\"><th class = \"rowNumber\" style = \"font-weight: bold; text-align: right;\"></th><th title = \"String\" style = \"text-align: left;\">String</th><th title = \"Int64\" style = \"text-align: left;\">Int64</th><th title = \"Float64\" style = \"text-align: left;\">Float64</th></tr></thead><tbody><tr><td class = \"rowNumber\" style = \"font-weight: bold; text-align: right;\">1</td><td style = \"text-align: left;\">CS001113000004</td><td style = \"text-align: right;\">1298</td><td style = \"text-align: right;\">0.0533542</td></tr><tr><td class = \"rowNumber\" style = \"font-weight: bold; text-align: right;\">2</td><td style = \"text-align: left;\">CS001114000005</td><td style = \"text-align: right;\">626</td><td style = \"text-align: right;\">0.0241571</td></tr><tr><td class = \"rowNumber\" style = \"font-weight: bold; text-align: right;\">3</td><td style = \"text-align: left;\">CS001115000010</td><td style = \"text-align: right;\">3044</td><td style = \"text-align: right;\">0.129214</td></tr><tr><td class = \"rowNumber\" style = \"font-weight: bold; text-align: right;\">4</td><td style = \"text-align: left;\">CS001205000004</td><td style = \"text-align: right;\">1988</td><td style = \"text-align: right;\">0.0833333</td></tr><tr><td class = \"rowNumber\" style = \"font-weight: bold; text-align: right;\">5</td><td style = \"text-align: left;\">CS001205000006</td><td style = \"text-align: right;\">3337</td><td style = \"text-align: right;\">0.141945</td></tr><tr><td class = \"rowNumber\" style = \"font-weight: bold; text-align: right;\">6</td><td style = \"text-align: left;\">CS001211000025</td><td style = \"text-align: right;\">456</td><td style = \"text-align: right;\">0.0167709</td></tr><tr><td class = \"rowNumber\" style = \"font-weight: bold; text-align: right;\">7</td><td style = \"text-align: left;\">CS001212000027</td><td style = \"text-align: right;\">448</td><td style = \"text-align: right;\">0.0164234</td></tr><tr><td class = \"rowNumber\" style = \"font-weight: bold; text-align: right;\">8</td><td style = \"text-align: left;\">CS001212000031</td><td style = \"text-align: right;\">296</td><td style = \"text-align: right;\">0.00981926</td></tr><tr><td class = \"rowNumber\" style = \"font-weight: bold; text-align: right;\">9</td><td style = \"text-align: left;\">CS001212000046</td><td style = \"text-align: right;\">228</td><td style = \"text-align: right;\">0.00686479</td></tr><tr><td class = \"rowNumber\" style = \"font-weight: bold; text-align: right;\">10</td><td style = \"text-align: left;\">CS001212000070</td><td style = \"text-align: right;\">456</td><td style = \"text-align: right;\">0.0167709</td></tr></tbody></table></div>"
      ],
      "text/latex": [
       "\\begin{tabular}{r|ccc}\n",
       "\t& customer\\_id & amount\\_sum & amount\\_sum\\_converted\\\\\n",
       "\t\\hline\n",
       "\t& String & Int64 & Float64\\\\\n",
       "\t\\hline\n",
       "\t1 & CS001113000004 & 1298 & 0.0533542 \\\\\n",
       "\t2 & CS001114000005 & 626 & 0.0241571 \\\\\n",
       "\t3 & CS001115000010 & 3044 & 0.129214 \\\\\n",
       "\t4 & CS001205000004 & 1988 & 0.0833333 \\\\\n",
       "\t5 & CS001205000006 & 3337 & 0.141945 \\\\\n",
       "\t6 & CS001211000025 & 456 & 0.0167709 \\\\\n",
       "\t7 & CS001212000027 & 448 & 0.0164234 \\\\\n",
       "\t8 & CS001212000031 & 296 & 0.00981926 \\\\\n",
       "\t9 & CS001212000046 & 228 & 0.00686479 \\\\\n",
       "\t10 & CS001212000070 & 456 & 0.0167709 \\\\\n",
       "\\end{tabular}\n"
      ],
      "text/plain": [
       "\u001b[1m10×3 DataFrame\u001b[0m\n",
       "\u001b[1m Row \u001b[0m│\u001b[1m customer_id    \u001b[0m\u001b[1m amount_sum \u001b[0m\u001b[1m amount_sum_converted \u001b[0m\n",
       "     │\u001b[90m String         \u001b[0m\u001b[90m Int64      \u001b[0m\u001b[90m Float64              \u001b[0m\n",
       "─────┼──────────────────────────────────────────────────\n",
       "   1 │ CS001113000004        1298            0.0533542\n",
       "   2 │ CS001114000005         626            0.0241571\n",
       "   3 │ CS001115000010        3044            0.129214\n",
       "   4 │ CS001205000004        1988            0.0833333\n",
       "   5 │ CS001205000006        3337            0.141945\n",
       "   6 │ CS001211000025         456            0.0167709\n",
       "   7 │ CS001212000027         448            0.0164234\n",
       "   8 │ CS001212000031         296            0.00981926\n",
       "   9 │ CS001212000046         228            0.00686479\n",
       "  10 │ CS001212000070         456            0.0167709"
      ]
     },
     "execution_count": 66,
     "metadata": {},
     "output_type": "execute_result"
    }
   ],
   "source": [
    "function min_max_normalize(x)\n",
    "    min_x = minimum(x)\n",
    "    max_x = maximum(x)\n",
    "    @. (x - min_x) / (max_x - min_x)\n",
    "end\n",
    "\n",
    "@time \\\n",
    "@chain df_receipt begin\n",
    "    @rsubset !startswith(:customer_id, \"Z\")\n",
    "    groupby(:customer_id, sort=true)\n",
    "    @combine :amount_sum = sum(:amount)\n",
    "    @transform :amount_sum_converted = min_max_normalize(:amount_sum)\n",
    "    @select :customer_id :amount_sum :amount_sum_converted\n",
    "    first(10)\n",
    "end"
   ]
  },
  {
   "cell_type": "markdown",
   "metadata": {},
   "source": [
    "---\n",
    "> P-061: レシート明細データ（df_receipt）の売上金額（amount）を顧客ID（customer_id）ごとに合計し、売上金額合計を常用対数化（底10）して顧客ID、売上金額合計とともに10件表示せよ。ただし、顧客IDが\"Z\"から始まるのものは非会員を表すため、除外して計算すること。"
   ]
  },
  {
   "cell_type": "code",
   "execution_count": 67,
   "metadata": {},
   "outputs": [
    {
     "name": "stdout",
     "output_type": "stream",
     "text": [
      "  0.000001 seconds\n"
     ]
    },
    {
     "data": {
      "text/html": [
       "<div><div style = \"float: left;\"><span>10×2 DataFrame</span></div><div style = \"clear: both;\"></div></div><div class = \"data-frame\" style = \"overflow-x: scroll;\"><table class = \"data-frame\" style = \"margin-bottom: 6px;\"><thead><tr class = \"header\"><th class = \"rowNumber\" style = \"font-weight: bold; text-align: right;\">Row</th><th style = \"text-align: left;\">customer_id</th><th style = \"text-align: left;\">amount_sum_log</th></tr><tr class = \"subheader headerLastRow\"><th class = \"rowNumber\" style = \"font-weight: bold; text-align: right;\"></th><th title = \"String\" style = \"text-align: left;\">String</th><th title = \"Float64\" style = \"text-align: left;\">Float64</th></tr></thead><tbody><tr><td class = \"rowNumber\" style = \"font-weight: bold; text-align: right;\">1</td><td style = \"text-align: left;\">CS001113000004</td><td style = \"text-align: right;\">3.11327</td></tr><tr><td class = \"rowNumber\" style = \"font-weight: bold; text-align: right;\">2</td><td style = \"text-align: left;\">CS001114000005</td><td style = \"text-align: right;\">2.79657</td></tr><tr><td class = \"rowNumber\" style = \"font-weight: bold; text-align: right;\">3</td><td style = \"text-align: left;\">CS001115000010</td><td style = \"text-align: right;\">3.48344</td></tr><tr><td class = \"rowNumber\" style = \"font-weight: bold; text-align: right;\">4</td><td style = \"text-align: left;\">CS001205000004</td><td style = \"text-align: right;\">3.29842</td></tr><tr><td class = \"rowNumber\" style = \"font-weight: bold; text-align: right;\">5</td><td style = \"text-align: left;\">CS001205000006</td><td style = \"text-align: right;\">3.52336</td></tr><tr><td class = \"rowNumber\" style = \"font-weight: bold; text-align: right;\">6</td><td style = \"text-align: left;\">CS001211000025</td><td style = \"text-align: right;\">2.65896</td></tr><tr><td class = \"rowNumber\" style = \"font-weight: bold; text-align: right;\">7</td><td style = \"text-align: left;\">CS001212000027</td><td style = \"text-align: right;\">2.65128</td></tr><tr><td class = \"rowNumber\" style = \"font-weight: bold; text-align: right;\">8</td><td style = \"text-align: left;\">CS001212000031</td><td style = \"text-align: right;\">2.47129</td></tr><tr><td class = \"rowNumber\" style = \"font-weight: bold; text-align: right;\">9</td><td style = \"text-align: left;\">CS001212000046</td><td style = \"text-align: right;\">2.35793</td></tr><tr><td class = \"rowNumber\" style = \"font-weight: bold; text-align: right;\">10</td><td style = \"text-align: left;\">CS001212000070</td><td style = \"text-align: right;\">2.65896</td></tr></tbody></table></div>"
      ],
      "text/latex": [
       "\\begin{tabular}{r|cc}\n",
       "\t& customer\\_id & amount\\_sum\\_log\\\\\n",
       "\t\\hline\n",
       "\t& String & Float64\\\\\n",
       "\t\\hline\n",
       "\t1 & CS001113000004 & 3.11327 \\\\\n",
       "\t2 & CS001114000005 & 2.79657 \\\\\n",
       "\t3 & CS001115000010 & 3.48344 \\\\\n",
       "\t4 & CS001205000004 & 3.29842 \\\\\n",
       "\t5 & CS001205000006 & 3.52336 \\\\\n",
       "\t6 & CS001211000025 & 2.65896 \\\\\n",
       "\t7 & CS001212000027 & 2.65128 \\\\\n",
       "\t8 & CS001212000031 & 2.47129 \\\\\n",
       "\t9 & CS001212000046 & 2.35793 \\\\\n",
       "\t10 & CS001212000070 & 2.65896 \\\\\n",
       "\\end{tabular}\n"
      ],
      "text/plain": [
       "\u001b[1m10×2 DataFrame\u001b[0m\n",
       "\u001b[1m Row \u001b[0m│\u001b[1m customer_id    \u001b[0m\u001b[1m amount_sum_log \u001b[0m\n",
       "     │\u001b[90m String         \u001b[0m\u001b[90m Float64        \u001b[0m\n",
       "─────┼────────────────────────────────\n",
       "   1 │ CS001113000004         3.11327\n",
       "   2 │ CS001114000005         2.79657\n",
       "   3 │ CS001115000010         3.48344\n",
       "   4 │ CS001205000004         3.29842\n",
       "   5 │ CS001205000006         3.52336\n",
       "   6 │ CS001211000025         2.65896\n",
       "   7 │ CS001212000027         2.65128\n",
       "   8 │ CS001212000031         2.47129\n",
       "   9 │ CS001212000046         2.35793\n",
       "  10 │ CS001212000070         2.65896"
      ]
     },
     "execution_count": 67,
     "metadata": {},
     "output_type": "execute_result"
    }
   ],
   "source": [
    "@time \\\n",
    "@chain df_receipt begin\n",
    "    @rsubset !startswith(:customer_id, \"Z\")\n",
    "    groupby(:customer_id, sort=true)\n",
    "    @combine :amount_sum_log = log10(sum(:amount))\n",
    "    first(10)\n",
    "end"
   ]
  },
  {
   "cell_type": "markdown",
   "metadata": {},
   "source": [
    "---\n",
    "> P-062: レシート明細データ（df_receipt）の売上金額（amount）を顧客ID（customer_id）ごとに合計し、売上金額合計を自然対数化（底e）して顧客ID、売上金額合計とともに10件表示せよ。ただし、顧客IDが\"Z\"から始まるのものは非会員を表すため、除外して計算すること。"
   ]
  },
  {
   "cell_type": "code",
   "execution_count": 68,
   "metadata": {},
   "outputs": [
    {
     "name": "stdout",
     "output_type": "stream",
     "text": [
      "  0.000001 seconds\n"
     ]
    },
    {
     "data": {
      "text/html": [
       "<div><div style = \"float: left;\"><span>10×3 DataFrame</span></div><div style = \"clear: both;\"></div></div><div class = \"data-frame\" style = \"overflow-x: scroll;\"><table class = \"data-frame\" style = \"margin-bottom: 6px;\"><thead><tr class = \"header\"><th class = \"rowNumber\" style = \"font-weight: bold; text-align: right;\">Row</th><th style = \"text-align: left;\">customer_id</th><th style = \"text-align: left;\">amount_sum</th><th style = \"text-align: left;\">amount_sum_log</th></tr><tr class = \"subheader headerLastRow\"><th class = \"rowNumber\" style = \"font-weight: bold; text-align: right;\"></th><th title = \"String\" style = \"text-align: left;\">String</th><th title = \"Int64\" style = \"text-align: left;\">Int64</th><th title = \"Float64\" style = \"text-align: left;\">Float64</th></tr></thead><tbody><tr><td class = \"rowNumber\" style = \"font-weight: bold; text-align: right;\">1</td><td style = \"text-align: left;\">CS001113000004</td><td style = \"text-align: right;\">1298</td><td style = \"text-align: right;\">7.16858</td></tr><tr><td class = \"rowNumber\" style = \"font-weight: bold; text-align: right;\">2</td><td style = \"text-align: left;\">CS001114000005</td><td style = \"text-align: right;\">626</td><td style = \"text-align: right;\">6.43935</td></tr><tr><td class = \"rowNumber\" style = \"font-weight: bold; text-align: right;\">3</td><td style = \"text-align: left;\">CS001115000010</td><td style = \"text-align: right;\">3044</td><td style = \"text-align: right;\">8.02093</td></tr><tr><td class = \"rowNumber\" style = \"font-weight: bold; text-align: right;\">4</td><td style = \"text-align: left;\">CS001205000004</td><td style = \"text-align: right;\">1988</td><td style = \"text-align: right;\">7.59488</td></tr><tr><td class = \"rowNumber\" style = \"font-weight: bold; text-align: right;\">5</td><td style = \"text-align: left;\">CS001205000006</td><td style = \"text-align: right;\">3337</td><td style = \"text-align: right;\">8.11283</td></tr><tr><td class = \"rowNumber\" style = \"font-weight: bold; text-align: right;\">6</td><td style = \"text-align: left;\">CS001211000025</td><td style = \"text-align: right;\">456</td><td style = \"text-align: right;\">6.12249</td></tr><tr><td class = \"rowNumber\" style = \"font-weight: bold; text-align: right;\">7</td><td style = \"text-align: left;\">CS001212000027</td><td style = \"text-align: right;\">448</td><td style = \"text-align: right;\">6.10479</td></tr><tr><td class = \"rowNumber\" style = \"font-weight: bold; text-align: right;\">8</td><td style = \"text-align: left;\">CS001212000031</td><td style = \"text-align: right;\">296</td><td style = \"text-align: right;\">5.69036</td></tr><tr><td class = \"rowNumber\" style = \"font-weight: bold; text-align: right;\">9</td><td style = \"text-align: left;\">CS001212000046</td><td style = \"text-align: right;\">228</td><td style = \"text-align: right;\">5.42935</td></tr><tr><td class = \"rowNumber\" style = \"font-weight: bold; text-align: right;\">10</td><td style = \"text-align: left;\">CS001212000070</td><td style = \"text-align: right;\">456</td><td style = \"text-align: right;\">6.12249</td></tr></tbody></table></div>"
      ],
      "text/latex": [
       "\\begin{tabular}{r|ccc}\n",
       "\t& customer\\_id & amount\\_sum & amount\\_sum\\_log\\\\\n",
       "\t\\hline\n",
       "\t& String & Int64 & Float64\\\\\n",
       "\t\\hline\n",
       "\t1 & CS001113000004 & 1298 & 7.16858 \\\\\n",
       "\t2 & CS001114000005 & 626 & 6.43935 \\\\\n",
       "\t3 & CS001115000010 & 3044 & 8.02093 \\\\\n",
       "\t4 & CS001205000004 & 1988 & 7.59488 \\\\\n",
       "\t5 & CS001205000006 & 3337 & 8.11283 \\\\\n",
       "\t6 & CS001211000025 & 456 & 6.12249 \\\\\n",
       "\t7 & CS001212000027 & 448 & 6.10479 \\\\\n",
       "\t8 & CS001212000031 & 296 & 5.69036 \\\\\n",
       "\t9 & CS001212000046 & 228 & 5.42935 \\\\\n",
       "\t10 & CS001212000070 & 456 & 6.12249 \\\\\n",
       "\\end{tabular}\n"
      ],
      "text/plain": [
       "\u001b[1m10×3 DataFrame\u001b[0m\n",
       "\u001b[1m Row \u001b[0m│\u001b[1m customer_id    \u001b[0m\u001b[1m amount_sum \u001b[0m\u001b[1m amount_sum_log \u001b[0m\n",
       "     │\u001b[90m String         \u001b[0m\u001b[90m Int64      \u001b[0m\u001b[90m Float64        \u001b[0m\n",
       "─────┼────────────────────────────────────────────\n",
       "   1 │ CS001113000004        1298         7.16858\n",
       "   2 │ CS001114000005         626         6.43935\n",
       "   3 │ CS001115000010        3044         8.02093\n",
       "   4 │ CS001205000004        1988         7.59488\n",
       "   5 │ CS001205000006        3337         8.11283\n",
       "   6 │ CS001211000025         456         6.12249\n",
       "   7 │ CS001212000027         448         6.10479\n",
       "   8 │ CS001212000031         296         5.69036\n",
       "   9 │ CS001212000046         228         5.42935\n",
       "  10 │ CS001212000070         456         6.12249"
      ]
     },
     "execution_count": 68,
     "metadata": {},
     "output_type": "execute_result"
    }
   ],
   "source": [
    "@time \\\n",
    "@chain df_receipt begin\n",
    "    @rsubset !startswith(:customer_id, \"Z\")\n",
    "    groupby(:customer_id, sort=true)\n",
    "    @combine :amount_sum = sum(:amount)\n",
    "    @rtransform :amount_sum_log = log(:amount_sum)\n",
    "    first(10)\n",
    "end"
   ]
  },
  {
   "cell_type": "markdown",
   "metadata": {},
   "source": [
    "---\n",
    "> P-063: 商品データ（df_product）の単価（unit_price）と原価（unit_cost）から各商品の利益額を算出し、結果を10件表示せよ。"
   ]
  },
  {
   "cell_type": "code",
   "execution_count": 69,
   "metadata": {},
   "outputs": [
    {
     "name": "stdout",
     "output_type": "stream",
     "text": [
      "  0.000005 seconds\n"
     ]
    },
    {
     "data": {
      "text/html": [
       "<div><div style = \"float: left;\"><span>10×7 DataFrame</span></div><div style = \"clear: both;\"></div></div><div class = \"data-frame\" style = \"overflow-x: scroll;\"><table class = \"data-frame\" style = \"margin-bottom: 6px;\"><thead><tr class = \"header\"><th class = \"rowNumber\" style = \"font-weight: bold; text-align: right;\">Row</th><th style = \"text-align: left;\">product_cd</th><th style = \"text-align: left;\">category_major_cd</th><th style = \"text-align: left;\">category_medium_cd</th><th style = \"text-align: left;\">category_small_cd</th><th style = \"text-align: left;\">unit_price</th><th style = \"text-align: left;\">unit_cost</th><th style = \"text-align: left;\">profit</th></tr><tr class = \"subheader headerLastRow\"><th class = \"rowNumber\" style = \"font-weight: bold; text-align: right;\"></th><th title = \"String\" style = \"text-align: left;\">String</th><th title = \"String\" style = \"text-align: left;\">String</th><th title = \"String\" style = \"text-align: left;\">String</th><th title = \"String\" style = \"text-align: left;\">String</th><th title = \"Union{Missing, Int64}\" style = \"text-align: left;\">Int64?</th><th title = \"Union{Missing, Int64}\" style = \"text-align: left;\">Int64?</th><th title = \"Union{Missing, Int64}\" style = \"text-align: left;\">Int64?</th></tr></thead><tbody><tr><td class = \"rowNumber\" style = \"font-weight: bold; text-align: right;\">1</td><td style = \"text-align: left;\">P040101001</td><td style = \"text-align: left;\">04</td><td style = \"text-align: left;\">0401</td><td style = \"text-align: left;\">040101</td><td style = \"text-align: right;\">198</td><td style = \"text-align: right;\">149</td><td style = \"text-align: right;\">49</td></tr><tr><td class = \"rowNumber\" style = \"font-weight: bold; text-align: right;\">2</td><td style = \"text-align: left;\">P040101002</td><td style = \"text-align: left;\">04</td><td style = \"text-align: left;\">0401</td><td style = \"text-align: left;\">040101</td><td style = \"text-align: right;\">218</td><td style = \"text-align: right;\">164</td><td style = \"text-align: right;\">54</td></tr><tr><td class = \"rowNumber\" style = \"font-weight: bold; text-align: right;\">3</td><td style = \"text-align: left;\">P040101003</td><td style = \"text-align: left;\">04</td><td style = \"text-align: left;\">0401</td><td style = \"text-align: left;\">040101</td><td style = \"text-align: right;\">230</td><td style = \"text-align: right;\">173</td><td style = \"text-align: right;\">57</td></tr><tr><td class = \"rowNumber\" style = \"font-weight: bold; text-align: right;\">4</td><td style = \"text-align: left;\">P040101004</td><td style = \"text-align: left;\">04</td><td style = \"text-align: left;\">0401</td><td style = \"text-align: left;\">040101</td><td style = \"text-align: right;\">248</td><td style = \"text-align: right;\">186</td><td style = \"text-align: right;\">62</td></tr><tr><td class = \"rowNumber\" style = \"font-weight: bold; text-align: right;\">5</td><td style = \"text-align: left;\">P040101005</td><td style = \"text-align: left;\">04</td><td style = \"text-align: left;\">0401</td><td style = \"text-align: left;\">040101</td><td style = \"text-align: right;\">268</td><td style = \"text-align: right;\">201</td><td style = \"text-align: right;\">67</td></tr><tr><td class = \"rowNumber\" style = \"font-weight: bold; text-align: right;\">6</td><td style = \"text-align: left;\">P040101006</td><td style = \"text-align: left;\">04</td><td style = \"text-align: left;\">0401</td><td style = \"text-align: left;\">040101</td><td style = \"text-align: right;\">298</td><td style = \"text-align: right;\">224</td><td style = \"text-align: right;\">74</td></tr><tr><td class = \"rowNumber\" style = \"font-weight: bold; text-align: right;\">7</td><td style = \"text-align: left;\">P040101007</td><td style = \"text-align: left;\">04</td><td style = \"text-align: left;\">0401</td><td style = \"text-align: left;\">040101</td><td style = \"text-align: right;\">338</td><td style = \"text-align: right;\">254</td><td style = \"text-align: right;\">84</td></tr><tr><td class = \"rowNumber\" style = \"font-weight: bold; text-align: right;\">8</td><td style = \"text-align: left;\">P040101008</td><td style = \"text-align: left;\">04</td><td style = \"text-align: left;\">0401</td><td style = \"text-align: left;\">040101</td><td style = \"text-align: right;\">420</td><td style = \"text-align: right;\">315</td><td style = \"text-align: right;\">105</td></tr><tr><td class = \"rowNumber\" style = \"font-weight: bold; text-align: right;\">9</td><td style = \"text-align: left;\">P040101009</td><td style = \"text-align: left;\">04</td><td style = \"text-align: left;\">0401</td><td style = \"text-align: left;\">040101</td><td style = \"text-align: right;\">498</td><td style = \"text-align: right;\">374</td><td style = \"text-align: right;\">124</td></tr><tr><td class = \"rowNumber\" style = \"font-weight: bold; text-align: right;\">10</td><td style = \"text-align: left;\">P040101010</td><td style = \"text-align: left;\">04</td><td style = \"text-align: left;\">0401</td><td style = \"text-align: left;\">040101</td><td style = \"text-align: right;\">580</td><td style = \"text-align: right;\">435</td><td style = \"text-align: right;\">145</td></tr></tbody></table></div>"
      ],
      "text/latex": [
       "\\begin{tabular}{r|cccccc}\n",
       "\t& product\\_cd & category\\_major\\_cd & category\\_medium\\_cd & category\\_small\\_cd & unit\\_price & \\\\\n",
       "\t\\hline\n",
       "\t& String & String & String & String & Int64? & \\\\\n",
       "\t\\hline\n",
       "\t1 & P040101001 & 04 & 0401 & 040101 & 198 & $\\dots$ \\\\\n",
       "\t2 & P040101002 & 04 & 0401 & 040101 & 218 & $\\dots$ \\\\\n",
       "\t3 & P040101003 & 04 & 0401 & 040101 & 230 & $\\dots$ \\\\\n",
       "\t4 & P040101004 & 04 & 0401 & 040101 & 248 & $\\dots$ \\\\\n",
       "\t5 & P040101005 & 04 & 0401 & 040101 & 268 & $\\dots$ \\\\\n",
       "\t6 & P040101006 & 04 & 0401 & 040101 & 298 & $\\dots$ \\\\\n",
       "\t7 & P040101007 & 04 & 0401 & 040101 & 338 & $\\dots$ \\\\\n",
       "\t8 & P040101008 & 04 & 0401 & 040101 & 420 & $\\dots$ \\\\\n",
       "\t9 & P040101009 & 04 & 0401 & 040101 & 498 & $\\dots$ \\\\\n",
       "\t10 & P040101010 & 04 & 0401 & 040101 & 580 & $\\dots$ \\\\\n",
       "\\end{tabular}\n"
      ],
      "text/plain": [
       "\u001b[1m10×7 DataFrame\u001b[0m\n",
       "\u001b[1m Row \u001b[0m│\u001b[1m product_cd \u001b[0m\u001b[1m category_major_cd \u001b[0m\u001b[1m category_medium_cd \u001b[0m\u001b[1m category_small_cd \u001b[0m\u001b[1m u\u001b[0m ⋯\n",
       "     │\u001b[90m String     \u001b[0m\u001b[90m String            \u001b[0m\u001b[90m String             \u001b[0m\u001b[90m String            \u001b[0m\u001b[90m I\u001b[0m ⋯\n",
       "─────┼──────────────────────────────────────────────────────────────────────────\n",
       "   1 │ P040101001  04                 0401                040101               ⋯\n",
       "   2 │ P040101002  04                 0401                040101\n",
       "   3 │ P040101003  04                 0401                040101\n",
       "   4 │ P040101004  04                 0401                040101\n",
       "   5 │ P040101005  04                 0401                040101               ⋯\n",
       "   6 │ P040101006  04                 0401                040101\n",
       "   7 │ P040101007  04                 0401                040101\n",
       "   8 │ P040101008  04                 0401                040101\n",
       "   9 │ P040101009  04                 0401                040101               ⋯\n",
       "  10 │ P040101010  04                 0401                040101\n",
       "\u001b[36m                                                               3 columns omitted\u001b[0m"
      ]
     },
     "execution_count": 69,
     "metadata": {},
     "output_type": "execute_result"
    }
   ],
   "source": [
    "@time \\\n",
    "@chain df_product begin\n",
    "    @rtransform :profit = :unit_price - :unit_cost\n",
    "    first(10)\n",
    "end"
   ]
  },
  {
   "cell_type": "markdown",
   "metadata": {},
   "source": [
    "---\n",
    "> P-064: 商品データ（df_product）の単価（unit_price）と原価（unit_cost）から、各商品の利益率の全体平均を算出せよ。ただし、単価と原価には欠損が生じていることに注意せよ。"
   ]
  },
  {
   "cell_type": "code",
   "execution_count": 70,
   "metadata": {},
   "outputs": [
    {
     "name": "stdout",
     "output_type": "stream",
     "text": [
      "  0.000005 seconds\n"
     ]
    },
    {
     "data": {
      "text/html": [
       "<div><div style = \"float: left;\"><span>1×1 DataFrame</span></div><div style = \"clear: both;\"></div></div><div class = \"data-frame\" style = \"overflow-x: scroll;\"><table class = \"data-frame\" style = \"margin-bottom: 6px;\"><thead><tr class = \"header\"><th class = \"rowNumber\" style = \"font-weight: bold; text-align: right;\">Row</th><th style = \"text-align: left;\">profit_ratio_mean</th></tr><tr class = \"subheader headerLastRow\"><th class = \"rowNumber\" style = \"font-weight: bold; text-align: right;\"></th><th title = \"Float64\" style = \"text-align: left;\">Float64</th></tr></thead><tbody><tr><td class = \"rowNumber\" style = \"font-weight: bold; text-align: right;\">1</td><td style = \"text-align: right;\">0.249114</td></tr></tbody></table></div>"
      ],
      "text/latex": [
       "\\begin{tabular}{r|c}\n",
       "\t& profit\\_ratio\\_mean\\\\\n",
       "\t\\hline\n",
       "\t& Float64\\\\\n",
       "\t\\hline\n",
       "\t1 & 0.249114 \\\\\n",
       "\\end{tabular}\n"
      ],
      "text/plain": [
       "\u001b[1m1×1 DataFrame\u001b[0m\n",
       "\u001b[1m Row \u001b[0m│\u001b[1m profit_ratio_mean \u001b[0m\n",
       "     │\u001b[90m Float64           \u001b[0m\n",
       "─────┼───────────────────\n",
       "   1 │          0.249114"
      ]
     },
     "execution_count": 70,
     "metadata": {},
     "output_type": "execute_result"
    }
   ],
   "source": [
    "@time \\\n",
    "@chain df_product begin\n",
    "    @select :product_cd :unit_price :unit_cost\n",
    "    @rtransform :profit_ratio = (:unit_price - :unit_cost) / :unit_price\n",
    "    @combine :profit_ratio_mean = mean(skipmissing(:profit_ratio))\n",
    "end"
   ]
  },
  {
   "cell_type": "markdown",
   "metadata": {},
   "source": [
    "---\n",
    "> P-065: 商品データ（df_product）の各商品について、利益率が30%となる新たな単価を求めよ。ただし、1円未満は切り捨てること。そして結果を10件表示させ、利益率がおよそ30％付近であることを確認せよ。ただし、単価（unit_price）と原価（unit_cost）には欠損が生じていることに注意せよ。"
   ]
  },
  {
   "cell_type": "markdown",
   "metadata": {},
   "source": [
    "$$\n",
    "r = (p-c)/p \\\\\n",
    "rp = p-c \\\\\n",
    "p-rp=c \\\\\n",
    "p=c/(1-r)\n",
    "$$"
   ]
  },
  {
   "cell_type": "code",
   "execution_count": 71,
   "metadata": {},
   "outputs": [
    {
     "name": "stdout",
     "output_type": "stream",
     "text": [
      "  0.000002 seconds\n"
     ]
    },
    {
     "data": {
      "text/html": [
       "<div><div style = \"float: left;\"><span>10×5 DataFrame</span></div><div style = \"clear: both;\"></div></div><div class = \"data-frame\" style = \"overflow-x: scroll;\"><table class = \"data-frame\" style = \"margin-bottom: 6px;\"><thead><tr class = \"header\"><th class = \"rowNumber\" style = \"font-weight: bold; text-align: right;\">Row</th><th style = \"text-align: left;\">product_cd</th><th style = \"text-align: left;\">unit_price</th><th style = \"text-align: left;\">unit_cost</th><th style = \"text-align: left;\">unit_price_new</th><th style = \"text-align: left;\">profit_ratio_new</th></tr><tr class = \"subheader headerLastRow\"><th class = \"rowNumber\" style = \"font-weight: bold; text-align: right;\"></th><th title = \"String\" style = \"text-align: left;\">String</th><th title = \"Union{Missing, Int64}\" style = \"text-align: left;\">Int64?</th><th title = \"Union{Missing, Int64}\" style = \"text-align: left;\">Int64?</th><th title = \"Union{Missing, Float64}\" style = \"text-align: left;\">Float64?</th><th title = \"Union{Missing, Float64}\" style = \"text-align: left;\">Float64?</th></tr></thead><tbody><tr><td class = \"rowNumber\" style = \"font-weight: bold; text-align: right;\">1</td><td style = \"text-align: left;\">P040101001</td><td style = \"text-align: right;\">198</td><td style = \"text-align: right;\">149</td><td style = \"text-align: right;\">212.0</td><td style = \"text-align: right;\">0.29717</td></tr><tr><td class = \"rowNumber\" style = \"font-weight: bold; text-align: right;\">2</td><td style = \"text-align: left;\">P040101002</td><td style = \"text-align: right;\">218</td><td style = \"text-align: right;\">164</td><td style = \"text-align: right;\">234.0</td><td style = \"text-align: right;\">0.299145</td></tr><tr><td class = \"rowNumber\" style = \"font-weight: bold; text-align: right;\">3</td><td style = \"text-align: left;\">P040101003</td><td style = \"text-align: right;\">230</td><td style = \"text-align: right;\">173</td><td style = \"text-align: right;\">247.0</td><td style = \"text-align: right;\">0.299595</td></tr><tr><td class = \"rowNumber\" style = \"font-weight: bold; text-align: right;\">4</td><td style = \"text-align: left;\">P040101004</td><td style = \"text-align: right;\">248</td><td style = \"text-align: right;\">186</td><td style = \"text-align: right;\">265.0</td><td style = \"text-align: right;\">0.298113</td></tr><tr><td class = \"rowNumber\" style = \"font-weight: bold; text-align: right;\">5</td><td style = \"text-align: left;\">P040101005</td><td style = \"text-align: right;\">268</td><td style = \"text-align: right;\">201</td><td style = \"text-align: right;\">287.0</td><td style = \"text-align: right;\">0.299652</td></tr><tr><td class = \"rowNumber\" style = \"font-weight: bold; text-align: right;\">6</td><td style = \"text-align: left;\">P040101006</td><td style = \"text-align: right;\">298</td><td style = \"text-align: right;\">224</td><td style = \"text-align: right;\">320.0</td><td style = \"text-align: right;\">0.3</td></tr><tr><td class = \"rowNumber\" style = \"font-weight: bold; text-align: right;\">7</td><td style = \"text-align: left;\">P040101007</td><td style = \"text-align: right;\">338</td><td style = \"text-align: right;\">254</td><td style = \"text-align: right;\">362.0</td><td style = \"text-align: right;\">0.298343</td></tr><tr><td class = \"rowNumber\" style = \"font-weight: bold; text-align: right;\">8</td><td style = \"text-align: left;\">P040101008</td><td style = \"text-align: right;\">420</td><td style = \"text-align: right;\">315</td><td style = \"text-align: right;\">450.0</td><td style = \"text-align: right;\">0.3</td></tr><tr><td class = \"rowNumber\" style = \"font-weight: bold; text-align: right;\">9</td><td style = \"text-align: left;\">P040101009</td><td style = \"text-align: right;\">498</td><td style = \"text-align: right;\">374</td><td style = \"text-align: right;\">534.0</td><td style = \"text-align: right;\">0.299625</td></tr><tr><td class = \"rowNumber\" style = \"font-weight: bold; text-align: right;\">10</td><td style = \"text-align: left;\">P040101010</td><td style = \"text-align: right;\">580</td><td style = \"text-align: right;\">435</td><td style = \"text-align: right;\">621.0</td><td style = \"text-align: right;\">0.299517</td></tr></tbody></table></div>"
      ],
      "text/latex": [
       "\\begin{tabular}{r|ccccc}\n",
       "\t& product\\_cd & unit\\_price & unit\\_cost & unit\\_price\\_new & profit\\_ratio\\_new\\\\\n",
       "\t\\hline\n",
       "\t& String & Int64? & Int64? & Float64? & Float64?\\\\\n",
       "\t\\hline\n",
       "\t1 & P040101001 & 198 & 149 & 212.0 & 0.29717 \\\\\n",
       "\t2 & P040101002 & 218 & 164 & 234.0 & 0.299145 \\\\\n",
       "\t3 & P040101003 & 230 & 173 & 247.0 & 0.299595 \\\\\n",
       "\t4 & P040101004 & 248 & 186 & 265.0 & 0.298113 \\\\\n",
       "\t5 & P040101005 & 268 & 201 & 287.0 & 0.299652 \\\\\n",
       "\t6 & P040101006 & 298 & 224 & 320.0 & 0.3 \\\\\n",
       "\t7 & P040101007 & 338 & 254 & 362.0 & 0.298343 \\\\\n",
       "\t8 & P040101008 & 420 & 315 & 450.0 & 0.3 \\\\\n",
       "\t9 & P040101009 & 498 & 374 & 534.0 & 0.299625 \\\\\n",
       "\t10 & P040101010 & 580 & 435 & 621.0 & 0.299517 \\\\\n",
       "\\end{tabular}\n"
      ],
      "text/plain": [
       "\u001b[1m10×5 DataFrame\u001b[0m\n",
       "\u001b[1m Row \u001b[0m│\u001b[1m product_cd \u001b[0m\u001b[1m unit_price \u001b[0m\u001b[1m unit_cost \u001b[0m\u001b[1m unit_price_new \u001b[0m\u001b[1m profit_ratio_new \u001b[0m\n",
       "     │\u001b[90m String     \u001b[0m\u001b[90m Int64?     \u001b[0m\u001b[90m Int64?    \u001b[0m\u001b[90m Float64?       \u001b[0m\u001b[90m Float64?         \u001b[0m\n",
       "─────┼─────────────────────────────────────────────────────────────────────\n",
       "   1 │ P040101001         198        149           212.0          0.29717\n",
       "   2 │ P040101002         218        164           234.0          0.299145\n",
       "   3 │ P040101003         230        173           247.0          0.299595\n",
       "   4 │ P040101004         248        186           265.0          0.298113\n",
       "   5 │ P040101005         268        201           287.0          0.299652\n",
       "   6 │ P040101006         298        224           320.0          0.3\n",
       "   7 │ P040101007         338        254           362.0          0.298343\n",
       "   8 │ P040101008         420        315           450.0          0.3\n",
       "   9 │ P040101009         498        374           534.0          0.299625\n",
       "  10 │ P040101010         580        435           621.0          0.299517"
      ]
     },
     "execution_count": 71,
     "metadata": {},
     "output_type": "execute_result"
    }
   ],
   "source": [
    "@time \\\n",
    "@chain df_product begin\n",
    "    @select :product_cd :unit_price :unit_cost\n",
    "    @rtransform @astable begin\n",
    "        :unit_price_new = floor(:unit_cost / (1 - 0.3))\n",
    "        :profit_ratio_new = (:unit_price_new - :unit_cost) / :unit_price_new\n",
    "    end\n",
    "    first(10)\n",
    "end"
   ]
  },
  {
   "cell_type": "markdown",
   "metadata": {},
   "source": [
    "---\n",
    "> P-066: 商品データ（df_product）の各商品について、利益率が30%となる新たな単価を求めよ。今回は、1円未満を丸めること（四捨五入または偶数への丸めで良い）。そして結果を10件表示させ、利益率がおよそ30％付近であることを確認せよ。ただし、単価（unit_price）と原価（unit_cost）には欠損が生じていることに注意せよ。"
   ]
  },
  {
   "cell_type": "code",
   "execution_count": 72,
   "metadata": {},
   "outputs": [
    {
     "name": "stdout",
     "output_type": "stream",
     "text": [
      "  0.000001 seconds\n"
     ]
    },
    {
     "data": {
      "text/html": [
       "<div><div style = \"float: left;\"><span>10×5 DataFrame</span></div><div style = \"clear: both;\"></div></div><div class = \"data-frame\" style = \"overflow-x: scroll;\"><table class = \"data-frame\" style = \"margin-bottom: 6px;\"><thead><tr class = \"header\"><th class = \"rowNumber\" style = \"font-weight: bold; text-align: right;\">Row</th><th style = \"text-align: left;\">product_cd</th><th style = \"text-align: left;\">unit_price</th><th style = \"text-align: left;\">unit_cost</th><th style = \"text-align: left;\">unit_price_new</th><th style = \"text-align: left;\">profit_ratio_new</th></tr><tr class = \"subheader headerLastRow\"><th class = \"rowNumber\" style = \"font-weight: bold; text-align: right;\"></th><th title = \"String\" style = \"text-align: left;\">String</th><th title = \"Union{Missing, Int64}\" style = \"text-align: left;\">Int64?</th><th title = \"Union{Missing, Int64}\" style = \"text-align: left;\">Int64?</th><th title = \"Union{Missing, Float64}\" style = \"text-align: left;\">Float64?</th><th title = \"Union{Missing, Float64}\" style = \"text-align: left;\">Float64?</th></tr></thead><tbody><tr><td class = \"rowNumber\" style = \"font-weight: bold; text-align: right;\">1</td><td style = \"text-align: left;\">P040101001</td><td style = \"text-align: right;\">198</td><td style = \"text-align: right;\">149</td><td style = \"text-align: right;\">213.0</td><td style = \"text-align: right;\">0.300469</td></tr><tr><td class = \"rowNumber\" style = \"font-weight: bold; text-align: right;\">2</td><td style = \"text-align: left;\">P040101002</td><td style = \"text-align: right;\">218</td><td style = \"text-align: right;\">164</td><td style = \"text-align: right;\">234.0</td><td style = \"text-align: right;\">0.299145</td></tr><tr><td class = \"rowNumber\" style = \"font-weight: bold; text-align: right;\">3</td><td style = \"text-align: left;\">P040101003</td><td style = \"text-align: right;\">230</td><td style = \"text-align: right;\">173</td><td style = \"text-align: right;\">247.0</td><td style = \"text-align: right;\">0.299595</td></tr><tr><td class = \"rowNumber\" style = \"font-weight: bold; text-align: right;\">4</td><td style = \"text-align: left;\">P040101004</td><td style = \"text-align: right;\">248</td><td style = \"text-align: right;\">186</td><td style = \"text-align: right;\">266.0</td><td style = \"text-align: right;\">0.300752</td></tr><tr><td class = \"rowNumber\" style = \"font-weight: bold; text-align: right;\">5</td><td style = \"text-align: left;\">P040101005</td><td style = \"text-align: right;\">268</td><td style = \"text-align: right;\">201</td><td style = \"text-align: right;\">287.0</td><td style = \"text-align: right;\">0.299652</td></tr><tr><td class = \"rowNumber\" style = \"font-weight: bold; text-align: right;\">6</td><td style = \"text-align: left;\">P040101006</td><td style = \"text-align: right;\">298</td><td style = \"text-align: right;\">224</td><td style = \"text-align: right;\">320.0</td><td style = \"text-align: right;\">0.3</td></tr><tr><td class = \"rowNumber\" style = \"font-weight: bold; text-align: right;\">7</td><td style = \"text-align: left;\">P040101007</td><td style = \"text-align: right;\">338</td><td style = \"text-align: right;\">254</td><td style = \"text-align: right;\">363.0</td><td style = \"text-align: right;\">0.300275</td></tr><tr><td class = \"rowNumber\" style = \"font-weight: bold; text-align: right;\">8</td><td style = \"text-align: left;\">P040101008</td><td style = \"text-align: right;\">420</td><td style = \"text-align: right;\">315</td><td style = \"text-align: right;\">450.0</td><td style = \"text-align: right;\">0.3</td></tr><tr><td class = \"rowNumber\" style = \"font-weight: bold; text-align: right;\">9</td><td style = \"text-align: left;\">P040101009</td><td style = \"text-align: right;\">498</td><td style = \"text-align: right;\">374</td><td style = \"text-align: right;\">534.0</td><td style = \"text-align: right;\">0.299625</td></tr><tr><td class = \"rowNumber\" style = \"font-weight: bold; text-align: right;\">10</td><td style = \"text-align: left;\">P040101010</td><td style = \"text-align: right;\">580</td><td style = \"text-align: right;\">435</td><td style = \"text-align: right;\">621.0</td><td style = \"text-align: right;\">0.299517</td></tr></tbody></table></div>"
      ],
      "text/latex": [
       "\\begin{tabular}{r|ccccc}\n",
       "\t& product\\_cd & unit\\_price & unit\\_cost & unit\\_price\\_new & profit\\_ratio\\_new\\\\\n",
       "\t\\hline\n",
       "\t& String & Int64? & Int64? & Float64? & Float64?\\\\\n",
       "\t\\hline\n",
       "\t1 & P040101001 & 198 & 149 & 213.0 & 0.300469 \\\\\n",
       "\t2 & P040101002 & 218 & 164 & 234.0 & 0.299145 \\\\\n",
       "\t3 & P040101003 & 230 & 173 & 247.0 & 0.299595 \\\\\n",
       "\t4 & P040101004 & 248 & 186 & 266.0 & 0.300752 \\\\\n",
       "\t5 & P040101005 & 268 & 201 & 287.0 & 0.299652 \\\\\n",
       "\t6 & P040101006 & 298 & 224 & 320.0 & 0.3 \\\\\n",
       "\t7 & P040101007 & 338 & 254 & 363.0 & 0.300275 \\\\\n",
       "\t8 & P040101008 & 420 & 315 & 450.0 & 0.3 \\\\\n",
       "\t9 & P040101009 & 498 & 374 & 534.0 & 0.299625 \\\\\n",
       "\t10 & P040101010 & 580 & 435 & 621.0 & 0.299517 \\\\\n",
       "\\end{tabular}\n"
      ],
      "text/plain": [
       "\u001b[1m10×5 DataFrame\u001b[0m\n",
       "\u001b[1m Row \u001b[0m│\u001b[1m product_cd \u001b[0m\u001b[1m unit_price \u001b[0m\u001b[1m unit_cost \u001b[0m\u001b[1m unit_price_new \u001b[0m\u001b[1m profit_ratio_new \u001b[0m\n",
       "     │\u001b[90m String     \u001b[0m\u001b[90m Int64?     \u001b[0m\u001b[90m Int64?    \u001b[0m\u001b[90m Float64?       \u001b[0m\u001b[90m Float64?         \u001b[0m\n",
       "─────┼─────────────────────────────────────────────────────────────────────\n",
       "   1 │ P040101001         198        149           213.0          0.300469\n",
       "   2 │ P040101002         218        164           234.0          0.299145\n",
       "   3 │ P040101003         230        173           247.0          0.299595\n",
       "   4 │ P040101004         248        186           266.0          0.300752\n",
       "   5 │ P040101005         268        201           287.0          0.299652\n",
       "   6 │ P040101006         298        224           320.0          0.3\n",
       "   7 │ P040101007         338        254           363.0          0.300275\n",
       "   8 │ P040101008         420        315           450.0          0.3\n",
       "   9 │ P040101009         498        374           534.0          0.299625\n",
       "  10 │ P040101010         580        435           621.0          0.299517"
      ]
     },
     "execution_count": 72,
     "metadata": {},
     "output_type": "execute_result"
    }
   ],
   "source": [
    "@time \\\n",
    "@chain df_product begin\n",
    "    @select :product_cd :unit_price :unit_cost\n",
    "    @rtransform @astable begin\n",
    "        :unit_price_new = round(:unit_cost / (1 - 0.3))\n",
    "        :profit_ratio_new = (:unit_price_new - :unit_cost) / :unit_price_new\n",
    "    end\n",
    "    first(10)\n",
    "end"
   ]
  },
  {
   "cell_type": "markdown",
   "metadata": {},
   "source": [
    "---\n",
    "> P-067: 商品データ（df_product）の各商品について、利益率が30%となる新たな単価を求めよ。今回は、1円未満を切り上げること。そして結果を10件表示させ、利益率がおよそ30％付近であることを確認せよ。ただし、単価（unit_price）と原価（unit_cost）には欠損が生じていることに注意せよ。"
   ]
  },
  {
   "cell_type": "code",
   "execution_count": 73,
   "metadata": {},
   "outputs": [
    {
     "name": "stdout",
     "output_type": "stream",
     "text": [
      "  0.000001 seconds\n"
     ]
    },
    {
     "data": {
      "text/html": [
       "<div><div style = \"float: left;\"><span>10×5 DataFrame</span></div><div style = \"clear: both;\"></div></div><div class = \"data-frame\" style = \"overflow-x: scroll;\"><table class = \"data-frame\" style = \"margin-bottom: 6px;\"><thead><tr class = \"header\"><th class = \"rowNumber\" style = \"font-weight: bold; text-align: right;\">Row</th><th style = \"text-align: left;\">product_cd</th><th style = \"text-align: left;\">unit_price</th><th style = \"text-align: left;\">unit_cost</th><th style = \"text-align: left;\">unit_price_new</th><th style = \"text-align: left;\">profit_ratio_new</th></tr><tr class = \"subheader headerLastRow\"><th class = \"rowNumber\" style = \"font-weight: bold; text-align: right;\"></th><th title = \"String\" style = \"text-align: left;\">String</th><th title = \"Union{Missing, Int64}\" style = \"text-align: left;\">Int64?</th><th title = \"Union{Missing, Int64}\" style = \"text-align: left;\">Int64?</th><th title = \"Union{Missing, Float64}\" style = \"text-align: left;\">Float64?</th><th title = \"Union{Missing, Float64}\" style = \"text-align: left;\">Float64?</th></tr></thead><tbody><tr><td class = \"rowNumber\" style = \"font-weight: bold; text-align: right;\">1</td><td style = \"text-align: left;\">P040101001</td><td style = \"text-align: right;\">198</td><td style = \"text-align: right;\">149</td><td style = \"text-align: right;\">213.0</td><td style = \"text-align: right;\">0.300469</td></tr><tr><td class = \"rowNumber\" style = \"font-weight: bold; text-align: right;\">2</td><td style = \"text-align: left;\">P040101002</td><td style = \"text-align: right;\">218</td><td style = \"text-align: right;\">164</td><td style = \"text-align: right;\">235.0</td><td style = \"text-align: right;\">0.302128</td></tr><tr><td class = \"rowNumber\" style = \"font-weight: bold; text-align: right;\">3</td><td style = \"text-align: left;\">P040101003</td><td style = \"text-align: right;\">230</td><td style = \"text-align: right;\">173</td><td style = \"text-align: right;\">248.0</td><td style = \"text-align: right;\">0.302419</td></tr><tr><td class = \"rowNumber\" style = \"font-weight: bold; text-align: right;\">4</td><td style = \"text-align: left;\">P040101004</td><td style = \"text-align: right;\">248</td><td style = \"text-align: right;\">186</td><td style = \"text-align: right;\">266.0</td><td style = \"text-align: right;\">0.300752</td></tr><tr><td class = \"rowNumber\" style = \"font-weight: bold; text-align: right;\">5</td><td style = \"text-align: left;\">P040101005</td><td style = \"text-align: right;\">268</td><td style = \"text-align: right;\">201</td><td style = \"text-align: right;\">288.0</td><td style = \"text-align: right;\">0.302083</td></tr><tr><td class = \"rowNumber\" style = \"font-weight: bold; text-align: right;\">6</td><td style = \"text-align: left;\">P040101006</td><td style = \"text-align: right;\">298</td><td style = \"text-align: right;\">224</td><td style = \"text-align: right;\">320.0</td><td style = \"text-align: right;\">0.3</td></tr><tr><td class = \"rowNumber\" style = \"font-weight: bold; text-align: right;\">7</td><td style = \"text-align: left;\">P040101007</td><td style = \"text-align: right;\">338</td><td style = \"text-align: right;\">254</td><td style = \"text-align: right;\">363.0</td><td style = \"text-align: right;\">0.300275</td></tr><tr><td class = \"rowNumber\" style = \"font-weight: bold; text-align: right;\">8</td><td style = \"text-align: left;\">P040101008</td><td style = \"text-align: right;\">420</td><td style = \"text-align: right;\">315</td><td style = \"text-align: right;\">451.0</td><td style = \"text-align: right;\">0.301552</td></tr><tr><td class = \"rowNumber\" style = \"font-weight: bold; text-align: right;\">9</td><td style = \"text-align: left;\">P040101009</td><td style = \"text-align: right;\">498</td><td style = \"text-align: right;\">374</td><td style = \"text-align: right;\">535.0</td><td style = \"text-align: right;\">0.300935</td></tr><tr><td class = \"rowNumber\" style = \"font-weight: bold; text-align: right;\">10</td><td style = \"text-align: left;\">P040101010</td><td style = \"text-align: right;\">580</td><td style = \"text-align: right;\">435</td><td style = \"text-align: right;\">622.0</td><td style = \"text-align: right;\">0.300643</td></tr></tbody></table></div>"
      ],
      "text/latex": [
       "\\begin{tabular}{r|ccccc}\n",
       "\t& product\\_cd & unit\\_price & unit\\_cost & unit\\_price\\_new & profit\\_ratio\\_new\\\\\n",
       "\t\\hline\n",
       "\t& String & Int64? & Int64? & Float64? & Float64?\\\\\n",
       "\t\\hline\n",
       "\t1 & P040101001 & 198 & 149 & 213.0 & 0.300469 \\\\\n",
       "\t2 & P040101002 & 218 & 164 & 235.0 & 0.302128 \\\\\n",
       "\t3 & P040101003 & 230 & 173 & 248.0 & 0.302419 \\\\\n",
       "\t4 & P040101004 & 248 & 186 & 266.0 & 0.300752 \\\\\n",
       "\t5 & P040101005 & 268 & 201 & 288.0 & 0.302083 \\\\\n",
       "\t6 & P040101006 & 298 & 224 & 320.0 & 0.3 \\\\\n",
       "\t7 & P040101007 & 338 & 254 & 363.0 & 0.300275 \\\\\n",
       "\t8 & P040101008 & 420 & 315 & 451.0 & 0.301552 \\\\\n",
       "\t9 & P040101009 & 498 & 374 & 535.0 & 0.300935 \\\\\n",
       "\t10 & P040101010 & 580 & 435 & 622.0 & 0.300643 \\\\\n",
       "\\end{tabular}\n"
      ],
      "text/plain": [
       "\u001b[1m10×5 DataFrame\u001b[0m\n",
       "\u001b[1m Row \u001b[0m│\u001b[1m product_cd \u001b[0m\u001b[1m unit_price \u001b[0m\u001b[1m unit_cost \u001b[0m\u001b[1m unit_price_new \u001b[0m\u001b[1m profit_ratio_new \u001b[0m\n",
       "     │\u001b[90m String     \u001b[0m\u001b[90m Int64?     \u001b[0m\u001b[90m Int64?    \u001b[0m\u001b[90m Float64?       \u001b[0m\u001b[90m Float64?         \u001b[0m\n",
       "─────┼─────────────────────────────────────────────────────────────────────\n",
       "   1 │ P040101001         198        149           213.0          0.300469\n",
       "   2 │ P040101002         218        164           235.0          0.302128\n",
       "   3 │ P040101003         230        173           248.0          0.302419\n",
       "   4 │ P040101004         248        186           266.0          0.300752\n",
       "   5 │ P040101005         268        201           288.0          0.302083\n",
       "   6 │ P040101006         298        224           320.0          0.3\n",
       "   7 │ P040101007         338        254           363.0          0.300275\n",
       "   8 │ P040101008         420        315           451.0          0.301552\n",
       "   9 │ P040101009         498        374           535.0          0.300935\n",
       "  10 │ P040101010         580        435           622.0          0.300643"
      ]
     },
     "execution_count": 73,
     "metadata": {},
     "output_type": "execute_result"
    }
   ],
   "source": [
    "@time \\\n",
    "@chain df_product begin\n",
    "    @select :product_cd :unit_price :unit_cost\n",
    "    @rtransform @astable begin\n",
    "        :unit_price_new = ceil(:unit_cost / (1 - 0.3))\n",
    "        :profit_ratio_new = (:unit_price_new - :unit_cost) / :unit_price_new\n",
    "    end\n",
    "    first(10)\n",
    "end"
   ]
  },
  {
   "cell_type": "markdown",
   "metadata": {},
   "source": [
    "---\n",
    "> P-068: 商品データ（df_product）の各商品について、消費税率10％の税込み金額を求めよ。1円未満の端数は切り捨てとし、結果を10件表示せよ。ただし、単価（unit_price）には欠損が生じていることに注意せよ。"
   ]
  },
  {
   "cell_type": "code",
   "execution_count": 74,
   "metadata": {},
   "outputs": [
    {
     "name": "stdout",
     "output_type": "stream",
     "text": [
      "  0.000007 seconds\n"
     ]
    },
    {
     "data": {
      "text/html": [
       "<div><div style = \"float: left;\"><span>10×4 DataFrame</span></div><div style = \"clear: both;\"></div></div><div class = \"data-frame\" style = \"overflow-x: scroll;\"><table class = \"data-frame\" style = \"margin-bottom: 6px;\"><thead><tr class = \"header\"><th class = \"rowNumber\" style = \"font-weight: bold; text-align: right;\">Row</th><th style = \"text-align: left;\">product_cd</th><th style = \"text-align: left;\">unit_price</th><th style = \"text-align: left;\">unit_cost</th><th style = \"text-align: left;\">unit_price_including_tax</th></tr><tr class = \"subheader headerLastRow\"><th class = \"rowNumber\" style = \"font-weight: bold; text-align: right;\"></th><th title = \"String\" style = \"text-align: left;\">String</th><th title = \"Union{Missing, Int64}\" style = \"text-align: left;\">Int64?</th><th title = \"Union{Missing, Int64}\" style = \"text-align: left;\">Int64?</th><th title = \"Int64\" style = \"text-align: left;\">Int64</th></tr></thead><tbody><tr><td class = \"rowNumber\" style = \"font-weight: bold; text-align: right;\">1</td><td style = \"text-align: left;\">P040101001</td><td style = \"text-align: right;\">198</td><td style = \"text-align: right;\">149</td><td style = \"text-align: right;\">217</td></tr><tr><td class = \"rowNumber\" style = \"font-weight: bold; text-align: right;\">2</td><td style = \"text-align: left;\">P040101002</td><td style = \"text-align: right;\">218</td><td style = \"text-align: right;\">164</td><td style = \"text-align: right;\">239</td></tr><tr><td class = \"rowNumber\" style = \"font-weight: bold; text-align: right;\">3</td><td style = \"text-align: left;\">P040101003</td><td style = \"text-align: right;\">230</td><td style = \"text-align: right;\">173</td><td style = \"text-align: right;\">253</td></tr><tr><td class = \"rowNumber\" style = \"font-weight: bold; text-align: right;\">4</td><td style = \"text-align: left;\">P040101004</td><td style = \"text-align: right;\">248</td><td style = \"text-align: right;\">186</td><td style = \"text-align: right;\">272</td></tr><tr><td class = \"rowNumber\" style = \"font-weight: bold; text-align: right;\">5</td><td style = \"text-align: left;\">P040101005</td><td style = \"text-align: right;\">268</td><td style = \"text-align: right;\">201</td><td style = \"text-align: right;\">294</td></tr><tr><td class = \"rowNumber\" style = \"font-weight: bold; text-align: right;\">6</td><td style = \"text-align: left;\">P040101006</td><td style = \"text-align: right;\">298</td><td style = \"text-align: right;\">224</td><td style = \"text-align: right;\">327</td></tr><tr><td class = \"rowNumber\" style = \"font-weight: bold; text-align: right;\">7</td><td style = \"text-align: left;\">P040101007</td><td style = \"text-align: right;\">338</td><td style = \"text-align: right;\">254</td><td style = \"text-align: right;\">371</td></tr><tr><td class = \"rowNumber\" style = \"font-weight: bold; text-align: right;\">8</td><td style = \"text-align: left;\">P040101008</td><td style = \"text-align: right;\">420</td><td style = \"text-align: right;\">315</td><td style = \"text-align: right;\">462</td></tr><tr><td class = \"rowNumber\" style = \"font-weight: bold; text-align: right;\">9</td><td style = \"text-align: left;\">P040101009</td><td style = \"text-align: right;\">498</td><td style = \"text-align: right;\">374</td><td style = \"text-align: right;\">547</td></tr><tr><td class = \"rowNumber\" style = \"font-weight: bold; text-align: right;\">10</td><td style = \"text-align: left;\">P040101010</td><td style = \"text-align: right;\">580</td><td style = \"text-align: right;\">435</td><td style = \"text-align: right;\">638</td></tr></tbody></table></div>"
      ],
      "text/latex": [
       "\\begin{tabular}{r|cccc}\n",
       "\t& product\\_cd & unit\\_price & unit\\_cost & unit\\_price\\_including\\_tax\\\\\n",
       "\t\\hline\n",
       "\t& String & Int64? & Int64? & Int64\\\\\n",
       "\t\\hline\n",
       "\t1 & P040101001 & 198 & 149 & 217 \\\\\n",
       "\t2 & P040101002 & 218 & 164 & 239 \\\\\n",
       "\t3 & P040101003 & 230 & 173 & 253 \\\\\n",
       "\t4 & P040101004 & 248 & 186 & 272 \\\\\n",
       "\t5 & P040101005 & 268 & 201 & 294 \\\\\n",
       "\t6 & P040101006 & 298 & 224 & 327 \\\\\n",
       "\t7 & P040101007 & 338 & 254 & 371 \\\\\n",
       "\t8 & P040101008 & 420 & 315 & 462 \\\\\n",
       "\t9 & P040101009 & 498 & 374 & 547 \\\\\n",
       "\t10 & P040101010 & 580 & 435 & 638 \\\\\n",
       "\\end{tabular}\n"
      ],
      "text/plain": [
       "\u001b[1m10×4 DataFrame\u001b[0m\n",
       "\u001b[1m Row \u001b[0m│\u001b[1m product_cd \u001b[0m\u001b[1m unit_price \u001b[0m\u001b[1m unit_cost \u001b[0m\u001b[1m unit_price_including_tax \u001b[0m\n",
       "     │\u001b[90m String     \u001b[0m\u001b[90m Int64?     \u001b[0m\u001b[90m Int64?    \u001b[0m\u001b[90m Int64                    \u001b[0m\n",
       "─────┼─────────────────────────────────────────────────────────────\n",
       "   1 │ P040101001         198        149                       217\n",
       "   2 │ P040101002         218        164                       239\n",
       "   3 │ P040101003         230        173                       253\n",
       "   4 │ P040101004         248        186                       272\n",
       "   5 │ P040101005         268        201                       294\n",
       "   6 │ P040101006         298        224                       327\n",
       "   7 │ P040101007         338        254                       371\n",
       "   8 │ P040101008         420        315                       462\n",
       "   9 │ P040101009         498        374                       547\n",
       "  10 │ P040101010         580        435                       638"
      ]
     },
     "execution_count": 74,
     "metadata": {},
     "output_type": "execute_result"
    }
   ],
   "source": [
    "@time \\\n",
    "@chain df_product begin\n",
    "    @select :product_cd :unit_price :unit_cost\n",
    "    @rtransform :unit_price_including_tax = floor(Int, coalesce.(:unit_price, 0) * 1.1)\n",
    "    first(10)\n",
    "end"
   ]
  },
  {
   "cell_type": "markdown",
   "metadata": {},
   "source": [
    "---\n",
    "> P-069: レシート明細データ（df_receipt）と商品データ（df_product）を結合し、顧客毎に全商品の売上金額合計と、カテゴリ大区分コード（category_major_cd）が\"07\"（瓶詰缶詰）の売上金額合計を計算の上、両者の比率を求めよ。抽出対象はカテゴリ大区分コード\"07\"（瓶詰缶詰）の売上実績がある顧客のみとし、結果を10件表示せよ。"
   ]
  },
  {
   "cell_type": "code",
   "execution_count": 75,
   "metadata": {},
   "outputs": [
    {
     "name": "stdout",
     "output_type": "stream",
     "text": [
      "  2.135036 seconds (2.27 M allocations: 141.462 MiB, 2.24% gc time, 95.03% compilation time: 9% of which was recompilation)\n"
     ]
    },
    {
     "data": {
      "text/html": [
       "<div><div style = \"float: left;\"><span>10×4 DataFrame</span></div><div style = \"clear: both;\"></div></div><div class = \"data-frame\" style = \"overflow-x: scroll;\"><table class = \"data-frame\" style = \"margin-bottom: 6px;\"><thead><tr class = \"header\"><th class = \"rowNumber\" style = \"font-weight: bold; text-align: right;\">Row</th><th style = \"text-align: left;\">customer_id</th><th style = \"text-align: left;\">amount_sum_07</th><th style = \"text-align: left;\">amount_sum</th><th style = \"text-align: left;\">prop</th></tr><tr class = \"subheader headerLastRow\"><th class = \"rowNumber\" style = \"font-weight: bold; text-align: right;\"></th><th title = \"String\" style = \"text-align: left;\">String</th><th title = \"Int64\" style = \"text-align: left;\">Int64</th><th title = \"Int64\" style = \"text-align: left;\">Int64</th><th title = \"Float64\" style = \"text-align: left;\">Float64</th></tr></thead><tbody><tr><td class = \"rowNumber\" style = \"font-weight: bold; text-align: right;\">1</td><td style = \"text-align: left;\">CS001113000004</td><td style = \"text-align: right;\">1298</td><td style = \"text-align: right;\">1298</td><td style = \"text-align: right;\">1.0</td></tr><tr><td class = \"rowNumber\" style = \"font-weight: bold; text-align: right;\">2</td><td style = \"text-align: left;\">CS001114000005</td><td style = \"text-align: right;\">486</td><td style = \"text-align: right;\">626</td><td style = \"text-align: right;\">0.776358</td></tr><tr><td class = \"rowNumber\" style = \"font-weight: bold; text-align: right;\">3</td><td style = \"text-align: left;\">CS001115000010</td><td style = \"text-align: right;\">2694</td><td style = \"text-align: right;\">3044</td><td style = \"text-align: right;\">0.88502</td></tr><tr><td class = \"rowNumber\" style = \"font-weight: bold; text-align: right;\">4</td><td style = \"text-align: left;\">CS001205000004</td><td style = \"text-align: right;\">346</td><td style = \"text-align: right;\">1988</td><td style = \"text-align: right;\">0.174044</td></tr><tr><td class = \"rowNumber\" style = \"font-weight: bold; text-align: right;\">5</td><td style = \"text-align: left;\">CS001205000006</td><td style = \"text-align: right;\">2004</td><td style = \"text-align: right;\">3337</td><td style = \"text-align: right;\">0.600539</td></tr><tr><td class = \"rowNumber\" style = \"font-weight: bold; text-align: right;\">6</td><td style = \"text-align: left;\">CS001212000027</td><td style = \"text-align: right;\">200</td><td style = \"text-align: right;\">448</td><td style = \"text-align: right;\">0.446429</td></tr><tr><td class = \"rowNumber\" style = \"font-weight: bold; text-align: right;\">7</td><td style = \"text-align: left;\">CS001212000031</td><td style = \"text-align: right;\">296</td><td style = \"text-align: right;\">296</td><td style = \"text-align: right;\">1.0</td></tr><tr><td class = \"rowNumber\" style = \"font-weight: bold; text-align: right;\">8</td><td style = \"text-align: left;\">CS001212000046</td><td style = \"text-align: right;\">108</td><td style = \"text-align: right;\">228</td><td style = \"text-align: right;\">0.473684</td></tr><tr><td class = \"rowNumber\" style = \"font-weight: bold; text-align: right;\">9</td><td style = \"text-align: left;\">CS001212000070</td><td style = \"text-align: right;\">308</td><td style = \"text-align: right;\">456</td><td style = \"text-align: right;\">0.675439</td></tr><tr><td class = \"rowNumber\" style = \"font-weight: bold; text-align: right;\">10</td><td style = \"text-align: left;\">CS001213000018</td><td style = \"text-align: right;\">145</td><td style = \"text-align: right;\">243</td><td style = \"text-align: right;\">0.596708</td></tr></tbody></table></div>"
      ],
      "text/latex": [
       "\\begin{tabular}{r|cccc}\n",
       "\t& customer\\_id & amount\\_sum\\_07 & amount\\_sum & prop\\\\\n",
       "\t\\hline\n",
       "\t& String & Int64 & Int64 & Float64\\\\\n",
       "\t\\hline\n",
       "\t1 & CS001113000004 & 1298 & 1298 & 1.0 \\\\\n",
       "\t2 & CS001114000005 & 486 & 626 & 0.776358 \\\\\n",
       "\t3 & CS001115000010 & 2694 & 3044 & 0.88502 \\\\\n",
       "\t4 & CS001205000004 & 346 & 1988 & 0.174044 \\\\\n",
       "\t5 & CS001205000006 & 2004 & 3337 & 0.600539 \\\\\n",
       "\t6 & CS001212000027 & 200 & 448 & 0.446429 \\\\\n",
       "\t7 & CS001212000031 & 296 & 296 & 1.0 \\\\\n",
       "\t8 & CS001212000046 & 108 & 228 & 0.473684 \\\\\n",
       "\t9 & CS001212000070 & 308 & 456 & 0.675439 \\\\\n",
       "\t10 & CS001213000018 & 145 & 243 & 0.596708 \\\\\n",
       "\\end{tabular}\n"
      ],
      "text/plain": [
       "\u001b[1m10×4 DataFrame\u001b[0m\n",
       "\u001b[1m Row \u001b[0m│\u001b[1m customer_id    \u001b[0m\u001b[1m amount_sum_07 \u001b[0m\u001b[1m amount_sum \u001b[0m\u001b[1m prop     \u001b[0m\n",
       "     │\u001b[90m String         \u001b[0m\u001b[90m Int64         \u001b[0m\u001b[90m Int64      \u001b[0m\u001b[90m Float64  \u001b[0m\n",
       "─────┼─────────────────────────────────────────────────────\n",
       "   1 │ CS001113000004           1298        1298  1.0\n",
       "   2 │ CS001114000005            486         626  0.776358\n",
       "   3 │ CS001115000010           2694        3044  0.88502\n",
       "   4 │ CS001205000004            346        1988  0.174044\n",
       "   5 │ CS001205000006           2004        3337  0.600539\n",
       "   6 │ CS001212000027            200         448  0.446429\n",
       "   7 │ CS001212000031            296         296  1.0\n",
       "   8 │ CS001212000046            108         228  0.473684\n",
       "   9 │ CS001212000070            308         456  0.675439\n",
       "  10 │ CS001213000018            145         243  0.596708"
      ]
     },
     "execution_count": 75,
     "metadata": {},
     "output_type": "execute_result"
    }
   ],
   "source": [
    "function p069()\n",
    "    df_receipt_product = innerjoin(\n",
    "        df_receipt[!, [:customer_id, :amount, :product_cd]],\n",
    "        df_product[!, [:product_cd, :category_major_cd]],\n",
    "        on=:product_cd\n",
    "    )\n",
    "\n",
    "    customers_07 = @chain df_receipt_product begin\n",
    "        @rsubset :category_major_cd == \"07\"\n",
    "        groupby(:customer_id)\n",
    "        @combine :amount_sum_07 = sum(:amount)\n",
    "    end\n",
    "\n",
    "    @chain df_receipt_product begin\n",
    "        rightjoin(customers_07, on=:customer_id)\n",
    "        groupby([:customer_id, :amount_sum_07], sort=true)\n",
    "        @combine :amount_sum = sum(:amount)\n",
    "        @rtransform :prop = :amount_sum_07 / :amount_sum\n",
    "        first(10)\n",
    "    end\n",
    "end\n",
    "\n",
    "@time p069()"
   ]
  },
  {
   "cell_type": "markdown",
   "metadata": {},
   "source": [
    "---\n",
    "> P-070: レシート明細データ（df_receipt）の売上日（sales_ymd）に対し、顧客データ（df_customer）の会員申込日（application_date）からの経過日数を計算し、顧客ID（customer_id）、売上日、会員申込日とともに10件表示せよ（sales_ymdは数値、application_dateは文字列でデータを保持している点に注意）。"
   ]
  },
  {
   "cell_type": "code",
   "execution_count": 76,
   "metadata": {},
   "outputs": [
    {
     "name": "stdout",
     "output_type": "stream",
     "text": [
      "  0.000001 seconds\n"
     ]
    },
    {
     "data": {
      "text/html": [
       "<div><div style = \"float: left;\"><span>10×4 DataFrame</span></div><div style = \"clear: both;\"></div></div><div class = \"data-frame\" style = \"overflow-x: scroll;\"><table class = \"data-frame\" style = \"margin-bottom: 6px;\"><thead><tr class = \"header\"><th class = \"rowNumber\" style = \"font-weight: bold; text-align: right;\">Row</th><th style = \"text-align: left;\">customer_id</th><th style = \"text-align: left;\">sales_ymd</th><th style = \"text-align: left;\">application_date</th><th style = \"text-align: left;\">elapsed_days</th></tr><tr class = \"subheader headerLastRow\"><th class = \"rowNumber\" style = \"font-weight: bold; text-align: right;\"></th><th title = \"String\" style = \"text-align: left;\">String</th><th title = \"Date\" style = \"text-align: left;\">Date</th><th title = \"Date\" style = \"text-align: left;\">Date</th><th title = \"Int64\" style = \"text-align: left;\">Int64</th></tr></thead><tbody><tr><td class = \"rowNumber\" style = \"font-weight: bold; text-align: right;\">1</td><td style = \"text-align: left;\">CS001113000004</td><td style = \"text-align: left;\">2019-03-08</td><td style = \"text-align: left;\">2015-11-05</td><td style = \"text-align: right;\">1219</td></tr><tr><td class = \"rowNumber\" style = \"font-weight: bold; text-align: right;\">2</td><td style = \"text-align: left;\">CS001114000005</td><td style = \"text-align: left;\">2018-05-03</td><td style = \"text-align: left;\">2016-04-12</td><td style = \"text-align: right;\">751</td></tr><tr><td class = \"rowNumber\" style = \"font-weight: bold; text-align: right;\">3</td><td style = \"text-align: left;\">CS001114000005</td><td style = \"text-align: left;\">2019-07-31</td><td style = \"text-align: left;\">2016-04-12</td><td style = \"text-align: right;\">1205</td></tr><tr><td class = \"rowNumber\" style = \"font-weight: bold; text-align: right;\">4</td><td style = \"text-align: left;\">CS001115000010</td><td style = \"text-align: left;\">2017-12-28</td><td style = \"text-align: left;\">2015-04-17</td><td style = \"text-align: right;\">986</td></tr><tr><td class = \"rowNumber\" style = \"font-weight: bold; text-align: right;\">5</td><td style = \"text-align: left;\">CS001115000010</td><td style = \"text-align: left;\">2018-07-01</td><td style = \"text-align: left;\">2015-04-17</td><td style = \"text-align: right;\">1171</td></tr><tr><td class = \"rowNumber\" style = \"font-weight: bold; text-align: right;\">6</td><td style = \"text-align: left;\">CS001115000010</td><td style = \"text-align: left;\">2019-04-05</td><td style = \"text-align: left;\">2015-04-17</td><td style = \"text-align: right;\">1449</td></tr><tr><td class = \"rowNumber\" style = \"font-weight: bold; text-align: right;\">7</td><td style = \"text-align: left;\">CS001205000004</td><td style = \"text-align: left;\">2017-09-14</td><td style = \"text-align: left;\">2016-06-15</td><td style = \"text-align: right;\">456</td></tr><tr><td class = \"rowNumber\" style = \"font-weight: bold; text-align: right;\">8</td><td style = \"text-align: left;\">CS001205000004</td><td style = \"text-align: left;\">2018-08-21</td><td style = \"text-align: left;\">2016-06-15</td><td style = \"text-align: right;\">797</td></tr><tr><td class = \"rowNumber\" style = \"font-weight: bold; text-align: right;\">9</td><td style = \"text-align: left;\">CS001205000004</td><td style = \"text-align: left;\">2018-09-04</td><td style = \"text-align: left;\">2016-06-15</td><td style = \"text-align: right;\">811</td></tr><tr><td class = \"rowNumber\" style = \"font-weight: bold; text-align: right;\">10</td><td style = \"text-align: left;\">CS001205000004</td><td style = \"text-align: left;\">2019-03-12</td><td style = \"text-align: left;\">2016-06-15</td><td style = \"text-align: right;\">1000</td></tr></tbody></table></div>"
      ],
      "text/latex": [
       "\\begin{tabular}{r|cccc}\n",
       "\t& customer\\_id & sales\\_ymd & application\\_date & elapsed\\_days\\\\\n",
       "\t\\hline\n",
       "\t& String & Date & Date & Int64\\\\\n",
       "\t\\hline\n",
       "\t1 & CS001113000004 & 2019-03-08 & 2015-11-05 & 1219 \\\\\n",
       "\t2 & CS001114000005 & 2018-05-03 & 2016-04-12 & 751 \\\\\n",
       "\t3 & CS001114000005 & 2019-07-31 & 2016-04-12 & 1205 \\\\\n",
       "\t4 & CS001115000010 & 2017-12-28 & 2015-04-17 & 986 \\\\\n",
       "\t5 & CS001115000010 & 2018-07-01 & 2015-04-17 & 1171 \\\\\n",
       "\t6 & CS001115000010 & 2019-04-05 & 2015-04-17 & 1449 \\\\\n",
       "\t7 & CS001205000004 & 2017-09-14 & 2016-06-15 & 456 \\\\\n",
       "\t8 & CS001205000004 & 2018-08-21 & 2016-06-15 & 797 \\\\\n",
       "\t9 & CS001205000004 & 2018-09-04 & 2016-06-15 & 811 \\\\\n",
       "\t10 & CS001205000004 & 2019-03-12 & 2016-06-15 & 1000 \\\\\n",
       "\\end{tabular}\n"
      ],
      "text/plain": [
       "\u001b[1m10×4 DataFrame\u001b[0m\n",
       "\u001b[1m Row \u001b[0m│\u001b[1m customer_id    \u001b[0m\u001b[1m sales_ymd  \u001b[0m\u001b[1m application_date \u001b[0m\u001b[1m elapsed_days \u001b[0m\n",
       "     │\u001b[90m String         \u001b[0m\u001b[90m Date       \u001b[0m\u001b[90m Date             \u001b[0m\u001b[90m Int64        \u001b[0m\n",
       "─────┼────────────────────────────────────────────────────────────\n",
       "   1 │ CS001113000004  2019-03-08  2015-11-05                1219\n",
       "   2 │ CS001114000005  2018-05-03  2016-04-12                 751\n",
       "   3 │ CS001114000005  2019-07-31  2016-04-12                1205\n",
       "   4 │ CS001115000010  2017-12-28  2015-04-17                 986\n",
       "   5 │ CS001115000010  2018-07-01  2015-04-17                1171\n",
       "   6 │ CS001115000010  2019-04-05  2015-04-17                1449\n",
       "   7 │ CS001205000004  2017-09-14  2016-06-15                 456\n",
       "   8 │ CS001205000004  2018-08-21  2016-06-15                 797\n",
       "   9 │ CS001205000004  2018-09-04  2016-06-15                 811\n",
       "  10 │ CS001205000004  2019-03-12  2016-06-15                1000"
      ]
     },
     "execution_count": 76,
     "metadata": {},
     "output_type": "execute_result"
    }
   ],
   "source": [
    "@time \\\n",
    "@chain df_receipt begin\n",
    "    @select :customer_id :sales_ymd\n",
    "    @distinct :customer_id :sales_ymd\n",
    "    innerjoin(df_customer[!, [:customer_id, :application_date]], on=:customer_id)\n",
    "    @rtransform @astable begin\n",
    "        :sales_ymd = Date(string(:sales_ymd), \"yyyymmdd\")\n",
    "        :application_date = Date(:application_date, \"yyyymmdd\")\n",
    "        :elapsed_days = Dates.value(:sales_ymd - :application_date)\n",
    "    end\n",
    "    @orderby(:customer_id, :sales_ymd)\n",
    "    first(10)\n",
    "end"
   ]
  },
  {
   "cell_type": "markdown",
   "metadata": {},
   "source": [
    "---\n",
    "> P-071: レシート明細データ（df_receipt）の売上日（sales_ymd）に対し、顧客データ（df_customer）の会員申込日（application_date）からの経過月数を計算し、顧客ID（customer_id）、売上日、会員申込日とともに10件表示せよ（sales_ymdは数値、application_dateは文字列でデータを保持している点に注意）。1ヶ月未満は切り捨てること。"
   ]
  },
  {
   "cell_type": "code",
   "execution_count": 77,
   "metadata": {},
   "outputs": [
    {
     "name": "stdout",
     "output_type": "stream",
     "text": [
      "  0.000004 seconds\n"
     ]
    },
    {
     "data": {
      "text/html": [
       "<div><div style = \"float: left;\"><span>10×4 DataFrame</span></div><div style = \"clear: both;\"></div></div><div class = \"data-frame\" style = \"overflow-x: scroll;\"><table class = \"data-frame\" style = \"margin-bottom: 6px;\"><thead><tr class = \"header\"><th class = \"rowNumber\" style = \"font-weight: bold; text-align: right;\">Row</th><th style = \"text-align: left;\">customer_id</th><th style = \"text-align: left;\">sales_ymd</th><th style = \"text-align: left;\">application_date</th><th style = \"text-align: left;\">elapsed_months</th></tr><tr class = \"subheader headerLastRow\"><th class = \"rowNumber\" style = \"font-weight: bold; text-align: right;\"></th><th title = \"String\" style = \"text-align: left;\">String</th><th title = \"Date\" style = \"text-align: left;\">Date</th><th title = \"Date\" style = \"text-align: left;\">Date</th><th title = \"Int64\" style = \"text-align: left;\">Int64</th></tr></thead><tbody><tr><td class = \"rowNumber\" style = \"font-weight: bold; text-align: right;\">1</td><td style = \"text-align: left;\">CS001113000004</td><td style = \"text-align: left;\">2019-03-08</td><td style = \"text-align: left;\">2015-11-05</td><td style = \"text-align: right;\">40</td></tr><tr><td class = \"rowNumber\" style = \"font-weight: bold; text-align: right;\">2</td><td style = \"text-align: left;\">CS001114000005</td><td style = \"text-align: left;\">2018-05-03</td><td style = \"text-align: left;\">2016-04-12</td><td style = \"text-align: right;\">24</td></tr><tr><td class = \"rowNumber\" style = \"font-weight: bold; text-align: right;\">3</td><td style = \"text-align: left;\">CS001114000005</td><td style = \"text-align: left;\">2019-07-31</td><td style = \"text-align: left;\">2016-04-12</td><td style = \"text-align: right;\">39</td></tr><tr><td class = \"rowNumber\" style = \"font-weight: bold; text-align: right;\">4</td><td style = \"text-align: left;\">CS001115000010</td><td style = \"text-align: left;\">2017-12-28</td><td style = \"text-align: left;\">2015-04-17</td><td style = \"text-align: right;\">32</td></tr><tr><td class = \"rowNumber\" style = \"font-weight: bold; text-align: right;\">5</td><td style = \"text-align: left;\">CS001115000010</td><td style = \"text-align: left;\">2018-07-01</td><td style = \"text-align: left;\">2015-04-17</td><td style = \"text-align: right;\">38</td></tr><tr><td class = \"rowNumber\" style = \"font-weight: bold; text-align: right;\">6</td><td style = \"text-align: left;\">CS001115000010</td><td style = \"text-align: left;\">2019-04-05</td><td style = \"text-align: left;\">2015-04-17</td><td style = \"text-align: right;\">47</td></tr><tr><td class = \"rowNumber\" style = \"font-weight: bold; text-align: right;\">7</td><td style = \"text-align: left;\">CS001205000004</td><td style = \"text-align: left;\">2017-09-14</td><td style = \"text-align: left;\">2016-06-15</td><td style = \"text-align: right;\">14</td></tr><tr><td class = \"rowNumber\" style = \"font-weight: bold; text-align: right;\">8</td><td style = \"text-align: left;\">CS001205000004</td><td style = \"text-align: left;\">2018-08-21</td><td style = \"text-align: left;\">2016-06-15</td><td style = \"text-align: right;\">26</td></tr><tr><td class = \"rowNumber\" style = \"font-weight: bold; text-align: right;\">9</td><td style = \"text-align: left;\">CS001205000004</td><td style = \"text-align: left;\">2018-09-04</td><td style = \"text-align: left;\">2016-06-15</td><td style = \"text-align: right;\">26</td></tr><tr><td class = \"rowNumber\" style = \"font-weight: bold; text-align: right;\">10</td><td style = \"text-align: left;\">CS001205000004</td><td style = \"text-align: left;\">2019-03-12</td><td style = \"text-align: left;\">2016-06-15</td><td style = \"text-align: right;\">32</td></tr></tbody></table></div>"
      ],
      "text/latex": [
       "\\begin{tabular}{r|cccc}\n",
       "\t& customer\\_id & sales\\_ymd & application\\_date & elapsed\\_months\\\\\n",
       "\t\\hline\n",
       "\t& String & Date & Date & Int64\\\\\n",
       "\t\\hline\n",
       "\t1 & CS001113000004 & 2019-03-08 & 2015-11-05 & 40 \\\\\n",
       "\t2 & CS001114000005 & 2018-05-03 & 2016-04-12 & 24 \\\\\n",
       "\t3 & CS001114000005 & 2019-07-31 & 2016-04-12 & 39 \\\\\n",
       "\t4 & CS001115000010 & 2017-12-28 & 2015-04-17 & 32 \\\\\n",
       "\t5 & CS001115000010 & 2018-07-01 & 2015-04-17 & 38 \\\\\n",
       "\t6 & CS001115000010 & 2019-04-05 & 2015-04-17 & 47 \\\\\n",
       "\t7 & CS001205000004 & 2017-09-14 & 2016-06-15 & 14 \\\\\n",
       "\t8 & CS001205000004 & 2018-08-21 & 2016-06-15 & 26 \\\\\n",
       "\t9 & CS001205000004 & 2018-09-04 & 2016-06-15 & 26 \\\\\n",
       "\t10 & CS001205000004 & 2019-03-12 & 2016-06-15 & 32 \\\\\n",
       "\\end{tabular}\n"
      ],
      "text/plain": [
       "\u001b[1m10×4 DataFrame\u001b[0m\n",
       "\u001b[1m Row \u001b[0m│\u001b[1m customer_id    \u001b[0m\u001b[1m sales_ymd  \u001b[0m\u001b[1m application_date \u001b[0m\u001b[1m elapsed_months \u001b[0m\n",
       "     │\u001b[90m String         \u001b[0m\u001b[90m Date       \u001b[0m\u001b[90m Date             \u001b[0m\u001b[90m Int64          \u001b[0m\n",
       "─────┼──────────────────────────────────────────────────────────────\n",
       "   1 │ CS001113000004  2019-03-08  2015-11-05                    40\n",
       "   2 │ CS001114000005  2018-05-03  2016-04-12                    24\n",
       "   3 │ CS001114000005  2019-07-31  2016-04-12                    39\n",
       "   4 │ CS001115000010  2017-12-28  2015-04-17                    32\n",
       "   5 │ CS001115000010  2018-07-01  2015-04-17                    38\n",
       "   6 │ CS001115000010  2019-04-05  2015-04-17                    47\n",
       "   7 │ CS001205000004  2017-09-14  2016-06-15                    14\n",
       "   8 │ CS001205000004  2018-08-21  2016-06-15                    26\n",
       "   9 │ CS001205000004  2018-09-04  2016-06-15                    26\n",
       "  10 │ CS001205000004  2019-03-12  2016-06-15                    32"
      ]
     },
     "execution_count": 77,
     "metadata": {},
     "output_type": "execute_result"
    }
   ],
   "source": [
    "@time \\\n",
    "@chain df_receipt begin\n",
    "    @select :customer_id :sales_ymd\n",
    "    @distinct :customer_id :sales_ymd\n",
    "    innerjoin(df_customer[!, [:customer_id, :application_date]], on=:customer_id)\n",
    "    @rtransform @astable begin\n",
    "        :sales_ymd = Date(string(:sales_ymd), \"yyyymmdd\")\n",
    "        :application_date = Date(:application_date, \"yyyymmdd\")\n",
    "        :delta = relativedelta(:sales_ymd, :application_date)\n",
    "        :elapsed_months = :delta.years * 12 + :delta.months\n",
    "    end\n",
    "    @select $(Not(:delta))\n",
    "    @orderby(:customer_id, :sales_ymd)\n",
    "    first(10)\n",
    "end"
   ]
  },
  {
   "cell_type": "markdown",
   "metadata": {},
   "source": [
    "---\n",
    "> P-072: レシート明細データ（df_receipt）の売上日（df_customer）に対し、顧客データ（df_customer）の会員申込日（application_date）からの経過年数を計算し、顧客ID（customer_id）、売上日、会員申込日とともに10件表示せよ（sales_ymdは数値、application_dateは文字列でデータを保持している点に注意）。1年未満は切り捨てること。"
   ]
  },
  {
   "cell_type": "code",
   "execution_count": 78,
   "metadata": {},
   "outputs": [
    {
     "name": "stdout",
     "output_type": "stream",
     "text": [
      "  0.000001 seconds\n"
     ]
    },
    {
     "data": {
      "text/html": [
       "<div><div style = \"float: left;\"><span>10×4 DataFrame</span></div><div style = \"clear: both;\"></div></div><div class = \"data-frame\" style = \"overflow-x: scroll;\"><table class = \"data-frame\" style = \"margin-bottom: 6px;\"><thead><tr class = \"header\"><th class = \"rowNumber\" style = \"font-weight: bold; text-align: right;\">Row</th><th style = \"text-align: left;\">customer_id</th><th style = \"text-align: left;\">sales_ymd</th><th style = \"text-align: left;\">application_date</th><th style = \"text-align: left;\">elapsed_years</th></tr><tr class = \"subheader headerLastRow\"><th class = \"rowNumber\" style = \"font-weight: bold; text-align: right;\"></th><th title = \"String\" style = \"text-align: left;\">String</th><th title = \"Date\" style = \"text-align: left;\">Date</th><th title = \"Date\" style = \"text-align: left;\">Date</th><th title = \"Int64\" style = \"text-align: left;\">Int64</th></tr></thead><tbody><tr><td class = \"rowNumber\" style = \"font-weight: bold; text-align: right;\">1</td><td style = \"text-align: left;\">CS001113000004</td><td style = \"text-align: left;\">2019-03-08</td><td style = \"text-align: left;\">2015-11-05</td><td style = \"text-align: right;\">3</td></tr><tr><td class = \"rowNumber\" style = \"font-weight: bold; text-align: right;\">2</td><td style = \"text-align: left;\">CS001114000005</td><td style = \"text-align: left;\">2018-05-03</td><td style = \"text-align: left;\">2016-04-12</td><td style = \"text-align: right;\">2</td></tr><tr><td class = \"rowNumber\" style = \"font-weight: bold; text-align: right;\">3</td><td style = \"text-align: left;\">CS001114000005</td><td style = \"text-align: left;\">2019-07-31</td><td style = \"text-align: left;\">2016-04-12</td><td style = \"text-align: right;\">3</td></tr><tr><td class = \"rowNumber\" style = \"font-weight: bold; text-align: right;\">4</td><td style = \"text-align: left;\">CS001115000010</td><td style = \"text-align: left;\">2017-12-28</td><td style = \"text-align: left;\">2015-04-17</td><td style = \"text-align: right;\">2</td></tr><tr><td class = \"rowNumber\" style = \"font-weight: bold; text-align: right;\">5</td><td style = \"text-align: left;\">CS001115000010</td><td style = \"text-align: left;\">2018-07-01</td><td style = \"text-align: left;\">2015-04-17</td><td style = \"text-align: right;\">3</td></tr><tr><td class = \"rowNumber\" style = \"font-weight: bold; text-align: right;\">6</td><td style = \"text-align: left;\">CS001115000010</td><td style = \"text-align: left;\">2019-04-05</td><td style = \"text-align: left;\">2015-04-17</td><td style = \"text-align: right;\">3</td></tr><tr><td class = \"rowNumber\" style = \"font-weight: bold; text-align: right;\">7</td><td style = \"text-align: left;\">CS001205000004</td><td style = \"text-align: left;\">2017-09-14</td><td style = \"text-align: left;\">2016-06-15</td><td style = \"text-align: right;\">1</td></tr><tr><td class = \"rowNumber\" style = \"font-weight: bold; text-align: right;\">8</td><td style = \"text-align: left;\">CS001205000004</td><td style = \"text-align: left;\">2018-08-21</td><td style = \"text-align: left;\">2016-06-15</td><td style = \"text-align: right;\">2</td></tr><tr><td class = \"rowNumber\" style = \"font-weight: bold; text-align: right;\">9</td><td style = \"text-align: left;\">CS001205000004</td><td style = \"text-align: left;\">2018-09-04</td><td style = \"text-align: left;\">2016-06-15</td><td style = \"text-align: right;\">2</td></tr><tr><td class = \"rowNumber\" style = \"font-weight: bold; text-align: right;\">10</td><td style = \"text-align: left;\">CS001205000004</td><td style = \"text-align: left;\">2019-03-12</td><td style = \"text-align: left;\">2016-06-15</td><td style = \"text-align: right;\">2</td></tr></tbody></table></div>"
      ],
      "text/latex": [
       "\\begin{tabular}{r|cccc}\n",
       "\t& customer\\_id & sales\\_ymd & application\\_date & elapsed\\_years\\\\\n",
       "\t\\hline\n",
       "\t& String & Date & Date & Int64\\\\\n",
       "\t\\hline\n",
       "\t1 & CS001113000004 & 2019-03-08 & 2015-11-05 & 3 \\\\\n",
       "\t2 & CS001114000005 & 2018-05-03 & 2016-04-12 & 2 \\\\\n",
       "\t3 & CS001114000005 & 2019-07-31 & 2016-04-12 & 3 \\\\\n",
       "\t4 & CS001115000010 & 2017-12-28 & 2015-04-17 & 2 \\\\\n",
       "\t5 & CS001115000010 & 2018-07-01 & 2015-04-17 & 3 \\\\\n",
       "\t6 & CS001115000010 & 2019-04-05 & 2015-04-17 & 3 \\\\\n",
       "\t7 & CS001205000004 & 2017-09-14 & 2016-06-15 & 1 \\\\\n",
       "\t8 & CS001205000004 & 2018-08-21 & 2016-06-15 & 2 \\\\\n",
       "\t9 & CS001205000004 & 2018-09-04 & 2016-06-15 & 2 \\\\\n",
       "\t10 & CS001205000004 & 2019-03-12 & 2016-06-15 & 2 \\\\\n",
       "\\end{tabular}\n"
      ],
      "text/plain": [
       "\u001b[1m10×4 DataFrame\u001b[0m\n",
       "\u001b[1m Row \u001b[0m│\u001b[1m customer_id    \u001b[0m\u001b[1m sales_ymd  \u001b[0m\u001b[1m application_date \u001b[0m\u001b[1m elapsed_years \u001b[0m\n",
       "     │\u001b[90m String         \u001b[0m\u001b[90m Date       \u001b[0m\u001b[90m Date             \u001b[0m\u001b[90m Int64         \u001b[0m\n",
       "─────┼─────────────────────────────────────────────────────────────\n",
       "   1 │ CS001113000004  2019-03-08  2015-11-05                    3\n",
       "   2 │ CS001114000005  2018-05-03  2016-04-12                    2\n",
       "   3 │ CS001114000005  2019-07-31  2016-04-12                    3\n",
       "   4 │ CS001115000010  2017-12-28  2015-04-17                    2\n",
       "   5 │ CS001115000010  2018-07-01  2015-04-17                    3\n",
       "   6 │ CS001115000010  2019-04-05  2015-04-17                    3\n",
       "   7 │ CS001205000004  2017-09-14  2016-06-15                    1\n",
       "   8 │ CS001205000004  2018-08-21  2016-06-15                    2\n",
       "   9 │ CS001205000004  2018-09-04  2016-06-15                    2\n",
       "  10 │ CS001205000004  2019-03-12  2016-06-15                    2"
      ]
     },
     "execution_count": 78,
     "metadata": {},
     "output_type": "execute_result"
    }
   ],
   "source": [
    "@time \\\n",
    "@chain df_receipt begin\n",
    "    @select :customer_id :sales_ymd\n",
    "    @distinct :customer_id :sales_ymd\n",
    "    innerjoin(df_customer[!, [:customer_id, :application_date]], on=:customer_id)\n",
    "    @rtransform @astable begin\n",
    "        :sales_ymd = Date(string(:sales_ymd), \"yyyymmdd\")\n",
    "        :application_date = Date(:application_date, \"yyyymmdd\")\n",
    "        :elapsed_years = relativedelta(:sales_ymd, :application_date).years\n",
    "    end\n",
    "    @orderby(:customer_id, :sales_ymd)\n",
    "    first(10)\n",
    "end"
   ]
  },
  {
   "cell_type": "markdown",
   "metadata": {},
   "source": [
    "---\n",
    "> P-073: レシート明細データ（df_receipt）の売上日（sales_ymd）に対し、顧客データ（df_customer）の会員申込日（application_date）からのエポック秒による経過時間を計算し、顧客ID（customer_id）、売上日、会員申込日とともに10件表示せよ（なお、sales_ymdは数値、application_dateは文字列でデータを保持している点に注意）。なお、時間情報は保有していないため各日付は0時0分0秒を表すものとする。"
   ]
  },
  {
   "cell_type": "code",
   "execution_count": 79,
   "metadata": {},
   "outputs": [
    {
     "name": "stdout",
     "output_type": "stream",
     "text": [
      "  0.000001 seconds\n"
     ]
    },
    {
     "data": {
      "text/html": [
       "<div><div style = \"float: left;\"><span>10×4 DataFrame</span></div><div style = \"clear: both;\"></div></div><div class = \"data-frame\" style = \"overflow-x: scroll;\"><table class = \"data-frame\" style = \"margin-bottom: 6px;\"><thead><tr class = \"header\"><th class = \"rowNumber\" style = \"font-weight: bold; text-align: right;\">Row</th><th style = \"text-align: left;\">customer_id</th><th style = \"text-align: left;\">sales_ymd</th><th style = \"text-align: left;\">application_date</th><th style = \"text-align: left;\">elapsed_epoch</th></tr><tr class = \"subheader headerLastRow\"><th class = \"rowNumber\" style = \"font-weight: bold; text-align: right;\"></th><th title = \"String\" style = \"text-align: left;\">String</th><th title = \"DateTime\" style = \"text-align: left;\">DateTime</th><th title = \"DateTime\" style = \"text-align: left;\">DateTime</th><th title = \"Float64\" style = \"text-align: left;\">Float64</th></tr></thead><tbody><tr><td class = \"rowNumber\" style = \"font-weight: bold; text-align: right;\">1</td><td style = \"text-align: left;\">CS001113000004</td><td style = \"text-align: left;\">2019-03-08T00:00:00</td><td style = \"text-align: left;\">2015-11-05T00:00:00</td><td style = \"text-align: right;\">1.05322e8</td></tr><tr><td class = \"rowNumber\" style = \"font-weight: bold; text-align: right;\">2</td><td style = \"text-align: left;\">CS001114000005</td><td style = \"text-align: left;\">2018-05-03T00:00:00</td><td style = \"text-align: left;\">2016-04-12T00:00:00</td><td style = \"text-align: right;\">6.48864e7</td></tr><tr><td class = \"rowNumber\" style = \"font-weight: bold; text-align: right;\">3</td><td style = \"text-align: left;\">CS001114000005</td><td style = \"text-align: left;\">2019-07-31T00:00:00</td><td style = \"text-align: left;\">2016-04-12T00:00:00</td><td style = \"text-align: right;\">1.04112e8</td></tr><tr><td class = \"rowNumber\" style = \"font-weight: bold; text-align: right;\">4</td><td style = \"text-align: left;\">CS001115000010</td><td style = \"text-align: left;\">2017-12-28T00:00:00</td><td style = \"text-align: left;\">2015-04-17T00:00:00</td><td style = \"text-align: right;\">8.51904e7</td></tr><tr><td class = \"rowNumber\" style = \"font-weight: bold; text-align: right;\">5</td><td style = \"text-align: left;\">CS001115000010</td><td style = \"text-align: left;\">2018-07-01T00:00:00</td><td style = \"text-align: left;\">2015-04-17T00:00:00</td><td style = \"text-align: right;\">1.01174e8</td></tr><tr><td class = \"rowNumber\" style = \"font-weight: bold; text-align: right;\">6</td><td style = \"text-align: left;\">CS001115000010</td><td style = \"text-align: left;\">2019-04-05T00:00:00</td><td style = \"text-align: left;\">2015-04-17T00:00:00</td><td style = \"text-align: right;\">1.25194e8</td></tr><tr><td class = \"rowNumber\" style = \"font-weight: bold; text-align: right;\">7</td><td style = \"text-align: left;\">CS001205000004</td><td style = \"text-align: left;\">2017-09-14T00:00:00</td><td style = \"text-align: left;\">2016-06-15T00:00:00</td><td style = \"text-align: right;\">3.93984e7</td></tr><tr><td class = \"rowNumber\" style = \"font-weight: bold; text-align: right;\">8</td><td style = \"text-align: left;\">CS001205000004</td><td style = \"text-align: left;\">2018-08-21T00:00:00</td><td style = \"text-align: left;\">2016-06-15T00:00:00</td><td style = \"text-align: right;\">6.88608e7</td></tr><tr><td class = \"rowNumber\" style = \"font-weight: bold; text-align: right;\">9</td><td style = \"text-align: left;\">CS001205000004</td><td style = \"text-align: left;\">2018-09-04T00:00:00</td><td style = \"text-align: left;\">2016-06-15T00:00:00</td><td style = \"text-align: right;\">7.00704e7</td></tr><tr><td class = \"rowNumber\" style = \"font-weight: bold; text-align: right;\">10</td><td style = \"text-align: left;\">CS001205000004</td><td style = \"text-align: left;\">2019-03-12T00:00:00</td><td style = \"text-align: left;\">2016-06-15T00:00:00</td><td style = \"text-align: right;\">8.64e7</td></tr></tbody></table></div>"
      ],
      "text/latex": [
       "\\begin{tabular}{r|cccc}\n",
       "\t& customer\\_id & sales\\_ymd & application\\_date & elapsed\\_epoch\\\\\n",
       "\t\\hline\n",
       "\t& String & DateTime & DateTime & Float64\\\\\n",
       "\t\\hline\n",
       "\t1 & CS001113000004 & 2019-03-08T00:00:00 & 2015-11-05T00:00:00 & 1.05322e8 \\\\\n",
       "\t2 & CS001114000005 & 2018-05-03T00:00:00 & 2016-04-12T00:00:00 & 6.48864e7 \\\\\n",
       "\t3 & CS001114000005 & 2019-07-31T00:00:00 & 2016-04-12T00:00:00 & 1.04112e8 \\\\\n",
       "\t4 & CS001115000010 & 2017-12-28T00:00:00 & 2015-04-17T00:00:00 & 8.51904e7 \\\\\n",
       "\t5 & CS001115000010 & 2018-07-01T00:00:00 & 2015-04-17T00:00:00 & 1.01174e8 \\\\\n",
       "\t6 & CS001115000010 & 2019-04-05T00:00:00 & 2015-04-17T00:00:00 & 1.25194e8 \\\\\n",
       "\t7 & CS001205000004 & 2017-09-14T00:00:00 & 2016-06-15T00:00:00 & 3.93984e7 \\\\\n",
       "\t8 & CS001205000004 & 2018-08-21T00:00:00 & 2016-06-15T00:00:00 & 6.88608e7 \\\\\n",
       "\t9 & CS001205000004 & 2018-09-04T00:00:00 & 2016-06-15T00:00:00 & 7.00704e7 \\\\\n",
       "\t10 & CS001205000004 & 2019-03-12T00:00:00 & 2016-06-15T00:00:00 & 8.64e7 \\\\\n",
       "\\end{tabular}\n"
      ],
      "text/plain": [
       "\u001b[1m10×4 DataFrame\u001b[0m\n",
       "\u001b[1m Row \u001b[0m│\u001b[1m customer_id    \u001b[0m\u001b[1m sales_ymd           \u001b[0m\u001b[1m application_date    \u001b[0m\u001b[1m elapsed_epoch\u001b[0m ⋯\n",
       "     │\u001b[90m String         \u001b[0m\u001b[90m DateTime            \u001b[0m\u001b[90m DateTime            \u001b[0m\u001b[90m Float64      \u001b[0m ⋯\n",
       "─────┼──────────────────────────────────────────────────────────────────────────\n",
       "   1 │ CS001113000004  2019-03-08T00:00:00  2015-11-05T00:00:00      1.05322e8 ⋯\n",
       "   2 │ CS001114000005  2018-05-03T00:00:00  2016-04-12T00:00:00      6.48864e7\n",
       "   3 │ CS001114000005  2019-07-31T00:00:00  2016-04-12T00:00:00      1.04112e8\n",
       "   4 │ CS001115000010  2017-12-28T00:00:00  2015-04-17T00:00:00      8.51904e7\n",
       "   5 │ CS001115000010  2018-07-01T00:00:00  2015-04-17T00:00:00      1.01174e8 ⋯\n",
       "   6 │ CS001115000010  2019-04-05T00:00:00  2015-04-17T00:00:00      1.25194e8\n",
       "   7 │ CS001205000004  2017-09-14T00:00:00  2016-06-15T00:00:00      3.93984e7\n",
       "   8 │ CS001205000004  2018-08-21T00:00:00  2016-06-15T00:00:00      6.88608e7\n",
       "   9 │ CS001205000004  2018-09-04T00:00:00  2016-06-15T00:00:00      7.00704e7 ⋯\n",
       "  10 │ CS001205000004  2019-03-12T00:00:00  2016-06-15T00:00:00      8.64e7"
      ]
     },
     "execution_count": 79,
     "metadata": {},
     "output_type": "execute_result"
    }
   ],
   "source": [
    "@time \\\n",
    "@chain df_receipt begin\n",
    "    @select :customer_id :sales_ymd\n",
    "    @distinct :customer_id :sales_ymd\n",
    "    innerjoin(df_customer[!, [:customer_id, :application_date]], on=:customer_id)\n",
    "    @rtransform @astable begin\n",
    "        :sales_ymd = DateTime(string(:sales_ymd), \"yyyymmdd\")\n",
    "        :application_date = DateTime(:application_date, \"yyyymmdd\")\n",
    "        :elapsed_epoch = datetime2unix(:sales_ymd) - datetime2unix(:application_date)\n",
    "    end\n",
    "    @orderby(:customer_id, :sales_ymd)\n",
    "    first(10)\n",
    "end"
   ]
  },
  {
   "cell_type": "markdown",
   "metadata": {},
   "source": [
    "---\n",
    "> P-074: レシート明細データ（df_receipt）の売上日（sales_ymd）に対し、当該週の月曜日からの経過日数を計算し、売上日、直前の月曜日付とともに10件表示せよ（sales_ymdは数値でデータを保持している点に注意）。"
   ]
  },
  {
   "cell_type": "code",
   "execution_count": 80,
   "metadata": {},
   "outputs": [
    {
     "name": "stdout",
     "output_type": "stream",
     "text": [
      "  0.000002 seconds\n"
     ]
    },
    {
     "data": {
      "text/html": [
       "<div><div style = \"float: left;\"><span>10×4 DataFrame</span></div><div style = \"clear: both;\"></div></div><div class = \"data-frame\" style = \"overflow-x: scroll;\"><table class = \"data-frame\" style = \"margin-bottom: 6px;\"><thead><tr class = \"header\"><th class = \"rowNumber\" style = \"font-weight: bold; text-align: right;\">Row</th><th style = \"text-align: left;\">customer_id</th><th style = \"text-align: left;\">sales_ymd</th><th style = \"text-align: left;\">monday</th><th style = \"text-align: left;\">elapsed_days</th></tr><tr class = \"subheader headerLastRow\"><th class = \"rowNumber\" style = \"font-weight: bold; text-align: right;\"></th><th title = \"String\" style = \"text-align: left;\">String</th><th title = \"Date\" style = \"text-align: left;\">Date</th><th title = \"Date\" style = \"text-align: left;\">Date</th><th title = \"Int64\" style = \"text-align: left;\">Int64</th></tr></thead><tbody><tr><td class = \"rowNumber\" style = \"font-weight: bold; text-align: right;\">1</td><td style = \"text-align: left;\">CS006214000001</td><td style = \"text-align: left;\">2018-11-03</td><td style = \"text-align: left;\">2018-10-29</td><td style = \"text-align: right;\">5</td></tr><tr><td class = \"rowNumber\" style = \"font-weight: bold; text-align: right;\">2</td><td style = \"text-align: left;\">CS008415000097</td><td style = \"text-align: left;\">2018-11-18</td><td style = \"text-align: left;\">2018-11-12</td><td style = \"text-align: right;\">6</td></tr><tr><td class = \"rowNumber\" style = \"font-weight: bold; text-align: right;\">3</td><td style = \"text-align: left;\">CS028414000014</td><td style = \"text-align: left;\">2017-07-12</td><td style = \"text-align: left;\">2017-07-10</td><td style = \"text-align: right;\">2</td></tr><tr><td class = \"rowNumber\" style = \"font-weight: bold; text-align: right;\">4</td><td style = \"text-align: left;\">ZZ000000000000</td><td style = \"text-align: left;\">2019-02-05</td><td style = \"text-align: left;\">2019-02-04</td><td style = \"text-align: right;\">1</td></tr><tr><td class = \"rowNumber\" style = \"font-weight: bold; text-align: right;\">5</td><td style = \"text-align: left;\">CS025415000050</td><td style = \"text-align: left;\">2018-08-21</td><td style = \"text-align: left;\">2018-08-20</td><td style = \"text-align: right;\">1</td></tr><tr><td class = \"rowNumber\" style = \"font-weight: bold; text-align: right;\">6</td><td style = \"text-align: left;\">CS003515000195</td><td style = \"text-align: left;\">2019-06-05</td><td style = \"text-align: left;\">2019-06-03</td><td style = \"text-align: right;\">2</td></tr><tr><td class = \"rowNumber\" style = \"font-weight: bold; text-align: right;\">7</td><td style = \"text-align: left;\">CS024514000042</td><td style = \"text-align: left;\">2018-12-05</td><td style = \"text-align: left;\">2018-12-03</td><td style = \"text-align: right;\">2</td></tr><tr><td class = \"rowNumber\" style = \"font-weight: bold; text-align: right;\">8</td><td style = \"text-align: left;\">CS040415000178</td><td style = \"text-align: left;\">2019-09-22</td><td style = \"text-align: left;\">2019-09-16</td><td style = \"text-align: right;\">6</td></tr><tr><td class = \"rowNumber\" style = \"font-weight: bold; text-align: right;\">9</td><td style = \"text-align: left;\">ZZ000000000000</td><td style = \"text-align: left;\">2017-05-04</td><td style = \"text-align: left;\">2017-05-01</td><td style = \"text-align: right;\">3</td></tr><tr><td class = \"rowNumber\" style = \"font-weight: bold; text-align: right;\">10</td><td style = \"text-align: left;\">CS027514000015</td><td style = \"text-align: left;\">2019-10-10</td><td style = \"text-align: left;\">2019-10-07</td><td style = \"text-align: right;\">3</td></tr></tbody></table></div>"
      ],
      "text/latex": [
       "\\begin{tabular}{r|cccc}\n",
       "\t& customer\\_id & sales\\_ymd & monday & elapsed\\_days\\\\\n",
       "\t\\hline\n",
       "\t& String & Date & Date & Int64\\\\\n",
       "\t\\hline\n",
       "\t1 & CS006214000001 & 2018-11-03 & 2018-10-29 & 5 \\\\\n",
       "\t2 & CS008415000097 & 2018-11-18 & 2018-11-12 & 6 \\\\\n",
       "\t3 & CS028414000014 & 2017-07-12 & 2017-07-10 & 2 \\\\\n",
       "\t4 & ZZ000000000000 & 2019-02-05 & 2019-02-04 & 1 \\\\\n",
       "\t5 & CS025415000050 & 2018-08-21 & 2018-08-20 & 1 \\\\\n",
       "\t6 & CS003515000195 & 2019-06-05 & 2019-06-03 & 2 \\\\\n",
       "\t7 & CS024514000042 & 2018-12-05 & 2018-12-03 & 2 \\\\\n",
       "\t8 & CS040415000178 & 2019-09-22 & 2019-09-16 & 6 \\\\\n",
       "\t9 & ZZ000000000000 & 2017-05-04 & 2017-05-01 & 3 \\\\\n",
       "\t10 & CS027514000015 & 2019-10-10 & 2019-10-07 & 3 \\\\\n",
       "\\end{tabular}\n"
      ],
      "text/plain": [
       "\u001b[1m10×4 DataFrame\u001b[0m\n",
       "\u001b[1m Row \u001b[0m│\u001b[1m customer_id    \u001b[0m\u001b[1m sales_ymd  \u001b[0m\u001b[1m monday     \u001b[0m\u001b[1m elapsed_days \u001b[0m\n",
       "     │\u001b[90m String         \u001b[0m\u001b[90m Date       \u001b[0m\u001b[90m Date       \u001b[0m\u001b[90m Int64        \u001b[0m\n",
       "─────┼──────────────────────────────────────────────────────\n",
       "   1 │ CS006214000001  2018-11-03  2018-10-29             5\n",
       "   2 │ CS008415000097  2018-11-18  2018-11-12             6\n",
       "   3 │ CS028414000014  2017-07-12  2017-07-10             2\n",
       "   4 │ ZZ000000000000  2019-02-05  2019-02-04             1\n",
       "   5 │ CS025415000050  2018-08-21  2018-08-20             1\n",
       "   6 │ CS003515000195  2019-06-05  2019-06-03             2\n",
       "   7 │ CS024514000042  2018-12-05  2018-12-03             2\n",
       "   8 │ CS040415000178  2019-09-22  2019-09-16             6\n",
       "   9 │ ZZ000000000000  2017-05-04  2017-05-01             3\n",
       "  10 │ CS027514000015  2019-10-10  2019-10-07             3"
      ]
     },
     "execution_count": 80,
     "metadata": {},
     "output_type": "execute_result"
    }
   ],
   "source": [
    "@time \\\n",
    "@chain df_receipt begin\n",
    "    @select :customer_id :sales_ymd\n",
    "    @rtransform @astable begin\n",
    "        :sales_ymd = Date(string(:sales_ymd), \"yyyymmdd\")\n",
    "        :monday = firstdayofweek(:sales_ymd)\n",
    "        :elapsed_days = Dates.value(:sales_ymd - :monday)\n",
    "    end\n",
    "    first(10)\n",
    "end"
   ]
  },
  {
   "cell_type": "markdown",
   "metadata": {},
   "source": [
    "---\n",
    "> P-075: 顧客データ（df_customer）からランダムに1%のデータを抽出し、先頭から10件表示せよ。"
   ]
  },
  {
   "cell_type": "code",
   "execution_count": 81,
   "metadata": {},
   "outputs": [
    {
     "data": {
      "text/html": [
       "<div><div style = \"float: left;\"><span>10×11 DataFrame</span></div><div style = \"clear: both;\"></div></div><div class = \"data-frame\" style = \"overflow-x: scroll;\"><table class = \"data-frame\" style = \"margin-bottom: 6px;\"><thead><tr class = \"header\"><th class = \"rowNumber\" style = \"font-weight: bold; text-align: right;\">Row</th><th style = \"text-align: left;\">customer_id</th><th style = \"text-align: left;\">customer_name</th><th style = \"text-align: left;\">gender_cd</th><th style = \"text-align: left;\">gender</th><th style = \"text-align: left;\">birth_day</th><th style = \"text-align: left;\">age</th><th style = \"text-align: left;\">postal_cd</th><th style = \"text-align: left;\">address</th><th style = \"text-align: left;\">application_store_cd</th><th style = \"text-align: left;\">application_date</th><th style = \"text-align: left;\">status_cd</th></tr><tr class = \"subheader headerLastRow\"><th class = \"rowNumber\" style = \"font-weight: bold; text-align: right;\"></th><th title = \"String\" style = \"text-align: left;\">String</th><th title = \"InlineStrings.String31\" style = \"text-align: left;\">String31</th><th title = \"String\" style = \"text-align: left;\">String</th><th title = \"InlineStrings.String7\" style = \"text-align: left;\">String7</th><th title = \"Date\" style = \"text-align: left;\">Date</th><th title = \"Int64\" style = \"text-align: left;\">Int64</th><th title = \"String\" style = \"text-align: left;\">String</th><th title = \"String\" style = \"text-align: left;\">String</th><th title = \"String\" style = \"text-align: left;\">String</th><th title = \"String\" style = \"text-align: left;\">String</th><th title = \"String\" style = \"text-align: left;\">String</th></tr></thead><tbody><tr><td class = \"rowNumber\" style = \"font-weight: bold; text-align: right;\">1</td><td style = \"text-align: left;\">CS016613000029</td><td style = \"text-align: left;\">上原 咲</td><td style = \"text-align: left;\">1</td><td style = \"text-align: left;\">女性</td><td style = \"text-align: left;\">1953-07-13</td><td style = \"text-align: right;\">65</td><td style = \"text-align: left;\">184-0004</td><td style = \"text-align: left;\">東京都小金井市本町**********</td><td style = \"text-align: left;\">S13016</td><td style = \"text-align: left;\">20150501</td><td style = \"text-align: left;\">0-00000000-0</td></tr><tr><td class = \"rowNumber\" style = \"font-weight: bold; text-align: right;\">2</td><td style = \"text-align: left;\">CS002805000005</td><td style = \"text-align: left;\">石川 明慶</td><td style = \"text-align: left;\">0</td><td style = \"text-align: left;\">男性</td><td style = \"text-align: left;\">1932-09-22</td><td style = \"text-align: right;\">86</td><td style = \"text-align: left;\">185-0013</td><td style = \"text-align: left;\">東京都国分寺市西恋ケ窪**********</td><td style = \"text-align: left;\">S13002</td><td style = \"text-align: left;\">20170701</td><td style = \"text-align: left;\">3-20100829-2</td></tr><tr><td class = \"rowNumber\" style = \"font-weight: bold; text-align: right;\">3</td><td style = \"text-align: left;\">CS030715000037</td><td style = \"text-align: left;\">柴田 千夏</td><td style = \"text-align: left;\">1</td><td style = \"text-align: left;\">女性</td><td style = \"text-align: left;\">1939-07-03</td><td style = \"text-align: right;\">79</td><td style = \"text-align: left;\">272-0022</td><td style = \"text-align: left;\">千葉県市川市鬼越**********</td><td style = \"text-align: left;\">S12030</td><td style = \"text-align: left;\">20141130</td><td style = \"text-align: left;\">0-00000000-0</td></tr><tr><td class = \"rowNumber\" style = \"font-weight: bold; text-align: right;\">4</td><td style = \"text-align: left;\">CS011415000030</td><td style = \"text-align: left;\">川田 鉄二</td><td style = \"text-align: left;\">9</td><td style = \"text-align: left;\">不明</td><td style = \"text-align: left;\">1971-12-01</td><td style = \"text-align: right;\">47</td><td style = \"text-align: left;\">223-0062</td><td style = \"text-align: left;\">神奈川県横浜市港北区日吉本町**********</td><td style = \"text-align: left;\">S14011</td><td style = \"text-align: left;\">20150422</td><td style = \"text-align: left;\">9-20101021-C</td></tr><tr><td class = \"rowNumber\" style = \"font-weight: bold; text-align: right;\">5</td><td style = \"text-align: left;\">CS034515000020</td><td style = \"text-align: left;\">戸塚 優</td><td style = \"text-align: left;\">1</td><td style = \"text-align: left;\">女性</td><td style = \"text-align: left;\">1960-02-21</td><td style = \"text-align: right;\">59</td><td style = \"text-align: left;\">216-0001</td><td style = \"text-align: left;\">神奈川県川崎市宮前区野川**********</td><td style = \"text-align: left;\">S14034</td><td style = \"text-align: left;\">20150630</td><td style = \"text-align: left;\">E-20100805-E</td></tr><tr><td class = \"rowNumber\" style = \"font-weight: bold; text-align: right;\">6</td><td style = \"text-align: left;\">CS039511000003</td><td style = \"text-align: left;\">柴田 涼</td><td style = \"text-align: left;\">1</td><td style = \"text-align: left;\">女性</td><td style = \"text-align: left;\">1959-06-06</td><td style = \"text-align: right;\">59</td><td style = \"text-align: left;\">166-0001</td><td style = \"text-align: left;\">東京都杉並区阿佐谷北**********</td><td style = \"text-align: left;\">S13039</td><td style = \"text-align: left;\">20151028</td><td style = \"text-align: left;\">0-00000000-0</td></tr><tr><td class = \"rowNumber\" style = \"font-weight: bold; text-align: right;\">7</td><td style = \"text-align: left;\">CS026715000064</td><td style = \"text-align: left;\">杉原 倫子</td><td style = \"text-align: left;\">1</td><td style = \"text-align: left;\">女性</td><td style = \"text-align: left;\">1945-11-29</td><td style = \"text-align: right;\">73</td><td style = \"text-align: left;\">251-0046</td><td style = \"text-align: left;\">神奈川県藤沢市辻堂西海岸**********</td><td style = \"text-align: left;\">S14026</td><td style = \"text-align: left;\">20150629</td><td style = \"text-align: left;\">0-00000000-0</td></tr><tr><td class = \"rowNumber\" style = \"font-weight: bold; text-align: right;\">8</td><td style = \"text-align: left;\">CS002503000146</td><td style = \"text-align: left;\">山口 菊生</td><td style = \"text-align: left;\">9</td><td style = \"text-align: left;\">不明</td><td style = \"text-align: left;\">1963-05-15</td><td style = \"text-align: right;\">55</td><td style = \"text-align: left;\">185-0013</td><td style = \"text-align: left;\">東京都国分寺市西恋ケ窪**********</td><td style = \"text-align: left;\">S13002</td><td style = \"text-align: left;\">20171007</td><td style = \"text-align: left;\">0-00000000-0</td></tr><tr><td class = \"rowNumber\" style = \"font-weight: bold; text-align: right;\">9</td><td style = \"text-align: left;\">CS001511000156</td><td style = \"text-align: left;\">本橋 幸子</td><td style = \"text-align: left;\">1</td><td style = \"text-align: left;\">女性</td><td style = \"text-align: left;\">1962-10-28</td><td style = \"text-align: right;\">56</td><td style = \"text-align: left;\">210-0851</td><td style = \"text-align: left;\">神奈川県川崎市川崎区浜町**********</td><td style = \"text-align: left;\">S13001</td><td style = \"text-align: left;\">20170806</td><td style = \"text-align: left;\">0-00000000-0</td></tr><tr><td class = \"rowNumber\" style = \"font-weight: bold; text-align: right;\">10</td><td style = \"text-align: left;\">CS032615000176</td><td style = \"text-align: left;\">筒井 真帆</td><td style = \"text-align: left;\">9</td><td style = \"text-align: left;\">不明</td><td style = \"text-align: left;\">1955-12-20</td><td style = \"text-align: right;\">63</td><td style = \"text-align: left;\">144-0054</td><td style = \"text-align: left;\">東京都大田区新蒲田**********</td><td style = \"text-align: left;\">S13032</td><td style = \"text-align: left;\">20180622</td><td style = \"text-align: left;\">0-00000000-0</td></tr></tbody></table></div>"
      ],
      "text/latex": [
       "\\begin{tabular}{r|cccccccc}\n",
       "\t& customer\\_id & customer\\_name & gender\\_cd & gender & birth\\_day & age & postal\\_cd & \\\\\n",
       "\t\\hline\n",
       "\t& String & String31 & String & String7 & Date & Int64 & String & \\\\\n",
       "\t\\hline\n",
       "\t1 & CS016613000029 & 上原 咲 & 1 & 女性 & 1953-07-13 & 65 & 184-0004 & $\\dots$ \\\\\n",
       "\t2 & CS002805000005 & 石川 明慶 & 0 & 男性 & 1932-09-22 & 86 & 185-0013 & $\\dots$ \\\\\n",
       "\t3 & CS030715000037 & 柴田 千夏 & 1 & 女性 & 1939-07-03 & 79 & 272-0022 & $\\dots$ \\\\\n",
       "\t4 & CS011415000030 & 川田 鉄二 & 9 & 不明 & 1971-12-01 & 47 & 223-0062 & $\\dots$ \\\\\n",
       "\t5 & CS034515000020 & 戸塚 優 & 1 & 女性 & 1960-02-21 & 59 & 216-0001 & $\\dots$ \\\\\n",
       "\t6 & CS039511000003 & 柴田 涼 & 1 & 女性 & 1959-06-06 & 59 & 166-0001 & $\\dots$ \\\\\n",
       "\t7 & CS026715000064 & 杉原 倫子 & 1 & 女性 & 1945-11-29 & 73 & 251-0046 & $\\dots$ \\\\\n",
       "\t8 & CS002503000146 & 山口 菊生 & 9 & 不明 & 1963-05-15 & 55 & 185-0013 & $\\dots$ \\\\\n",
       "\t9 & CS001511000156 & 本橋 幸子 & 1 & 女性 & 1962-10-28 & 56 & 210-0851 & $\\dots$ \\\\\n",
       "\t10 & CS032615000176 & 筒井 真帆 & 9 & 不明 & 1955-12-20 & 63 & 144-0054 & $\\dots$ \\\\\n",
       "\\end{tabular}\n"
      ],
      "text/plain": [
       "\u001b[1m10×11 DataFrame\u001b[0m\n",
       "\u001b[1m Row \u001b[0m│\u001b[1m customer_id    \u001b[0m\u001b[1m customer_name \u001b[0m\u001b[1m gender_cd \u001b[0m\u001b[1m gender  \u001b[0m\u001b[1m birth_day  \u001b[0m\u001b[1m age   \u001b[0m\u001b[1m p\u001b[0m ⋯\n",
       "     │\u001b[90m String         \u001b[0m\u001b[90m String31      \u001b[0m\u001b[90m String    \u001b[0m\u001b[90m String7 \u001b[0m\u001b[90m Date       \u001b[0m\u001b[90m Int64 \u001b[0m\u001b[90m S\u001b[0m ⋯\n",
       "─────┼──────────────────────────────────────────────────────────────────────────\n",
       "   1 │ CS016613000029  上原 咲        1          女性     1953-07-13     65  1 ⋯\n",
       "   2 │ CS002805000005  石川 明慶      0          男性     1932-09-22     86  1\n",
       "   3 │ CS030715000037  柴田 千夏      1          女性     1939-07-03     79  2\n",
       "   4 │ CS011415000030  川田 鉄二      9          不明     1971-12-01     47  2\n",
       "   5 │ CS034515000020  戸塚 優        1          女性     1960-02-21     59  2 ⋯\n",
       "   6 │ CS039511000003  柴田 涼        1          女性     1959-06-06     59  1\n",
       "   7 │ CS026715000064  杉原 倫子      1          女性     1945-11-29     73  2\n",
       "   8 │ CS002503000146  山口 菊生      9          不明     1963-05-15     55  1\n",
       "   9 │ CS001511000156  本橋 幸子      1          女性     1962-10-28     56  2 ⋯\n",
       "  10 │ CS032615000176  筒井 真帆      9          不明     1955-12-20     63  1\n",
       "\u001b[36m                                                               5 columns omitted\u001b[0m"
      ]
     },
     "execution_count": 81,
     "metadata": {},
     "output_type": "execute_result"
    }
   ],
   "source": [
    "function p075()\n",
    "    n = nrow(df_customer)\n",
    "    sample_idx = sample(1:n, floor(Int, 1 * n / 100), replace=false)\n",
    "    df_customer[sample_idx, :]\n",
    "end\n",
    "\n",
    "first(p075(), 10)"
   ]
  },
  {
   "cell_type": "markdown",
   "metadata": {},
   "source": [
    "---\n",
    "> P-076: 顧客データ（df_customer）から性別コード（gender_cd）の割合に基づきランダムに10%のデータを層化抽出し、性別コードごとに件数を集計せよ。"
   ]
  },
  {
   "cell_type": "code",
   "execution_count": 82,
   "metadata": {},
   "outputs": [
    {
     "name": "stdout",
     "output_type": "stream",
     "text": [
      "  1.833375 seconds (3.83 M allocations: 207.830 MiB, 84.54% compilation time)\n"
     ]
    },
    {
     "data": {
      "text/html": [
       "<div><div style = \"float: left;\"><span>3×2 DataFrame</span></div><div style = \"clear: both;\"></div></div><div class = \"data-frame\" style = \"overflow-x: scroll;\"><table class = \"data-frame\" style = \"margin-bottom: 6px;\"><thead><tr class = \"header\"><th class = \"rowNumber\" style = \"font-weight: bold; text-align: right;\">Row</th><th style = \"text-align: left;\">gender_cd</th><th style = \"text-align: left;\">count</th></tr><tr class = \"subheader headerLastRow\"><th class = \"rowNumber\" style = \"font-weight: bold; text-align: right;\"></th><th title = \"String\" style = \"text-align: left;\">String</th><th title = \"Int64\" style = \"text-align: left;\">Int64</th></tr></thead><tbody><tr><td class = \"rowNumber\" style = \"font-weight: bold; text-align: right;\">1</td><td style = \"text-align: left;\">0</td><td style = \"text-align: right;\">298</td></tr><tr><td class = \"rowNumber\" style = \"font-weight: bold; text-align: right;\">2</td><td style = \"text-align: left;\">1</td><td style = \"text-align: right;\">1792</td></tr><tr><td class = \"rowNumber\" style = \"font-weight: bold; text-align: right;\">3</td><td style = \"text-align: left;\">9</td><td style = \"text-align: right;\">107</td></tr></tbody></table></div>"
      ],
      "text/latex": [
       "\\begin{tabular}{r|cc}\n",
       "\t& gender\\_cd & count\\\\\n",
       "\t\\hline\n",
       "\t& String & Int64\\\\\n",
       "\t\\hline\n",
       "\t1 & 0 & 298 \\\\\n",
       "\t2 & 1 & 1792 \\\\\n",
       "\t3 & 9 & 107 \\\\\n",
       "\\end{tabular}\n"
      ],
      "text/plain": [
       "\u001b[1m3×2 DataFrame\u001b[0m\n",
       "\u001b[1m Row \u001b[0m│\u001b[1m gender_cd \u001b[0m\u001b[1m count \u001b[0m\n",
       "     │\u001b[90m String    \u001b[0m\u001b[90m Int64 \u001b[0m\n",
       "─────┼──────────────────\n",
       "   1 │ 0            298\n",
       "   2 │ 1           1792\n",
       "   3 │ 9            107"
      ]
     },
     "execution_count": 82,
     "metadata": {},
     "output_type": "execute_result"
    }
   ],
   "source": [
    "function p076()\n",
    "    sampled = partition(df_customer.customer_id, 0.1, stratify=parse.(Int, df_customer.gender_cd))[1]\n",
    "    @chain df_customer begin\n",
    "        @rsubset :customer_id in sampled\n",
    "        groupby(:gender_cd, sort=true)\n",
    "        @combine :count = $nrow\n",
    "    end\n",
    "end\n",
    "\n",
    "@time p076()"
   ]
  },
  {
   "cell_type": "markdown",
   "metadata": {},
   "source": [
    "---\n",
    "> P-077: レシート明細データ（df_receipt）の売上金額を顧客単位に合計し、合計した売上金額の外れ値を抽出せよ。なお、外れ値は売上金額合計を対数化したうえで平均と標準偏差を計算し、その平均から3σを超えて離れたものとする（自然対数と常用対数のどちらでも可）。結果は10件表示せよ。"
   ]
  },
  {
   "cell_type": "code",
   "execution_count": 83,
   "metadata": {},
   "outputs": [
    {
     "name": "stdout",
     "output_type": "stream",
     "text": [
      "  0.000005 seconds\n"
     ]
    },
    {
     "data": {
      "text/html": [
       "<div><div style = \"float: left;\"><span>1×3 DataFrame</span></div><div style = \"clear: both;\"></div></div><div class = \"data-frame\" style = \"overflow-x: scroll;\"><table class = \"data-frame\" style = \"margin-bottom: 6px;\"><thead><tr class = \"header\"><th class = \"rowNumber\" style = \"font-weight: bold; text-align: right;\">Row</th><th style = \"text-align: left;\">customer_id</th><th style = \"text-align: left;\">amount_sum</th><th style = \"text-align: left;\">log_amount_sum</th></tr><tr class = \"subheader headerLastRow\"><th class = \"rowNumber\" style = \"font-weight: bold; text-align: right;\"></th><th title = \"String\" style = \"text-align: left;\">String</th><th title = \"Int64\" style = \"text-align: left;\">Int64</th><th title = \"Float64\" style = \"text-align: left;\">Float64</th></tr></thead><tbody><tr><td class = \"rowNumber\" style = \"font-weight: bold; text-align: right;\">1</td><td style = \"text-align: left;\">ZZ000000000000</td><td style = \"text-align: right;\">12395003</td><td style = \"text-align: right;\">16.3328</td></tr></tbody></table></div>"
      ],
      "text/latex": [
       "\\begin{tabular}{r|ccc}\n",
       "\t& customer\\_id & amount\\_sum & log\\_amount\\_sum\\\\\n",
       "\t\\hline\n",
       "\t& String & Int64 & Float64\\\\\n",
       "\t\\hline\n",
       "\t1 & ZZ000000000000 & 12395003 & 16.3328 \\\\\n",
       "\\end{tabular}\n"
      ],
      "text/plain": [
       "\u001b[1m1×3 DataFrame\u001b[0m\n",
       "\u001b[1m Row \u001b[0m│\u001b[1m customer_id    \u001b[0m\u001b[1m amount_sum \u001b[0m\u001b[1m log_amount_sum \u001b[0m\n",
       "     │\u001b[90m String         \u001b[0m\u001b[90m Int64      \u001b[0m\u001b[90m Float64        \u001b[0m\n",
       "─────┼────────────────────────────────────────────\n",
       "   1 │ ZZ000000000000    12395003         16.3328"
      ]
     },
     "execution_count": 83,
     "metadata": {},
     "output_type": "execute_result"
    }
   ],
   "source": [
    "@time \\\n",
    "@chain df_receipt begin\n",
    "    groupby(:customer_id)\n",
    "    @combine :amount_sum = sum(:amount)\n",
    "    @rtransform :log_amount_sum = log(:amount_sum)\n",
    "    @transform @astable begin\n",
    "        :mean = mean(:log_amount_sum)\n",
    "        :sd = std(:log_amount_sum)\n",
    "    end\n",
    "    @rsubset abs(:log_amount_sum - :mean) > 3 * :sd\n",
    "    @select :customer_id :amount_sum :log_amount_sum\n",
    "end"
   ]
  },
  {
   "cell_type": "markdown",
   "metadata": {},
   "source": [
    "---\n",
    "> P-078: レシート明細データ（df_receipt）の売上金額（amount）を顧客単位に合計し、合計した売上金額の外れ値を抽出せよ。ただし、顧客IDが\"Z\"から始まるのものは非会員を表すため、除外して計算すること。なお、ここでは外れ値を第1四分位と第3四分位の差であるIQRを用いて、「第1四分位数-1.5×IQR」を下回るもの、または「第3四分位数+1.5×IQR」を超えるものとする。結果は10件表示せよ。"
   ]
  },
  {
   "cell_type": "code",
   "execution_count": 84,
   "metadata": {},
   "outputs": [
    {
     "data": {
      "text/plain": [
       "2-element Vector{Float64}:\n",
       " 3.25\n",
       " 7.75"
      ]
     },
     "execution_count": 84,
     "metadata": {},
     "output_type": "execute_result"
    }
   ],
   "source": [
    "quantile(1:10, [0.25, 0.75])"
   ]
  },
  {
   "cell_type": "code",
   "execution_count": 85,
   "metadata": {},
   "outputs": [
    {
     "name": "stdout",
     "output_type": "stream",
     "text": [
      "  0.000001 seconds\n"
     ]
    },
    {
     "data": {
      "text/html": [
       "<div><div style = \"float: left;\"><span>10×5 DataFrame</span></div><div style = \"clear: both;\"></div></div><div class = \"data-frame\" style = \"overflow-x: scroll;\"><table class = \"data-frame\" style = \"margin-bottom: 6px;\"><thead><tr class = \"header\"><th class = \"rowNumber\" style = \"font-weight: bold; text-align: right;\">Row</th><th style = \"text-align: left;\">customer_id</th><th style = \"text-align: left;\">sum_amount</th><th style = \"text-align: left;\">q1</th><th style = \"text-align: left;\">q3</th><th style = \"text-align: left;\">iqr</th></tr><tr class = \"subheader headerLastRow\"><th class = \"rowNumber\" style = \"font-weight: bold; text-align: right;\"></th><th title = \"String\" style = \"text-align: left;\">String</th><th title = \"Int64\" style = \"text-align: left;\">Int64</th><th title = \"Float64\" style = \"text-align: left;\">Float64</th><th title = \"Float64\" style = \"text-align: left;\">Float64</th><th title = \"Float64\" style = \"text-align: left;\">Float64</th></tr></thead><tbody><tr><td class = \"rowNumber\" style = \"font-weight: bold; text-align: right;\">1</td><td style = \"text-align: left;\">CS001414000048</td><td style = \"text-align: right;\">8584</td><td style = \"text-align: right;\">548.25</td><td style = \"text-align: right;\">3649.75</td><td style = \"text-align: right;\">3101.5</td></tr><tr><td class = \"rowNumber\" style = \"font-weight: bold; text-align: right;\">2</td><td style = \"text-align: left;\">CS001605000009</td><td style = \"text-align: right;\">18925</td><td style = \"text-align: right;\">548.25</td><td style = \"text-align: right;\">3649.75</td><td style = \"text-align: right;\">3101.5</td></tr><tr><td class = \"rowNumber\" style = \"font-weight: bold; text-align: right;\">3</td><td style = \"text-align: left;\">CS002415000594</td><td style = \"text-align: right;\">9568</td><td style = \"text-align: right;\">548.25</td><td style = \"text-align: right;\">3649.75</td><td style = \"text-align: right;\">3101.5</td></tr><tr><td class = \"rowNumber\" style = \"font-weight: bold; text-align: right;\">4</td><td style = \"text-align: left;\">CS004414000181</td><td style = \"text-align: right;\">9584</td><td style = \"text-align: right;\">548.25</td><td style = \"text-align: right;\">3649.75</td><td style = \"text-align: right;\">3101.5</td></tr><tr><td class = \"rowNumber\" style = \"font-weight: bold; text-align: right;\">5</td><td style = \"text-align: left;\">CS005415000137</td><td style = \"text-align: right;\">8734</td><td style = \"text-align: right;\">548.25</td><td style = \"text-align: right;\">3649.75</td><td style = \"text-align: right;\">3101.5</td></tr><tr><td class = \"rowNumber\" style = \"font-weight: bold; text-align: right;\">6</td><td style = \"text-align: left;\">CS006414000001</td><td style = \"text-align: right;\">9156</td><td style = \"text-align: right;\">548.25</td><td style = \"text-align: right;\">3649.75</td><td style = \"text-align: right;\">3101.5</td></tr><tr><td class = \"rowNumber\" style = \"font-weight: bold; text-align: right;\">7</td><td style = \"text-align: left;\">CS006414000029</td><td style = \"text-align: right;\">9179</td><td style = \"text-align: right;\">548.25</td><td style = \"text-align: right;\">3649.75</td><td style = \"text-align: right;\">3101.5</td></tr><tr><td class = \"rowNumber\" style = \"font-weight: bold; text-align: right;\">8</td><td style = \"text-align: left;\">CS006415000105</td><td style = \"text-align: right;\">10042</td><td style = \"text-align: right;\">548.25</td><td style = \"text-align: right;\">3649.75</td><td style = \"text-align: right;\">3101.5</td></tr><tr><td class = \"rowNumber\" style = \"font-weight: bold; text-align: right;\">9</td><td style = \"text-align: left;\">CS006415000147</td><td style = \"text-align: right;\">12723</td><td style = \"text-align: right;\">548.25</td><td style = \"text-align: right;\">3649.75</td><td style = \"text-align: right;\">3101.5</td></tr><tr><td class = \"rowNumber\" style = \"font-weight: bold; text-align: right;\">10</td><td style = \"text-align: left;\">CS006415000157</td><td style = \"text-align: right;\">10648</td><td style = \"text-align: right;\">548.25</td><td style = \"text-align: right;\">3649.75</td><td style = \"text-align: right;\">3101.5</td></tr></tbody></table></div>"
      ],
      "text/latex": [
       "\\begin{tabular}{r|ccccc}\n",
       "\t& customer\\_id & sum\\_amount & q1 & q3 & iqr\\\\\n",
       "\t\\hline\n",
       "\t& String & Int64 & Float64 & Float64 & Float64\\\\\n",
       "\t\\hline\n",
       "\t1 & CS001414000048 & 8584 & 548.25 & 3649.75 & 3101.5 \\\\\n",
       "\t2 & CS001605000009 & 18925 & 548.25 & 3649.75 & 3101.5 \\\\\n",
       "\t3 & CS002415000594 & 9568 & 548.25 & 3649.75 & 3101.5 \\\\\n",
       "\t4 & CS004414000181 & 9584 & 548.25 & 3649.75 & 3101.5 \\\\\n",
       "\t5 & CS005415000137 & 8734 & 548.25 & 3649.75 & 3101.5 \\\\\n",
       "\t6 & CS006414000001 & 9156 & 548.25 & 3649.75 & 3101.5 \\\\\n",
       "\t7 & CS006414000029 & 9179 & 548.25 & 3649.75 & 3101.5 \\\\\n",
       "\t8 & CS006415000105 & 10042 & 548.25 & 3649.75 & 3101.5 \\\\\n",
       "\t9 & CS006415000147 & 12723 & 548.25 & 3649.75 & 3101.5 \\\\\n",
       "\t10 & CS006415000157 & 10648 & 548.25 & 3649.75 & 3101.5 \\\\\n",
       "\\end{tabular}\n"
      ],
      "text/plain": [
       "\u001b[1m10×5 DataFrame\u001b[0m\n",
       "\u001b[1m Row \u001b[0m│\u001b[1m customer_id    \u001b[0m\u001b[1m sum_amount \u001b[0m\u001b[1m q1      \u001b[0m\u001b[1m q3      \u001b[0m\u001b[1m iqr     \u001b[0m\n",
       "     │\u001b[90m String         \u001b[0m\u001b[90m Int64      \u001b[0m\u001b[90m Float64 \u001b[0m\u001b[90m Float64 \u001b[0m\u001b[90m Float64 \u001b[0m\n",
       "─────┼───────────────────────────────────────────────────────\n",
       "   1 │ CS001414000048        8584   548.25  3649.75   3101.5\n",
       "   2 │ CS001605000009       18925   548.25  3649.75   3101.5\n",
       "   3 │ CS002415000594        9568   548.25  3649.75   3101.5\n",
       "   4 │ CS004414000181        9584   548.25  3649.75   3101.5\n",
       "   5 │ CS005415000137        8734   548.25  3649.75   3101.5\n",
       "   6 │ CS006414000001        9156   548.25  3649.75   3101.5\n",
       "   7 │ CS006414000029        9179   548.25  3649.75   3101.5\n",
       "   8 │ CS006415000105       10042   548.25  3649.75   3101.5\n",
       "   9 │ CS006415000147       12723   548.25  3649.75   3101.5\n",
       "  10 │ CS006415000157       10648   548.25  3649.75   3101.5"
      ]
     },
     "execution_count": 85,
     "metadata": {},
     "output_type": "execute_result"
    }
   ],
   "source": [
    "@time \\\n",
    "@chain df_receipt begin\n",
    "    @rsubset !startswith(:customer_id, \"Z\")\n",
    "    groupby(:customer_id, sort=true)\n",
    "    @combine :sum_amount = sum(:amount)\n",
    "    @transform @astable begin\n",
    "        :q1 = quantile(:sum_amount, 0.25)\n",
    "        :q3 = quantile(:sum_amount, 0.75)\n",
    "        :iqr = iqr(:sum_amount)\n",
    "    end\n",
    "    @rsubset :sum_amount < :q1 - 1.5 * :iqr || :sum_amount > :q3 + 1.5 * :iqr\n",
    "    first(10)\n",
    "end"
   ]
  },
  {
   "cell_type": "markdown",
   "metadata": {},
   "source": [
    "---\n",
    "> P-079: 商品データ（df_product）の各項目に対し、欠損数を確認せよ。"
   ]
  },
  {
   "cell_type": "code",
   "execution_count": 86,
   "metadata": {},
   "outputs": [
    {
     "data": {
      "text/plain": [
       "6-element Vector{Tuple{String, Int64}}:\n",
       " (\"product_cd\", 0)\n",
       " (\"category_major_cd\", 0)\n",
       " (\"category_medium_cd\", 0)\n",
       " (\"category_small_cd\", 0)\n",
       " (\"unit_price\", 7)\n",
       " (\"unit_cost\", 7)"
      ]
     },
     "execution_count": 86,
     "metadata": {},
     "output_type": "execute_result"
    }
   ],
   "source": [
    "zip(names(df_product), sum.(eachcol(ismissing.(df_product)))) |> collect"
   ]
  },
  {
   "cell_type": "markdown",
   "metadata": {},
   "source": [
    "---\n",
    "> P-080: 商品データ（df_product）のいずれかの項目に欠損が発生しているレコードを全て削除した新たな商品データを作成せよ。なお、削除前後の件数を表示させ、079で確認した件数だけ減少していることも確認すること。"
   ]
  },
  {
   "cell_type": "code",
   "execution_count": 87,
   "metadata": {},
   "outputs": [
    {
     "name": "stdout",
     "output_type": "stream",
     "text": [
      "  0.338560 seconds (484.81 k allocations: 23.794 MiB, 98.85% compilation time)\n"
     ]
    },
    {
     "data": {
      "text/plain": [
       "(before_n = 10030,\n",
       " after_n = 10023,\n",
       " df = \u001b[1m10023×6 DataFrame\u001b[0m\n",
       "\u001b[1m   Row \u001b[0m│\u001b[1m product_cd \u001b[0m\u001b[1m category_major_cd \u001b[0m\u001b[1m category_medium_cd \u001b[0m\u001b[1m category_small_cd \u001b[0m\u001b[1m\u001b[0m ⋯\n",
       "       │\u001b[90m String     \u001b[0m\u001b[90m String            \u001b[0m\u001b[90m String             \u001b[0m\u001b[90m String            \u001b[0m\u001b[90m\u001b[0m ⋯\n",
       "───────┼────────────────────────────────────────────────────────────────────────\n",
       "     1 │ P040101001  04                 0401                040101             ⋯\n",
       "     2 │ P040101002  04                 0401                040101\n",
       "     3 │ P040101003  04                 0401                040101\n",
       "     4 │ P040101004  04                 0401                040101\n",
       "     5 │ P040101005  04                 0401                040101             ⋯\n",
       "     6 │ P040101006  04                 0401                040101\n",
       "     7 │ P040101007  04                 0401                040101\n",
       "     8 │ P040101008  04                 0401                040101\n",
       "     9 │ P040101009  04                 0401                040101             ⋯\n",
       "    10 │ P040101010  04                 0401                040101\n",
       "    11 │ P040102001  04                 0401                040102\n",
       "   ⋮   │     ⋮               ⋮                  ⋮                   ⋮          ⋱\n",
       " 10014 │ P091501045  09                 0915                091501\n",
       " 10015 │ P091501046  09                 0915                091501             ⋯\n",
       " 10016 │ P091501047  09                 0915                091501\n",
       " 10017 │ P091501048  09                 0915                091501\n",
       " 10018 │ P091501049  09                 0915                091501\n",
       " 10019 │ P091503001  09                 0915                091503             ⋯\n",
       " 10020 │ P091503002  09                 0915                091503\n",
       " 10021 │ P091503003  09                 0915                091503\n",
       " 10022 │ P091503004  09                 0915                091503\n",
       " 10023 │ P091503005  09                 0915                091503             ⋯\n",
       "\u001b[36m                                                2 columns and 10002 rows omitted\u001b[0m,)"
      ]
     },
     "execution_count": 87,
     "metadata": {},
     "output_type": "execute_result"
    }
   ],
   "source": [
    "function p080()\n",
    "    df = dropmissing(df_product)\n",
    "    (before_n = nrow(df_product), after_n = nrow(df), df = df)\n",
    "end\n",
    "\n",
    "@time p080()"
   ]
  },
  {
   "cell_type": "markdown",
   "metadata": {},
   "source": [
    "---\n",
    "> P-081: 単価（unit_price）と原価（unit_cost）の欠損値について、それぞれの平均値で補完した新たな商品データを作成せよ。なお、平均値については1円未満を丸めること（四捨五入または偶数への丸めで良い）。補完実施後、各項目について欠損が生じていないことも確認すること。"
   ]
  },
  {
   "cell_type": "code",
   "execution_count": 88,
   "metadata": {},
   "outputs": [
    {
     "name": "stdout",
     "output_type": "stream",
     "text": [
      "  0.000001 seconds\n"
     ]
    },
    {
     "data": {
      "text/html": [
       "<div><div style = \"float: left;\"><span>7×8 DataFrame</span></div><div style = \"clear: both;\"></div></div><div class = \"data-frame\" style = \"overflow-x: scroll;\"><table class = \"data-frame\" style = \"margin-bottom: 6px;\"><thead><tr class = \"header\"><th class = \"rowNumber\" style = \"font-weight: bold; text-align: right;\">Row</th><th style = \"text-align: left;\">product_cd</th><th style = \"text-align: left;\">category_major_cd</th><th style = \"text-align: left;\">category_medium_cd</th><th style = \"text-align: left;\">category_small_cd</th><th style = \"text-align: left;\">unit_price</th><th style = \"text-align: left;\">unit_cost</th><th style = \"text-align: left;\">unit_price_imputed</th><th style = \"text-align: left;\">unit_cost_imputed</th></tr><tr class = \"subheader headerLastRow\"><th class = \"rowNumber\" style = \"font-weight: bold; text-align: right;\"></th><th title = \"String\" style = \"text-align: left;\">String</th><th title = \"String\" style = \"text-align: left;\">String</th><th title = \"String\" style = \"text-align: left;\">String</th><th title = \"String\" style = \"text-align: left;\">String</th><th title = \"Union{Missing, Int64}\" style = \"text-align: left;\">Int64?</th><th title = \"Union{Missing, Int64}\" style = \"text-align: left;\">Int64?</th><th title = \"Int64\" style = \"text-align: left;\">Int64</th><th title = \"Int64\" style = \"text-align: left;\">Int64</th></tr></thead><tbody><tr><td class = \"rowNumber\" style = \"font-weight: bold; text-align: right;\">1</td><td style = \"text-align: left;\">P040802007</td><td style = \"text-align: left;\">04</td><td style = \"text-align: left;\">0408</td><td style = \"text-align: left;\">040802</td><td style = \"font-style: italic; text-align: right;\">missing</td><td style = \"font-style: italic; text-align: right;\">missing</td><td style = \"text-align: right;\">403</td><td style = \"text-align: right;\">302</td></tr><tr><td class = \"rowNumber\" style = \"font-weight: bold; text-align: right;\">2</td><td style = \"text-align: left;\">P050103021</td><td style = \"text-align: left;\">05</td><td style = \"text-align: left;\">0501</td><td style = \"text-align: left;\">050103</td><td style = \"font-style: italic; text-align: right;\">missing</td><td style = \"font-style: italic; text-align: right;\">missing</td><td style = \"text-align: right;\">403</td><td style = \"text-align: right;\">302</td></tr><tr><td class = \"rowNumber\" style = \"font-weight: bold; text-align: right;\">3</td><td style = \"text-align: left;\">P050405009</td><td style = \"text-align: left;\">05</td><td style = \"text-align: left;\">0504</td><td style = \"text-align: left;\">050405</td><td style = \"font-style: italic; text-align: right;\">missing</td><td style = \"font-style: italic; text-align: right;\">missing</td><td style = \"text-align: right;\">403</td><td style = \"text-align: right;\">302</td></tr><tr><td class = \"rowNumber\" style = \"font-weight: bold; text-align: right;\">4</td><td style = \"text-align: left;\">P060802026</td><td style = \"text-align: left;\">06</td><td style = \"text-align: left;\">0608</td><td style = \"text-align: left;\">060802</td><td style = \"font-style: italic; text-align: right;\">missing</td><td style = \"font-style: italic; text-align: right;\">missing</td><td style = \"text-align: right;\">403</td><td style = \"text-align: right;\">302</td></tr><tr><td class = \"rowNumber\" style = \"font-weight: bold; text-align: right;\">5</td><td style = \"text-align: left;\">P070202092</td><td style = \"text-align: left;\">07</td><td style = \"text-align: left;\">0702</td><td style = \"text-align: left;\">070202</td><td style = \"font-style: italic; text-align: right;\">missing</td><td style = \"font-style: italic; text-align: right;\">missing</td><td style = \"text-align: right;\">403</td><td style = \"text-align: right;\">302</td></tr><tr><td class = \"rowNumber\" style = \"font-weight: bold; text-align: right;\">6</td><td style = \"text-align: left;\">P080504027</td><td style = \"text-align: left;\">08</td><td style = \"text-align: left;\">0805</td><td style = \"text-align: left;\">080504</td><td style = \"font-style: italic; text-align: right;\">missing</td><td style = \"font-style: italic; text-align: right;\">missing</td><td style = \"text-align: right;\">403</td><td style = \"text-align: right;\">302</td></tr><tr><td class = \"rowNumber\" style = \"font-weight: bold; text-align: right;\">7</td><td style = \"text-align: left;\">P090204185</td><td style = \"text-align: left;\">09</td><td style = \"text-align: left;\">0902</td><td style = \"text-align: left;\">090204</td><td style = \"font-style: italic; text-align: right;\">missing</td><td style = \"font-style: italic; text-align: right;\">missing</td><td style = \"text-align: right;\">403</td><td style = \"text-align: right;\">302</td></tr></tbody></table></div>"
      ],
      "text/latex": [
       "\\begin{tabular}{r|cccccc}\n",
       "\t& product\\_cd & category\\_major\\_cd & category\\_medium\\_cd & category\\_small\\_cd & unit\\_price & \\\\\n",
       "\t\\hline\n",
       "\t& String & String & String & String & Int64? & \\\\\n",
       "\t\\hline\n",
       "\t1 & P040802007 & 04 & 0408 & 040802 & \\emph{missing} & $\\dots$ \\\\\n",
       "\t2 & P050103021 & 05 & 0501 & 050103 & \\emph{missing} & $\\dots$ \\\\\n",
       "\t3 & P050405009 & 05 & 0504 & 050405 & \\emph{missing} & $\\dots$ \\\\\n",
       "\t4 & P060802026 & 06 & 0608 & 060802 & \\emph{missing} & $\\dots$ \\\\\n",
       "\t5 & P070202092 & 07 & 0702 & 070202 & \\emph{missing} & $\\dots$ \\\\\n",
       "\t6 & P080504027 & 08 & 0805 & 080504 & \\emph{missing} & $\\dots$ \\\\\n",
       "\t7 & P090204185 & 09 & 0902 & 090204 & \\emph{missing} & $\\dots$ \\\\\n",
       "\\end{tabular}\n"
      ],
      "text/plain": [
       "\u001b[1m7×8 DataFrame\u001b[0m\n",
       "\u001b[1m Row \u001b[0m│\u001b[1m product_cd \u001b[0m\u001b[1m category_major_cd \u001b[0m\u001b[1m category_medium_cd \u001b[0m\u001b[1m category_small_cd \u001b[0m\u001b[1m u\u001b[0m ⋯\n",
       "     │\u001b[90m String     \u001b[0m\u001b[90m String            \u001b[0m\u001b[90m String             \u001b[0m\u001b[90m String            \u001b[0m\u001b[90m I\u001b[0m ⋯\n",
       "─────┼──────────────────────────────────────────────────────────────────────────\n",
       "   1 │ P040802007  04                 0408                040802            \u001b[90m  \u001b[0m ⋯\n",
       "   2 │ P050103021  05                 0501                050103            \u001b[90m  \u001b[0m\n",
       "   3 │ P050405009  05                 0504                050405            \u001b[90m  \u001b[0m\n",
       "   4 │ P060802026  06                 0608                060802            \u001b[90m  \u001b[0m\n",
       "   5 │ P070202092  07                 0702                070202            \u001b[90m  \u001b[0m ⋯\n",
       "   6 │ P080504027  08                 0805                080504            \u001b[90m  \u001b[0m\n",
       "   7 │ P090204185  09                 0902                090204            \u001b[90m  \u001b[0m\n",
       "\u001b[36m                                                               4 columns omitted\u001b[0m"
      ]
     },
     "execution_count": 88,
     "metadata": {},
     "output_type": "execute_result"
    }
   ],
   "source": [
    "@time \\\n",
    "@chain df_product begin\n",
    "    transform(\n",
    "        [:unit_price, :unit_cost] .=>\n",
    "        (x -> coalesce.(x, round(Int, mean(skipmissing(x))))) .=>\n",
    "        [:unit_price_imputed, :unit_cost_imputed]\n",
    "    )\n",
    "    @rsubset ismissing(:unit_price)\n",
    "end"
   ]
  },
  {
   "cell_type": "markdown",
   "metadata": {
    "tags": []
   },
   "source": [
    "---\n",
    "> P-082: 単価（unit_price）と原価（unit_cost）の欠損値について、それぞれの中央値で補完した新たな商品データを作成せよ。なお、中央値については1円未満を丸めること（四捨五入または偶数への丸めで良い）。補完実施後、各項目について欠損が生じていないことも確認すること。"
   ]
  },
  {
   "cell_type": "code",
   "execution_count": 89,
   "metadata": {},
   "outputs": [
    {
     "name": "stdout",
     "output_type": "stream",
     "text": [
      "  0.000002 seconds\n"
     ]
    },
    {
     "data": {
      "text/html": [
       "<div><div style = \"float: left;\"><span>7×8 DataFrame</span></div><div style = \"clear: both;\"></div></div><div class = \"data-frame\" style = \"overflow-x: scroll;\"><table class = \"data-frame\" style = \"margin-bottom: 6px;\"><thead><tr class = \"header\"><th class = \"rowNumber\" style = \"font-weight: bold; text-align: right;\">Row</th><th style = \"text-align: left;\">product_cd</th><th style = \"text-align: left;\">category_major_cd</th><th style = \"text-align: left;\">category_medium_cd</th><th style = \"text-align: left;\">category_small_cd</th><th style = \"text-align: left;\">unit_price</th><th style = \"text-align: left;\">unit_cost</th><th style = \"text-align: left;\">unit_price_imputed</th><th style = \"text-align: left;\">unit_cost_imputed</th></tr><tr class = \"subheader headerLastRow\"><th class = \"rowNumber\" style = \"font-weight: bold; text-align: right;\"></th><th title = \"String\" style = \"text-align: left;\">String</th><th title = \"String\" style = \"text-align: left;\">String</th><th title = \"String\" style = \"text-align: left;\">String</th><th title = \"String\" style = \"text-align: left;\">String</th><th title = \"Union{Missing, Int64}\" style = \"text-align: left;\">Int64?</th><th title = \"Union{Missing, Int64}\" style = \"text-align: left;\">Int64?</th><th title = \"Int64\" style = \"text-align: left;\">Int64</th><th title = \"Int64\" style = \"text-align: left;\">Int64</th></tr></thead><tbody><tr><td class = \"rowNumber\" style = \"font-weight: bold; text-align: right;\">1</td><td style = \"text-align: left;\">P040802007</td><td style = \"text-align: left;\">04</td><td style = \"text-align: left;\">0408</td><td style = \"text-align: left;\">040802</td><td style = \"font-style: italic; text-align: right;\">missing</td><td style = \"font-style: italic; text-align: right;\">missing</td><td style = \"text-align: right;\">252</td><td style = \"text-align: right;\">189</td></tr><tr><td class = \"rowNumber\" style = \"font-weight: bold; text-align: right;\">2</td><td style = \"text-align: left;\">P050103021</td><td style = \"text-align: left;\">05</td><td style = \"text-align: left;\">0501</td><td style = \"text-align: left;\">050103</td><td style = \"font-style: italic; text-align: right;\">missing</td><td style = \"font-style: italic; text-align: right;\">missing</td><td style = \"text-align: right;\">252</td><td style = \"text-align: right;\">189</td></tr><tr><td class = \"rowNumber\" style = \"font-weight: bold; text-align: right;\">3</td><td style = \"text-align: left;\">P050405009</td><td style = \"text-align: left;\">05</td><td style = \"text-align: left;\">0504</td><td style = \"text-align: left;\">050405</td><td style = \"font-style: italic; text-align: right;\">missing</td><td style = \"font-style: italic; text-align: right;\">missing</td><td style = \"text-align: right;\">252</td><td style = \"text-align: right;\">189</td></tr><tr><td class = \"rowNumber\" style = \"font-weight: bold; text-align: right;\">4</td><td style = \"text-align: left;\">P060802026</td><td style = \"text-align: left;\">06</td><td style = \"text-align: left;\">0608</td><td style = \"text-align: left;\">060802</td><td style = \"font-style: italic; text-align: right;\">missing</td><td style = \"font-style: italic; text-align: right;\">missing</td><td style = \"text-align: right;\">252</td><td style = \"text-align: right;\">189</td></tr><tr><td class = \"rowNumber\" style = \"font-weight: bold; text-align: right;\">5</td><td style = \"text-align: left;\">P070202092</td><td style = \"text-align: left;\">07</td><td style = \"text-align: left;\">0702</td><td style = \"text-align: left;\">070202</td><td style = \"font-style: italic; text-align: right;\">missing</td><td style = \"font-style: italic; text-align: right;\">missing</td><td style = \"text-align: right;\">252</td><td style = \"text-align: right;\">189</td></tr><tr><td class = \"rowNumber\" style = \"font-weight: bold; text-align: right;\">6</td><td style = \"text-align: left;\">P080504027</td><td style = \"text-align: left;\">08</td><td style = \"text-align: left;\">0805</td><td style = \"text-align: left;\">080504</td><td style = \"font-style: italic; text-align: right;\">missing</td><td style = \"font-style: italic; text-align: right;\">missing</td><td style = \"text-align: right;\">252</td><td style = \"text-align: right;\">189</td></tr><tr><td class = \"rowNumber\" style = \"font-weight: bold; text-align: right;\">7</td><td style = \"text-align: left;\">P090204185</td><td style = \"text-align: left;\">09</td><td style = \"text-align: left;\">0902</td><td style = \"text-align: left;\">090204</td><td style = \"font-style: italic; text-align: right;\">missing</td><td style = \"font-style: italic; text-align: right;\">missing</td><td style = \"text-align: right;\">252</td><td style = \"text-align: right;\">189</td></tr></tbody></table></div>"
      ],
      "text/latex": [
       "\\begin{tabular}{r|cccccc}\n",
       "\t& product\\_cd & category\\_major\\_cd & category\\_medium\\_cd & category\\_small\\_cd & unit\\_price & \\\\\n",
       "\t\\hline\n",
       "\t& String & String & String & String & Int64? & \\\\\n",
       "\t\\hline\n",
       "\t1 & P040802007 & 04 & 0408 & 040802 & \\emph{missing} & $\\dots$ \\\\\n",
       "\t2 & P050103021 & 05 & 0501 & 050103 & \\emph{missing} & $\\dots$ \\\\\n",
       "\t3 & P050405009 & 05 & 0504 & 050405 & \\emph{missing} & $\\dots$ \\\\\n",
       "\t4 & P060802026 & 06 & 0608 & 060802 & \\emph{missing} & $\\dots$ \\\\\n",
       "\t5 & P070202092 & 07 & 0702 & 070202 & \\emph{missing} & $\\dots$ \\\\\n",
       "\t6 & P080504027 & 08 & 0805 & 080504 & \\emph{missing} & $\\dots$ \\\\\n",
       "\t7 & P090204185 & 09 & 0902 & 090204 & \\emph{missing} & $\\dots$ \\\\\n",
       "\\end{tabular}\n"
      ],
      "text/plain": [
       "\u001b[1m7×8 DataFrame\u001b[0m\n",
       "\u001b[1m Row \u001b[0m│\u001b[1m product_cd \u001b[0m\u001b[1m category_major_cd \u001b[0m\u001b[1m category_medium_cd \u001b[0m\u001b[1m category_small_cd \u001b[0m\u001b[1m u\u001b[0m ⋯\n",
       "     │\u001b[90m String     \u001b[0m\u001b[90m String            \u001b[0m\u001b[90m String             \u001b[0m\u001b[90m String            \u001b[0m\u001b[90m I\u001b[0m ⋯\n",
       "─────┼──────────────────────────────────────────────────────────────────────────\n",
       "   1 │ P040802007  04                 0408                040802            \u001b[90m  \u001b[0m ⋯\n",
       "   2 │ P050103021  05                 0501                050103            \u001b[90m  \u001b[0m\n",
       "   3 │ P050405009  05                 0504                050405            \u001b[90m  \u001b[0m\n",
       "   4 │ P060802026  06                 0608                060802            \u001b[90m  \u001b[0m\n",
       "   5 │ P070202092  07                 0702                070202            \u001b[90m  \u001b[0m ⋯\n",
       "   6 │ P080504027  08                 0805                080504            \u001b[90m  \u001b[0m\n",
       "   7 │ P090204185  09                 0902                090204            \u001b[90m  \u001b[0m\n",
       "\u001b[36m                                                               4 columns omitted\u001b[0m"
      ]
     },
     "execution_count": 89,
     "metadata": {},
     "output_type": "execute_result"
    }
   ],
   "source": [
    "@time \\\n",
    "@chain df_product begin\n",
    "    transform(\n",
    "        [:unit_price, :unit_cost] .=>\n",
    "        (x -> coalesce.(x, round(Int, median(skipmissing(x))))) .=>\n",
    "        [:unit_price_imputed, :unit_cost_imputed]\n",
    "    )\n",
    "    @rsubset ismissing(:unit_price)\n",
    "end"
   ]
  },
  {
   "cell_type": "markdown",
   "metadata": {},
   "source": [
    "---\n",
    "> P-083: 単価（unit_price）と原価（unit_cost）の欠損値について、各商品のカテゴリ小区分コード（category_small_cd）ごとに算出した中央値で補完した新たな商品データを作成せよ。なお、中央値については1円未満を丸めること（四捨五入または偶数への丸めで良い）。補完実施後、各項目について欠損が生じていないことも確認すること。"
   ]
  },
  {
   "cell_type": "code",
   "execution_count": 90,
   "metadata": {},
   "outputs": [
    {
     "name": "stdout",
     "output_type": "stream",
     "text": [
      "  0.000008 seconds\n"
     ]
    },
    {
     "data": {
      "text/html": [
       "<div><div style = \"float: left;\"><span>7×10 DataFrame</span></div><div style = \"clear: both;\"></div></div><div class = \"data-frame\" style = \"overflow-x: scroll;\"><table class = \"data-frame\" style = \"margin-bottom: 6px;\"><thead><tr class = \"header\"><th class = \"rowNumber\" style = \"font-weight: bold; text-align: right;\">Row</th><th style = \"text-align: left;\">category_small_cd</th><th style = \"text-align: left;\">unit_price_median</th><th style = \"text-align: left;\">unit_cost_median</th><th style = \"text-align: left;\">product_cd</th><th style = \"text-align: left;\">category_major_cd</th><th style = \"text-align: left;\">category_medium_cd</th><th style = \"text-align: left;\">unit_price</th><th style = \"text-align: left;\">unit_cost</th><th style = \"text-align: left;\">unit_price_imputed</th><th style = \"text-align: left;\">unit_cost_imputed</th></tr><tr class = \"subheader headerLastRow\"><th class = \"rowNumber\" style = \"font-weight: bold; text-align: right;\"></th><th title = \"String\" style = \"text-align: left;\">String</th><th title = \"Int64\" style = \"text-align: left;\">Int64</th><th title = \"Int64\" style = \"text-align: left;\">Int64</th><th title = \"Union{Missing, String}\" style = \"text-align: left;\">String?</th><th title = \"Union{Missing, String}\" style = \"text-align: left;\">String?</th><th title = \"Union{Missing, String}\" style = \"text-align: left;\">String?</th><th title = \"Union{Missing, Int64}\" style = \"text-align: left;\">Int64?</th><th title = \"Union{Missing, Int64}\" style = \"text-align: left;\">Int64?</th><th title = \"Int64\" style = \"text-align: left;\">Int64</th><th title = \"Int64\" style = \"text-align: left;\">Int64</th></tr></thead><tbody><tr><td class = \"rowNumber\" style = \"font-weight: bold; text-align: right;\">1</td><td style = \"text-align: left;\">040802</td><td style = \"text-align: right;\">313</td><td style = \"text-align: right;\">235</td><td style = \"text-align: left;\">P040802007</td><td style = \"text-align: left;\">04</td><td style = \"text-align: left;\">0408</td><td style = \"font-style: italic; text-align: right;\">missing</td><td style = \"font-style: italic; text-align: right;\">missing</td><td style = \"text-align: right;\">313</td><td style = \"text-align: right;\">235</td></tr><tr><td class = \"rowNumber\" style = \"font-weight: bold; text-align: right;\">2</td><td style = \"text-align: left;\">050103</td><td style = \"text-align: right;\">132</td><td style = \"text-align: right;\">100</td><td style = \"text-align: left;\">P050103021</td><td style = \"text-align: left;\">05</td><td style = \"text-align: left;\">0501</td><td style = \"font-style: italic; text-align: right;\">missing</td><td style = \"font-style: italic; text-align: right;\">missing</td><td style = \"text-align: right;\">132</td><td style = \"text-align: right;\">100</td></tr><tr><td class = \"rowNumber\" style = \"font-weight: bold; text-align: right;\">3</td><td style = \"text-align: left;\">050405</td><td style = \"text-align: right;\">178</td><td style = \"text-align: right;\">134</td><td style = \"text-align: left;\">P050405009</td><td style = \"text-align: left;\">05</td><td style = \"text-align: left;\">0504</td><td style = \"font-style: italic; text-align: right;\">missing</td><td style = \"font-style: italic; text-align: right;\">missing</td><td style = \"text-align: right;\">178</td><td style = \"text-align: right;\">134</td></tr><tr><td class = \"rowNumber\" style = \"font-weight: bold; text-align: right;\">4</td><td style = \"text-align: left;\">060802</td><td style = \"text-align: right;\">270</td><td style = \"text-align: right;\">200</td><td style = \"text-align: left;\">P060802026</td><td style = \"text-align: left;\">06</td><td style = \"text-align: left;\">0608</td><td style = \"font-style: italic; text-align: right;\">missing</td><td style = \"font-style: italic; text-align: right;\">missing</td><td style = \"text-align: right;\">270</td><td style = \"text-align: right;\">200</td></tr><tr><td class = \"rowNumber\" style = \"font-weight: bold; text-align: right;\">5</td><td style = \"text-align: left;\">070202</td><td style = \"text-align: right;\">238</td><td style = \"text-align: right;\">179</td><td style = \"text-align: left;\">P070202092</td><td style = \"text-align: left;\">07</td><td style = \"text-align: left;\">0702</td><td style = \"font-style: italic; text-align: right;\">missing</td><td style = \"font-style: italic; text-align: right;\">missing</td><td style = \"text-align: right;\">238</td><td style = \"text-align: right;\">179</td></tr><tr><td class = \"rowNumber\" style = \"font-weight: bold; text-align: right;\">6</td><td style = \"text-align: left;\">080504</td><td style = \"text-align: right;\">258</td><td style = \"text-align: right;\">196</td><td style = \"text-align: left;\">P080504027</td><td style = \"text-align: left;\">08</td><td style = \"text-align: left;\">0805</td><td style = \"font-style: italic; text-align: right;\">missing</td><td style = \"font-style: italic; text-align: right;\">missing</td><td style = \"text-align: right;\">258</td><td style = \"text-align: right;\">196</td></tr><tr><td class = \"rowNumber\" style = \"font-weight: bold; text-align: right;\">7</td><td style = \"text-align: left;\">090204</td><td style = \"text-align: right;\">694</td><td style = \"text-align: right;\">521</td><td style = \"text-align: left;\">P090204185</td><td style = \"text-align: left;\">09</td><td style = \"text-align: left;\">0902</td><td style = \"font-style: italic; text-align: right;\">missing</td><td style = \"font-style: italic; text-align: right;\">missing</td><td style = \"text-align: right;\">694</td><td style = \"text-align: right;\">521</td></tr></tbody></table></div>"
      ],
      "text/latex": [
       "\\begin{tabular}{r|cccccc}\n",
       "\t& category\\_small\\_cd & unit\\_price\\_median & unit\\_cost\\_median & product\\_cd & category\\_major\\_cd & \\\\\n",
       "\t\\hline\n",
       "\t& String & Int64 & Int64 & String? & String? & \\\\\n",
       "\t\\hline\n",
       "\t1 & 040802 & 313 & 235 & P040802007 & 04 & $\\dots$ \\\\\n",
       "\t2 & 050103 & 132 & 100 & P050103021 & 05 & $\\dots$ \\\\\n",
       "\t3 & 050405 & 178 & 134 & P050405009 & 05 & $\\dots$ \\\\\n",
       "\t4 & 060802 & 270 & 200 & P060802026 & 06 & $\\dots$ \\\\\n",
       "\t5 & 070202 & 238 & 179 & P070202092 & 07 & $\\dots$ \\\\\n",
       "\t6 & 080504 & 258 & 196 & P080504027 & 08 & $\\dots$ \\\\\n",
       "\t7 & 090204 & 694 & 521 & P090204185 & 09 & $\\dots$ \\\\\n",
       "\\end{tabular}\n"
      ],
      "text/plain": [
       "\u001b[1m7×10 DataFrame\u001b[0m\n",
       "\u001b[1m Row \u001b[0m│\u001b[1m category_small_cd \u001b[0m\u001b[1m unit_price_median \u001b[0m\u001b[1m unit_cost_median \u001b[0m\u001b[1m product_cd \u001b[0m\u001b[1m cat\u001b[0m ⋯\n",
       "     │\u001b[90m String            \u001b[0m\u001b[90m Int64             \u001b[0m\u001b[90m Int64            \u001b[0m\u001b[90m String?    \u001b[0m\u001b[90m Str\u001b[0m ⋯\n",
       "─────┼──────────────────────────────────────────────────────────────────────────\n",
       "   1 │ 040802                           313               235  P040802007  04  ⋯\n",
       "   2 │ 050103                           132               100  P050103021  05\n",
       "   3 │ 050405                           178               134  P050405009  05\n",
       "   4 │ 060802                           270               200  P060802026  06\n",
       "   5 │ 070202                           238               179  P070202092  07  ⋯\n",
       "   6 │ 080504                           258               196  P080504027  08\n",
       "   7 │ 090204                           694               521  P090204185  09\n",
       "\u001b[36m                                                               6 columns omitted\u001b[0m"
      ]
     },
     "execution_count": 90,
     "metadata": {},
     "output_type": "execute_result"
    }
   ],
   "source": [
    "@time \\\n",
    "@chain df_product begin\n",
    "    groupby(:category_small_cd)\n",
    "    combine(\n",
    "        [:unit_price, :unit_cost] .=>\n",
    "        (x -> round(Int, median(skipmissing(x)))) .=>\n",
    "        [:unit_price_median, :unit_cost_median]\n",
    "    )\n",
    "    leftjoin(df_product, on=:category_small_cd)\n",
    "    @rtransform begin\n",
    "        :unit_price_imputed = coalesce(:unit_price, :unit_price_median)\n",
    "        :unit_cost_imputed = coalesce(:unit_cost, :unit_cost_median)\n",
    "    end\n",
    "    @rsubset ismissing(:unit_price)\n",
    "end"
   ]
  },
  {
   "cell_type": "markdown",
   "metadata": {},
   "source": [
    "---\n",
    "> P-084: 顧客データ（df_customer）の全顧客に対して全期間の売上金額に占める2019年売上金額の割合を計算し、新たなデータを作成せよ。ただし、売上実績がない場合は0として扱うこと。そして計算した割合が0超のものを抽出し、結果を10件表示せよ。また、作成したデータに欠損が存在しないことを確認せよ。"
   ]
  },
  {
   "cell_type": "code",
   "execution_count": 91,
   "metadata": {},
   "outputs": [
    {
     "name": "stdout",
     "output_type": "stream",
     "text": [
      "  0.854193 seconds (1.00 M allocations: 61.250 MiB, 95.49% compilation time)\n"
     ]
    },
    {
     "data": {
      "text/html": [
       "<div><div style = \"float: left;\"><span>10×4 DataFrame</span></div><div style = \"clear: both;\"></div></div><div class = \"data-frame\" style = \"overflow-x: scroll;\"><table class = \"data-frame\" style = \"margin-bottom: 6px;\"><thead><tr class = \"header\"><th class = \"rowNumber\" style = \"font-weight: bold; text-align: right;\">Row</th><th style = \"text-align: left;\">customer_id</th><th style = \"text-align: left;\">amount_all</th><th style = \"text-align: left;\">amount_2019</th><th style = \"text-align: left;\">amount_prop</th></tr><tr class = \"subheader headerLastRow\"><th class = \"rowNumber\" style = \"font-weight: bold; text-align: right;\"></th><th title = \"String\" style = \"text-align: left;\">String</th><th title = \"Union{Missing, Int64}\" style = \"text-align: left;\">Int64?</th><th title = \"Union{Missing, Int64}\" style = \"text-align: left;\">Int64?</th><th title = \"Real\" style = \"text-align: left;\">Real</th></tr></thead><tbody><tr><td class = \"rowNumber\" style = \"font-weight: bold; text-align: right;\">1</td><td style = \"text-align: left;\">CS031415000172</td><td style = \"text-align: right;\">5088</td><td style = \"text-align: right;\">2971</td><td style = \"text-align: right;\">0.583923</td></tr><tr><td class = \"rowNumber\" style = \"font-weight: bold; text-align: right;\">2</td><td style = \"text-align: left;\">CS015414000103</td><td style = \"text-align: right;\">3122</td><td style = \"text-align: right;\">874</td><td style = \"text-align: right;\">0.279949</td></tr><tr><td class = \"rowNumber\" style = \"font-weight: bold; text-align: right;\">3</td><td style = \"text-align: left;\">CS011215000048</td><td style = \"text-align: right;\">3444</td><td style = \"text-align: right;\">248</td><td style = \"text-align: right;\">0.0720093</td></tr><tr><td class = \"rowNumber\" style = \"font-weight: bold; text-align: right;\">4</td><td style = \"text-align: left;\">CS029415000023</td><td style = \"text-align: right;\">5167</td><td style = \"text-align: right;\">3767</td><td style = \"text-align: right;\">0.72905</td></tr><tr><td class = \"rowNumber\" style = \"font-weight: bold; text-align: right;\">5</td><td style = \"text-align: left;\">CS035415000029</td><td style = \"text-align: right;\">7504</td><td style = \"text-align: right;\">5823</td><td style = \"text-align: right;\">0.775986</td></tr><tr><td class = \"rowNumber\" style = \"font-weight: bold; text-align: right;\">6</td><td style = \"text-align: left;\">CS023513000066</td><td style = \"text-align: right;\">771</td><td style = \"text-align: right;\">208</td><td style = \"text-align: right;\">0.26978</td></tr><tr><td class = \"rowNumber\" style = \"font-weight: bold; text-align: right;\">7</td><td style = \"text-align: left;\">CS035513000134</td><td style = \"text-align: right;\">1565</td><td style = \"text-align: right;\">463</td><td style = \"text-align: right;\">0.295847</td></tr><tr><td class = \"rowNumber\" style = \"font-weight: bold; text-align: right;\">8</td><td style = \"text-align: left;\">CS001515000263</td><td style = \"text-align: right;\">216</td><td style = \"text-align: right;\">216</td><td style = \"text-align: right;\">1.0</td></tr><tr><td class = \"rowNumber\" style = \"font-weight: bold; text-align: right;\">9</td><td style = \"text-align: left;\">CS006415000279</td><td style = \"text-align: right;\">229</td><td style = \"text-align: right;\">229</td><td style = \"text-align: right;\">1.0</td></tr><tr><td class = \"rowNumber\" style = \"font-weight: bold; text-align: right;\">10</td><td style = \"text-align: left;\">CS031415000106</td><td style = \"text-align: right;\">7741</td><td style = \"text-align: right;\">215</td><td style = \"text-align: right;\">0.0277742</td></tr></tbody></table></div>"
      ],
      "text/latex": [
       "\\begin{tabular}{r|cccc}\n",
       "\t& customer\\_id & amount\\_all & amount\\_2019 & amount\\_prop\\\\\n",
       "\t\\hline\n",
       "\t& String & Int64? & Int64? & Real\\\\\n",
       "\t\\hline\n",
       "\t1 & CS031415000172 & 5088 & 2971 & 0.583923 \\\\\n",
       "\t2 & CS015414000103 & 3122 & 874 & 0.279949 \\\\\n",
       "\t3 & CS011215000048 & 3444 & 248 & 0.0720093 \\\\\n",
       "\t4 & CS029415000023 & 5167 & 3767 & 0.72905 \\\\\n",
       "\t5 & CS035415000029 & 7504 & 5823 & 0.775986 \\\\\n",
       "\t6 & CS023513000066 & 771 & 208 & 0.26978 \\\\\n",
       "\t7 & CS035513000134 & 1565 & 463 & 0.295847 \\\\\n",
       "\t8 & CS001515000263 & 216 & 216 & 1.0 \\\\\n",
       "\t9 & CS006415000279 & 229 & 229 & 1.0 \\\\\n",
       "\t10 & CS031415000106 & 7741 & 215 & 0.0277742 \\\\\n",
       "\\end{tabular}\n"
      ],
      "text/plain": [
       "\u001b[1m10×4 DataFrame\u001b[0m\n",
       "\u001b[1m Row \u001b[0m│\u001b[1m customer_id    \u001b[0m\u001b[1m amount_all \u001b[0m\u001b[1m amount_2019 \u001b[0m\u001b[1m amount_prop \u001b[0m\n",
       "     │\u001b[90m String         \u001b[0m\u001b[90m Int64?     \u001b[0m\u001b[90m Int64?      \u001b[0m\u001b[90m Real        \u001b[0m\n",
       "─────┼──────────────────────────────────────────────────────\n",
       "   1 │ CS031415000172        5088         2971    0.583923\n",
       "   2 │ CS015414000103        3122          874    0.279949\n",
       "   3 │ CS011215000048        3444          248    0.0720093\n",
       "   4 │ CS029415000023        5167         3767    0.72905\n",
       "   5 │ CS035415000029        7504         5823    0.775986\n",
       "   6 │ CS023513000066         771          208    0.26978\n",
       "   7 │ CS035513000134        1565          463    0.295847\n",
       "   8 │ CS001515000263         216          216    1.0\n",
       "   9 │ CS006415000279         229          229    1.0\n",
       "  10 │ CS031415000106        7741          215    0.0277742"
      ]
     },
     "execution_count": 91,
     "metadata": {},
     "output_type": "execute_result"
    }
   ],
   "source": [
    "function p084()\n",
    "    amount_all = @chain df_receipt begin\n",
    "        groupby(:customer_id)\n",
    "        @combine :amount_all = sum(:amount)\n",
    "    end\n",
    "\n",
    "    amount_2019 = @chain df_receipt begin\n",
    "        @rsubset startswith(string(:sales_ymd), \"2019\")\n",
    "        groupby(:customer_id)\n",
    "        @combine :amount_2019 = sum(:amount)\n",
    "    end\n",
    "\n",
    "    @chain df_customer begin\n",
    "        @select :customer_id\n",
    "        leftjoin(amount_all, on=:customer_id)\n",
    "        leftjoin(amount_2019, on=:customer_id)\n",
    "        @rtransform :amount_prop = coalesce(:amount_2019 / :amount_all, 0)\n",
    "        @rsubset :amount_prop > 0\n",
    "        first(10)\n",
    "    end\n",
    "end\n",
    "\n",
    "@time p084()"
   ]
  },
  {
   "cell_type": "markdown",
   "metadata": {},
   "source": [
    "---\n",
    "> P-085: 顧客データ（df_customer）の全顧客に対し、郵便番号（postal_cd）を用いてジオコードデータ（df_geocode）を紐付け、新たな顧客データを作成せよ。ただし、1つの郵便番号（postal_cd）に複数の経度（longitude）、緯度（latitude）情報が紐づく場合は、経度（longitude）、緯度（latitude）の平均値を算出して使用すること。また、作成結果を確認するために結果を10件表示せよ。"
   ]
  },
  {
   "cell_type": "code",
   "execution_count": 92,
   "metadata": {},
   "outputs": [
    {
     "data": {
      "text/html": [
       "<div><div style = \"float: left;\"><span>10×13 DataFrame</span></div><div style = \"clear: both;\"></div></div><div class = \"data-frame\" style = \"overflow-x: scroll;\"><table class = \"data-frame\" style = \"margin-bottom: 6px;\"><thead><tr class = \"header\"><th class = \"rowNumber\" style = \"font-weight: bold; text-align: right;\">Row</th><th style = \"text-align: left;\">postal_cd</th><th style = \"text-align: left;\">longitude</th><th style = \"text-align: left;\">latitude</th><th style = \"text-align: left;\">customer_id</th><th style = \"text-align: left;\">customer_name</th><th style = \"text-align: left;\">gender_cd</th><th style = \"text-align: left;\">gender</th><th style = \"text-align: left;\">birth_day</th><th style = \"text-align: left;\">age</th><th style = \"text-align: left;\">address</th><th style = \"text-align: left;\">application_store_cd</th><th style = \"text-align: left;\">application_date</th><th style = \"text-align: left;\">status_cd</th></tr><tr class = \"subheader headerLastRow\"><th class = \"rowNumber\" style = \"font-weight: bold; text-align: right;\"></th><th title = \"String\" style = \"text-align: left;\">String</th><th title = \"Union{Missing, Float64}\" style = \"text-align: left;\">Float64?</th><th title = \"Union{Missing, Float64}\" style = \"text-align: left;\">Float64?</th><th title = \"String\" style = \"text-align: left;\">String</th><th title = \"InlineStrings.String31\" style = \"text-align: left;\">String31</th><th title = \"String\" style = \"text-align: left;\">String</th><th title = \"InlineStrings.String7\" style = \"text-align: left;\">String7</th><th title = \"Date\" style = \"text-align: left;\">Date</th><th title = \"Int64\" style = \"text-align: left;\">Int64</th><th title = \"String\" style = \"text-align: left;\">String</th><th title = \"String\" style = \"text-align: left;\">String</th><th title = \"String\" style = \"text-align: left;\">String</th><th title = \"String\" style = \"text-align: left;\">String</th></tr></thead><tbody><tr><td class = \"rowNumber\" style = \"font-weight: bold; text-align: right;\">1</td><td style = \"text-align: left;\">332-0031</td><td style = \"text-align: right;\">139.727</td><td style = \"text-align: right;\">35.8088</td><td style = \"text-align: left;\">CS020301000012</td><td style = \"text-align: left;\">都築 育二</td><td style = \"text-align: left;\">0</td><td style = \"text-align: left;\">男性</td><td style = \"text-align: left;\">1985-08-20</td><td style = \"text-align: right;\">33</td><td style = \"text-align: left;\">埼玉県川口市青木**********</td><td style = \"text-align: left;\">S13020</td><td style = \"text-align: left;\">20161018</td><td style = \"text-align: left;\">0-00000000-0</td></tr><tr><td class = \"rowNumber\" style = \"font-weight: bold; text-align: right;\">2</td><td style = \"text-align: left;\">332-0023</td><td style = \"text-align: right;\">139.711</td><td style = \"text-align: right;\">35.7965</td><td style = \"text-align: left;\">CS051412000011</td><td style = \"text-align: left;\">奥村 愛</td><td style = \"text-align: left;\">1</td><td style = \"text-align: left;\">女性</td><td style = \"text-align: left;\">1969-06-04</td><td style = \"text-align: right;\">49</td><td style = \"text-align: left;\">埼玉県川口市飯塚**********</td><td style = \"text-align: left;\">S13051</td><td style = \"text-align: left;\">20180702</td><td style = \"text-align: left;\">0-00000000-0</td></tr><tr><td class = \"rowNumber\" style = \"font-weight: bold; text-align: right;\">3</td><td style = \"text-align: left;\">332-0023</td><td style = \"text-align: right;\">139.711</td><td style = \"text-align: right;\">35.7965</td><td style = \"text-align: left;\">CS051412000012</td><td style = \"text-align: left;\">おかやま 未華子</td><td style = \"text-align: left;\">1</td><td style = \"text-align: left;\">女性</td><td style = \"text-align: left;\">1977-03-13</td><td style = \"text-align: right;\">42</td><td style = \"text-align: left;\">埼玉県川口市飯塚**********</td><td style = \"text-align: left;\">S13051</td><td style = \"text-align: left;\">20180511</td><td style = \"text-align: left;\">0-00000000-0</td></tr><tr><td class = \"rowNumber\" style = \"font-weight: bold; text-align: right;\">4</td><td style = \"text-align: left;\">332-0023</td><td style = \"text-align: right;\">139.711</td><td style = \"text-align: right;\">35.7965</td><td style = \"text-align: left;\">CS051212000001</td><td style = \"text-align: left;\">美木 瞬</td><td style = \"text-align: left;\">1</td><td style = \"text-align: left;\">女性</td><td style = \"text-align: left;\">1991-10-19</td><td style = \"text-align: right;\">27</td><td style = \"text-align: left;\">埼玉県川口市飯塚**********</td><td style = \"text-align: left;\">S13051</td><td style = \"text-align: left;\">20180509</td><td style = \"text-align: left;\">2-20101018-4</td></tr><tr><td class = \"rowNumber\" style = \"font-weight: bold; text-align: right;\">5</td><td style = \"text-align: left;\">332-0015</td><td style = \"text-align: right;\">139.716</td><td style = \"text-align: right;\">35.8023</td><td style = \"text-align: left;\">CS020112000003</td><td style = \"text-align: left;\">荒川 まなみ</td><td style = \"text-align: left;\">1</td><td style = \"text-align: left;\">女性</td><td style = \"text-align: left;\">2004-05-13</td><td style = \"text-align: right;\">14</td><td style = \"text-align: left;\">埼玉県川口市川口**********</td><td style = \"text-align: left;\">S13020</td><td style = \"text-align: left;\">20151116</td><td style = \"text-align: left;\">0-00000000-0</td></tr><tr><td class = \"rowNumber\" style = \"font-weight: bold; text-align: right;\">6</td><td style = \"text-align: left;\">332-0015</td><td style = \"text-align: right;\">139.716</td><td style = \"text-align: right;\">35.8023</td><td style = \"text-align: left;\">CS020212000016</td><td style = \"text-align: left;\">藤沢 恵梨香</td><td style = \"text-align: left;\">1</td><td style = \"text-align: left;\">女性</td><td style = \"text-align: left;\">1991-08-08</td><td style = \"text-align: right;\">27</td><td style = \"text-align: left;\">埼玉県川口市川口**********</td><td style = \"text-align: left;\">S13020</td><td style = \"text-align: left;\">20150122</td><td style = \"text-align: left;\">4-20100207-3</td></tr><tr><td class = \"rowNumber\" style = \"font-weight: bold; text-align: right;\">7</td><td style = \"text-align: left;\">332-0015</td><td style = \"text-align: right;\">139.716</td><td style = \"text-align: right;\">35.8023</td><td style = \"text-align: left;\">CS051512000001</td><td style = \"text-align: left;\">田原 夏希</td><td style = \"text-align: left;\">1</td><td style = \"text-align: left;\">女性</td><td style = \"text-align: left;\">1959-11-21</td><td style = \"text-align: right;\">59</td><td style = \"text-align: left;\">埼玉県川口市川口**********</td><td style = \"text-align: left;\">S13051</td><td style = \"text-align: left;\">20190325</td><td style = \"text-align: left;\">0-00000000-0</td></tr><tr><td class = \"rowNumber\" style = \"font-weight: bold; text-align: right;\">8</td><td style = \"text-align: left;\">332-0015</td><td style = \"text-align: right;\">139.716</td><td style = \"text-align: right;\">35.8023</td><td style = \"text-align: left;\">CS020212000004</td><td style = \"text-align: left;\">前田 美佐</td><td style = \"text-align: left;\">1</td><td style = \"text-align: left;\">女性</td><td style = \"text-align: left;\">1989-12-11</td><td style = \"text-align: right;\">29</td><td style = \"text-align: left;\">埼玉県川口市川口**********</td><td style = \"text-align: left;\">S13020</td><td style = \"text-align: left;\">20150814</td><td style = \"text-align: left;\">C-20090906-9</td></tr><tr><td class = \"rowNumber\" style = \"font-weight: bold; text-align: right;\">9</td><td style = \"text-align: left;\">332-0015</td><td style = \"text-align: right;\">139.716</td><td style = \"text-align: right;\">35.8023</td><td style = \"text-align: left;\">CS051502000001</td><td style = \"text-align: left;\">若山 哲平</td><td style = \"text-align: left;\">0</td><td style = \"text-align: left;\">男性</td><td style = \"text-align: left;\">1961-10-07</td><td style = \"text-align: right;\">57</td><td style = \"text-align: left;\">埼玉県川口市川口**********</td><td style = \"text-align: left;\">S13051</td><td style = \"text-align: left;\">20180209</td><td style = \"text-align: left;\">0-00000000-0</td></tr><tr><td class = \"rowNumber\" style = \"font-weight: bold; text-align: right;\">10</td><td style = \"text-align: left;\">332-0015</td><td style = \"text-align: right;\">139.716</td><td style = \"text-align: right;\">35.8023</td><td style = \"text-align: left;\">CS020212000008</td><td style = \"text-align: left;\">板垣 瞳</td><td style = \"text-align: left;\">1</td><td style = \"text-align: left;\">女性</td><td style = \"text-align: left;\">1997-01-05</td><td style = \"text-align: right;\">22</td><td style = \"text-align: left;\">埼玉県川口市川口**********</td><td style = \"text-align: left;\">S13020</td><td style = \"text-align: left;\">20150105</td><td style = \"text-align: left;\">0-00000000-0</td></tr></tbody></table></div>"
      ],
      "text/latex": [
       "\\begin{tabular}{r|cccccccc}\n",
       "\t& postal\\_cd & longitude & latitude & customer\\_id & customer\\_name & gender\\_cd & gender & \\\\\n",
       "\t\\hline\n",
       "\t& String & Float64? & Float64? & String & String31 & String & String7 & \\\\\n",
       "\t\\hline\n",
       "\t1 & 332-0031 & 139.727 & 35.8088 & CS020301000012 & 都築 育二 & 0 & 男性 & $\\dots$ \\\\\n",
       "\t2 & 332-0023 & 139.711 & 35.7965 & CS051412000011 & 奥村 愛 & 1 & 女性 & $\\dots$ \\\\\n",
       "\t3 & 332-0023 & 139.711 & 35.7965 & CS051412000012 & おかやま 未華子 & 1 & 女性 & $\\dots$ \\\\\n",
       "\t4 & 332-0023 & 139.711 & 35.7965 & CS051212000001 & 美木 瞬 & 1 & 女性 & $\\dots$ \\\\\n",
       "\t5 & 332-0015 & 139.716 & 35.8023 & CS020112000003 & 荒川 まなみ & 1 & 女性 & $\\dots$ \\\\\n",
       "\t6 & 332-0015 & 139.716 & 35.8023 & CS020212000016 & 藤沢 恵梨香 & 1 & 女性 & $\\dots$ \\\\\n",
       "\t7 & 332-0015 & 139.716 & 35.8023 & CS051512000001 & 田原 夏希 & 1 & 女性 & $\\dots$ \\\\\n",
       "\t8 & 332-0015 & 139.716 & 35.8023 & CS020212000004 & 前田 美佐 & 1 & 女性 & $\\dots$ \\\\\n",
       "\t9 & 332-0015 & 139.716 & 35.8023 & CS051502000001 & 若山 哲平 & 0 & 男性 & $\\dots$ \\\\\n",
       "\t10 & 332-0015 & 139.716 & 35.8023 & CS020212000008 & 板垣 瞳 & 1 & 女性 & $\\dots$ \\\\\n",
       "\\end{tabular}\n"
      ],
      "text/plain": [
       "\u001b[1m10×13 DataFrame\u001b[0m\n",
       "\u001b[1m Row \u001b[0m│\u001b[1m postal_cd \u001b[0m\u001b[1m longitude \u001b[0m\u001b[1m latitude \u001b[0m\u001b[1m customer_id    \u001b[0m\u001b[1m customer_name   \u001b[0m\u001b[1m gender\u001b[0m ⋯\n",
       "     │\u001b[90m String    \u001b[0m\u001b[90m Float64?  \u001b[0m\u001b[90m Float64? \u001b[0m\u001b[90m String         \u001b[0m\u001b[90m String31        \u001b[0m\u001b[90m String\u001b[0m ⋯\n",
       "─────┼──────────────────────────────────────────────────────────────────────────\n",
       "   1 │ 332-0031     139.727   35.8088  CS020301000012  都築 育二        0      ⋯\n",
       "   2 │ 332-0023     139.711   35.7965  CS051412000011  奥村 愛          1\n",
       "   3 │ 332-0023     139.711   35.7965  CS051412000012  おかやま 未華子  1\n",
       "   4 │ 332-0023     139.711   35.7965  CS051212000001  美木 瞬          1\n",
       "   5 │ 332-0015     139.716   35.8023  CS020112000003  荒川 まなみ      1      ⋯\n",
       "   6 │ 332-0015     139.716   35.8023  CS020212000016  藤沢 恵梨香      1\n",
       "   7 │ 332-0015     139.716   35.8023  CS051512000001  田原 夏希        1\n",
       "   8 │ 332-0015     139.716   35.8023  CS020212000004  前田 美佐        1\n",
       "   9 │ 332-0015     139.716   35.8023  CS051502000001  若山 哲平        0      ⋯\n",
       "  10 │ 332-0015     139.716   35.8023  CS020212000008  板垣 瞳          1\n",
       "\u001b[36m                                                               8 columns omitted\u001b[0m"
      ]
     },
     "execution_count": 92,
     "metadata": {},
     "output_type": "execute_result"
    }
   ],
   "source": [
    "function p085()\n",
    "    @chain df_geocode begin\n",
    "        groupby(:postal_cd)\n",
    "        @combine begin\n",
    "            :longitude = mean(:longitude)\n",
    "            :latitude = mean(:latitude)\n",
    "        end\n",
    "        rightjoin(df_customer, on=:postal_cd)\n",
    "    end\n",
    "end\n",
    "\n",
    "first(p085(), 10)"
   ]
  },
  {
   "cell_type": "markdown",
   "metadata": {},
   "source": [
    "---\n",
    "> P-086: 085で作成した緯度経度つき顧客データに対し、会員申込店舗コード（application_store_cd）をキーに店舗データ（df_store）と結合せよ。そして申込み店舗の緯度（latitude）・経度情報（longitude)と顧客住所（address）の緯度・経度を用いて申込み店舗と顧客住所の距離（単位：km）を求め、顧客ID（customer_id）、顧客住所（address）、店舗住所（address）とともに表示せよ。計算式は以下の簡易式で良いものとするが、その他精度の高い方式を利用したライブラリを利用してもかまわない。結果は10件表示せよ。\n",
    "\n",
    "$$\n",
    "\\mbox{緯度（ラジアン）}：\\phi \\\\\n",
    "\\mbox{経度（ラジアン）}：\\lambda \\\\\n",
    "\\mbox{距離}L = 6371 * \\arccos(\\sin \\phi_1 * \\sin \\phi_2\n",
    "+ \\cos \\phi_1 * \\cos \\phi_2 * \\cos(\\lambda_1 − \\lambda_2))\n",
    "$$"
   ]
  },
  {
   "cell_type": "code",
   "execution_count": 93,
   "metadata": {},
   "outputs": [
    {
     "name": "stdout",
     "output_type": "stream",
     "text": [
      "  0.000002 seconds\n"
     ]
    },
    {
     "data": {
      "text/html": [
       "<div><div style = \"float: left;\"><span>10×4 DataFrame</span></div><div style = \"clear: both;\"></div></div><div class = \"data-frame\" style = \"overflow-x: scroll;\"><table class = \"data-frame\" style = \"margin-bottom: 6px;\"><thead><tr class = \"header\"><th class = \"rowNumber\" style = \"font-weight: bold; text-align: right;\">Row</th><th style = \"text-align: left;\">customer_id_c</th><th style = \"text-align: left;\">address_c</th><th style = \"text-align: left;\">address_s</th><th style = \"text-align: left;\">distance</th></tr><tr class = \"subheader headerLastRow\"><th class = \"rowNumber\" style = \"font-weight: bold; text-align: right;\"></th><th title = \"String\" style = \"text-align: left;\">String</th><th title = \"String\" style = \"text-align: left;\">String</th><th title = \"String\" style = \"text-align: left;\">String</th><th title = \"Float64\" style = \"text-align: left;\">Float64</th></tr></thead><tbody><tr><td class = \"rowNumber\" style = \"font-weight: bold; text-align: right;\">1</td><td style = \"text-align: left;\">CS001105000001</td><td style = \"text-align: left;\">東京都大田区西六郷**********</td><td style = \"text-align: left;\">東京都大田区仲六郷二丁目</td><td style = \"text-align: right;\">1.47979</td></tr><tr><td class = \"rowNumber\" style = \"font-weight: bold; text-align: right;\">2</td><td style = \"text-align: left;\">CS001112000009</td><td style = \"text-align: left;\">東京都大田区西馬込**********</td><td style = \"text-align: left;\">東京都大田区仲六郷二丁目</td><td style = \"text-align: right;\">4.02049</td></tr><tr><td class = \"rowNumber\" style = \"font-weight: bold; text-align: right;\">3</td><td style = \"text-align: left;\">CS001112000019</td><td style = \"text-align: left;\">東京都大田区昭和島**********</td><td style = \"text-align: left;\">東京都大田区仲六郷二丁目</td><td style = \"text-align: right;\">3.78301</td></tr><tr><td class = \"rowNumber\" style = \"font-weight: bold; text-align: right;\">4</td><td style = \"text-align: left;\">CS001112000021</td><td style = \"text-align: left;\">東京都大田区西六郷**********</td><td style = \"text-align: left;\">東京都大田区仲六郷二丁目</td><td style = \"text-align: right;\">1.47979</td></tr><tr><td class = \"rowNumber\" style = \"font-weight: bold; text-align: right;\">5</td><td style = \"text-align: left;\">CS001112000023</td><td style = \"text-align: left;\">東京都大田区昭和島**********</td><td style = \"text-align: left;\">東京都大田区仲六郷二丁目</td><td style = \"text-align: right;\">3.78301</td></tr><tr><td class = \"rowNumber\" style = \"font-weight: bold; text-align: right;\">6</td><td style = \"text-align: left;\">CS001112000024</td><td style = \"text-align: left;\">東京都大田区西六郷**********</td><td style = \"text-align: left;\">東京都大田区仲六郷二丁目</td><td style = \"text-align: right;\">1.47979</td></tr><tr><td class = \"rowNumber\" style = \"font-weight: bold; text-align: right;\">7</td><td style = \"text-align: left;\">CS001112000029</td><td style = \"text-align: left;\">東京都大田区西六郷**********</td><td style = \"text-align: left;\">東京都大田区仲六郷二丁目</td><td style = \"text-align: right;\">1.47979</td></tr><tr><td class = \"rowNumber\" style = \"font-weight: bold; text-align: right;\">8</td><td style = \"text-align: left;\">CS001112000030</td><td style = \"text-align: left;\">東京都大田区西六郷**********</td><td style = \"text-align: left;\">東京都大田区仲六郷二丁目</td><td style = \"text-align: right;\">1.47979</td></tr><tr><td class = \"rowNumber\" style = \"font-weight: bold; text-align: right;\">9</td><td style = \"text-align: left;\">CS001113000004</td><td style = \"text-align: left;\">東京都大田区西六郷**********</td><td style = \"text-align: left;\">東京都大田区仲六郷二丁目</td><td style = \"text-align: right;\">1.47979</td></tr><tr><td class = \"rowNumber\" style = \"font-weight: bold; text-align: right;\">10</td><td style = \"text-align: left;\">CS001113000010</td><td style = \"text-align: left;\">東京都大田区西六郷**********</td><td style = \"text-align: left;\">東京都大田区仲六郷二丁目</td><td style = \"text-align: right;\">1.47979</td></tr></tbody></table></div>"
      ],
      "text/latex": [
       "\\begin{tabular}{r|cccc}\n",
       "\t& customer\\_id\\_c & address\\_c & address\\_s & distance\\\\\n",
       "\t\\hline\n",
       "\t& String & String & String & Float64\\\\\n",
       "\t\\hline\n",
       "\t1 & CS001105000001 & 東京都大田区西六郷********** & 東京都大田区仲六郷二丁目 & 1.47979 \\\\\n",
       "\t2 & CS001112000009 & 東京都大田区西馬込********** & 東京都大田区仲六郷二丁目 & 4.02049 \\\\\n",
       "\t3 & CS001112000019 & 東京都大田区昭和島********** & 東京都大田区仲六郷二丁目 & 3.78301 \\\\\n",
       "\t4 & CS001112000021 & 東京都大田区西六郷********** & 東京都大田区仲六郷二丁目 & 1.47979 \\\\\n",
       "\t5 & CS001112000023 & 東京都大田区昭和島********** & 東京都大田区仲六郷二丁目 & 3.78301 \\\\\n",
       "\t6 & CS001112000024 & 東京都大田区西六郷********** & 東京都大田区仲六郷二丁目 & 1.47979 \\\\\n",
       "\t7 & CS001112000029 & 東京都大田区西六郷********** & 東京都大田区仲六郷二丁目 & 1.47979 \\\\\n",
       "\t8 & CS001112000030 & 東京都大田区西六郷********** & 東京都大田区仲六郷二丁目 & 1.47979 \\\\\n",
       "\t9 & CS001113000004 & 東京都大田区西六郷********** & 東京都大田区仲六郷二丁目 & 1.47979 \\\\\n",
       "\t10 & CS001113000010 & 東京都大田区西六郷********** & 東京都大田区仲六郷二丁目 & 1.47979 \\\\\n",
       "\\end{tabular}\n"
      ],
      "text/plain": [
       "\u001b[1m10×4 DataFrame\u001b[0m\n",
       "\u001b[1m Row \u001b[0m│\u001b[1m customer_id_c  \u001b[0m\u001b[1m address_c                    \u001b[0m\u001b[1m address_s                \u001b[0m\u001b[1m\u001b[0m ⋯\n",
       "     │\u001b[90m String         \u001b[0m\u001b[90m String                       \u001b[0m\u001b[90m String                   \u001b[0m\u001b[90m\u001b[0m ⋯\n",
       "─────┼──────────────────────────────────────────────────────────────────────────\n",
       "   1 │ CS001105000001  東京都大田区西六郷**********  東京都大田区仲六郷二丁目  ⋯\n",
       "   2 │ CS001112000009  東京都大田区西馬込**********  東京都大田区仲六郷二丁目\n",
       "   3 │ CS001112000019  東京都大田区昭和島**********  東京都大田区仲六郷二丁目\n",
       "   4 │ CS001112000021  東京都大田区西六郷**********  東京都大田区仲六郷二丁目\n",
       "   5 │ CS001112000023  東京都大田区昭和島**********  東京都大田区仲六郷二丁目  ⋯\n",
       "   6 │ CS001112000024  東京都大田区西六郷**********  東京都大田区仲六郷二丁目\n",
       "   7 │ CS001112000029  東京都大田区西六郷**********  東京都大田区仲六郷二丁目\n",
       "   8 │ CS001112000030  東京都大田区西六郷**********  東京都大田区仲六郷二丁目\n",
       "   9 │ CS001113000004  東京都大田区西六郷**********  東京都大田区仲六郷二丁目  ⋯\n",
       "  10 │ CS001113000010  東京都大田区西六郷**********  東京都大田区仲六郷二丁目\n",
       "\u001b[36m                                                                1 column omitted\u001b[0m"
      ]
     },
     "execution_count": 93,
     "metadata": {},
     "output_type": "execute_result"
    }
   ],
   "source": [
    "function distance(latitude, longitude)\n",
    "    ϕ₁, ϕ₂ = deg2rad.(latitude)\n",
    "    λ₁, λ₂ = deg2rad.(longitude)\n",
    "    6371 * acos(sin(ϕ₁) * sin(ϕ₂) + cos(ϕ₁) * cos(ϕ₂) * cos(λ₁ - λ₂))\n",
    "end\n",
    "\n",
    "@time \\\n",
    "@chain p085() begin\n",
    "    innerjoin(df_store, on=:application_store_cd => :store_cd, renamecols=\"_c\" => \"_s\")\n",
    "    @rtransform :distance = distance([:latitude_c, :latitude_s], [:longitude_c, :longitude_s])\n",
    "    @select :customer_id_c :address_c :address_s :distance\n",
    "    @orderby :customer_id_c\n",
    "    first(10)\n",
    "end"
   ]
  },
  {
   "cell_type": "markdown",
   "metadata": {},
   "source": [
    "---\n",
    "> P-087: 顧客データ（df_customer）では、異なる店舗での申込みなどにより同一顧客が複数登録されている。名前（customer_name）と郵便番号（postal_cd）が同じ顧客は同一顧客とみなして1顧客1レコードとなるように名寄せした名寄顧客データを作成し、顧客データの件数、名寄顧客データの件数、重複数を算出せよ。ただし、同一顧客に対しては売上金額合計が最も高いものを残し、売上金額合計が同一もしくは売上実績がない顧客については顧客ID（customer_id）の番号が小さいものを残すこととする。"
   ]
  },
  {
   "cell_type": "code",
   "execution_count": 94,
   "metadata": {},
   "outputs": [
    {
     "name": "stdout",
     "output_type": "stream",
     "text": [
      "  2.387073 seconds (2.83 M allocations: 155.500 MiB, 2.37% gc time, 93.69% compilation time)\n"
     ]
    },
    {
     "data": {
      "text/plain": [
       "(count = 21971,\n",
       " unique_count = 21941,\n",
       " diff = 30,\n",
       " df = \u001b[1m21941×12 DataFrame\u001b[0m\n",
       "\u001b[1m   Row \u001b[0m│\u001b[1m customer_name   \u001b[0m\u001b[1m postal_cd \u001b[0m\u001b[1m customer_id    \u001b[0m\u001b[1m amount_sum \u001b[0m\u001b[1m gender_cd \u001b[0m\u001b[1m ge\u001b[0m ⋯\n",
       "       │\u001b[90m String31        \u001b[0m\u001b[90m String    \u001b[0m\u001b[90m String         \u001b[0m\u001b[90m Int64      \u001b[0m\u001b[90m String    \u001b[0m\u001b[90m St\u001b[0m ⋯\n",
       "───────┼────────────────────────────────────────────────────────────────────────\n",
       "     1 │ おかやま あさみ  176-0002   CS019415000213        3272  1          女 ⋯\n",
       "     2 │ おかやま そら    144-0046   CS001515000060         168  1          女\n",
       "     3 │ おかやま ひかり  185-0011   CS002515000380        1623  1          女\n",
       "     4 │ おかやま まひる  185-0012   CS002612000263           0  1          女\n",
       "     5 │ おかやま まひる  285-0858   CS007713000059           0  1          女 ⋯\n",
       "     6 │ おかやま まみ    241-0826   CS028314000010        2348  1          女\n",
       "     7 │ おかやま めぐみ  214-0038   CS024114000006         628  1          女\n",
       "     8 │ おかやま 一恵    242-0024   CS025413000064         316  1          女\n",
       "     9 │ おかやま 京子    167-0051   CS039415000296           0  1          女 ⋯\n",
       "    10 │ おかやま 倫子    182-0022   CS003415000694           0  1          女\n",
       "    11 │ おかやま 夏空    182-0012   CS003412000454           0  1          女\n",
       "   ⋮   │        ⋮             ⋮            ⋮             ⋮           ⋮         ⋱\n",
       " 21932 │ 黒谷 美佳        276-0022   CS007413000305           0  1          女\n",
       " 21933 │ 黒谷 美幸        156-0054   CS035614000018        2636  1          女 ⋯\n",
       " 21934 │ 黒谷 花          275-0021   CS013715000063           0  1          女\n",
       " 21935 │ 黒谷 花          279-0041   CS029515000079        3128  1          女\n",
       " 21936 │ 黒谷 芽以        244-0004   CS027212000036         416  1          女\n",
       " 21937 │ 黒谷 華子        201-0012   CS003215000025         497  1          女 ⋯\n",
       " 21938 │ 黒谷 華子        246-0035   CS033515000088        5530  1          女\n",
       " 21939 │ 黒谷 陽子        204-0004   CS018311000042         218  1          女\n",
       " 21940 │ 黒谷 陽子        242-0024   CS025315000027           0  1          女\n",
       " 21941 │ 黒谷 麻緒        157-0067   CS008415000145        7978  1          女 ⋯\n",
       "\u001b[36m                                                7 columns and 21920 rows omitted\u001b[0m,)"
      ]
     },
     "execution_count": 94,
     "metadata": {},
     "output_type": "execute_result"
    }
   ],
   "source": [
    "function p087()\n",
    "    df_customer_unique = @chain df_customer begin\n",
    "        leftjoin(df_receipt[!, [:customer_id, :amount]], on=:customer_id)\n",
    "        groupby(:customer_id)\n",
    "        @combine :amount_sum = coalesce.(sum(:amount), 0)\n",
    "        innerjoin(df_customer, on=:customer_id)\n",
    "        @orderby :customer_name :postal_cd -:amount_sum :customer_id\n",
    "        groupby([:customer_name, :postal_cd])\n",
    "        @combine $first \n",
    "    end\n",
    "\n",
    "    count = nrow(df_customer)\n",
    "    ucount = nrow(df_customer_unique)\n",
    "    (count = count, unique_count = ucount, diff = count - ucount, df = df_customer_unique)\n",
    "\n",
    "end\n",
    "\n",
    "@time p087()"
   ]
  },
  {
   "cell_type": "markdown",
   "metadata": {},
   "source": [
    "---\n",
    "> P-088: 087で作成したデータを元に、顧客データに統合名寄IDを付与したデータを作成せよ。ただし、統合名寄IDは以下の仕様で付与するものとする。\n",
    ">\n",
    "> - 重複していない顧客：顧客ID（customer_id）を設定\n",
    "> - 重複している顧客：前設問で抽出したレコードの顧客IDを設定\n",
    "> \n",
    "> 顧客IDのユニーク件数と、統合名寄IDのユニーク件数の差も確認すること。"
   ]
  },
  {
   "cell_type": "code",
   "execution_count": 95,
   "metadata": {},
   "outputs": [
    {
     "name": "stdout",
     "output_type": "stream",
     "text": [
      "  1.936251 seconds (2.71 M allocations: 161.275 MiB, 2.77% gc time, 89.77% compilation time)\n"
     ]
    },
    {
     "data": {
      "text/plain": [
       "(customer_id = 21971,\n",
       " integrated_customer_id = 21941,\n",
       " diff = 30,\n",
       " df = \u001b[1m21971×12 DataFrame\u001b[0m\n",
       "\u001b[1m   Row \u001b[0m│\u001b[1m customer_id_original \u001b[0m\u001b[1m customer_name \u001b[0m\u001b[1m gender_cd \u001b[0m\u001b[1m gender  \u001b[0m\u001b[1m birth_day  \u001b[0m\u001b[1m \u001b[0m ⋯\n",
       "       │\u001b[90m String               \u001b[0m\u001b[90m String31      \u001b[0m\u001b[90m String    \u001b[0m\u001b[90m String7 \u001b[0m\u001b[90m Date       \u001b[0m\u001b[90m \u001b[0m ⋯\n",
       "───────┼────────────────────────────────────────────────────────────────────────\n",
       "     1 │ CS021313000114        大野 あや子    1          女性     1981-04-29   ⋯\n",
       "     2 │ CS037613000071        六角 雅彦      9          不明     1952-04-01\n",
       "     3 │ CS031415000172        宇多田 貴美子  1          女性     1976-10-04\n",
       "     4 │ CS028811000001        堀井 かおり    1          女性     1933-03-27\n",
       "     5 │ CS001215000145        田崎 美紀      1          女性     1995-03-29   ⋯\n",
       "     6 │ CS020401000016        宮下 達士      0          男性     1974-09-15\n",
       "     7 │ CS015414000103        奥野 陽子      1          女性     1977-08-09\n",
       "     8 │ CS029403000008        釈 人志        0          男性     1973-08-17\n",
       "     9 │ CS015804000004        松谷 米蔵      0          男性     1931-05-02   ⋯\n",
       "    10 │ CS033513000180        安斎 遥        1          女性     1962-07-11\n",
       "    11 │ CS007403000016        依田 満        0          男性     1975-08-18\n",
       "   ⋮   │          ⋮                  ⋮            ⋮         ⋮         ⋮        ⋱\n",
       " 21962 │ CS012415000309        高田 ひろ子    1          女性     1976-02-03\n",
       " 21963 │ CS040213000013        関 瞬          1          女性     1997-01-26   ⋯\n",
       " 21964 │ CS001315000402        豊島 路子      1          女性     1987-01-16\n",
       " 21965 │ CS039313000173        ともさか 花    1          女性     1983-02-11\n",
       " 21966 │ CS042513000030        三宅 ヒカル    1          女性     1959-01-19\n",
       " 21967 │ CS002512000474        市村 夏希      1          女性     1959-10-12   ⋯\n",
       " 21968 │ CS029414000065        上村 怜奈      1          女性     1970-10-19\n",
       " 21969 │ CS012403000043        堀越 明        0          男性     1972-12-16\n",
       " 21970 │ CS033512000184        池谷 華子      1          女性     1964-06-05\n",
       " 21971 │ CS009213000022        稲垣 咲        1          女性     1996-08-16   ⋯\n",
       "\u001b[36m                                                7 columns and 21950 rows omitted\u001b[0m,)"
      ]
     },
     "execution_count": 95,
     "metadata": {},
     "output_type": "execute_result"
    }
   ],
   "source": [
    "function p088()\n",
    "    p087res = p087()\n",
    "    df = @chain df_customer begin\n",
    "        leftjoin(\n",
    "            p087res.df[!, [:customer_name, :postal_cd, :customer_id]],\n",
    "            on=[:customer_name, :postal_cd],\n",
    "            renamecols=\"\" => \"_unique\"\n",
    "        )\n",
    "        rename(:customer_id => :customer_id_original, :customer_id_unique => :integrated_customer_id)\n",
    "    end\n",
    "\n",
    "    orig = length(unique(df.customer_id_original))\n",
    "    new = length(unique(df.integrated_customer_id))\n",
    "    (customer_id = orig, integrated_customer_id = new, diff = orig - new, df = df)\n",
    "end\n",
    "\n",
    "@time p088()"
   ]
  },
  {
   "cell_type": "markdown",
   "metadata": {},
   "source": [
    "---\n",
    "> P-089: 売上実績がある顧客を、予測モデル構築のため学習用データとテスト用データに分割したい。それぞれ8:2の割合でランダムにデータを分割せよ。"
   ]
  },
  {
   "cell_type": "code",
   "execution_count": 96,
   "metadata": {},
   "outputs": [
    {
     "name": "stdout",
     "output_type": "stream",
     "text": [
      "train: 0.8000240789790513, test: 0.19997592102094872\n",
      "  0.645822 seconds (1.47 M allocations: 81.876 MiB, 7.94% gc time, 96.79% compilation time)\n"
     ]
    },
    {
     "data": {
      "text/plain": [
       "(train = \u001b[1m6645×12 DataFrame\u001b[0m\n",
       "\u001b[1m  Row \u001b[0m│\u001b[1m customer_id    \u001b[0m\u001b[1m customer_name \u001b[0m\u001b[1m gender_cd \u001b[0m\u001b[1m gender  \u001b[0m\u001b[1m birth_day  \u001b[0m\u001b[1m age   \u001b[0m\u001b[1m \u001b[0m ⋯\n",
       "      │\u001b[90m String         \u001b[0m\u001b[90m String31      \u001b[0m\u001b[90m String    \u001b[0m\u001b[90m String7 \u001b[0m\u001b[90m Date       \u001b[0m\u001b[90m Int64 \u001b[0m\u001b[90m \u001b[0m ⋯\n",
       "──────┼─────────────────────────────────────────────────────────────────────────\n",
       "    1 │ CS031415000172  宇多田 貴美子  1          女性     1976-10-04     42   ⋯\n",
       "    2 │ CS001215000145  田崎 美紀      1          女性     1995-03-29     24\n",
       "    3 │ CS015414000103  奥野 陽子      1          女性     1977-08-09     41\n",
       "    4 │ CS033513000180  安斎 遥        1          女性     1962-07-11     56\n",
       "    5 │ CS011215000048  芦田 沙耶      1          女性     1992-02-01     27   ⋯\n",
       "    6 │ CS040412000191  川井 郁恵      1          女性     1977-01-05     42\n",
       "    7 │ CS029415000023  梅田 里穂      1          女性     1976-01-17     43\n",
       "    8 │ CS009315000023  皆川 文世      1          女性     1980-04-15     38\n",
       "    9 │ CS035415000029  寺沢 真希      9          不明     1977-09-27     41   ⋯\n",
       "   10 │ CS015315000033  福士 璃奈子    1          女性     1983-03-17     36\n",
       "   11 │ CS023513000066  神戸 そら      1          女性     1961-12-17     57\n",
       "  ⋮   │       ⋮               ⋮            ⋮         ⋮         ⋮         ⋮     ⋱\n",
       " 6636 │ CS021613000023  大谷 紗季      1          女性     1955-05-17     63\n",
       " 6637 │ CS039513000216  大矢 幸子      1          女性     1965-02-26     54   ⋯\n",
       " 6638 │ CS007515000244  安斎 奈央      1          女性     1960-09-03     58\n",
       " 6639 │ CS010412000032  長浜 みあ      1          女性     1977-03-22     42\n",
       " 6640 │ CS037605000007  石倉 完爾      0          男性     1955-02-25     64\n",
       " 6641 │ CS004315000148  水上 ヒカル    1          女性     1982-01-16     37   ⋯\n",
       " 6642 │ CS013414000030  相原 ヒカル    1          女性     1969-08-23     49\n",
       " 6643 │ CS038315000070  相田 幸子      1          女性     1982-12-07     36\n",
       " 6644 │ CS012515000219  堀越 ひろ子    1          女性     1966-09-02     52\n",
       " 6645 │ CS008513000133  黒川 彩        1          女性     1962-11-17     56   ⋯\n",
       "\u001b[36m                                                 6 columns and 6624 rows omitted\u001b[0m,\n",
       " test = \u001b[1m1661×12 DataFrame\u001b[0m\n",
       "\u001b[1m  Row \u001b[0m│\u001b[1m customer_id    \u001b[0m\u001b[1m customer_name \u001b[0m\u001b[1m gender_cd \u001b[0m\u001b[1m gender  \u001b[0m\u001b[1m birth_day  \u001b[0m\u001b[1m age   \u001b[0m\u001b[1m \u001b[0m ⋯\n",
       "      │\u001b[90m String         \u001b[0m\u001b[90m String31      \u001b[0m\u001b[90m String    \u001b[0m\u001b[90m String7 \u001b[0m\u001b[90m Date       \u001b[0m\u001b[90m Int64 \u001b[0m\u001b[90m \u001b[0m ⋯\n",
       "──────┼─────────────────────────────────────────────────────────────────────────\n",
       "    1 │ CS004413000686  堤 窈          1          女性     1977-06-05     41   ⋯\n",
       "    2 │ CS014514000033  奥村 怜奈      1          女性     1967-11-17     51\n",
       "    3 │ CS002414000192  小野田 貴美子  1          女性     1973-12-27     45\n",
       "    4 │ CS017512000042  森井 夏空      1          女性     1961-11-24     57\n",
       "    5 │ CS030411000004  岡本 窈        1          女性     1977-01-30     42   ⋯\n",
       "    6 │ CS018513000001  武藤 エリカ    1          女性     1964-12-28     54\n",
       "    7 │ CS032414000051  大崎 綾        1          女性     1973-05-09     45\n",
       "    8 │ CS037515000131  田原 菜々美    1          女性     1962-04-03     56\n",
       "    9 │ CS013514000001  高山 さとみ    1          女性     1960-11-07     58   ⋯\n",
       "   10 │ CS020614000013  高柳 まひる    1          女性     1949-08-08     69\n",
       "   11 │ CS030514000050  真田 真帆      1          女性     1965-06-19     53\n",
       "  ⋮   │       ⋮               ⋮            ⋮         ⋮         ⋮         ⋮     ⋱\n",
       " 1652 │ CS002515000242  加瀬 はるみ    1          女性     1966-06-23     52\n",
       " 1653 │ CS021615000081  小柳 遥        1          女性     1950-05-21     68   ⋯\n",
       " 1654 │ CS013515000188  八十田 あさみ  1          女性     1965-02-25     54\n",
       " 1655 │ CS034412000010  末永 まひる    1          女性     1971-07-23     47\n",
       " 1656 │ CS015414000107  岡野 ひろ子    1          女性     1976-11-20     42\n",
       " 1657 │ CS002513000310  柳田 美嘉      1          女性     1963-09-17     55   ⋯\n",
       " 1658 │ CS005415000024  若林 花        1          女性     1969-03-03     50\n",
       " 1659 │ CS001413000156  上原 恵望子    1          女性     1974-12-10     44\n",
       " 1660 │ CS040314000065  谷川 紗季      1          女性     1987-01-14     32\n",
       " 1661 │ CS029414000065  上村 怜奈      1          女性     1970-10-19     48   ⋯\n",
       "\u001b[36m                                                 6 columns and 1640 rows omitted\u001b[0m,)"
      ]
     },
     "execution_count": 96,
     "metadata": {},
     "output_type": "execute_result"
    }
   ],
   "source": [
    "function p089()\n",
    "    customers = @chain df_receipt begin\n",
    "        groupby(:customer_id)\n",
    "        @combine :amount_sum = sum(:amount)\n",
    "    end\n",
    "\n",
    "    df = innerjoin(df_customer, customers, on=:customer_id)\n",
    "    train, test = partition(df, 0.8)\n",
    "    println(\"train: $(nrow(train)/nrow(df)), test: $(nrow(test)/nrow(df))\")\n",
    "\n",
    "    (train = train, test = test)\n",
    "end\n",
    "\n",
    "@time p089()"
   ]
  },
  {
   "cell_type": "markdown",
   "metadata": {},
   "source": [
    "---\n",
    "> P-090: レシート明細データ（df_receipt）は2017年1月1日〜2019年10月31日までのデータを有している。売上金額（amount）を月次で集計し、学習用に12ヶ月、テスト用に6ヶ月の時系列モデル構築用データを3セット作成せよ。"
   ]
  },
  {
   "cell_type": "code",
   "execution_count": 97,
   "metadata": {},
   "outputs": [
    {
     "name": "stdout",
     "output_type": "stream",
     "text": [
      "  0.631099 seconds (1.57 M allocations: 98.048 MiB, 8.18% gc time, 82.82% compilation time)\n"
     ]
    },
    {
     "data": {
      "text/plain": [
       "3-element Vector{NamedTuple{(:train, :test), Tuple{DataFrame, DataFrame}}}:\n",
       " (train = \u001b[1m12×2 DataFrame\u001b[0m\n",
       "\u001b[1m Row \u001b[0m│\u001b[1m yearmonth \u001b[0m\u001b[1m amount_sum \u001b[0m\n",
       "     │\u001b[90m String    \u001b[0m\u001b[90m Int64      \u001b[0m\n",
       "─────┼───────────────────────\n",
       "   1 │ 201707         959205\n",
       "   2 │ 201909        1105696\n",
       "   3 │ 201910        1143062\n",
       "   4 │ 201803         946588\n",
       "   5 │ 201807        1058472\n",
       "   6 │ 201908        1133614\n",
       "   7 │ 201702         764413\n",
       "   8 │ 201905        1111985\n",
       "   9 │ 201907        1118371\n",
       "  10 │ 201901        1064085\n",
       "  11 │ 201709         902037\n",
       "  12 │ 201801         944509, test = \u001b[1m6×2 DataFrame\u001b[0m\n",
       "\u001b[1m Row \u001b[0m│\u001b[1m yearmonth \u001b[0m\u001b[1m amount_sum \u001b[0m\n",
       "     │\u001b[90m String    \u001b[0m\u001b[90m Int64      \u001b[0m\n",
       "─────┼───────────────────────\n",
       "   1 │ 201701         902056\n",
       "   2 │ 201703         962945\n",
       "   3 │ 201711         932157\n",
       "   4 │ 201712         939654\n",
       "   5 │ 201904        1044210\n",
       "   6 │ 201810        1069939)\n",
       " (train = \u001b[1m12×2 DataFrame\u001b[0m\n",
       "\u001b[1m Row \u001b[0m│\u001b[1m yearmonth \u001b[0m\u001b[1m amount_sum \u001b[0m\n",
       "     │\u001b[90m String    \u001b[0m\u001b[90m Int64      \u001b[0m\n",
       "─────┼───────────────────────\n",
       "   1 │ 201902         959538\n",
       "   2 │ 201906        1089063\n",
       "   3 │ 201805        1004438\n",
       "   4 │ 201806        1012329\n",
       "   5 │ 201807        1058472\n",
       "   6 │ 201708         954836\n",
       "   7 │ 201901        1064085\n",
       "   8 │ 201706         894242\n",
       "   9 │ 201712         939654\n",
       "  10 │ 201802         864128\n",
       "  11 │ 201810        1069939\n",
       "  12 │ 201704         847566, test = \u001b[1m6×2 DataFrame\u001b[0m\n",
       "\u001b[1m Row \u001b[0m│\u001b[1m yearmonth \u001b[0m\u001b[1m amount_sum \u001b[0m\n",
       "     │\u001b[90m String    \u001b[0m\u001b[90m Int64      \u001b[0m\n",
       "─────┼───────────────────────\n",
       "   1 │ 201808        1045793\n",
       "   2 │ 201703         962945\n",
       "   3 │ 201804         937099\n",
       "   4 │ 201908        1133614\n",
       "   5 │ 201905        1111985\n",
       "   6 │ 201709         902037)\n",
       " (train = \u001b[1m12×2 DataFrame\u001b[0m\n",
       "\u001b[1m Row \u001b[0m│\u001b[1m yearmonth \u001b[0m\u001b[1m amount_sum \u001b[0m\n",
       "     │\u001b[90m String    \u001b[0m\u001b[90m Int64      \u001b[0m\n",
       "─────┼───────────────────────\n",
       "   1 │ 201902         959538\n",
       "   2 │ 201910        1143062\n",
       "   3 │ 201806        1012329\n",
       "   4 │ 201804         937099\n",
       "   5 │ 201908        1133614\n",
       "   6 │ 201708         954836\n",
       "   7 │ 201907        1118371\n",
       "   8 │ 201711         932157\n",
       "   9 │ 201802         864128\n",
       "  10 │ 201904        1044210\n",
       "  11 │ 201810        1069939\n",
       "  12 │ 201704         847566, test = \u001b[1m6×2 DataFrame\u001b[0m\n",
       "\u001b[1m Row \u001b[0m│\u001b[1m yearmonth \u001b[0m\u001b[1m amount_sum \u001b[0m\n",
       "     │\u001b[90m String    \u001b[0m\u001b[90m Int64      \u001b[0m\n",
       "─────┼───────────────────────\n",
       "   1 │ 201909        1105696\n",
       "   2 │ 201705         884010\n",
       "   3 │ 201903        1093753\n",
       "   4 │ 201803         946588\n",
       "   5 │ 201809         977114\n",
       "   6 │ 201709         902037)"
      ]
     },
     "execution_count": 97,
     "metadata": {},
     "output_type": "execute_result"
    }
   ],
   "source": [
    "function select_train_test(a)\n",
    "    selected = sample(a, 18, replace=false)\n",
    "    (selected[1:12], selected[13:18])\n",
    "end\n",
    "\n",
    "function p090()\n",
    "    df = @chain df_receipt begin\n",
    "        @rtransform :yearmonth = string(:sales_ymd)[1:6]\n",
    "        groupby(:yearmonth)\n",
    "        @combine :amount_sum = sum(:amount)\n",
    "    end\n",
    "    ym_train, ym_test = select_train_test(df.yearmonth)\n",
    "    train = subset(df, :yearmonth => ByRow(x -> x in ym_train))\n",
    "    test = subset(df, :yearmonth => ByRow(x -> x in ym_test))\n",
    "    (train = train, test = test)\n",
    "end\n",
    "\n",
    "@time [p090(), p090(), p090()]"
   ]
  },
  {
   "cell_type": "markdown",
   "metadata": {},
   "source": [
    "---\n",
    "> P-091: 顧客データ（df_customer）の各顧客に対し、売上実績がある顧客数と売上実績がない顧客数が1:1となるようにアンダーサンプリングで抽出せよ。"
   ]
  },
  {
   "cell_type": "code",
   "execution_count": 98,
   "metadata": {},
   "outputs": [
    {
     "name": "stdout",
     "output_type": "stream",
     "text": [
      "  0.807378 seconds (1.01 M allocations: 80.673 MiB, 95.40% compilation time)\n"
     ]
    },
    {
     "data": {
      "text/html": [
       "<div><div style = \"float: left;\"><span>2×2 DataFrame</span></div><div style = \"clear: both;\"></div></div><div class = \"data-frame\" style = \"overflow-x: scroll;\"><table class = \"data-frame\" style = \"margin-bottom: 6px;\"><thead><tr class = \"header\"><th class = \"rowNumber\" style = \"font-weight: bold; text-align: right;\">Row</th><th style = \"text-align: left;\">sales_flag</th><th style = \"text-align: left;\">nrow</th></tr><tr class = \"subheader headerLastRow\"><th class = \"rowNumber\" style = \"font-weight: bold; text-align: right;\"></th><th title = \"Int64\" style = \"text-align: left;\">Int64</th><th title = \"Int64\" style = \"text-align: left;\">Int64</th></tr></thead><tbody><tr><td class = \"rowNumber\" style = \"font-weight: bold; text-align: right;\">1</td><td style = \"text-align: right;\">0</td><td style = \"text-align: right;\">8306</td></tr><tr><td class = \"rowNumber\" style = \"font-weight: bold; text-align: right;\">2</td><td style = \"text-align: right;\">1</td><td style = \"text-align: right;\">8306</td></tr></tbody></table></div>"
      ],
      "text/latex": [
       "\\begin{tabular}{r|cc}\n",
       "\t& sales\\_flag & nrow\\\\\n",
       "\t\\hline\n",
       "\t& Int64 & Int64\\\\\n",
       "\t\\hline\n",
       "\t1 & 0 & 8306 \\\\\n",
       "\t2 & 1 & 8306 \\\\\n",
       "\\end{tabular}\n"
      ],
      "text/plain": [
       "\u001b[1m2×2 DataFrame\u001b[0m\n",
       "\u001b[1m Row \u001b[0m│\u001b[1m sales_flag \u001b[0m\u001b[1m nrow  \u001b[0m\n",
       "     │\u001b[90m Int64      \u001b[0m\u001b[90m Int64 \u001b[0m\n",
       "─────┼───────────────────\n",
       "   1 │          0   8306\n",
       "   2 │          1   8306"
      ]
     },
     "execution_count": 98,
     "metadata": {},
     "output_type": "execute_result"
    }
   ],
   "source": [
    "function p091()\n",
    "    df = @chain df_customer begin\n",
    "        leftjoin(df_receipt[!, [:customer_id, :amount]], on=:customer_id)\n",
    "        groupby(:customer_id)\n",
    "        @combine :amount_sum = coalesce.(sum(:amount), 0)\n",
    "        @rtransform :sales_flag = ifelse(:amount_sum > 0, 1, 0)\n",
    "        innerjoin(df_customer, on=:customer_id)\n",
    "    end\n",
    "\n",
    "    df_sample, _ = undersample(df, df.sales_flag) |> getobs\n",
    "\n",
    "    @chain df_sample begin\n",
    "        groupby(:sales_flag)\n",
    "        @combine $nrow\n",
    "    end\n",
    "end\n",
    "\n",
    "@time p091()"
   ]
  },
  {
   "cell_type": "markdown",
   "metadata": {},
   "source": [
    "---\n",
    "> P-092: 顧客データ（df_customer）の性別について、第三正規形へと正規化せよ。"
   ]
  },
  {
   "cell_type": "code",
   "execution_count": 99,
   "metadata": {},
   "outputs": [
    {
     "name": "stdout",
     "output_type": "stream",
     "text": [
      "  0.396777 seconds (638.75 k allocations: 35.521 MiB, 10.69% gc time, 99.13% compilation time)\n"
     ]
    },
    {
     "data": {
      "text/plain": [
       "(df_customer_std = \u001b[1m21971×10 DataFrame\u001b[0m\n",
       "\u001b[1m   Row \u001b[0m│\u001b[1m customer_id    \u001b[0m\u001b[1m customer_name \u001b[0m\u001b[1m gender_cd \u001b[0m\u001b[1m birth_day  \u001b[0m\u001b[1m age   \u001b[0m\u001b[1m postal_c\u001b[0m ⋯\n",
       "       │\u001b[90m String         \u001b[0m\u001b[90m String31      \u001b[0m\u001b[90m String    \u001b[0m\u001b[90m Date       \u001b[0m\u001b[90m Int64 \u001b[0m\u001b[90m String  \u001b[0m ⋯\n",
       "───────┼────────────────────────────────────────────────────────────────────────\n",
       "     1 │ CS021313000114  大野 あや子    1          1981-04-29     37  259-1113 ⋯\n",
       "     2 │ CS037613000071  六角 雅彦      9          1952-04-01     66  136-0076\n",
       "     3 │ CS031415000172  宇多田 貴美子  1          1976-10-04     42  151-0053\n",
       "     4 │ CS028811000001  堀井 かおり    1          1933-03-27     86  245-0016\n",
       "     5 │ CS001215000145  田崎 美紀      1          1995-03-29     24  144-0055 ⋯\n",
       "     6 │ CS020401000016  宮下 達士      0          1974-09-15     44  174-0065\n",
       "     7 │ CS015414000103  奥野 陽子      1          1977-08-09     41  136-0073\n",
       "     8 │ CS029403000008  釈 人志        0          1973-08-17     45  279-0003\n",
       "     9 │ CS015804000004  松谷 米蔵      0          1931-05-02     87  136-0073 ⋯\n",
       "    10 │ CS033513000180  安斎 遥        1          1962-07-11     56  241-0823\n",
       "    11 │ CS007403000016  依田 満        0          1975-08-18     43  276-0022\n",
       "   ⋮   │       ⋮               ⋮            ⋮          ⋮         ⋮        ⋮    ⋱\n",
       " 21962 │ CS012415000309  高田 ひろ子    1          1976-02-03     43  231-0831\n",
       " 21963 │ CS040213000013  関 瞬          1          1997-01-26     22  194-0001 ⋯\n",
       " 21964 │ CS001315000402  豊島 路子      1          1987-01-16     32  144-0052\n",
       " 21965 │ CS039313000173  ともさか 花    1          1983-02-11     36  167-0032\n",
       " 21966 │ CS042513000030  三宅 ヒカル    1          1959-01-19     60  231-0865\n",
       " 21967 │ CS002512000474  市村 夏希      1          1959-10-12     59  185-0034 ⋯\n",
       " 21968 │ CS029414000065  上村 怜奈      1          1970-10-19     48  279-0043\n",
       " 21969 │ CS012403000043  堀越 明        0          1972-12-16     46  231-0825\n",
       " 21970 │ CS033512000184  池谷 華子      1          1964-06-05     54  245-0016\n",
       " 21971 │ CS009213000022  稲垣 咲        1          1996-08-16     22  154-0012 ⋯\n",
       "\u001b[36m                                                5 columns and 21950 rows omitted\u001b[0m,\n",
       " df_gender_std = \u001b[1m3×2 DataFrame\u001b[0m\n",
       "\u001b[1m Row \u001b[0m│\u001b[1m gender_cd \u001b[0m\u001b[1m gender  \u001b[0m\n",
       "     │\u001b[90m String    \u001b[0m\u001b[90m String7 \u001b[0m\n",
       "─────┼────────────────────\n",
       "   1 │ 1          女性\n",
       "   2 │ 9          不明\n",
       "   3 │ 0          男性,)"
      ]
     },
     "execution_count": 99,
     "metadata": {},
     "output_type": "execute_result"
    }
   ],
   "source": [
    "function p092()\n",
    "    df = @select df_customer $(Not(:gender))\n",
    "    dfg = @distinct df_customer[!, [:gender_cd, :gender]] :gender_cd :gender\n",
    "    (df_customer_std = df, df_gender_std = dfg)\n",
    "end\n",
    "\n",
    "@time p092()"
   ]
  },
  {
   "cell_type": "markdown",
   "metadata": {},
   "source": [
    "---\n",
    "> P-093: 商品データ（df_product）では各カテゴリのコード値だけを保有し、カテゴリ名は保有していない。カテゴリデータ（df_category）と組み合わせて非正規化し、カテゴリ名を保有した新たな商品データを作成せよ。"
   ]
  },
  {
   "cell_type": "code",
   "execution_count": 100,
   "metadata": {},
   "outputs": [
    {
     "name": "stdout",
     "output_type": "stream",
     "text": [
      "  0.783348 seconds (1.38 M allocations: 66.430 MiB, 99.82% compilation time)\n"
     ]
    },
    {
     "data": {
      "text/html": [
       "<div><div style = \"float: left;\"><span>10030×9 DataFrame</span></div><div style = \"float: right;\"><span style = \"font-style: italic;\">10005 rows omitted</span></div><div style = \"clear: both;\"></div></div><div class = \"data-frame\" style = \"overflow-x: scroll;\"><table class = \"data-frame\" style = \"margin-bottom: 6px;\"><thead><tr class = \"header\"><th class = \"rowNumber\" style = \"font-weight: bold; text-align: right;\">Row</th><th style = \"text-align: left;\">product_cd</th><th style = \"text-align: left;\">category_major_cd</th><th style = \"text-align: left;\">category_medium_cd</th><th style = \"text-align: left;\">category_small_cd</th><th style = \"text-align: left;\">unit_price</th><th style = \"text-align: left;\">unit_cost</th><th style = \"text-align: left;\">category_major_name</th><th style = \"text-align: left;\">category_medium_name</th><th style = \"text-align: left;\">category_small_name</th></tr><tr class = \"subheader headerLastRow\"><th class = \"rowNumber\" style = \"font-weight: bold; text-align: right;\"></th><th title = \"String\" style = \"text-align: left;\">String</th><th title = \"String\" style = \"text-align: left;\">String</th><th title = \"String\" style = \"text-align: left;\">String</th><th title = \"String\" style = \"text-align: left;\">String</th><th title = \"Union{Missing, Int64}\" style = \"text-align: left;\">Int64?</th><th title = \"Union{Missing, Int64}\" style = \"text-align: left;\">Int64?</th><th title = \"InlineStrings.String31\" style = \"text-align: left;\">String31</th><th title = \"String\" style = \"text-align: left;\">String</th><th title = \"String\" style = \"text-align: left;\">String</th></tr></thead><tbody><tr><td class = \"rowNumber\" style = \"font-weight: bold; text-align: right;\">1</td><td style = \"text-align: left;\">P040101001</td><td style = \"text-align: left;\">04</td><td style = \"text-align: left;\">0401</td><td style = \"text-align: left;\">040101</td><td style = \"text-align: right;\">198</td><td style = \"text-align: right;\">149</td><td style = \"text-align: left;\">惣菜</td><td style = \"text-align: left;\">御飯類</td><td style = \"text-align: left;\">弁当類</td></tr><tr><td class = \"rowNumber\" style = \"font-weight: bold; text-align: right;\">2</td><td style = \"text-align: left;\">P040101002</td><td style = \"text-align: left;\">04</td><td style = \"text-align: left;\">0401</td><td style = \"text-align: left;\">040101</td><td style = \"text-align: right;\">218</td><td style = \"text-align: right;\">164</td><td style = \"text-align: left;\">惣菜</td><td style = \"text-align: left;\">御飯類</td><td style = \"text-align: left;\">弁当類</td></tr><tr><td class = \"rowNumber\" style = \"font-weight: bold; text-align: right;\">3</td><td style = \"text-align: left;\">P040101003</td><td style = \"text-align: left;\">04</td><td style = \"text-align: left;\">0401</td><td style = \"text-align: left;\">040101</td><td style = \"text-align: right;\">230</td><td style = \"text-align: right;\">173</td><td style = \"text-align: left;\">惣菜</td><td style = \"text-align: left;\">御飯類</td><td style = \"text-align: left;\">弁当類</td></tr><tr><td class = \"rowNumber\" style = \"font-weight: bold; text-align: right;\">4</td><td style = \"text-align: left;\">P040101004</td><td style = \"text-align: left;\">04</td><td style = \"text-align: left;\">0401</td><td style = \"text-align: left;\">040101</td><td style = \"text-align: right;\">248</td><td style = \"text-align: right;\">186</td><td style = \"text-align: left;\">惣菜</td><td style = \"text-align: left;\">御飯類</td><td style = \"text-align: left;\">弁当類</td></tr><tr><td class = \"rowNumber\" style = \"font-weight: bold; text-align: right;\">5</td><td style = \"text-align: left;\">P040101005</td><td style = \"text-align: left;\">04</td><td style = \"text-align: left;\">0401</td><td style = \"text-align: left;\">040101</td><td style = \"text-align: right;\">268</td><td style = \"text-align: right;\">201</td><td style = \"text-align: left;\">惣菜</td><td style = \"text-align: left;\">御飯類</td><td style = \"text-align: left;\">弁当類</td></tr><tr><td class = \"rowNumber\" style = \"font-weight: bold; text-align: right;\">6</td><td style = \"text-align: left;\">P040101006</td><td style = \"text-align: left;\">04</td><td style = \"text-align: left;\">0401</td><td style = \"text-align: left;\">040101</td><td style = \"text-align: right;\">298</td><td style = \"text-align: right;\">224</td><td style = \"text-align: left;\">惣菜</td><td style = \"text-align: left;\">御飯類</td><td style = \"text-align: left;\">弁当類</td></tr><tr><td class = \"rowNumber\" style = \"font-weight: bold; text-align: right;\">7</td><td style = \"text-align: left;\">P040101007</td><td style = \"text-align: left;\">04</td><td style = \"text-align: left;\">0401</td><td style = \"text-align: left;\">040101</td><td style = \"text-align: right;\">338</td><td style = \"text-align: right;\">254</td><td style = \"text-align: left;\">惣菜</td><td style = \"text-align: left;\">御飯類</td><td style = \"text-align: left;\">弁当類</td></tr><tr><td class = \"rowNumber\" style = \"font-weight: bold; text-align: right;\">8</td><td style = \"text-align: left;\">P040101008</td><td style = \"text-align: left;\">04</td><td style = \"text-align: left;\">0401</td><td style = \"text-align: left;\">040101</td><td style = \"text-align: right;\">420</td><td style = \"text-align: right;\">315</td><td style = \"text-align: left;\">惣菜</td><td style = \"text-align: left;\">御飯類</td><td style = \"text-align: left;\">弁当類</td></tr><tr><td class = \"rowNumber\" style = \"font-weight: bold; text-align: right;\">9</td><td style = \"text-align: left;\">P040101009</td><td style = \"text-align: left;\">04</td><td style = \"text-align: left;\">0401</td><td style = \"text-align: left;\">040101</td><td style = \"text-align: right;\">498</td><td style = \"text-align: right;\">374</td><td style = \"text-align: left;\">惣菜</td><td style = \"text-align: left;\">御飯類</td><td style = \"text-align: left;\">弁当類</td></tr><tr><td class = \"rowNumber\" style = \"font-weight: bold; text-align: right;\">10</td><td style = \"text-align: left;\">P040101010</td><td style = \"text-align: left;\">04</td><td style = \"text-align: left;\">0401</td><td style = \"text-align: left;\">040101</td><td style = \"text-align: right;\">580</td><td style = \"text-align: right;\">435</td><td style = \"text-align: left;\">惣菜</td><td style = \"text-align: left;\">御飯類</td><td style = \"text-align: left;\">弁当類</td></tr><tr><td class = \"rowNumber\" style = \"font-weight: bold; text-align: right;\">11</td><td style = \"text-align: left;\">P040102001</td><td style = \"text-align: left;\">04</td><td style = \"text-align: left;\">0401</td><td style = \"text-align: left;\">040102</td><td style = \"text-align: right;\">268</td><td style = \"text-align: right;\">201</td><td style = \"text-align: left;\">惣菜</td><td style = \"text-align: left;\">御飯類</td><td style = \"text-align: left;\">寿司類</td></tr><tr><td class = \"rowNumber\" style = \"font-weight: bold; text-align: right;\">12</td><td style = \"text-align: left;\">P040102002</td><td style = \"text-align: left;\">04</td><td style = \"text-align: left;\">0401</td><td style = \"text-align: left;\">040102</td><td style = \"text-align: right;\">268</td><td style = \"text-align: right;\">201</td><td style = \"text-align: left;\">惣菜</td><td style = \"text-align: left;\">御飯類</td><td style = \"text-align: left;\">寿司類</td></tr><tr><td class = \"rowNumber\" style = \"font-weight: bold; text-align: right;\">13</td><td style = \"text-align: left;\">P040102003</td><td style = \"text-align: left;\">04</td><td style = \"text-align: left;\">0401</td><td style = \"text-align: left;\">040102</td><td style = \"text-align: right;\">278</td><td style = \"text-align: right;\">209</td><td style = \"text-align: left;\">惣菜</td><td style = \"text-align: left;\">御飯類</td><td style = \"text-align: left;\">寿司類</td></tr><tr><td style = \"text-align: right;\">&vellip;</td><td style = \"text-align: right;\">&vellip;</td><td style = \"text-align: right;\">&vellip;</td><td style = \"text-align: right;\">&vellip;</td><td style = \"text-align: right;\">&vellip;</td><td style = \"text-align: right;\">&vellip;</td><td style = \"text-align: right;\">&vellip;</td><td style = \"text-align: right;\">&vellip;</td><td style = \"text-align: right;\">&vellip;</td><td style = \"text-align: right;\">&vellip;</td></tr><tr><td class = \"rowNumber\" style = \"font-weight: bold; text-align: right;\">10019</td><td style = \"text-align: left;\">P091501043</td><td style = \"text-align: left;\">09</td><td style = \"text-align: left;\">0915</td><td style = \"text-align: left;\">091501</td><td style = \"text-align: right;\">800</td><td style = \"text-align: right;\">600</td><td style = \"text-align: left;\">洗剤</td><td style = \"text-align: left;\">ＤＩＹ用品</td><td style = \"text-align: left;\">建築・塗装材料</td></tr><tr><td class = \"rowNumber\" style = \"font-weight: bold; text-align: right;\">10020</td><td style = \"text-align: left;\">P091501044</td><td style = \"text-align: left;\">09</td><td style = \"text-align: left;\">0915</td><td style = \"text-align: left;\">091501</td><td style = \"text-align: right;\">880</td><td style = \"text-align: right;\">660</td><td style = \"text-align: left;\">洗剤</td><td style = \"text-align: left;\">ＤＩＹ用品</td><td style = \"text-align: left;\">建築・塗装材料</td></tr><tr><td class = \"rowNumber\" style = \"font-weight: bold; text-align: right;\">10021</td><td style = \"text-align: left;\">P091501045</td><td style = \"text-align: left;\">09</td><td style = \"text-align: left;\">0915</td><td style = \"text-align: left;\">091501</td><td style = \"text-align: right;\">980</td><td style = \"text-align: right;\">735</td><td style = \"text-align: left;\">洗剤</td><td style = \"text-align: left;\">ＤＩＹ用品</td><td style = \"text-align: left;\">建築・塗装材料</td></tr><tr><td class = \"rowNumber\" style = \"font-weight: bold; text-align: right;\">10022</td><td style = \"text-align: left;\">P091501046</td><td style = \"text-align: left;\">09</td><td style = \"text-align: left;\">0915</td><td style = \"text-align: left;\">091501</td><td style = \"text-align: right;\">980</td><td style = \"text-align: right;\">735</td><td style = \"text-align: left;\">洗剤</td><td style = \"text-align: left;\">ＤＩＹ用品</td><td style = \"text-align: left;\">建築・塗装材料</td></tr><tr><td class = \"rowNumber\" style = \"font-weight: bold; text-align: right;\">10023</td><td style = \"text-align: left;\">P091501047</td><td style = \"text-align: left;\">09</td><td style = \"text-align: left;\">0915</td><td style = \"text-align: left;\">091501</td><td style = \"text-align: right;\">1240</td><td style = \"text-align: right;\">930</td><td style = \"text-align: left;\">洗剤</td><td style = \"text-align: left;\">ＤＩＹ用品</td><td style = \"text-align: left;\">建築・塗装材料</td></tr><tr><td class = \"rowNumber\" style = \"font-weight: bold; text-align: right;\">10024</td><td style = \"text-align: left;\">P091501048</td><td style = \"text-align: left;\">09</td><td style = \"text-align: left;\">0915</td><td style = \"text-align: left;\">091501</td><td style = \"text-align: right;\">1360</td><td style = \"text-align: right;\">1020</td><td style = \"text-align: left;\">洗剤</td><td style = \"text-align: left;\">ＤＩＹ用品</td><td style = \"text-align: left;\">建築・塗装材料</td></tr><tr><td class = \"rowNumber\" style = \"font-weight: bold; text-align: right;\">10025</td><td style = \"text-align: left;\">P091501049</td><td style = \"text-align: left;\">09</td><td style = \"text-align: left;\">0915</td><td style = \"text-align: left;\">091501</td><td style = \"text-align: right;\">1380</td><td style = \"text-align: right;\">1035</td><td style = \"text-align: left;\">洗剤</td><td style = \"text-align: left;\">ＤＩＹ用品</td><td style = \"text-align: left;\">建築・塗装材料</td></tr><tr><td class = \"rowNumber\" style = \"font-weight: bold; text-align: right;\">10026</td><td style = \"text-align: left;\">P091503001</td><td style = \"text-align: left;\">09</td><td style = \"text-align: left;\">0915</td><td style = \"text-align: left;\">091503</td><td style = \"text-align: right;\">280</td><td style = \"text-align: right;\">210</td><td style = \"text-align: left;\">洗剤</td><td style = \"text-align: left;\">ＤＩＹ用品</td><td style = \"text-align: left;\">園芸用品</td></tr><tr><td class = \"rowNumber\" style = \"font-weight: bold; text-align: right;\">10027</td><td style = \"text-align: left;\">P091503002</td><td style = \"text-align: left;\">09</td><td style = \"text-align: left;\">0915</td><td style = \"text-align: left;\">091503</td><td style = \"text-align: right;\">680</td><td style = \"text-align: right;\">510</td><td style = \"text-align: left;\">洗剤</td><td style = \"text-align: left;\">ＤＩＹ用品</td><td style = \"text-align: left;\">園芸用品</td></tr><tr><td class = \"rowNumber\" style = \"font-weight: bold; text-align: right;\">10028</td><td style = \"text-align: left;\">P091503003</td><td style = \"text-align: left;\">09</td><td style = \"text-align: left;\">0915</td><td style = \"text-align: left;\">091503</td><td style = \"text-align: right;\">1080</td><td style = \"text-align: right;\">810</td><td style = \"text-align: left;\">洗剤</td><td style = \"text-align: left;\">ＤＩＹ用品</td><td style = \"text-align: left;\">園芸用品</td></tr><tr><td class = \"rowNumber\" style = \"font-weight: bold; text-align: right;\">10029</td><td style = \"text-align: left;\">P091503004</td><td style = \"text-align: left;\">09</td><td style = \"text-align: left;\">0915</td><td style = \"text-align: left;\">091503</td><td style = \"text-align: right;\">1130</td><td style = \"text-align: right;\">848</td><td style = \"text-align: left;\">洗剤</td><td style = \"text-align: left;\">ＤＩＹ用品</td><td style = \"text-align: left;\">園芸用品</td></tr><tr><td class = \"rowNumber\" style = \"font-weight: bold; text-align: right;\">10030</td><td style = \"text-align: left;\">P091503005</td><td style = \"text-align: left;\">09</td><td style = \"text-align: left;\">0915</td><td style = \"text-align: left;\">091503</td><td style = \"text-align: right;\">1280</td><td style = \"text-align: right;\">960</td><td style = \"text-align: left;\">洗剤</td><td style = \"text-align: left;\">ＤＩＹ用品</td><td style = \"text-align: left;\">園芸用品</td></tr></tbody></table></div>"
      ],
      "text/latex": [
       "\\begin{tabular}{r|cccccc}\n",
       "\t& product\\_cd & category\\_major\\_cd & category\\_medium\\_cd & category\\_small\\_cd & unit\\_price & \\\\\n",
       "\t\\hline\n",
       "\t& String & String & String & String & Int64? & \\\\\n",
       "\t\\hline\n",
       "\t1 & P040101001 & 04 & 0401 & 040101 & 198 & $\\dots$ \\\\\n",
       "\t2 & P040101002 & 04 & 0401 & 040101 & 218 & $\\dots$ \\\\\n",
       "\t3 & P040101003 & 04 & 0401 & 040101 & 230 & $\\dots$ \\\\\n",
       "\t4 & P040101004 & 04 & 0401 & 040101 & 248 & $\\dots$ \\\\\n",
       "\t5 & P040101005 & 04 & 0401 & 040101 & 268 & $\\dots$ \\\\\n",
       "\t6 & P040101006 & 04 & 0401 & 040101 & 298 & $\\dots$ \\\\\n",
       "\t7 & P040101007 & 04 & 0401 & 040101 & 338 & $\\dots$ \\\\\n",
       "\t8 & P040101008 & 04 & 0401 & 040101 & 420 & $\\dots$ \\\\\n",
       "\t9 & P040101009 & 04 & 0401 & 040101 & 498 & $\\dots$ \\\\\n",
       "\t10 & P040101010 & 04 & 0401 & 040101 & 580 & $\\dots$ \\\\\n",
       "\t11 & P040102001 & 04 & 0401 & 040102 & 268 & $\\dots$ \\\\\n",
       "\t12 & P040102002 & 04 & 0401 & 040102 & 268 & $\\dots$ \\\\\n",
       "\t13 & P040102003 & 04 & 0401 & 040102 & 278 & $\\dots$ \\\\\n",
       "\t14 & P040102004 & 04 & 0401 & 040102 & 318 & $\\dots$ \\\\\n",
       "\t15 & P040102005 & 04 & 0401 & 040102 & 318 & $\\dots$ \\\\\n",
       "\t16 & P040102006 & 04 & 0401 & 040102 & 318 & $\\dots$ \\\\\n",
       "\t17 & P040102007 & 04 & 0401 & 040102 & 338 & $\\dots$ \\\\\n",
       "\t18 & P040102008 & 04 & 0401 & 040102 & 358 & $\\dots$ \\\\\n",
       "\t19 & P040102009 & 04 & 0401 & 040102 & 358 & $\\dots$ \\\\\n",
       "\t20 & P040102010 & 04 & 0401 & 040102 & 358 & $\\dots$ \\\\\n",
       "\t21 & P040102011 & 04 & 0401 & 040102 & 358 & $\\dots$ \\\\\n",
       "\t22 & P040102012 & 04 & 0401 & 040102 & 358 & $\\dots$ \\\\\n",
       "\t23 & P040102013 & 04 & 0401 & 040102 & 398 & $\\dots$ \\\\\n",
       "\t24 & P040102014 & 04 & 0401 & 040102 & 398 & $\\dots$ \\\\\n",
       "\t25 & P040102015 & 04 & 0401 & 040102 & 398 & $\\dots$ \\\\\n",
       "\t26 & P040102016 & 04 & 0401 & 040102 & 398 & $\\dots$ \\\\\n",
       "\t27 & P040102017 & 04 & 0401 & 040102 & 438 & $\\dots$ \\\\\n",
       "\t28 & P040102018 & 04 & 0401 & 040102 & 498 & $\\dots$ \\\\\n",
       "\t29 & P040102019 & 04 & 0401 & 040102 & 598 & $\\dots$ \\\\\n",
       "\t30 & P040102020 & 04 & 0401 & 040102 & 980 & $\\dots$ \\\\\n",
       "\t$\\dots$ & $\\dots$ & $\\dots$ & $\\dots$ & $\\dots$ & $\\dots$ &  \\\\\n",
       "\\end{tabular}\n"
      ],
      "text/plain": [
       "\u001b[1m10030×9 DataFrame\u001b[0m\n",
       "\u001b[1m   Row \u001b[0m│\u001b[1m product_cd \u001b[0m\u001b[1m category_major_cd \u001b[0m\u001b[1m category_medium_cd \u001b[0m\u001b[1m category_small_cd \u001b[0m\u001b[1m\u001b[0m ⋯\n",
       "       │\u001b[90m String     \u001b[0m\u001b[90m String            \u001b[0m\u001b[90m String             \u001b[0m\u001b[90m String            \u001b[0m\u001b[90m\u001b[0m ⋯\n",
       "───────┼────────────────────────────────────────────────────────────────────────\n",
       "     1 │ P040101001  04                 0401                040101             ⋯\n",
       "     2 │ P040101002  04                 0401                040101\n",
       "     3 │ P040101003  04                 0401                040101\n",
       "     4 │ P040101004  04                 0401                040101\n",
       "     5 │ P040101005  04                 0401                040101             ⋯\n",
       "     6 │ P040101006  04                 0401                040101\n",
       "     7 │ P040101007  04                 0401                040101\n",
       "     8 │ P040101008  04                 0401                040101\n",
       "     9 │ P040101009  04                 0401                040101             ⋯\n",
       "    10 │ P040101010  04                 0401                040101\n",
       "    11 │ P040102001  04                 0401                040102\n",
       "   ⋮   │     ⋮               ⋮                  ⋮                   ⋮          ⋱\n",
       " 10021 │ P091501045  09                 0915                091501\n",
       " 10022 │ P091501046  09                 0915                091501             ⋯\n",
       " 10023 │ P091501047  09                 0915                091501\n",
       " 10024 │ P091501048  09                 0915                091501\n",
       " 10025 │ P091501049  09                 0915                091501\n",
       " 10026 │ P091503001  09                 0915                091503             ⋯\n",
       " 10027 │ P091503002  09                 0915                091503\n",
       " 10028 │ P091503003  09                 0915                091503\n",
       " 10029 │ P091503004  09                 0915                091503\n",
       " 10030 │ P091503005  09                 0915                091503             ⋯\n",
       "\u001b[36m                                                5 columns and 10009 rows omitted\u001b[0m"
      ]
     },
     "execution_count": 100,
     "metadata": {},
     "output_type": "execute_result"
    }
   ],
   "source": [
    "function p093()\n",
    "    innerjoin(\n",
    "        df_product,\n",
    "        df_category,\n",
    "        on=[:category_major_cd , :category_medium_cd, :category_small_cd]\n",
    "    )\n",
    "end\n",
    "\n",
    "@time p093()"
   ]
  },
  {
   "cell_type": "markdown",
   "metadata": {},
   "source": [
    "---\n",
    "> P-094: 093で作成したカテゴリ名付き商品データを以下の仕様でファイル出力せよ。\n",
    ">\n",
    "> |ファイル形式|ヘッダ有無|文字エンコーディング|\n",
    "> |:--:|:--:|:--:|\n",
    "> |CSV（カンマ区切り）|有り|UTF-8|\n",
    "> \n",
    "> ファイル出力先のパスは以下のようにすること\n",
    "> \n",
    "> |出力先|\n",
    "> |:--:|\n",
    "> |./data|"
   ]
  },
  {
   "cell_type": "code",
   "execution_count": 101,
   "metadata": {},
   "outputs": [
    {
     "name": "stdout",
     "output_type": "stream",
     "text": [
      "  0.000001 seconds\n"
     ]
    },
    {
     "data": {
      "text/plain": [
       "\"data/094.csv\""
      ]
     },
     "execution_count": 101,
     "metadata": {},
     "output_type": "execute_result"
    }
   ],
   "source": [
    "@time \\\n",
    "CSV.write(\"data/094.csv\", p093())"
   ]
  },
  {
   "cell_type": "markdown",
   "metadata": {},
   "source": [
    "---\n",
    "> P-095: 093で作成したカテゴリ名付き商品データを以下の仕様でファイル出力せよ。\n",
    ">\n",
    "> |ファイル形式|ヘッダ有無|文字エンコーディング|\n",
    "> |:--:|:--:|:--:|\n",
    "> |CSV（カンマ区切り）|有り|CP932|\n",
    "> \n",
    "> ファイル出力先のパスは以下のようにすること。\n",
    "> \n",
    "> |出力先|\n",
    "> |:--:|\n",
    "> |./data|"
   ]
  },
  {
   "cell_type": "code",
   "execution_count": 102,
   "metadata": {},
   "outputs": [],
   "source": [
    "# できなそう"
   ]
  },
  {
   "cell_type": "markdown",
   "metadata": {},
   "source": [
    "---\n",
    "> P-096: 093で作成したカテゴリ名付き商品データを以下の仕様でファイル出力せよ。\n",
    ">\n",
    "> |ファイル形式|ヘッダ有無|文字エンコーディング|\n",
    "> |:--:|:--:|:--:|\n",
    "> |CSV（カンマ区切り）|無し|UTF-8|\n",
    "> \n",
    "> ファイル出力先のパスは以下のようにすること。\n",
    "> \n",
    "> |出力先|\n",
    "> |:--:|\n",
    "> |./data|"
   ]
  },
  {
   "cell_type": "code",
   "execution_count": 103,
   "metadata": {},
   "outputs": [
    {
     "name": "stdout",
     "output_type": "stream",
     "text": [
      "  0.000001 seconds\n"
     ]
    },
    {
     "data": {
      "text/plain": [
       "\"data/096.csv\""
      ]
     },
     "execution_count": 103,
     "metadata": {},
     "output_type": "execute_result"
    }
   ],
   "source": [
    "@time \\\n",
    "CSV.write(\"data/096.csv\", p093(), header=false)"
   ]
  },
  {
   "cell_type": "markdown",
   "metadata": {},
   "source": [
    "---\n",
    "> P-097: 094で作成した以下形式のファイルを読み込み、データを3件を表示させて正しく取り込まれていることを確認せよ。\n",
    "> \n",
    "> |ファイル形式|ヘッダ有無|文字エンコーディング|\n",
    "> |:--:|:--:|:--:|\n",
    "> |CSV（カンマ区切り）|有り|UTF-8|"
   ]
  },
  {
   "cell_type": "code",
   "execution_count": 104,
   "metadata": {},
   "outputs": [
    {
     "name": "stdout",
     "output_type": "stream",
     "text": [
      "  0.000001 seconds\n"
     ]
    },
    {
     "data": {
      "text/html": [
       "<div><div style = \"float: left;\"><span>3×9 DataFrame</span></div><div style = \"clear: both;\"></div></div><div class = \"data-frame\" style = \"overflow-x: scroll;\"><table class = \"data-frame\" style = \"margin-bottom: 6px;\"><thead><tr class = \"header\"><th class = \"rowNumber\" style = \"font-weight: bold; text-align: right;\">Row</th><th style = \"text-align: left;\">product_cd</th><th style = \"text-align: left;\">category_major_cd</th><th style = \"text-align: left;\">category_medium_cd</th><th style = \"text-align: left;\">category_small_cd</th><th style = \"text-align: left;\">unit_price</th><th style = \"text-align: left;\">unit_cost</th><th style = \"text-align: left;\">category_major_name</th><th style = \"text-align: left;\">category_medium_name</th><th style = \"text-align: left;\">category_small_name</th></tr><tr class = \"subheader headerLastRow\"><th class = \"rowNumber\" style = \"font-weight: bold; text-align: right;\"></th><th title = \"String\" style = \"text-align: left;\">String</th><th title = \"String\" style = \"text-align: left;\">String</th><th title = \"String\" style = \"text-align: left;\">String</th><th title = \"String\" style = \"text-align: left;\">String</th><th title = \"Union{Missing, Int64}\" style = \"text-align: left;\">Int64?</th><th title = \"Union{Missing, Int64}\" style = \"text-align: left;\">Int64?</th><th title = \"InlineStrings.String31\" style = \"text-align: left;\">String31</th><th title = \"String\" style = \"text-align: left;\">String</th><th title = \"String\" style = \"text-align: left;\">String</th></tr></thead><tbody><tr><td class = \"rowNumber\" style = \"font-weight: bold; text-align: right;\">1</td><td style = \"text-align: left;\">P040101001</td><td style = \"text-align: left;\">04</td><td style = \"text-align: left;\">0401</td><td style = \"text-align: left;\">040101</td><td style = \"text-align: right;\">198</td><td style = \"text-align: right;\">149</td><td style = \"text-align: left;\">惣菜</td><td style = \"text-align: left;\">御飯類</td><td style = \"text-align: left;\">弁当類</td></tr><tr><td class = \"rowNumber\" style = \"font-weight: bold; text-align: right;\">2</td><td style = \"text-align: left;\">P040101002</td><td style = \"text-align: left;\">04</td><td style = \"text-align: left;\">0401</td><td style = \"text-align: left;\">040101</td><td style = \"text-align: right;\">218</td><td style = \"text-align: right;\">164</td><td style = \"text-align: left;\">惣菜</td><td style = \"text-align: left;\">御飯類</td><td style = \"text-align: left;\">弁当類</td></tr><tr><td class = \"rowNumber\" style = \"font-weight: bold; text-align: right;\">3</td><td style = \"text-align: left;\">P040101003</td><td style = \"text-align: left;\">04</td><td style = \"text-align: left;\">0401</td><td style = \"text-align: left;\">040101</td><td style = \"text-align: right;\">230</td><td style = \"text-align: right;\">173</td><td style = \"text-align: left;\">惣菜</td><td style = \"text-align: left;\">御飯類</td><td style = \"text-align: left;\">弁当類</td></tr></tbody></table></div>"
      ],
      "text/latex": [
       "\\begin{tabular}{r|cccccc}\n",
       "\t& product\\_cd & category\\_major\\_cd & category\\_medium\\_cd & category\\_small\\_cd & unit\\_price & \\\\\n",
       "\t\\hline\n",
       "\t& String & String & String & String & Int64? & \\\\\n",
       "\t\\hline\n",
       "\t1 & P040101001 & 04 & 0401 & 040101 & 198 & $\\dots$ \\\\\n",
       "\t2 & P040101002 & 04 & 0401 & 040101 & 218 & $\\dots$ \\\\\n",
       "\t3 & P040101003 & 04 & 0401 & 040101 & 230 & $\\dots$ \\\\\n",
       "\\end{tabular}\n"
      ],
      "text/plain": [
       "\u001b[1m3×9 DataFrame\u001b[0m\n",
       "\u001b[1m Row \u001b[0m│\u001b[1m product_cd \u001b[0m\u001b[1m category_major_cd \u001b[0m\u001b[1m category_medium_cd \u001b[0m\u001b[1m category_small_cd \u001b[0m\u001b[1m u\u001b[0m ⋯\n",
       "     │\u001b[90m String     \u001b[0m\u001b[90m String            \u001b[0m\u001b[90m String             \u001b[0m\u001b[90m String            \u001b[0m\u001b[90m I\u001b[0m ⋯\n",
       "─────┼──────────────────────────────────────────────────────────────────────────\n",
       "   1 │ P040101001  04                 0401                040101               ⋯\n",
       "   2 │ P040101002  04                 0401                040101\n",
       "   3 │ P040101003  04                 0401                040101\n",
       "\u001b[36m                                                               5 columns omitted\u001b[0m"
      ]
     },
     "execution_count": 104,
     "metadata": {},
     "output_type": "execute_result"
    }
   ],
   "source": [
    "@time \\\n",
    "CSV.File(\"data/094.csv\", types=Dict(r\"_cd$\" => String)) |>\n",
    "    DataFrame |>\n",
    "    df -> first(df, 3)"
   ]
  },
  {
   "cell_type": "markdown",
   "metadata": {},
   "source": [
    "---\n",
    "> P-098: 096で作成した以下形式のファイルを読み込み、データを3件を表示させて正しく取り込まれていることを確認せよ。\n",
    "> \n",
    "> |ファイル形式|ヘッダ有無|文字エンコーディング|\n",
    "> |:--:|:--:|:--:|\n",
    "> |CSV（カンマ区切り）|ヘッダ無し|UTF-8|"
   ]
  },
  {
   "cell_type": "code",
   "execution_count": 105,
   "metadata": {},
   "outputs": [
    {
     "name": "stdout",
     "output_type": "stream",
     "text": [
      "  0.000004 seconds\n"
     ]
    },
    {
     "data": {
      "text/html": [
       "<div><div style = \"float: left;\"><span>3×9 DataFrame</span></div><div style = \"clear: both;\"></div></div><div class = \"data-frame\" style = \"overflow-x: scroll;\"><table class = \"data-frame\" style = \"margin-bottom: 6px;\"><thead><tr class = \"header\"><th class = \"rowNumber\" style = \"font-weight: bold; text-align: right;\">Row</th><th style = \"text-align: left;\">product_cd</th><th style = \"text-align: left;\">category_major_cd</th><th style = \"text-align: left;\">category_medium_cd</th><th style = \"text-align: left;\">category_small_cd</th><th style = \"text-align: left;\">unit_price</th><th style = \"text-align: left;\">unit_cost</th><th style = \"text-align: left;\">category_major_name</th><th style = \"text-align: left;\">category_medium_name</th><th style = \"text-align: left;\">category_small_name</th></tr><tr class = \"subheader headerLastRow\"><th class = \"rowNumber\" style = \"font-weight: bold; text-align: right;\"></th><th title = \"String\" style = \"text-align: left;\">String</th><th title = \"String\" style = \"text-align: left;\">String</th><th title = \"String\" style = \"text-align: left;\">String</th><th title = \"String\" style = \"text-align: left;\">String</th><th title = \"Union{Missing, Int64}\" style = \"text-align: left;\">Int64?</th><th title = \"Union{Missing, Int64}\" style = \"text-align: left;\">Int64?</th><th title = \"InlineStrings.String31\" style = \"text-align: left;\">String31</th><th title = \"String\" style = \"text-align: left;\">String</th><th title = \"String\" style = \"text-align: left;\">String</th></tr></thead><tbody><tr><td class = \"rowNumber\" style = \"font-weight: bold; text-align: right;\">1</td><td style = \"text-align: left;\">P040101001</td><td style = \"text-align: left;\">04</td><td style = \"text-align: left;\">0401</td><td style = \"text-align: left;\">040101</td><td style = \"text-align: right;\">198</td><td style = \"text-align: right;\">149</td><td style = \"text-align: left;\">惣菜</td><td style = \"text-align: left;\">御飯類</td><td style = \"text-align: left;\">弁当類</td></tr><tr><td class = \"rowNumber\" style = \"font-weight: bold; text-align: right;\">2</td><td style = \"text-align: left;\">P040101002</td><td style = \"text-align: left;\">04</td><td style = \"text-align: left;\">0401</td><td style = \"text-align: left;\">040101</td><td style = \"text-align: right;\">218</td><td style = \"text-align: right;\">164</td><td style = \"text-align: left;\">惣菜</td><td style = \"text-align: left;\">御飯類</td><td style = \"text-align: left;\">弁当類</td></tr><tr><td class = \"rowNumber\" style = \"font-weight: bold; text-align: right;\">3</td><td style = \"text-align: left;\">P040101003</td><td style = \"text-align: left;\">04</td><td style = \"text-align: left;\">0401</td><td style = \"text-align: left;\">040101</td><td style = \"text-align: right;\">230</td><td style = \"text-align: right;\">173</td><td style = \"text-align: left;\">惣菜</td><td style = \"text-align: left;\">御飯類</td><td style = \"text-align: left;\">弁当類</td></tr></tbody></table></div>"
      ],
      "text/latex": [
       "\\begin{tabular}{r|cccccc}\n",
       "\t& product\\_cd & category\\_major\\_cd & category\\_medium\\_cd & category\\_small\\_cd & unit\\_price & \\\\\n",
       "\t\\hline\n",
       "\t& String & String & String & String & Int64? & \\\\\n",
       "\t\\hline\n",
       "\t1 & P040101001 & 04 & 0401 & 040101 & 198 & $\\dots$ \\\\\n",
       "\t2 & P040101002 & 04 & 0401 & 040101 & 218 & $\\dots$ \\\\\n",
       "\t3 & P040101003 & 04 & 0401 & 040101 & 230 & $\\dots$ \\\\\n",
       "\\end{tabular}\n"
      ],
      "text/plain": [
       "\u001b[1m3×9 DataFrame\u001b[0m\n",
       "\u001b[1m Row \u001b[0m│\u001b[1m product_cd \u001b[0m\u001b[1m category_major_cd \u001b[0m\u001b[1m category_medium_cd \u001b[0m\u001b[1m category_small_cd \u001b[0m\u001b[1m u\u001b[0m ⋯\n",
       "     │\u001b[90m String     \u001b[0m\u001b[90m String            \u001b[0m\u001b[90m String             \u001b[0m\u001b[90m String            \u001b[0m\u001b[90m I\u001b[0m ⋯\n",
       "─────┼──────────────────────────────────────────────────────────────────────────\n",
       "   1 │ P040101001  04                 0401                040101               ⋯\n",
       "   2 │ P040101002  04                 0401                040101\n",
       "   3 │ P040101003  04                 0401                040101\n",
       "\u001b[36m                                                               5 columns omitted\u001b[0m"
      ]
     },
     "execution_count": 105,
     "metadata": {},
     "output_type": "execute_result"
    }
   ],
   "source": [
    "@time \\\n",
    "CSV.File(\n",
    "    \"data/096.csv\",\n",
    "    header=[\n",
    "        :product_cd, :category_major_cd, :category_medium_cd, :category_small_cd,\n",
    "        :unit_price, :unit_cost, :category_major_name, :category_medium_name, :category_small_name\n",
    "    ],\n",
    "    types=Dict(r\"_cd$\" => String)\n",
    ") |> DataFrame |> df -> first(df, 3)"
   ]
  },
  {
   "cell_type": "markdown",
   "metadata": {},
   "source": [
    "---\n",
    "> P-099: 093で作成したカテゴリ名付き商品データを以下の仕様でファイル出力せよ。\n",
    ">\n",
    "> |ファイル形式|ヘッダ有無|文字エンコーディング|\n",
    "> |:--:|:--:|:--:|\n",
    "> |TSV（タブ区切り）|有り|UTF-8|\n",
    "> \n",
    "> ファイル出力先のパスは以下のようにすること\n",
    "> \n",
    "> |出力先|\n",
    "> |:--:|\n",
    "> |./data|"
   ]
  },
  {
   "cell_type": "code",
   "execution_count": 106,
   "metadata": {},
   "outputs": [
    {
     "name": "stdout",
     "output_type": "stream",
     "text": [
      "  0.000002 seconds\n"
     ]
    },
    {
     "data": {
      "text/plain": [
       "\"data/099.csv\""
      ]
     },
     "execution_count": 106,
     "metadata": {},
     "output_type": "execute_result"
    }
   ],
   "source": [
    "@time \\\n",
    "CSV.write(\"data/099.csv\", p093(), delim = '\\t')"
   ]
  },
  {
   "cell_type": "markdown",
   "metadata": {},
   "source": [
    "---\n",
    "> P-100: 099で作成した以下形式のファイルを読み込み、データを3件を表示させて正しく取り込まれていることを確認せよ。\n",
    "> \n",
    "> |ファイル形式|ヘッダ有無|文字エンコーディング|\n",
    "> |:--:|:--:|:--:|\n",
    "> |TSV（タブ区切り）|有り|UTF-8|"
   ]
  },
  {
   "cell_type": "code",
   "execution_count": 107,
   "metadata": {},
   "outputs": [
    {
     "name": "stdout",
     "output_type": "stream",
     "text": [
      "  0.000001 seconds\n"
     ]
    },
    {
     "data": {
      "text/html": [
       "<div><div style = \"float: left;\"><span>3×9 DataFrame</span></div><div style = \"clear: both;\"></div></div><div class = \"data-frame\" style = \"overflow-x: scroll;\"><table class = \"data-frame\" style = \"margin-bottom: 6px;\"><thead><tr class = \"header\"><th class = \"rowNumber\" style = \"font-weight: bold; text-align: right;\">Row</th><th style = \"text-align: left;\">product_cd</th><th style = \"text-align: left;\">category_major_cd</th><th style = \"text-align: left;\">category_medium_cd</th><th style = \"text-align: left;\">category_small_cd</th><th style = \"text-align: left;\">unit_price</th><th style = \"text-align: left;\">unit_cost</th><th style = \"text-align: left;\">category_major_name</th><th style = \"text-align: left;\">category_medium_name</th><th style = \"text-align: left;\">category_small_name</th></tr><tr class = \"subheader headerLastRow\"><th class = \"rowNumber\" style = \"font-weight: bold; text-align: right;\"></th><th title = \"String\" style = \"text-align: left;\">String</th><th title = \"String\" style = \"text-align: left;\">String</th><th title = \"String\" style = \"text-align: left;\">String</th><th title = \"String\" style = \"text-align: left;\">String</th><th title = \"Union{Missing, Int64}\" style = \"text-align: left;\">Int64?</th><th title = \"Union{Missing, Int64}\" style = \"text-align: left;\">Int64?</th><th title = \"InlineStrings.String31\" style = \"text-align: left;\">String31</th><th title = \"String\" style = \"text-align: left;\">String</th><th title = \"String\" style = \"text-align: left;\">String</th></tr></thead><tbody><tr><td class = \"rowNumber\" style = \"font-weight: bold; text-align: right;\">1</td><td style = \"text-align: left;\">P040101001</td><td style = \"text-align: left;\">04</td><td style = \"text-align: left;\">0401</td><td style = \"text-align: left;\">040101</td><td style = \"text-align: right;\">198</td><td style = \"text-align: right;\">149</td><td style = \"text-align: left;\">惣菜</td><td style = \"text-align: left;\">御飯類</td><td style = \"text-align: left;\">弁当類</td></tr><tr><td class = \"rowNumber\" style = \"font-weight: bold; text-align: right;\">2</td><td style = \"text-align: left;\">P040101002</td><td style = \"text-align: left;\">04</td><td style = \"text-align: left;\">0401</td><td style = \"text-align: left;\">040101</td><td style = \"text-align: right;\">218</td><td style = \"text-align: right;\">164</td><td style = \"text-align: left;\">惣菜</td><td style = \"text-align: left;\">御飯類</td><td style = \"text-align: left;\">弁当類</td></tr><tr><td class = \"rowNumber\" style = \"font-weight: bold; text-align: right;\">3</td><td style = \"text-align: left;\">P040101003</td><td style = \"text-align: left;\">04</td><td style = \"text-align: left;\">0401</td><td style = \"text-align: left;\">040101</td><td style = \"text-align: right;\">230</td><td style = \"text-align: right;\">173</td><td style = \"text-align: left;\">惣菜</td><td style = \"text-align: left;\">御飯類</td><td style = \"text-align: left;\">弁当類</td></tr></tbody></table></div>"
      ],
      "text/latex": [
       "\\begin{tabular}{r|cccccc}\n",
       "\t& product\\_cd & category\\_major\\_cd & category\\_medium\\_cd & category\\_small\\_cd & unit\\_price & \\\\\n",
       "\t\\hline\n",
       "\t& String & String & String & String & Int64? & \\\\\n",
       "\t\\hline\n",
       "\t1 & P040101001 & 04 & 0401 & 040101 & 198 & $\\dots$ \\\\\n",
       "\t2 & P040101002 & 04 & 0401 & 040101 & 218 & $\\dots$ \\\\\n",
       "\t3 & P040101003 & 04 & 0401 & 040101 & 230 & $\\dots$ \\\\\n",
       "\\end{tabular}\n"
      ],
      "text/plain": [
       "\u001b[1m3×9 DataFrame\u001b[0m\n",
       "\u001b[1m Row \u001b[0m│\u001b[1m product_cd \u001b[0m\u001b[1m category_major_cd \u001b[0m\u001b[1m category_medium_cd \u001b[0m\u001b[1m category_small_cd \u001b[0m\u001b[1m u\u001b[0m ⋯\n",
       "     │\u001b[90m String     \u001b[0m\u001b[90m String            \u001b[0m\u001b[90m String             \u001b[0m\u001b[90m String            \u001b[0m\u001b[90m I\u001b[0m ⋯\n",
       "─────┼──────────────────────────────────────────────────────────────────────────\n",
       "   1 │ P040101001  04                 0401                040101               ⋯\n",
       "   2 │ P040101002  04                 0401                040101\n",
       "   3 │ P040101003  04                 0401                040101\n",
       "\u001b[36m                                                               5 columns omitted\u001b[0m"
      ]
     },
     "execution_count": 107,
     "metadata": {},
     "output_type": "execute_result"
    }
   ],
   "source": [
    "@time \\\n",
    "CSV.File(\"data/099.csv\", delim='\\t', types=Dict(r\"_cd$\" => String)) |>\n",
    "    DataFrame |>\n",
    "    df -> first(df, 3)"
   ]
  },
  {
   "cell_type": "markdown",
   "metadata": {},
   "source": [
    "# これで１００本終わりです。おつかれさまでした！"
   ]
  }
 ],
 "metadata": {
  "kernelspec": {
   "display_name": "Julia 1.8.5",
   "language": "julia",
   "name": "julia-1.8"
  },
  "language_info": {
   "file_extension": ".jl",
   "mimetype": "application/julia",
   "name": "julia",
   "version": "1.8.5"
  }
 },
 "nbformat": 4,
 "nbformat_minor": 4
}
